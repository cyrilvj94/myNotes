{
 "cells": [
  {
   "cell_type": "markdown",
   "metadata": {},
   "source": [
    "Convolutional neural networks are designed to work well with grid structured inputs, such as images"
   ]
  },
  {
   "cell_type": "markdown",
   "metadata": {},
   "source": [
    "#### In numerica data features are know but how  do we select features of image ?\n",
    "- This is where filters or kernels comes into picture. Early days hard coded filters were used for feature extraction ,such as vertical edge filter, horizontal and so on .\n",
    "- LeNet Architecture put forward the technique in which the filters also considering to be a learnable parameters, ie,  the weights of filters will update using the optimizer used.\n"
   ]
  },
  {
   "cell_type": "markdown",
   "metadata": {},
   "source": [
    "## Padding \n",
    "\n",
    "- Here extra pixels are added.\n",
    "- Two types of padding , valid or no padding , same padding ( shape of input and feature maps are the same)\n",
    "- During convolution the border sections of image are considered only once. This could be a problem if the border sections have important info of the image. Padding helps in selecting this more than once.\n",
    "- convolution reduces image size, if size is not to be reduced with conv op, use padding"
   ]
  },
  {
   "cell_type": "markdown",
   "metadata": {},
   "source": [
    "## Pooling`\n",
    "\n",
    "- Adjacent pixels have same information of the image, or they have strong spatial dependencies in local regions of grid :)\n",
    "- Using this layer directly may result in passing of redundant informtion and may result in overfitting.\n",
    "- Pooling helps in reducing computational time and may avoid overfitting to some extent\n",
    "- Pooling reduces the image shape (spatial footprint) , but the image depth remains the same.\n",
    "- No Learning takes place in pooling operation.\n",
    "- Pooling also helps in achieving translational invarience.\n"
   ]
  },
  {
   "cell_type": "markdown",
   "metadata": {},
   "source": [
    "## Data Augmentation\n",
    "\n",
    "- This is a technique to reduce overfitting.\n",
    "- Here, new training examples are generated using transformations on original training data.\n",
    "- This is because many transformations such as translation,rotation, patch extraction, and reflection do not fundamentally  change the properties of the object in an image."
   ]
  },
  {
   "cell_type": "markdown",
   "metadata": {},
   "source": [
    "## General Conventions in CNN which may help in increasing the model accurac\n",
    "\n",
    "- Filter depth and the input depth should be same. (not a convention )\n",
    "- The different case studys of cnn follows certain conventions which help in improoving model accuracy..\n",
    "- Strides is selected as small value , typically 1 or 2 , however, large no. of strides can be used for reducing overfitting.\n",
    "- No. of filters in each layer is a power of 2\n",
    "- Size of fiters , ie, spatial dimensions  is selected to be a small value, many of the modern architecture have filter sizes as low as (3,3)\n",
    "- Size of the feature map (convolved matrices) keeps on decreasing as we go deeper in CNN.\n",
    "- No. of channels increases with depth, or more no of feature are extracted with depth , or hierachical feature extraction.\n",
    "- Lernable parameters increases. (More features are extracted with depth of CNN). ie, heirarchical feature extraction takes place, or , feature of features is extracted in deeper layers of neural networks.\n",
    "- Activation size decreases\n",
    "- Generally MaxPooling is used for pooling.\n",
    "- 'relu' activation function is used."
   ]
  },
  {
   "cell_type": "markdown",
   "metadata": {},
   "source": [
    "## Overview of Convolutional neural network\n",
    "\n",
    "- Spatial footprint of activation maps means dimensions of the conv matrix.\n",
    "- CNNs use heirarchical feature extraction,(features are extracted through different layers) in grid structured data. More layers means more features are extracted.\n",
    "- Image data exibits translational invariance and cnn create similar features from local regions having similar patterns\n",
    "- Each feature value or kernel is based on the local spatial region in the previous layer, hence spatial relationships are inherited between layers.\n",
    "- Output of convolution is called Feature maps\n",
    "- Activations in small regions of visual fields are used to activate particular neuron. Smaller portions of the real world image activates different portions of the kernel.\n",
    "- Convolution operation is a dot product between the  spatial grid pattern in the input and the kernel/features\n",
    "- A filter identifies a particular pattern from a small area in the rectangular image , and hence large  no. of filters are needed to capture all the dominant features of the image.\n",
    "- Each filter extracts a particular feature from its visual field(input) and the next layer of filter extracts feature from this filter.\n",
    "- eg: Layer 1 may extract different shapes from the image and Layer 2 may extract different shapes from the output shape , and this is how heirarchical feature extraction happens in CNN\n",
    "- Advantages of using CNN are Parameter sharing and sparcity of connections\n",
    "- Parameter sharing means that a particular feature detected could be used in different parts of the image.\n",
    "- Sparcity of connnections means that output is connected only to very few no. of inputs\n",
    "- Translational invarience means that one should be able to classify an object irrespective of its position."
   ]
  },
  {
   "cell_type": "markdown",
   "metadata": {},
   "source": [
    "## LeNet-5  Architecture\n",
    "\n",
    "- One among the earliest architecture, (1998) , put forword the idea of learnable weights.\n",
    "- 5 layers having weights . CP, CP,(FLATTEN),  FC3, FC4, SOFTMAX\n",
    "- tanh activation function was used\n",
    "- Primarily, for character recognisation , was used for identifying bank cheque serial number.\n",
    "\n"
   ]
  },
  {
   "cell_type": "markdown",
   "metadata": {},
   "source": [
    "## AlexNet\n",
    "\n",
    "- 2012 model\n",
    "- Used relu activation function for the first time. All the convolutional layers were followed by relu fuction.\n",
    "- Gpu used for the first time \n",
    "- used the concept of local resource normlisation. Since relu activation was used , negative values were stripped off and positive values were only considered, so the postive values were not standardized . so local response normalisation was used.\n",
    "- Data Augmentation was introduced.\n",
    "- Dropout was introduced ,to reduce overfitting."
   ]
  },
  {
   "cell_type": "markdown",
   "metadata": {},
   "source": [
    "##  VGG net - 16/19\n",
    "\n",
    "- 2015 model\n",
    "- In Alexnet and lenet filters were used with different shapes , whereas in VGG all conv layers had 3X3 filters.\n",
    "- There was a gradual rise in no. of filters used in each layer. Hence more no. of features were extracted in subsequent stages, or , hierachical feature extraction is excellent.\n",
    "- Images were converted into gray scale images.(Averaging of red, green and blue channel)\n",
    "- More deeper layer and use of greater no. of filters means more no. of features were extracted.\n",
    "- 'relu' activation function was used.\n",
    "- Pooling layer was not used immediatedly after each convolution layer, A Block pattern was used.\n",
    "- 3 X 3 has lesser no. of paramters.\n",
    "- Reducing filter size and increasing the filter no.\n",
    "\n"
   ]
  },
  {
   "cell_type": "markdown",
   "metadata": {},
   "source": [
    "## GoogLeNet"
   ]
  },
  {
   "cell_type": "markdown",
   "metadata": {},
   "source": [
    "## ResNet "
   ]
  },
  {
   "cell_type": "markdown",
   "metadata": {},
   "source": [
    "# CNN in Practice"
   ]
  },
  {
   "cell_type": "code",
   "execution_count": null,
   "metadata": {},
   "outputs": [],
   "source": []
  },
  {
   "cell_type": "code",
   "execution_count": 92,
   "metadata": {},
   "outputs": [
    {
     "data": {
      "text/html": [
       "        <script type=\"text/javascript\">\n",
       "        window.PlotlyConfig = {MathJaxConfig: 'local'};\n",
       "        if (window.MathJax) {MathJax.Hub.Config({SVG: {font: \"STIX-Web\"}});}\n",
       "        if (typeof require !== 'undefined') {\n",
       "        require.undef(\"plotly\");\n",
       "        requirejs.config({\n",
       "            paths: {\n",
       "                'plotly': ['https://cdn.plot.ly/plotly-latest.min']\n",
       "            }\n",
       "        });\n",
       "        require(['plotly'], function(Plotly) {\n",
       "            window._Plotly = Plotly;\n",
       "        });\n",
       "        }\n",
       "        </script>\n",
       "        "
      ]
     },
     "metadata": {},
     "output_type": "display_data"
    }
   ],
   "source": [
    "import tensorflow.keras as keras\n",
    "from tensorflow.keras import Sequential, Input\n",
    "from tensorflow.keras.layers import Conv2D, MaxPool2D, Dense, Flatten\n",
    "import matplotlib.pyplot as plt\n",
    "import plotly.express as px\n",
    "import numpy as np\n",
    "from plotly.offline import init_notebook_mode\n",
    "init_notebook_mode(connected = True)"
   ]
  },
  {
   "cell_type": "code",
   "execution_count": 58,
   "metadata": {},
   "outputs": [],
   "source": [
    "# Lets build and architecture similar to leNet-5 in MNIST  dataset\n",
    "train_data, test_data = keras.datasets.cifar10.load_data()\n",
    "x_train, y_train = train_data[0], train_data[1]\n",
    "x_test, y_test = test_data[0], test_data[1]"
   ]
  },
  {
   "cell_type": "code",
   "execution_count": 65,
   "metadata": {},
   "outputs": [
    {
     "data": {
      "text/plain": [
       "{0: 'airplane',\n",
       " 1: 'automobile',\n",
       " 2: 'bird',\n",
       " 3: 'cat',\n",
       " 4: 'deer',\n",
       " 5: 'dog',\n",
       " 6: 'frog',\n",
       " 7: 'horse',\n",
       " 8: 'ship',\n",
       " 9: 'truck'}"
      ]
     },
     "execution_count": 65,
     "metadata": {},
     "output_type": "execute_result"
    }
   ],
   "source": [
    "labels = dict(zip(np.arange(10), ['airplane', 'automobile', 'bird', 'cat', 'deer', 'dog', 'frog', 'horse', 'ship', 'truck']))\n",
    "labels"
   ]
  },
  {
   "cell_type": "code",
   "execution_count": 59,
   "metadata": {},
   "outputs": [
    {
     "data": {
      "text/plain": [
       "((50000, 32, 32, 3), (50000, 1), (10000, 32, 32, 3), (10000, 1))"
      ]
     },
     "execution_count": 59,
     "metadata": {},
     "output_type": "execute_result"
    }
   ],
   "source": [
    "x_train.shape, y_train.shape, x_test.shape , y_test.shape"
   ]
  },
  {
   "cell_type": "code",
   "execution_count": 66,
   "metadata": {},
   "outputs": [
    {
     "data": {
      "text/plain": [
       "array([[6],\n",
       "       [9],\n",
       "       [9],\n",
       "       ...,\n",
       "       [9],\n",
       "       [1],\n",
       "       [1]], dtype=uint8)"
      ]
     },
     "execution_count": 66,
     "metadata": {},
     "output_type": "execute_result"
    }
   ],
   "source": [
    "y_train"
   ]
  },
  {
   "cell_type": "code",
   "execution_count": 69,
   "metadata": {},
   "outputs": [],
   "source": [
    "def check_image(index_no):\n",
    "    \"\"\"\n",
    "    Takes index of the image , less than 6000 and gives the image \n",
    "    \"\"\"\n",
    "    fig = px.imshow(x_train[index_no], width = 500, height = 500, title = f'Image of { labels[y_train[index_no][0] ]}', \n",
    "                    color_continuous_scale= ['black', 'white'])\n",
    "    fig.show()"
   ]
  },
  {
   "cell_type": "code",
   "execution_count": 83,
   "metadata": {},
   "outputs": [
    {
     "data": {
      "application/vnd.plotly.v1+json": {
       "config": {
        "plotlyServerURL": "https://plot.ly"
       },
       "data": [
        {
         "hovertemplate": "x: %{x}<br>y: %{y}<br>color: [%{z[0]}, %{z[1]}, %{z[2]}]<extra></extra>",
         "source": "data:image/png;base64,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",
         "type": "image"
        }
       ],
       "layout": {
        "height": 500,
        "template": {
         "data": {
          "bar": [
           {
            "error_x": {
             "color": "#2a3f5f"
            },
            "error_y": {
             "color": "#2a3f5f"
            },
            "marker": {
             "line": {
              "color": "#E5ECF6",
              "width": 0.5
             }
            },
            "type": "bar"
           }
          ],
          "barpolar": [
           {
            "marker": {
             "line": {
              "color": "#E5ECF6",
              "width": 0.5
             }
            },
            "type": "barpolar"
           }
          ],
          "carpet": [
           {
            "aaxis": {
             "endlinecolor": "#2a3f5f",
             "gridcolor": "white",
             "linecolor": "white",
             "minorgridcolor": "white",
             "startlinecolor": "#2a3f5f"
            },
            "baxis": {
             "endlinecolor": "#2a3f5f",
             "gridcolor": "white",
             "linecolor": "white",
             "minorgridcolor": "white",
             "startlinecolor": "#2a3f5f"
            },
            "type": "carpet"
           }
          ],
          "choropleth": [
           {
            "colorbar": {
             "outlinewidth": 0,
             "ticks": ""
            },
            "type": "choropleth"
           }
          ],
          "contour": [
           {
            "colorbar": {
             "outlinewidth": 0,
             "ticks": ""
            },
            "colorscale": [
             [
              0,
              "#0d0887"
             ],
             [
              0.1111111111111111,
              "#46039f"
             ],
             [
              0.2222222222222222,
              "#7201a8"
             ],
             [
              0.3333333333333333,
              "#9c179e"
             ],
             [
              0.4444444444444444,
              "#bd3786"
             ],
             [
              0.5555555555555556,
              "#d8576b"
             ],
             [
              0.6666666666666666,
              "#ed7953"
             ],
             [
              0.7777777777777778,
              "#fb9f3a"
             ],
             [
              0.8888888888888888,
              "#fdca26"
             ],
             [
              1,
              "#f0f921"
             ]
            ],
            "type": "contour"
           }
          ],
          "contourcarpet": [
           {
            "colorbar": {
             "outlinewidth": 0,
             "ticks": ""
            },
            "type": "contourcarpet"
           }
          ],
          "heatmap": [
           {
            "colorbar": {
             "outlinewidth": 0,
             "ticks": ""
            },
            "colorscale": [
             [
              0,
              "#0d0887"
             ],
             [
              0.1111111111111111,
              "#46039f"
             ],
             [
              0.2222222222222222,
              "#7201a8"
             ],
             [
              0.3333333333333333,
              "#9c179e"
             ],
             [
              0.4444444444444444,
              "#bd3786"
             ],
             [
              0.5555555555555556,
              "#d8576b"
             ],
             [
              0.6666666666666666,
              "#ed7953"
             ],
             [
              0.7777777777777778,
              "#fb9f3a"
             ],
             [
              0.8888888888888888,
              "#fdca26"
             ],
             [
              1,
              "#f0f921"
             ]
            ],
            "type": "heatmap"
           }
          ],
          "heatmapgl": [
           {
            "colorbar": {
             "outlinewidth": 0,
             "ticks": ""
            },
            "colorscale": [
             [
              0,
              "#0d0887"
             ],
             [
              0.1111111111111111,
              "#46039f"
             ],
             [
              0.2222222222222222,
              "#7201a8"
             ],
             [
              0.3333333333333333,
              "#9c179e"
             ],
             [
              0.4444444444444444,
              "#bd3786"
             ],
             [
              0.5555555555555556,
              "#d8576b"
             ],
             [
              0.6666666666666666,
              "#ed7953"
             ],
             [
              0.7777777777777778,
              "#fb9f3a"
             ],
             [
              0.8888888888888888,
              "#fdca26"
             ],
             [
              1,
              "#f0f921"
             ]
            ],
            "type": "heatmapgl"
           }
          ],
          "histogram": [
           {
            "marker": {
             "colorbar": {
              "outlinewidth": 0,
              "ticks": ""
             }
            },
            "type": "histogram"
           }
          ],
          "histogram2d": [
           {
            "colorbar": {
             "outlinewidth": 0,
             "ticks": ""
            },
            "colorscale": [
             [
              0,
              "#0d0887"
             ],
             [
              0.1111111111111111,
              "#46039f"
             ],
             [
              0.2222222222222222,
              "#7201a8"
             ],
             [
              0.3333333333333333,
              "#9c179e"
             ],
             [
              0.4444444444444444,
              "#bd3786"
             ],
             [
              0.5555555555555556,
              "#d8576b"
             ],
             [
              0.6666666666666666,
              "#ed7953"
             ],
             [
              0.7777777777777778,
              "#fb9f3a"
             ],
             [
              0.8888888888888888,
              "#fdca26"
             ],
             [
              1,
              "#f0f921"
             ]
            ],
            "type": "histogram2d"
           }
          ],
          "histogram2dcontour": [
           {
            "colorbar": {
             "outlinewidth": 0,
             "ticks": ""
            },
            "colorscale": [
             [
              0,
              "#0d0887"
             ],
             [
              0.1111111111111111,
              "#46039f"
             ],
             [
              0.2222222222222222,
              "#7201a8"
             ],
             [
              0.3333333333333333,
              "#9c179e"
             ],
             [
              0.4444444444444444,
              "#bd3786"
             ],
             [
              0.5555555555555556,
              "#d8576b"
             ],
             [
              0.6666666666666666,
              "#ed7953"
             ],
             [
              0.7777777777777778,
              "#fb9f3a"
             ],
             [
              0.8888888888888888,
              "#fdca26"
             ],
             [
              1,
              "#f0f921"
             ]
            ],
            "type": "histogram2dcontour"
           }
          ],
          "mesh3d": [
           {
            "colorbar": {
             "outlinewidth": 0,
             "ticks": ""
            },
            "type": "mesh3d"
           }
          ],
          "parcoords": [
           {
            "line": {
             "colorbar": {
              "outlinewidth": 0,
              "ticks": ""
             }
            },
            "type": "parcoords"
           }
          ],
          "pie": [
           {
            "automargin": true,
            "type": "pie"
           }
          ],
          "scatter": [
           {
            "marker": {
             "colorbar": {
              "outlinewidth": 0,
              "ticks": ""
             }
            },
            "type": "scatter"
           }
          ],
          "scatter3d": [
           {
            "line": {
             "colorbar": {
              "outlinewidth": 0,
              "ticks": ""
             }
            },
            "marker": {
             "colorbar": {
              "outlinewidth": 0,
              "ticks": ""
             }
            },
            "type": "scatter3d"
           }
          ],
          "scattercarpet": [
           {
            "marker": {
             "colorbar": {
              "outlinewidth": 0,
              "ticks": ""
             }
            },
            "type": "scattercarpet"
           }
          ],
          "scattergeo": [
           {
            "marker": {
             "colorbar": {
              "outlinewidth": 0,
              "ticks": ""
             }
            },
            "type": "scattergeo"
           }
          ],
          "scattergl": [
           {
            "marker": {
             "colorbar": {
              "outlinewidth": 0,
              "ticks": ""
             }
            },
            "type": "scattergl"
           }
          ],
          "scattermapbox": [
           {
            "marker": {
             "colorbar": {
              "outlinewidth": 0,
              "ticks": ""
             }
            },
            "type": "scattermapbox"
           }
          ],
          "scatterpolar": [
           {
            "marker": {
             "colorbar": {
              "outlinewidth": 0,
              "ticks": ""
             }
            },
            "type": "scatterpolar"
           }
          ],
          "scatterpolargl": [
           {
            "marker": {
             "colorbar": {
              "outlinewidth": 0,
              "ticks": ""
             }
            },
            "type": "scatterpolargl"
           }
          ],
          "scatterternary": [
           {
            "marker": {
             "colorbar": {
              "outlinewidth": 0,
              "ticks": ""
             }
            },
            "type": "scatterternary"
           }
          ],
          "surface": [
           {
            "colorbar": {
             "outlinewidth": 0,
             "ticks": ""
            },
            "colorscale": [
             [
              0,
              "#0d0887"
             ],
             [
              0.1111111111111111,
              "#46039f"
             ],
             [
              0.2222222222222222,
              "#7201a8"
             ],
             [
              0.3333333333333333,
              "#9c179e"
             ],
             [
              0.4444444444444444,
              "#bd3786"
             ],
             [
              0.5555555555555556,
              "#d8576b"
             ],
             [
              0.6666666666666666,
              "#ed7953"
             ],
             [
              0.7777777777777778,
              "#fb9f3a"
             ],
             [
              0.8888888888888888,
              "#fdca26"
             ],
             [
              1,
              "#f0f921"
             ]
            ],
            "type": "surface"
           }
          ],
          "table": [
           {
            "cells": {
             "fill": {
              "color": "#EBF0F8"
             },
             "line": {
              "color": "white"
             }
            },
            "header": {
             "fill": {
              "color": "#C8D4E3"
             },
             "line": {
              "color": "white"
             }
            },
            "type": "table"
           }
          ]
         },
         "layout": {
          "annotationdefaults": {
           "arrowcolor": "#2a3f5f",
           "arrowhead": 0,
           "arrowwidth": 1
          },
          "coloraxis": {
           "colorbar": {
            "outlinewidth": 0,
            "ticks": ""
           }
          },
          "colorscale": {
           "diverging": [
            [
             0,
             "#8e0152"
            ],
            [
             0.1,
             "#c51b7d"
            ],
            [
             0.2,
             "#de77ae"
            ],
            [
             0.3,
             "#f1b6da"
            ],
            [
             0.4,
             "#fde0ef"
            ],
            [
             0.5,
             "#f7f7f7"
            ],
            [
             0.6,
             "#e6f5d0"
            ],
            [
             0.7,
             "#b8e186"
            ],
            [
             0.8,
             "#7fbc41"
            ],
            [
             0.9,
             "#4d9221"
            ],
            [
             1,
             "#276419"
            ]
           ],
           "sequential": [
            [
             0,
             "#0d0887"
            ],
            [
             0.1111111111111111,
             "#46039f"
            ],
            [
             0.2222222222222222,
             "#7201a8"
            ],
            [
             0.3333333333333333,
             "#9c179e"
            ],
            [
             0.4444444444444444,
             "#bd3786"
            ],
            [
             0.5555555555555556,
             "#d8576b"
            ],
            [
             0.6666666666666666,
             "#ed7953"
            ],
            [
             0.7777777777777778,
             "#fb9f3a"
            ],
            [
             0.8888888888888888,
             "#fdca26"
            ],
            [
             1,
             "#f0f921"
            ]
           ],
           "sequentialminus": [
            [
             0,
             "#0d0887"
            ],
            [
             0.1111111111111111,
             "#46039f"
            ],
            [
             0.2222222222222222,
             "#7201a8"
            ],
            [
             0.3333333333333333,
             "#9c179e"
            ],
            [
             0.4444444444444444,
             "#bd3786"
            ],
            [
             0.5555555555555556,
             "#d8576b"
            ],
            [
             0.6666666666666666,
             "#ed7953"
            ],
            [
             0.7777777777777778,
             "#fb9f3a"
            ],
            [
             0.8888888888888888,
             "#fdca26"
            ],
            [
             1,
             "#f0f921"
            ]
           ]
          },
          "colorway": [
           "#636efa",
           "#EF553B",
           "#00cc96",
           "#ab63fa",
           "#FFA15A",
           "#19d3f3",
           "#FF6692",
           "#B6E880",
           "#FF97FF",
           "#FECB52"
          ],
          "font": {
           "color": "#2a3f5f"
          },
          "geo": {
           "bgcolor": "white",
           "lakecolor": "white",
           "landcolor": "#E5ECF6",
           "showlakes": true,
           "showland": true,
           "subunitcolor": "white"
          },
          "hoverlabel": {
           "align": "left"
          },
          "hovermode": "closest",
          "mapbox": {
           "style": "light"
          },
          "paper_bgcolor": "white",
          "plot_bgcolor": "#E5ECF6",
          "polar": {
           "angularaxis": {
            "gridcolor": "white",
            "linecolor": "white",
            "ticks": ""
           },
           "bgcolor": "#E5ECF6",
           "radialaxis": {
            "gridcolor": "white",
            "linecolor": "white",
            "ticks": ""
           }
          },
          "scene": {
           "xaxis": {
            "backgroundcolor": "#E5ECF6",
            "gridcolor": "white",
            "gridwidth": 2,
            "linecolor": "white",
            "showbackground": true,
            "ticks": "",
            "zerolinecolor": "white"
           },
           "yaxis": {
            "backgroundcolor": "#E5ECF6",
            "gridcolor": "white",
            "gridwidth": 2,
            "linecolor": "white",
            "showbackground": true,
            "ticks": "",
            "zerolinecolor": "white"
           },
           "zaxis": {
            "backgroundcolor": "#E5ECF6",
            "gridcolor": "white",
            "gridwidth": 2,
            "linecolor": "white",
            "showbackground": true,
            "ticks": "",
            "zerolinecolor": "white"
           }
          },
          "shapedefaults": {
           "line": {
            "color": "#2a3f5f"
           }
          },
          "ternary": {
           "aaxis": {
            "gridcolor": "white",
            "linecolor": "white",
            "ticks": ""
           },
           "baxis": {
            "gridcolor": "white",
            "linecolor": "white",
            "ticks": ""
           },
           "bgcolor": "#E5ECF6",
           "caxis": {
            "gridcolor": "white",
            "linecolor": "white",
            "ticks": ""
           }
          },
          "title": {
           "x": 0.05
          },
          "xaxis": {
           "automargin": true,
           "gridcolor": "white",
           "linecolor": "white",
           "ticks": "",
           "title": {
            "standoff": 15
           },
           "zerolinecolor": "white",
           "zerolinewidth": 2
          },
          "yaxis": {
           "automargin": true,
           "gridcolor": "white",
           "linecolor": "white",
           "ticks": "",
           "title": {
            "standoff": 15
           },
           "zerolinecolor": "white",
           "zerolinewidth": 2
          }
         }
        },
        "title": {
         "text": "Image of horse"
        },
        "width": 500
       }
      },
      "text/html": [
       "<div>                            <div id=\"0c6cd038-5dd1-4179-98fe-70d245489ecb\" class=\"plotly-graph-div\" style=\"height:500px; width:500px;\"></div>            <script type=\"text/javascript\">                require([\"plotly\"], function(Plotly) {                    window.PLOTLYENV=window.PLOTLYENV || {};                                    if (document.getElementById(\"0c6cd038-5dd1-4179-98fe-70d245489ecb\")) {                    Plotly.newPlot(                        \"0c6cd038-5dd1-4179-98fe-70d245489ecb\",                        [{\"hovertemplate\": \"x: %{x}<br>y: %{y}<br>color: [%{z[0]}, %{z[1]}, %{z[2]}]<extra></extra>\", \"source\": \"data:image/png;base64,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\", \"type\": \"image\"}],                        {\"height\": 500, \"template\": {\"data\": {\"bar\": [{\"error_x\": {\"color\": \"#2a3f5f\"}, \"error_y\": {\"color\": \"#2a3f5f\"}, \"marker\": {\"line\": {\"color\": \"#E5ECF6\", \"width\": 0.5}}, \"type\": \"bar\"}], \"barpolar\": [{\"marker\": {\"line\": {\"color\": \"#E5ECF6\", \"width\": 0.5}}, \"type\": \"barpolar\"}], \"carpet\": [{\"aaxis\": {\"endlinecolor\": \"#2a3f5f\", \"gridcolor\": \"white\", \"linecolor\": \"white\", \"minorgridcolor\": \"white\", \"startlinecolor\": \"#2a3f5f\"}, \"baxis\": {\"endlinecolor\": \"#2a3f5f\", \"gridcolor\": \"white\", \"linecolor\": \"white\", \"minorgridcolor\": \"white\", \"startlinecolor\": \"#2a3f5f\"}, \"type\": \"carpet\"}], \"choropleth\": [{\"colorbar\": {\"outlinewidth\": 0, \"ticks\": \"\"}, \"type\": \"choropleth\"}], \"contour\": [{\"colorbar\": {\"outlinewidth\": 0, \"ticks\": \"\"}, \"colorscale\": [[0.0, \"#0d0887\"], [0.1111111111111111, \"#46039f\"], [0.2222222222222222, \"#7201a8\"], [0.3333333333333333, \"#9c179e\"], [0.4444444444444444, \"#bd3786\"], [0.5555555555555556, \"#d8576b\"], [0.6666666666666666, \"#ed7953\"], [0.7777777777777778, \"#fb9f3a\"], [0.8888888888888888, \"#fdca26\"], [1.0, \"#f0f921\"]], \"type\": \"contour\"}], \"contourcarpet\": [{\"colorbar\": {\"outlinewidth\": 0, \"ticks\": \"\"}, \"type\": \"contourcarpet\"}], \"heatmap\": [{\"colorbar\": {\"outlinewidth\": 0, \"ticks\": \"\"}, \"colorscale\": [[0.0, \"#0d0887\"], [0.1111111111111111, \"#46039f\"], [0.2222222222222222, \"#7201a8\"], [0.3333333333333333, \"#9c179e\"], [0.4444444444444444, \"#bd3786\"], [0.5555555555555556, \"#d8576b\"], [0.6666666666666666, \"#ed7953\"], [0.7777777777777778, \"#fb9f3a\"], [0.8888888888888888, \"#fdca26\"], [1.0, \"#f0f921\"]], \"type\": \"heatmap\"}], \"heatmapgl\": [{\"colorbar\": {\"outlinewidth\": 0, \"ticks\": \"\"}, \"colorscale\": [[0.0, \"#0d0887\"], [0.1111111111111111, \"#46039f\"], [0.2222222222222222, \"#7201a8\"], [0.3333333333333333, \"#9c179e\"], [0.4444444444444444, \"#bd3786\"], [0.5555555555555556, \"#d8576b\"], [0.6666666666666666, \"#ed7953\"], [0.7777777777777778, \"#fb9f3a\"], [0.8888888888888888, \"#fdca26\"], [1.0, \"#f0f921\"]], \"type\": \"heatmapgl\"}], \"histogram\": [{\"marker\": {\"colorbar\": {\"outlinewidth\": 0, \"ticks\": \"\"}}, \"type\": \"histogram\"}], \"histogram2d\": [{\"colorbar\": {\"outlinewidth\": 0, \"ticks\": \"\"}, \"colorscale\": [[0.0, \"#0d0887\"], [0.1111111111111111, \"#46039f\"], [0.2222222222222222, \"#7201a8\"], [0.3333333333333333, \"#9c179e\"], [0.4444444444444444, \"#bd3786\"], [0.5555555555555556, \"#d8576b\"], [0.6666666666666666, \"#ed7953\"], [0.7777777777777778, \"#fb9f3a\"], [0.8888888888888888, \"#fdca26\"], [1.0, \"#f0f921\"]], \"type\": \"histogram2d\"}], \"histogram2dcontour\": [{\"colorbar\": {\"outlinewidth\": 0, \"ticks\": \"\"}, \"colorscale\": [[0.0, \"#0d0887\"], [0.1111111111111111, \"#46039f\"], [0.2222222222222222, \"#7201a8\"], [0.3333333333333333, \"#9c179e\"], [0.4444444444444444, \"#bd3786\"], [0.5555555555555556, \"#d8576b\"], [0.6666666666666666, \"#ed7953\"], [0.7777777777777778, \"#fb9f3a\"], [0.8888888888888888, \"#fdca26\"], [1.0, \"#f0f921\"]], \"type\": \"histogram2dcontour\"}], \"mesh3d\": [{\"colorbar\": {\"outlinewidth\": 0, \"ticks\": \"\"}, \"type\": \"mesh3d\"}], \"parcoords\": [{\"line\": {\"colorbar\": {\"outlinewidth\": 0, \"ticks\": \"\"}}, \"type\": \"parcoords\"}], \"pie\": [{\"automargin\": true, \"type\": \"pie\"}], \"scatter\": [{\"marker\": {\"colorbar\": {\"outlinewidth\": 0, \"ticks\": \"\"}}, \"type\": \"scatter\"}], \"scatter3d\": [{\"line\": {\"colorbar\": {\"outlinewidth\": 0, \"ticks\": \"\"}}, \"marker\": {\"colorbar\": {\"outlinewidth\": 0, \"ticks\": \"\"}}, \"type\": \"scatter3d\"}], \"scattercarpet\": [{\"marker\": {\"colorbar\": {\"outlinewidth\": 0, \"ticks\": \"\"}}, \"type\": \"scattercarpet\"}], \"scattergeo\": [{\"marker\": {\"colorbar\": {\"outlinewidth\": 0, \"ticks\": \"\"}}, \"type\": \"scattergeo\"}], \"scattergl\": [{\"marker\": {\"colorbar\": {\"outlinewidth\": 0, \"ticks\": \"\"}}, \"type\": \"scattergl\"}], \"scattermapbox\": [{\"marker\": {\"colorbar\": {\"outlinewidth\": 0, \"ticks\": \"\"}}, \"type\": \"scattermapbox\"}], \"scatterpolar\": [{\"marker\": {\"colorbar\": {\"outlinewidth\": 0, \"ticks\": \"\"}}, \"type\": \"scatterpolar\"}], \"scatterpolargl\": [{\"marker\": {\"colorbar\": {\"outlinewidth\": 0, \"ticks\": \"\"}}, \"type\": \"scatterpolargl\"}], \"scatterternary\": [{\"marker\": {\"colorbar\": {\"outlinewidth\": 0, \"ticks\": \"\"}}, \"type\": \"scatterternary\"}], \"surface\": [{\"colorbar\": {\"outlinewidth\": 0, \"ticks\": \"\"}, \"colorscale\": [[0.0, \"#0d0887\"], [0.1111111111111111, \"#46039f\"], [0.2222222222222222, \"#7201a8\"], [0.3333333333333333, \"#9c179e\"], [0.4444444444444444, \"#bd3786\"], [0.5555555555555556, \"#d8576b\"], [0.6666666666666666, \"#ed7953\"], [0.7777777777777778, \"#fb9f3a\"], [0.8888888888888888, \"#fdca26\"], [1.0, \"#f0f921\"]], \"type\": \"surface\"}], \"table\": [{\"cells\": {\"fill\": {\"color\": \"#EBF0F8\"}, \"line\": {\"color\": \"white\"}}, \"header\": {\"fill\": {\"color\": \"#C8D4E3\"}, \"line\": {\"color\": \"white\"}}, \"type\": \"table\"}]}, \"layout\": {\"annotationdefaults\": {\"arrowcolor\": \"#2a3f5f\", \"arrowhead\": 0, \"arrowwidth\": 1}, \"coloraxis\": {\"colorbar\": {\"outlinewidth\": 0, \"ticks\": \"\"}}, \"colorscale\": {\"diverging\": [[0, \"#8e0152\"], [0.1, \"#c51b7d\"], [0.2, \"#de77ae\"], [0.3, \"#f1b6da\"], [0.4, \"#fde0ef\"], [0.5, \"#f7f7f7\"], [0.6, \"#e6f5d0\"], [0.7, \"#b8e186\"], [0.8, \"#7fbc41\"], [0.9, \"#4d9221\"], [1, \"#276419\"]], \"sequential\": [[0.0, \"#0d0887\"], [0.1111111111111111, \"#46039f\"], [0.2222222222222222, \"#7201a8\"], [0.3333333333333333, \"#9c179e\"], [0.4444444444444444, \"#bd3786\"], [0.5555555555555556, \"#d8576b\"], [0.6666666666666666, \"#ed7953\"], [0.7777777777777778, \"#fb9f3a\"], [0.8888888888888888, \"#fdca26\"], [1.0, \"#f0f921\"]], \"sequentialminus\": [[0.0, \"#0d0887\"], [0.1111111111111111, \"#46039f\"], [0.2222222222222222, \"#7201a8\"], [0.3333333333333333, \"#9c179e\"], [0.4444444444444444, \"#bd3786\"], [0.5555555555555556, \"#d8576b\"], [0.6666666666666666, \"#ed7953\"], [0.7777777777777778, \"#fb9f3a\"], [0.8888888888888888, \"#fdca26\"], [1.0, \"#f0f921\"]]}, \"colorway\": [\"#636efa\", \"#EF553B\", \"#00cc96\", \"#ab63fa\", \"#FFA15A\", \"#19d3f3\", \"#FF6692\", \"#B6E880\", \"#FF97FF\", \"#FECB52\"], \"font\": {\"color\": \"#2a3f5f\"}, \"geo\": {\"bgcolor\": \"white\", \"lakecolor\": \"white\", \"landcolor\": \"#E5ECF6\", \"showlakes\": true, \"showland\": true, \"subunitcolor\": \"white\"}, \"hoverlabel\": {\"align\": \"left\"}, \"hovermode\": \"closest\", \"mapbox\": {\"style\": \"light\"}, \"paper_bgcolor\": \"white\", \"plot_bgcolor\": \"#E5ECF6\", \"polar\": {\"angularaxis\": {\"gridcolor\": \"white\", \"linecolor\": \"white\", \"ticks\": \"\"}, \"bgcolor\": \"#E5ECF6\", \"radialaxis\": {\"gridcolor\": \"white\", \"linecolor\": \"white\", \"ticks\": \"\"}}, \"scene\": {\"xaxis\": {\"backgroundcolor\": \"#E5ECF6\", \"gridcolor\": \"white\", \"gridwidth\": 2, \"linecolor\": \"white\", \"showbackground\": true, \"ticks\": \"\", \"zerolinecolor\": \"white\"}, \"yaxis\": {\"backgroundcolor\": \"#E5ECF6\", \"gridcolor\": \"white\", \"gridwidth\": 2, \"linecolor\": \"white\", \"showbackground\": true, \"ticks\": \"\", \"zerolinecolor\": \"white\"}, \"zaxis\": {\"backgroundcolor\": \"#E5ECF6\", \"gridcolor\": \"white\", \"gridwidth\": 2, \"linecolor\": \"white\", \"showbackground\": true, \"ticks\": \"\", \"zerolinecolor\": \"white\"}}, \"shapedefaults\": {\"line\": {\"color\": \"#2a3f5f\"}}, \"ternary\": {\"aaxis\": {\"gridcolor\": \"white\", \"linecolor\": \"white\", \"ticks\": \"\"}, \"baxis\": {\"gridcolor\": \"white\", \"linecolor\": \"white\", \"ticks\": \"\"}, \"bgcolor\": \"#E5ECF6\", \"caxis\": {\"gridcolor\": \"white\", \"linecolor\": \"white\", \"ticks\": \"\"}}, \"title\": {\"x\": 0.05}, \"xaxis\": {\"automargin\": true, \"gridcolor\": \"white\", \"linecolor\": \"white\", \"ticks\": \"\", \"title\": {\"standoff\": 15}, \"zerolinecolor\": \"white\", \"zerolinewidth\": 2}, \"yaxis\": {\"automargin\": true, \"gridcolor\": \"white\", \"linecolor\": \"white\", \"ticks\": \"\", \"title\": {\"standoff\": 15}, \"zerolinecolor\": \"white\", \"zerolinewidth\": 2}}}, \"title\": {\"text\": \"Image of horse\"}, \"width\": 500},                        {\"responsive\": true}                    ).then(function(){\n",
       "                            \n",
       "var gd = document.getElementById('0c6cd038-5dd1-4179-98fe-70d245489ecb');\n",
       "var x = new MutationObserver(function (mutations, observer) {{\n",
       "        var display = window.getComputedStyle(gd).display;\n",
       "        if (!display || display === 'none') {{\n",
       "            console.log([gd, 'removed!']);\n",
       "            Plotly.purge(gd);\n",
       "            observer.disconnect();\n",
       "        }}\n",
       "}});\n",
       "\n",
       "// Listen for the removal of the full notebook cells\n",
       "var notebookContainer = gd.closest('#notebook-container');\n",
       "if (notebookContainer) {{\n",
       "    x.observe(notebookContainer, {childList: true});\n",
       "}}\n",
       "\n",
       "// Listen for the clearing of the current output cell\n",
       "var outputEl = gd.closest('.output');\n",
       "if (outputEl) {{\n",
       "    x.observe(outputEl, {childList: true});\n",
       "}}\n",
       "\n",
       "                        })                };                });            </script>        </div>"
      ]
     },
     "metadata": {},
     "output_type": "display_data"
    }
   ],
   "source": [
    "# Check the images in random indices\n",
    "check_image(np.random.randint(0, 50000, (1,))[0])"
   ]
  },
  {
   "cell_type": "markdown",
   "metadata": {},
   "source": [
    "## Layer Architecture\n",
    "\n",
    "<table>\n",
    "   <th>Layer No</th>\n",
    "    <th>Input shape</th>\n",
    "    <th>Shape of feature map</th>\n",
    "    <th>No. of connections</th>\n",
    "    \n",
    "</table>\n",
    "\n"
   ]
  },
  {
   "cell_type": "code",
   "execution_count": 123,
   "metadata": {},
   "outputs": [
    {
     "name": "stdout",
     "output_type": "stream",
     "text": [
      "Model: \"sequential_18\"\n",
      "_________________________________________________________________\n",
      "Layer (type)                 Output Shape              Param #   \n",
      "=================================================================\n",
      "conv_1 (Conv2D)              (64, 29, 29, 6)           294       \n",
      "_________________________________________________________________\n",
      "MaxPool_1 (MaxPooling2D)     (64, 14, 14, 6)           0         \n",
      "_________________________________________________________________\n",
      "conv_2 (Conv2D)              (64, 11, 11, 8)           776       \n",
      "_________________________________________________________________\n",
      "MaxPool_2 (MaxPooling2D)     (64, 5, 5, 8)             0         \n",
      "_________________________________________________________________\n",
      "flatten_4 (Flatten)          (64, 200)                 0         \n",
      "_________________________________________________________________\n",
      "Fully_conn_layer_3 (Dense)   (64, 128)                 25728     \n",
      "_________________________________________________________________\n",
      "Fully_conn_layer_4 (Dense)   (64, 64)                  8256      \n",
      "_________________________________________________________________\n",
      "output_layer (Dense)         (64, 10)                  650       \n",
      "=================================================================\n",
      "Total params: 35,704\n",
      "Trainable params: 35,704\n",
      "Non-trainable params: 0\n",
      "_________________________________________________________________\n"
     ]
    }
   ],
   "source": [
    "model = keras.Sequential()\n",
    "#Input layer\n",
    "model.add(layer = Input(shape = (32,32,3), batch_size = 64, name = 'Input_layer', ))\n",
    "#Fisrst convolution layer\n",
    "model.add(layer = Conv2D(filters = 6, kernel_size= (4,4), activation = 'relu', name = 'conv_1'))\n",
    "#MaxPooling layer 1\n",
    "model.add(layer = MaxPool2D(pool_size= (2,2), name = 'MaxPool_1'))\n",
    "#Second Convolution layer\n",
    "model.add(layer = Conv2D(filters = 8, kernel_size = (4,4), activation = tf.nn.relu, name  = 'conv_2'))\n",
    "#Second Maxpool layer\n",
    "model.add(layer = MaxPool2D(pool_size = (2,2), name = 'MaxPool_2'))\n",
    "#Flattening\n",
    "model.add(layer = Flatten())\n",
    "#FC3\n",
    "model.add(layer = Dense(units = 128, activation = 'relu', name = 'Fully_conn_layer_3'))\n",
    "#FC4\n",
    "model.add(layer = Dense(units = 64, activation = 'relu', name = 'Fully_conn_layer_4'))\n",
    "#Output layer\n",
    "model.add(layer = Dense(units = 10, activation = 'softmax', name = 'output_layer'))\n",
    "model.summary()\n"
   ]
  },
  {
   "cell_type": "code",
   "execution_count": 128,
   "metadata": {},
   "outputs": [
    {
     "name": "stdout",
     "output_type": "stream",
     "text": [
      "(4, 4, 3, 6)\n",
      "(6,)\n",
      "(4, 4, 6, 8)\n",
      "(8,)\n",
      "(200, 128)\n",
      "(128,)\n",
      "(128, 64)\n",
      "(64,)\n",
      "(64, 10)\n",
      "(10,)\n"
     ]
    }
   ],
   "source": [
    "# Random weights are initialised\n",
    "for i in model.get_weights():\n",
    "    print(i.shape)"
   ]
  },
  {
   "cell_type": "markdown",
   "metadata": {},
   "source": [
    "Now lets understand various Weights and the shapes\n",
    "\n",
    "- layer 1 - We use 6 filters of shape (4,4,3)\n",
    "- Each of the filter in layer 1 has a bias which is the second weight , having shape of (6,) <br>\n",
    "The output of Convolution layer 1 has 6 channels , hence the filter used in the next layer should have 6 channels(depths ) as well\n",
    "- In layer 2 of convolutional layer we use 8 filters of shape(4,4,6)\n",
    "- Each of the 8 layers are having a bias \n",
    "- the fully connected layer 3 is having 128 weights\n"
   ]
  },
  {
   "cell_type": "code",
   "execution_count": null,
   "metadata": {},
   "outputs": [],
   "source": []
  },
  {
   "cell_type": "code",
   "execution_count": null,
   "metadata": {},
   "outputs": [],
   "source": []
  },
  {
   "cell_type": "code",
   "execution_count": null,
   "metadata": {},
   "outputs": [],
   "source": []
  },
  {
   "cell_type": "code",
   "execution_count": null,
   "metadata": {},
   "outputs": [],
   "source": []
  },
  {
   "cell_type": "code",
   "execution_count": null,
   "metadata": {},
   "outputs": [],
   "source": []
  },
  {
   "cell_type": "code",
   "execution_count": null,
   "metadata": {},
   "outputs": [],
   "source": []
  },
  {
   "cell_type": "code",
   "execution_count": null,
   "metadata": {},
   "outputs": [],
   "source": []
  },
  {
   "cell_type": "code",
   "execution_count": null,
   "metadata": {},
   "outputs": [],
   "source": []
  }
 ],
 "metadata": {
  "kernelspec": {
   "display_name": "Python 3",
   "language": "python",
   "name": "python3"
  },
  "language_info": {
   "codemirror_mode": {
    "name": "ipython",
    "version": 3
   },
   "file_extension": ".py",
   "mimetype": "text/x-python",
   "name": "python",
   "nbconvert_exporter": "python",
   "pygments_lexer": "ipython3",
   "version": "3.7.1"
  }
 },
 "nbformat": 4,
 "nbformat_minor": 4
}
