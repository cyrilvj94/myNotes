{
 "cells": [
  {
   "cell_type": "code",
   "execution_count": 2,
   "metadata": {},
   "outputs": [],
   "source": [
    "import numpy as np\n",
    "import pandas as pd\n",
    "import matplotlib.pyplot as plt"
   ]
  },
  {
   "cell_type": "code",
   "execution_count": 3,
   "metadata": {},
   "outputs": [],
   "source": [
    "import seaborn as sns"
   ]
  },
  {
   "cell_type": "code",
   "execution_count": 4,
   "metadata": {},
   "outputs": [],
   "source": [
    "from sklearn.linear_model import LinearRegression"
   ]
  },
  {
   "cell_type": "markdown",
   "metadata": {},
   "source": [
    "firstly , we are creating a dataframe with  a particular trend\n"
   ]
  },
  {
   "cell_type": "code",
   "execution_count": 5,
   "metadata": {},
   "outputs": [],
   "source": [
    "\n",
    "df  = pd.DataFrame({ 'x1' : np.arange(1,101),\n",
    "                     'x2':np.arange(1,101) +100, \n",
    "                    'x3':np.arange(1,101) +200,\n",
    "                    'y' : np.arange(1,101)+ 50\n",
    "                    \n",
    "                             })"
   ]
  },
  {
   "cell_type": "code",
   "execution_count": 6,
   "metadata": {},
   "outputs": [],
   "source": [
    "x = df.iloc[:,:-1].values  #seperating the dependent and independent variables\n",
    "y = df.iloc[:,-1].values.reshape(-1,1)"
   ]
  },
  {
   "cell_type": "code",
   "execution_count": 7,
   "metadata": {},
   "outputs": [
    {
     "name": "stdout",
     "output_type": "stream",
     "text": [
      "coefficients: [[0.33333333 0.33333333 0.33333333]]  and bias [-50.]\n",
      "Error : 8.668621376273222e-13\n",
      "Mean Squared Error : 3.130200071916975e-26 \n"
     ]
    }
   ],
   "source": [
    "lm = LinearRegression()\n",
    "lm.fit(x, y)\n",
    "print( 'coefficients: {}  and bias {}'.format(lm.coef_ , lm.intercept_))\n",
    "y_pred = lm.predict(x)\n",
    "print('Error : {}'.format( (y_pred - y).sum()  ))\n",
    "print('Mean Squared Error : {} '.format( ((y_pred - y)**2).sum()  ) )"
   ]
  },
  {
   "cell_type": "markdown",
   "metadata": {},
   "source": [
    "INFERENCE:\n",
    "Errors are negligible , ie, model is able to learn smoothly due to a pattern in the data"
   ]
  },
  {
   "cell_type": "code",
   "execution_count": 8,
   "metadata": {},
   "outputs": [
    {
     "data": {
      "text/plain": [
       "<matplotlib.axes._subplots.AxesSubplot at 0x499d6f49e8>"
      ]
     },
     "execution_count": 8,
     "metadata": {},
     "output_type": "execute_result"
    },
    {
     "data": {
      "image/png": "[encoded data removed]",
      "text/plain": [
       "<Figure size 432x288 with 1 Axes>"
      ]
     },
     "metadata": {},
     "output_type": "display_data"
    }
   ],
   "source": [
    "plt.style.use(plt.style.available[4]) \n",
    "sns.boxplot(data = df , palette= plt.colormaps()[167])  "
   ]
  },
  {
   "cell_type": "raw",
   "metadata": {},
   "source": [
    "INFERENCE : - no outliers are seen"
   ]
  },
  {
   "cell_type": "markdown",
   "metadata": {},
   "source": [
    "#predictions"
   ]
  },
  {
   "cell_type": "code",
   "execution_count": 9,
   "metadata": {},
   "outputs": [
    {
     "data": {
      "text/plain": [
       "array([[ 500.],\n",
       "       [1050.]])"
      ]
     },
     "execution_count": 9,
     "metadata": {},
     "output_type": "execute_result"
    }
   ],
   "source": [
    "lm.predict([[450, 550, 650] , [1000,1100,1200]])  # output is predicted accurately since the new data follows the given pattern"
   ]
  },
  {
   "cell_type": "code",
   "execution_count": 10,
   "metadata": {},
   "outputs": [
    {
     "data": {
      "text/plain": [
       "array([[228.66666667],\n",
       "       [ 25.66666667]])"
      ]
     },
     "execution_count": 10,
     "metadata": {},
     "output_type": "execute_result"
    }
   ],
   "source": [
    "lm.predict([[12,56,768], [134,6,87]])  # this data deviates from the given pattern , hence the prediction will be wrong \n",
    "                                         # but ground truth is not given"
   ]
  },
  {
   "cell_type": "markdown",
   "metadata": {},
   "source": [
    "# OUTLIER INFLUENCE"
   ]
  },
  {
   "cell_type": "code",
   "execution_count": 11,
   "metadata": {},
   "outputs": [],
   "source": [
    "df  = pd.DataFrame({ 'x1' : np.arange(1,101),\n",
    "                     'x2':np.arange(1,101) +100, \n",
    "                    'x3':np.arange(1,101) +200,\n",
    "                    'y' : np.arange(1,101)+ 50\n",
    "                    \n",
    "                             })\n",
    "\n",
    "new =  pd.DataFrame({ 'x1': [12,2354,675,456,4576,567234,5675],\n",
    "                     'x2':[567,98,5436,879,523456,72,4351],\n",
    "                    'x3':[7684,2345,877,754,78654,1234,98767],\n",
    "                    'y' : [234,546,878 ,4678,345,6243,5132]\n",
    "                    \n",
    "                             })\n",
    "\n",
    "df = df.append(new , ignore_index= True )"
   ]
  },
  {
   "cell_type": "code",
   "execution_count": 12,
   "metadata": {},
   "outputs": [
    {
     "data": {
      "text/html": [
       "<div>\n",
       "<style scoped>\n",
       "    .dataframe tbody tr th:only-of-type {\n",
       "        vertical-align: middle;\n",
       "    }\n",
       "\n",
       "    .dataframe tbody tr th {\n",
       "        vertical-align: top;\n",
       "    }\n",
       "\n",
       "    .dataframe thead th {\n",
       "        text-align: right;\n",
       "    }\n",
       "</style>\n",
       "<table border=\"1\" class=\"dataframe\">\n",
       "  <thead>\n",
       "    <tr style=\"text-align: right;\">\n",
       "      <th></th>\n",
       "      <th>x1</th>\n",
       "      <th>x2</th>\n",
       "      <th>x3</th>\n",
       "      <th>y</th>\n",
       "    </tr>\n",
       "  </thead>\n",
       "  <tbody>\n",
       "    <tr>\n",
       "      <td>0</td>\n",
       "      <td>1</td>\n",
       "      <td>101</td>\n",
       "      <td>201</td>\n",
       "      <td>51</td>\n",
       "    </tr>\n",
       "    <tr>\n",
       "      <td>1</td>\n",
       "      <td>2</td>\n",
       "      <td>102</td>\n",
       "      <td>202</td>\n",
       "      <td>52</td>\n",
       "    </tr>\n",
       "    <tr>\n",
       "      <td>2</td>\n",
       "      <td>3</td>\n",
       "      <td>103</td>\n",
       "      <td>203</td>\n",
       "      <td>53</td>\n",
       "    </tr>\n",
       "    <tr>\n",
       "      <td>3</td>\n",
       "      <td>4</td>\n",
       "      <td>104</td>\n",
       "      <td>204</td>\n",
       "      <td>54</td>\n",
       "    </tr>\n",
       "    <tr>\n",
       "      <td>4</td>\n",
       "      <td>5</td>\n",
       "      <td>105</td>\n",
       "      <td>205</td>\n",
       "      <td>55</td>\n",
       "    </tr>\n",
       "    <tr>\n",
       "      <td>...</td>\n",
       "      <td>...</td>\n",
       "      <td>...</td>\n",
       "      <td>...</td>\n",
       "      <td>...</td>\n",
       "    </tr>\n",
       "    <tr>\n",
       "      <td>102</td>\n",
       "      <td>675</td>\n",
       "      <td>5436</td>\n",
       "      <td>877</td>\n",
       "      <td>878</td>\n",
       "    </tr>\n",
       "    <tr>\n",
       "      <td>103</td>\n",
       "      <td>456</td>\n",
       "      <td>879</td>\n",
       "      <td>754</td>\n",
       "      <td>4678</td>\n",
       "    </tr>\n",
       "    <tr>\n",
       "      <td>104</td>\n",
       "      <td>4576</td>\n",
       "      <td>523456</td>\n",
       "      <td>78654</td>\n",
       "      <td>345</td>\n",
       "    </tr>\n",
       "    <tr>\n",
       "      <td>105</td>\n",
       "      <td>567234</td>\n",
       "      <td>72</td>\n",
       "      <td>1234</td>\n",
       "      <td>6243</td>\n",
       "    </tr>\n",
       "    <tr>\n",
       "      <td>106</td>\n",
       "      <td>5675</td>\n",
       "      <td>4351</td>\n",
       "      <td>98767</td>\n",
       "      <td>5132</td>\n",
       "    </tr>\n",
       "  </tbody>\n",
       "</table>\n",
       "<p>107 rows × 4 columns</p>\n",
       "</div>"
      ],
      "text/plain": [
       "         x1      x2     x3     y\n",
       "0         1     101    201    51\n",
       "1         2     102    202    52\n",
       "2         3     103    203    53\n",
       "3         4     104    204    54\n",
       "4         5     105    205    55\n",
       "..      ...     ...    ...   ...\n",
       "102     675    5436    877   878\n",
       "103     456     879    754  4678\n",
       "104    4576  523456  78654   345\n",
       "105  567234      72   1234  6243\n",
       "106    5675    4351  98767  5132\n",
       "\n",
       "[107 rows x 4 columns]"
      ]
     },
     "execution_count": 12,
     "metadata": {},
     "output_type": "execute_result"
    }
   ],
   "source": [
    "df"
   ]
  },
  {
   "cell_type": "code",
   "execution_count": 13,
   "metadata": {},
   "outputs": [],
   "source": [
    "x = df.iloc[:,:-1].values  #seperating the dependent and independent variables\n",
    "y = df.iloc[:,-1].values.reshape(-1,1)"
   ]
  },
  {
   "cell_type": "code",
   "execution_count": 14,
   "metadata": {},
   "outputs": [
    {
     "name": "stdout",
     "output_type": "stream",
     "text": [
      "coefficients: [[ 0.01065935 -0.00722855  0.05026127]]  and bias [140.27856459]\n",
      "Error : -4.433786671143025e-12\n",
      "Mean Squared Error : 21284574.663520463 \n"
     ]
    }
   ],
   "source": [
    "lm = LinearRegression()\n",
    "lm.fit(x, y)\n",
    "print( 'coefficients: {}  and bias {}'.format(lm.coef_ , lm.intercept_))\n",
    "y_pred = lm.predict(x)\n",
    "print('Error : {}'.format( (y_pred - y).sum()  ))\n",
    "print('Mean Squared Error : {} '.format( ((y_pred - y)**2).sum()  ) ) "
   ]
  },
  {
   "cell_type": "raw",
   "metadata": {},
   "source": [
    "Look how the error increases , with deviation in trend in data\n",
    "The result also shows why, mse is a better metric than simple error"
   ]
  },
  {
   "cell_type": "code",
   "execution_count": 15,
   "metadata": {},
   "outputs": [
    {
     "data": {
      "text/plain": [
       "(array([5490.53434271]), array([-5490.53434271]))"
      ]
     },
     "execution_count": 15,
     "metadata": {},
     "output_type": "execute_result"
    }
   ],
   "source": [
    "psum ,nsum = 0 , 0\n",
    "for i in (y_pred - y):    \n",
    "    if i <0:\n",
    "        nsum = nsum + i\n",
    "    else:\n",
    "        psum = psum + i\n",
    "        \n",
    "psum,nsum\n",
    "        \n",
    "    "
   ]
  },
  {
   "cell_type": "code",
   "execution_count": 16,
   "metadata": {},
   "outputs": [
    {
     "data": {
      "text/plain": [
       "array([[173.76939514],\n",
       "       [203.3000333 ]])"
      ]
     },
     "execution_count": 16,
     "metadata": {},
     "output_type": "execute_result"
    }
   ],
   "source": [
    "lm.predict([[450, 550, 650] , [1000,1100,1200]])  # data different from above"
   ]
  },
  {
   "cell_type": "code",
   "execution_count": 17,
   "metadata": {},
   "outputs": [
    {
     "data": {
      "text/plain": [
       "array([[178.60233313],\n",
       "       [146.03627606]])"
      ]
     },
     "execution_count": 17,
     "metadata": {},
     "output_type": "execute_result"
    }
   ],
   "source": [
    "lm.predict([[12,56,768], [134,6,87]])"
   ]
  },
  {
   "cell_type": "code",
   "execution_count": 18,
   "metadata": {},
   "outputs": [
    {
     "data": {
      "text/plain": [
       "<matplotlib.axes._subplots.AxesSubplot at 0x499deba748>"
      ]
     },
     "execution_count": 18,
     "metadata": {},
     "output_type": "execute_result"
    },
    {
     "data": {
      "image/png": "[encoded data removed]",
      "text/plain": [
       "<Figure size 432x288 with 1 Axes>"
      ]
     },
     "metadata": {},
     "output_type": "display_data"
    }
   ],
   "source": [
    "plt.style.use(plt.style.available[4]) \n",
    "sns.boxplot(data = df , palette= plt.colormaps()[167])  "
   ]
  },
  {
   "cell_type": "code",
   "execution_count": 19,
   "metadata": {},
   "outputs": [
    {
     "data": {
      "text/plain": [
       "<matplotlib.axes._subplots.AxesSubplot at 0x499df564e0>"
      ]
     },
     "execution_count": 19,
     "metadata": {},
     "output_type": "execute_result"
    },
    {
     "data": {
      "image/png": "[encoded data removed]",
      "text/plain": [
       "<Figure size 432x288 with 1 Axes>"
      ]
     },
     "metadata": {},
     "output_type": "display_data"
    }
   ],
   "source": [
    "sns.distplot(df['x1'])"
   ]
  },
  {
   "cell_type": "code",
   "execution_count": null,
   "metadata": {},
   "outputs": [],
   "source": []
  },
  {
   "cell_type": "markdown",
   "metadata": {},
   "source": [
    "# Normalisation"
   ]
  },
  {
   "cell_type": "code",
   "execution_count": 20,
   "metadata": {},
   "outputs": [],
   "source": [
    "from sklearn.preprocessing import StandardScaler"
   ]
  },
  {
   "cell_type": "code",
   "execution_count": 21,
   "metadata": {},
   "outputs": [],
   "source": [
    "ss =  StandardScaler()\n"
   ]
  },
  {
   "cell_type": "code",
   "execution_count": 22,
   "metadata": {},
   "outputs": [],
   "source": [
    "df  = pd.DataFrame({ 'x1' : np.arange(1,101),\n",
    "                     'x2':np.arange(1,101) +100, \n",
    "                    'x3':np.arange(1,101) +200,\n",
    "                    'y' : np.arange(1,101)+ 50\n",
    "                    \n",
    "                             })\n",
    "\n",
    "new =  pd.DataFrame({ 'x1': [12,2354,675,456,4576,567234,5675],\n",
    "                     'x2':[567,98,5436,879,523456,72,4351],\n",
    "                    'x3':[7684,2345,877,754,78654,1234,98767],\n",
    "                    'y' : [234,546,878 ,4678,345,6243,5132]\n",
    "                    \n",
    "                             })\n",
    "\n",
    "df = df.append(new , ignore_index= True )"
   ]
  },
  {
   "cell_type": "code",
   "execution_count": 23,
   "metadata": {},
   "outputs": [
    {
     "data": {
      "text/plain": [
       "(array([[-1.00351583e-01, -1.00071089e-01, -1.50136065e-01],\n",
       "        [-1.00333257e-01, -1.00051227e-01, -1.50053198e-01],\n",
       "        [-1.00314931e-01, -1.00031365e-01, -1.49970330e-01],\n",
       "        [-1.00296605e-01, -1.00011503e-01, -1.49887462e-01],\n",
       "        [-1.00278279e-01, -9.99916415e-02, -1.49804595e-01],\n",
       "        [-1.00259953e-01, -9.99717796e-02, -1.49721727e-01],\n",
       "        [-1.00241627e-01, -9.99519176e-02, -1.49638859e-01],\n",
       "        [-1.00223301e-01, -9.99320557e-02, -1.49555992e-01],\n",
       "        [-1.00204976e-01, -9.99121938e-02, -1.49473124e-01],\n",
       "        [-1.00186650e-01, -9.98923319e-02, -1.49390256e-01],\n",
       "        [-1.00168324e-01, -9.98724699e-02, -1.49307389e-01],\n",
       "        [-1.00149998e-01, -9.98526080e-02, -1.49224521e-01],\n",
       "        [-1.00131672e-01, -9.98327461e-02, -1.49141653e-01],\n",
       "        [-1.00113346e-01, -9.98128841e-02, -1.49058786e-01],\n",
       "        [-1.00095020e-01, -9.97930222e-02, -1.48975918e-01],\n",
       "        [-1.00076694e-01, -9.97731603e-02, -1.48893050e-01],\n",
       "        [-1.00058368e-01, -9.97532983e-02, -1.48810183e-01],\n",
       "        [-1.00040042e-01, -9.97334364e-02, -1.48727315e-01],\n",
       "        [-1.00021716e-01, -9.97135745e-02, -1.48644447e-01],\n",
       "        [-1.00003390e-01, -9.96937125e-02, -1.48561580e-01],\n",
       "        [-9.99850644e-02, -9.96738506e-02, -1.48478712e-01],\n",
       "        [-9.99667385e-02, -9.96539887e-02, -1.48395844e-01],\n",
       "        [-9.99484126e-02, -9.96341268e-02, -1.48312977e-01],\n",
       "        [-9.99300866e-02, -9.96142648e-02, -1.48230109e-01],\n",
       "        [-9.99117607e-02, -9.95944029e-02, -1.48147241e-01],\n",
       "        [-9.98934348e-02, -9.95745410e-02, -1.48064374e-01],\n",
       "        [-9.98751088e-02, -9.95546790e-02, -1.47981506e-01],\n",
       "        [-9.98567829e-02, -9.95348171e-02, -1.47898638e-01],\n",
       "        [-9.98384570e-02, -9.95149552e-02, -1.47815771e-01],\n",
       "        [-9.98201311e-02, -9.94950932e-02, -1.47732903e-01],\n",
       "        [-9.98018051e-02, -9.94752313e-02, -1.47650035e-01],\n",
       "        [-9.97834792e-02, -9.94553694e-02, -1.47567168e-01],\n",
       "        [-9.97651533e-02, -9.94355074e-02, -1.47484300e-01],\n",
       "        [-9.97468274e-02, -9.94156455e-02, -1.47401432e-01],\n",
       "        [-9.97285014e-02, -9.93957836e-02, -1.47318565e-01],\n",
       "        [-9.97101755e-02, -9.93759217e-02, -1.47235697e-01],\n",
       "        [-9.96918496e-02, -9.93560597e-02, -1.47152830e-01],\n",
       "        [-9.96735236e-02, -9.93361978e-02, -1.47069962e-01],\n",
       "        [-9.96551977e-02, -9.93163359e-02, -1.46987094e-01],\n",
       "        [-9.96368718e-02, -9.92964739e-02, -1.46904227e-01],\n",
       "        [-9.96185459e-02, -9.92766120e-02, -1.46821359e-01],\n",
       "        [-9.96002199e-02, -9.92567501e-02, -1.46738491e-01],\n",
       "        [-9.95818940e-02, -9.92368881e-02, -1.46655624e-01],\n",
       "        [-9.95635681e-02, -9.92170262e-02, -1.46572756e-01],\n",
       "        [-9.95452421e-02, -9.91971643e-02, -1.46489888e-01],\n",
       "        [-9.95269162e-02, -9.91773023e-02, -1.46407021e-01],\n",
       "        [-9.95085903e-02, -9.91574404e-02, -1.46324153e-01],\n",
       "        [-9.94902644e-02, -9.91375785e-02, -1.46241285e-01],\n",
       "        [-9.94719384e-02, -9.91177166e-02, -1.46158418e-01],\n",
       "        [-9.94536125e-02, -9.90978546e-02, -1.46075550e-01],\n",
       "        [-9.94352866e-02, -9.90779927e-02, -1.45992682e-01],\n",
       "        [-9.94169606e-02, -9.90581308e-02, -1.45909815e-01],\n",
       "        [-9.93986347e-02, -9.90382688e-02, -1.45826947e-01],\n",
       "        [-9.93803088e-02, -9.90184069e-02, -1.45744079e-01],\n",
       "        [-9.93619829e-02, -9.89985450e-02, -1.45661212e-01],\n",
       "        [-9.93436569e-02, -9.89786830e-02, -1.45578344e-01],\n",
       "        [-9.93253310e-02, -9.89588211e-02, -1.45495476e-01],\n",
       "        [-9.93070051e-02, -9.89389592e-02, -1.45412609e-01],\n",
       "        [-9.92886792e-02, -9.89190972e-02, -1.45329741e-01],\n",
       "        [-9.92703532e-02, -9.88992353e-02, -1.45246873e-01],\n",
       "        [-9.92520273e-02, -9.88793734e-02, -1.45164006e-01],\n",
       "        [-9.92337014e-02, -9.88595115e-02, -1.45081138e-01],\n",
       "        [-9.92153754e-02, -9.88396495e-02, -1.44998270e-01],\n",
       "        [-9.91970495e-02, -9.88197876e-02, -1.44915403e-01],\n",
       "        [-9.91787236e-02, -9.87999257e-02, -1.44832535e-01],\n",
       "        [-9.91603977e-02, -9.87800637e-02, -1.44749667e-01],\n",
       "        [-9.91420717e-02, -9.87602018e-02, -1.44666800e-01],\n",
       "        [-9.91237458e-02, -9.87403399e-02, -1.44583932e-01],\n",
       "        [-9.91054199e-02, -9.87204779e-02, -1.44501064e-01],\n",
       "        [-9.90870939e-02, -9.87006160e-02, -1.44418197e-01],\n",
       "        [-9.90687680e-02, -9.86807541e-02, -1.44335329e-01],\n",
       "        [-9.90504421e-02, -9.86608922e-02, -1.44252461e-01],\n",
       "        [-9.90321162e-02, -9.86410302e-02, -1.44169594e-01],\n",
       "        [-9.90137902e-02, -9.86211683e-02, -1.44086726e-01],\n",
       "        [-9.89954643e-02, -9.86013064e-02, -1.44003858e-01],\n",
       "        [-9.89771384e-02, -9.85814444e-02, -1.43920991e-01],\n",
       "        [-9.89588124e-02, -9.85615825e-02, -1.43838123e-01],\n",
       "        [-9.89404865e-02, -9.85417206e-02, -1.43755255e-01],\n",
       "        [-9.89221606e-02, -9.85218586e-02, -1.43672388e-01],\n",
       "        [-9.89038347e-02, -9.85019967e-02, -1.43589520e-01],\n",
       "        [-9.88855087e-02, -9.84821348e-02, -1.43506652e-01],\n",
       "        [-9.88671828e-02, -9.84622728e-02, -1.43423785e-01],\n",
       "        [-9.88488569e-02, -9.84424109e-02, -1.43340917e-01],\n",
       "        [-9.88305310e-02, -9.84225490e-02, -1.43258049e-01],\n",
       "        [-9.88122050e-02, -9.84026871e-02, -1.43175182e-01],\n",
       "        [-9.87938791e-02, -9.83828251e-02, -1.43092314e-01],\n",
       "        [-9.87755532e-02, -9.83629632e-02, -1.43009446e-01],\n",
       "        [-9.87572272e-02, -9.83431013e-02, -1.42926579e-01],\n",
       "        [-9.87389013e-02, -9.83232393e-02, -1.42843711e-01],\n",
       "        [-9.87205754e-02, -9.83033774e-02, -1.42760843e-01],\n",
       "        [-9.87022495e-02, -9.82835155e-02, -1.42677976e-01],\n",
       "        [-9.86839235e-02, -9.82636535e-02, -1.42595108e-01],\n",
       "        [-9.86655976e-02, -9.82437916e-02, -1.42512241e-01],\n",
       "        [-9.86472717e-02, -9.82239297e-02, -1.42429373e-01],\n",
       "        [-9.86289457e-02, -9.82040677e-02, -1.42346505e-01],\n",
       "        [-9.86106198e-02, -9.81842058e-02, -1.42263638e-01],\n",
       "        [-9.85922939e-02, -9.81643439e-02, -1.42180770e-01],\n",
       "        [-9.85739680e-02, -9.81444820e-02, -1.42097902e-01],\n",
       "        [-9.85556420e-02, -9.81246200e-02, -1.42015035e-01],\n",
       "        [-9.85373161e-02, -9.81047581e-02, -1.41932167e-01],\n",
       "        [-1.00149998e-01, -9.08154295e-02,  4.69962640e-01],\n",
       "        [-5.72306743e-02, -1.00130675e-01,  2.75321995e-02],\n",
       "        [-8.79999075e-02,  5.89231089e-03, -9.41175266e-02],\n",
       "        [-9.20132857e-02, -8.46185072e-02, -1.04310249e-01],\n",
       "        [-1.65104623e-02,  1.02947696e+01,  6.35108053e+00],\n",
       "        [ 1.02947195e+01, -1.00647085e-01, -6.45337717e-02],\n",
       "        [ 3.62973264e-03, -1.56578839e-02,  8.01779779e+00]]),\n",
       " array([[-0.24157635],\n",
       "        [-0.24043507],\n",
       "        [-0.2392938 ],\n",
       "        [-0.23815253],\n",
       "        [-0.23701126],\n",
       "        [-0.23586999],\n",
       "        [-0.23472871],\n",
       "        [-0.23358744],\n",
       "        [-0.23244617],\n",
       "        [-0.2313049 ],\n",
       "        [-0.23016363],\n",
       "        [-0.22902235],\n",
       "        [-0.22788108],\n",
       "        [-0.22673981],\n",
       "        [-0.22559854],\n",
       "        [-0.22445727],\n",
       "        [-0.22331599],\n",
       "        [-0.22217472],\n",
       "        [-0.22103345],\n",
       "        [-0.21989218],\n",
       "        [-0.21875091],\n",
       "        [-0.21760963],\n",
       "        [-0.21646836],\n",
       "        [-0.21532709],\n",
       "        [-0.21418582],\n",
       "        [-0.21304455],\n",
       "        [-0.21190327],\n",
       "        [-0.210762  ],\n",
       "        [-0.20962073],\n",
       "        [-0.20847946],\n",
       "        [-0.20733819],\n",
       "        [-0.20619691],\n",
       "        [-0.20505564],\n",
       "        [-0.20391437],\n",
       "        [-0.2027731 ],\n",
       "        [-0.20163183],\n",
       "        [-0.20049055],\n",
       "        [-0.19934928],\n",
       "        [-0.19820801],\n",
       "        [-0.19706674],\n",
       "        [-0.19592547],\n",
       "        [-0.19478419],\n",
       "        [-0.19364292],\n",
       "        [-0.19250165],\n",
       "        [-0.19136038],\n",
       "        [-0.19021911],\n",
       "        [-0.18907783],\n",
       "        [-0.18793656],\n",
       "        [-0.18679529],\n",
       "        [-0.18565402],\n",
       "        [-0.18451275],\n",
       "        [-0.18337147],\n",
       "        [-0.1822302 ],\n",
       "        [-0.18108893],\n",
       "        [-0.17994766],\n",
       "        [-0.17880639],\n",
       "        [-0.17766511],\n",
       "        [-0.17652384],\n",
       "        [-0.17538257],\n",
       "        [-0.1742413 ],\n",
       "        [-0.17310003],\n",
       "        [-0.17195875],\n",
       "        [-0.17081748],\n",
       "        [-0.16967621],\n",
       "        [-0.16853494],\n",
       "        [-0.16739367],\n",
       "        [-0.1662524 ],\n",
       "        [-0.16511112],\n",
       "        [-0.16396985],\n",
       "        [-0.16282858],\n",
       "        [-0.16168731],\n",
       "        [-0.16054604],\n",
       "        [-0.15940476],\n",
       "        [-0.15826349],\n",
       "        [-0.15712222],\n",
       "        [-0.15598095],\n",
       "        [-0.15483968],\n",
       "        [-0.1536984 ],\n",
       "        [-0.15255713],\n",
       "        [-0.15141586],\n",
       "        [-0.15027459],\n",
       "        [-0.14913332],\n",
       "        [-0.14799204],\n",
       "        [-0.14685077],\n",
       "        [-0.1457095 ],\n",
       "        [-0.14456823],\n",
       "        [-0.14342696],\n",
       "        [-0.14228568],\n",
       "        [-0.14114441],\n",
       "        [-0.14000314],\n",
       "        [-0.13886187],\n",
       "        [-0.1377206 ],\n",
       "        [-0.13657932],\n",
       "        [-0.13543805],\n",
       "        [-0.13429678],\n",
       "        [-0.13315551],\n",
       "        [-0.13201424],\n",
       "        [-0.13087296],\n",
       "        [-0.12973169],\n",
       "        [-0.12859042],\n",
       "        [-0.03272357],\n",
       "        [ 0.32335328],\n",
       "        [ 0.70225558],\n",
       "        [ 5.03908908],\n",
       "        [ 0.09395762],\n",
       "        [ 6.82517972],\n",
       "        [ 5.55722656]]))"
      ]
     },
     "execution_count": 23,
     "metadata": {},
     "output_type": "execute_result"
    }
   ],
   "source": [
    "df = ss.fit_transform(df)\n",
    "x = df[:,:-1] #seperating the dependent and independent variables\n",
    "y = df[:,-1].reshape(-1,1)\n",
    "x,y"
   ]
  },
  {
   "cell_type": "code",
   "execution_count": 24,
   "metadata": {},
   "outputs": [
    {
     "data": {
      "text/plain": [
       "array([2.97761159e+09, 2.53487809e+09, 1.45622955e+08, 7.67753304e+05])"
      ]
     },
     "execution_count": 24,
     "metadata": {},
     "output_type": "execute_result"
    }
   ],
   "source": [
    "ss.var_"
   ]
  },
  {
   "cell_type": "code",
   "execution_count": 25,
   "metadata": {},
   "outputs": [
    {
     "name": "stdout",
     "output_type": "stream",
     "text": [
      "coefficients: [[ 0.66382517 -0.41535421  0.69220945]]  and bias [-2.74351964e-17]\n",
      "Error : -3.066991105526995e-15\n",
      "Mean Squared Error : 27.723195128649227 \n"
     ]
    }
   ],
   "source": [
    "lm = LinearRegression()\n",
    "lm.fit(x, y)\n",
    "print( 'coefficients: {}  and bias {}'.format(lm.coef_ , lm.intercept_))\n",
    "y_pred = lm.predict(x)\n",
    "print('Error : {}'.format( (y_pred - y).sum()  ))\n",
    "print('Mean Squared Error : {} '.format( ((y_pred - y)**2).sum()  ) ) "
   ]
  },
  {
   "cell_type": "raw",
   "metadata": {},
   "source": [
    "INFRENCE:- \n",
    "    for same data we are able to minimize the error with normalisation to an order of 6"
   ]
  },
  {
   "cell_type": "code",
   "execution_count": null,
   "metadata": {},
   "outputs": [],
   "source": []
  },
  {
   "cell_type": "code",
   "execution_count": null,
   "metadata": {},
   "outputs": [],
   "source": []
  },
  {
   "cell_type": "code",
   "execution_count": null,
   "metadata": {},
   "outputs": [],
   "source": []
  },
  {
   "cell_type": "code",
   "execution_count": null,
   "metadata": {},
   "outputs": [],
   "source": []
  },
  {
   "cell_type": "code",
   "execution_count": null,
   "metadata": {},
   "outputs": [],
   "source": []
  },
  {
   "cell_type": "code",
   "execution_count": null,
   "metadata": {},
   "outputs": [],
   "source": []
  },
  {
   "cell_type": "code",
   "execution_count": null,
   "metadata": {},
   "outputs": [],
   "source": []
  },
  {
   "cell_type": "code",
   "execution_count": null,
   "metadata": {},
   "outputs": [],
   "source": []
  },
  {
   "cell_type": "code",
   "execution_count": null,
   "metadata": {},
   "outputs": [],
   "source": []
  },
  {
   "cell_type": "code",
   "execution_count": null,
   "metadata": {},
   "outputs": [],
   "source": []
  },
  {
   "cell_type": "code",
   "execution_count": null,
   "metadata": {},
   "outputs": [],
   "source": []
  },
  {
   "cell_type": "code",
   "execution_count": null,
   "metadata": {},
   "outputs": [],
   "source": []
  }
 ],
 "metadata": {
  "kernelspec": {
   "display_name": "Python 3",
   "language": "python",
   "name": "python3"
  },
  "language_info": {
   "codemirror_mode": {
    "name": "ipython",
    "version": 3
   },
   "file_extension": ".py",
   "mimetype": "text/x-python",
   "name": "python",
   "nbconvert_exporter": "python",
   "pygments_lexer": "ipython3",
   "version": "3.7.1"
  }
 },
 "nbformat": 4,
 "nbformat_minor": 4
}
