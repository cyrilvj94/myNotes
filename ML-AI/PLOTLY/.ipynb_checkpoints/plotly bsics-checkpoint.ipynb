{
 "cells": [
  {
   "cell_type": "code",
   "execution_count": 146,
   "metadata": {},
   "outputs": [],
   "source": [
    "import plotly.graph_objects as go\n",
    "import plotly.express as px\n",
    "import plotly.io as pio\n",
    "import numpy as np\n",
    "import pandas as pd\n",
    "import matplotlib.pyplot as plt"
   ]
  },
  {
   "cell_type": "markdown",
   "metadata": {},
   "source": [
    "A plotly figure can be represented as a plotly figure object, represented as a tree , which has three parent node -data,\n",
    "layout and frames. Data has all info related to data to be plotted. Layout for customizing the plot and frames for animated \n",
    "plots"
   ]
  },
  {
   "cell_type": "code",
   "execution_count": 10,
   "metadata": {},
   "outputs": [
    {
     "data": {
      "application/vnd.plotly.v1+json": {
       "config": {
        "plotlyServerURL": "https://plot.ly"
       },
       "data": [
        {
         "type": "bar",
         "x": [
          "A",
          "C",
          "E",
          "W"
         ],
         "y": [
          1,
          2,
          3,
          4
         ]
        }
       ],
       "layout": {
        "template": {
         "data": {
          "bar": [
           {
            "error_x": {
             "color": "#2a3f5f"
            },
            "error_y": {
             "color": "#2a3f5f"
            },
            "marker": {
             "line": {
              "color": "#E5ECF6",
              "width": 0.5
             }
            },
            "type": "bar"
           }
          ],
          "barpolar": [
           {
            "marker": {
             "line": {
              "color": "#E5ECF6",
              "width": 0.5
             }
            },
            "type": "barpolar"
           }
          ],
          "carpet": [
           {
            "aaxis": {
             "endlinecolor": "#2a3f5f",
             "gridcolor": "white",
             "linecolor": "white",
             "minorgridcolor": "white",
             "startlinecolor": "#2a3f5f"
            },
            "baxis": {
             "endlinecolor": "#2a3f5f",
             "gridcolor": "white",
             "linecolor": "white",
             "minorgridcolor": "white",
             "startlinecolor": "#2a3f5f"
            },
            "type": "carpet"
           }
          ],
          "choropleth": [
           {
            "colorbar": {
             "outlinewidth": 0,
             "ticks": ""
            },
            "type": "choropleth"
           }
          ],
          "contour": [
           {
            "colorbar": {
             "outlinewidth": 0,
             "ticks": ""
            },
            "colorscale": [
             [
              0,
              "#0d0887"
             ],
             [
              0.1111111111111111,
              "#46039f"
             ],
             [
              0.2222222222222222,
              "#7201a8"
             ],
             [
              0.3333333333333333,
              "#9c179e"
             ],
             [
              0.4444444444444444,
              "#bd3786"
             ],
             [
              0.5555555555555556,
              "#d8576b"
             ],
             [
              0.6666666666666666,
              "#ed7953"
             ],
             [
              0.7777777777777778,
              "#fb9f3a"
             ],
             [
              0.8888888888888888,
              "#fdca26"
             ],
             [
              1,
              "#f0f921"
             ]
            ],
            "type": "contour"
           }
          ],
          "contourcarpet": [
           {
            "colorbar": {
             "outlinewidth": 0,
             "ticks": ""
            },
            "type": "contourcarpet"
           }
          ],
          "heatmap": [
           {
            "colorbar": {
             "outlinewidth": 0,
             "ticks": ""
            },
            "colorscale": [
             [
              0,
              "#0d0887"
             ],
             [
              0.1111111111111111,
              "#46039f"
             ],
             [
              0.2222222222222222,
              "#7201a8"
             ],
             [
              0.3333333333333333,
              "#9c179e"
             ],
             [
              0.4444444444444444,
              "#bd3786"
             ],
             [
              0.5555555555555556,
              "#d8576b"
             ],
             [
              0.6666666666666666,
              "#ed7953"
             ],
             [
              0.7777777777777778,
              "#fb9f3a"
             ],
             [
              0.8888888888888888,
              "#fdca26"
             ],
             [
              1,
              "#f0f921"
             ]
            ],
            "type": "heatmap"
           }
          ],
          "heatmapgl": [
           {
            "colorbar": {
             "outlinewidth": 0,
             "ticks": ""
            },
            "colorscale": [
             [
              0,
              "#0d0887"
             ],
             [
              0.1111111111111111,
              "#46039f"
             ],
             [
              0.2222222222222222,
              "#7201a8"
             ],
             [
              0.3333333333333333,
              "#9c179e"
             ],
             [
              0.4444444444444444,
              "#bd3786"
             ],
             [
              0.5555555555555556,
              "#d8576b"
             ],
             [
              0.6666666666666666,
              "#ed7953"
             ],
             [
              0.7777777777777778,
              "#fb9f3a"
             ],
             [
              0.8888888888888888,
              "#fdca26"
             ],
             [
              1,
              "#f0f921"
             ]
            ],
            "type": "heatmapgl"
           }
          ],
          "histogram": [
           {
            "marker": {
             "colorbar": {
              "outlinewidth": 0,
              "ticks": ""
             }
            },
            "type": "histogram"
           }
          ],
          "histogram2d": [
           {
            "colorbar": {
             "outlinewidth": 0,
             "ticks": ""
            },
            "colorscale": [
             [
              0,
              "#0d0887"
             ],
             [
              0.1111111111111111,
              "#46039f"
             ],
             [
              0.2222222222222222,
              "#7201a8"
             ],
             [
              0.3333333333333333,
              "#9c179e"
             ],
             [
              0.4444444444444444,
              "#bd3786"
             ],
             [
              0.5555555555555556,
              "#d8576b"
             ],
             [
              0.6666666666666666,
              "#ed7953"
             ],
             [
              0.7777777777777778,
              "#fb9f3a"
             ],
             [
              0.8888888888888888,
              "#fdca26"
             ],
             [
              1,
              "#f0f921"
             ]
            ],
            "type": "histogram2d"
           }
          ],
          "histogram2dcontour": [
           {
            "colorbar": {
             "outlinewidth": 0,
             "ticks": ""
            },
            "colorscale": [
             [
              0,
              "#0d0887"
             ],
             [
              0.1111111111111111,
              "#46039f"
             ],
             [
              0.2222222222222222,
              "#7201a8"
             ],
             [
              0.3333333333333333,
              "#9c179e"
             ],
             [
              0.4444444444444444,
              "#bd3786"
             ],
             [
              0.5555555555555556,
              "#d8576b"
             ],
             [
              0.6666666666666666,
              "#ed7953"
             ],
             [
              0.7777777777777778,
              "#fb9f3a"
             ],
             [
              0.8888888888888888,
              "#fdca26"
             ],
             [
              1,
              "#f0f921"
             ]
            ],
            "type": "histogram2dcontour"
           }
          ],
          "mesh3d": [
           {
            "colorbar": {
             "outlinewidth": 0,
             "ticks": ""
            },
            "type": "mesh3d"
           }
          ],
          "parcoords": [
           {
            "line": {
             "colorbar": {
              "outlinewidth": 0,
              "ticks": ""
             }
            },
            "type": "parcoords"
           }
          ],
          "pie": [
           {
            "automargin": true,
            "type": "pie"
           }
          ],
          "scatter": [
           {
            "marker": {
             "colorbar": {
              "outlinewidth": 0,
              "ticks": ""
             }
            },
            "type": "scatter"
           }
          ],
          "scatter3d": [
           {
            "line": {
             "colorbar": {
              "outlinewidth": 0,
              "ticks": ""
             }
            },
            "marker": {
             "colorbar": {
              "outlinewidth": 0,
              "ticks": ""
             }
            },
            "type": "scatter3d"
           }
          ],
          "scattercarpet": [
           {
            "marker": {
             "colorbar": {
              "outlinewidth": 0,
              "ticks": ""
             }
            },
            "type": "scattercarpet"
           }
          ],
          "scattergeo": [
           {
            "marker": {
             "colorbar": {
              "outlinewidth": 0,
              "ticks": ""
             }
            },
            "type": "scattergeo"
           }
          ],
          "scattergl": [
           {
            "marker": {
             "colorbar": {
              "outlinewidth": 0,
              "ticks": ""
             }
            },
            "type": "scattergl"
           }
          ],
          "scattermapbox": [
           {
            "marker": {
             "colorbar": {
              "outlinewidth": 0,
              "ticks": ""
             }
            },
            "type": "scattermapbox"
           }
          ],
          "scatterpolar": [
           {
            "marker": {
             "colorbar": {
              "outlinewidth": 0,
              "ticks": ""
             }
            },
            "type": "scatterpolar"
           }
          ],
          "scatterpolargl": [
           {
            "marker": {
             "colorbar": {
              "outlinewidth": 0,
              "ticks": ""
             }
            },
            "type": "scatterpolargl"
           }
          ],
          "scatterternary": [
           {
            "marker": {
             "colorbar": {
              "outlinewidth": 0,
              "ticks": ""
             }
            },
            "type": "scatterternary"
           }
          ],
          "surface": [
           {
            "colorbar": {
             "outlinewidth": 0,
             "ticks": ""
            },
            "colorscale": [
             [
              0,
              "#0d0887"
             ],
             [
              0.1111111111111111,
              "#46039f"
             ],
             [
              0.2222222222222222,
              "#7201a8"
             ],
             [
              0.3333333333333333,
              "#9c179e"
             ],
             [
              0.4444444444444444,
              "#bd3786"
             ],
             [
              0.5555555555555556,
              "#d8576b"
             ],
             [
              0.6666666666666666,
              "#ed7953"
             ],
             [
              0.7777777777777778,
              "#fb9f3a"
             ],
             [
              0.8888888888888888,
              "#fdca26"
             ],
             [
              1,
              "#f0f921"
             ]
            ],
            "type": "surface"
           }
          ],
          "table": [
           {
            "cells": {
             "fill": {
              "color": "#EBF0F8"
             },
             "line": {
              "color": "white"
             }
            },
            "header": {
             "fill": {
              "color": "#C8D4E3"
             },
             "line": {
              "color": "white"
             }
            },
            "type": "table"
           }
          ]
         },
         "layout": {
          "annotationdefaults": {
           "arrowcolor": "#2a3f5f",
           "arrowhead": 0,
           "arrowwidth": 1
          },
          "coloraxis": {
           "colorbar": {
            "outlinewidth": 0,
            "ticks": ""
           }
          },
          "colorscale": {
           "diverging": [
            [
             0,
             "#8e0152"
            ],
            [
             0.1,
             "#c51b7d"
            ],
            [
             0.2,
             "#de77ae"
            ],
            [
             0.3,
             "#f1b6da"
            ],
            [
             0.4,
             "#fde0ef"
            ],
            [
             0.5,
             "#f7f7f7"
            ],
            [
             0.6,
             "#e6f5d0"
            ],
            [
             0.7,
             "#b8e186"
            ],
            [
             0.8,
             "#7fbc41"
            ],
            [
             0.9,
             "#4d9221"
            ],
            [
             1,
             "#276419"
            ]
           ],
           "sequential": [
            [
             0,
             "#0d0887"
            ],
            [
             0.1111111111111111,
             "#46039f"
            ],
            [
             0.2222222222222222,
             "#7201a8"
            ],
            [
             0.3333333333333333,
             "#9c179e"
            ],
            [
             0.4444444444444444,
             "#bd3786"
            ],
            [
             0.5555555555555556,
             "#d8576b"
            ],
            [
             0.6666666666666666,
             "#ed7953"
            ],
            [
             0.7777777777777778,
             "#fb9f3a"
            ],
            [
             0.8888888888888888,
             "#fdca26"
            ],
            [
             1,
             "#f0f921"
            ]
           ],
           "sequentialminus": [
            [
             0,
             "#0d0887"
            ],
            [
             0.1111111111111111,
             "#46039f"
            ],
            [
             0.2222222222222222,
             "#7201a8"
            ],
            [
             0.3333333333333333,
             "#9c179e"
            ],
            [
             0.4444444444444444,
             "#bd3786"
            ],
            [
             0.5555555555555556,
             "#d8576b"
            ],
            [
             0.6666666666666666,
             "#ed7953"
            ],
            [
             0.7777777777777778,
             "#fb9f3a"
            ],
            [
             0.8888888888888888,
             "#fdca26"
            ],
            [
             1,
             "#f0f921"
            ]
           ]
          },
          "colorway": [
           "#636efa",
           "#EF553B",
           "#00cc96",
           "#ab63fa",
           "#FFA15A",
           "#19d3f3",
           "#FF6692",
           "#B6E880",
           "#FF97FF",
           "#FECB52"
          ],
          "font": {
           "color": "#2a3f5f"
          },
          "geo": {
           "bgcolor": "white",
           "lakecolor": "white",
           "landcolor": "#E5ECF6",
           "showlakes": true,
           "showland": true,
           "subunitcolor": "white"
          },
          "hoverlabel": {
           "align": "left"
          },
          "hovermode": "closest",
          "mapbox": {
           "style": "light"
          },
          "paper_bgcolor": "white",
          "plot_bgcolor": "#E5ECF6",
          "polar": {
           "angularaxis": {
            "gridcolor": "white",
            "linecolor": "white",
            "ticks": ""
           },
           "bgcolor": "#E5ECF6",
           "radialaxis": {
            "gridcolor": "white",
            "linecolor": "white",
            "ticks": ""
           }
          },
          "scene": {
           "xaxis": {
            "backgroundcolor": "#E5ECF6",
            "gridcolor": "white",
            "gridwidth": 2,
            "linecolor": "white",
            "showbackground": true,
            "ticks": "",
            "zerolinecolor": "white"
           },
           "yaxis": {
            "backgroundcolor": "#E5ECF6",
            "gridcolor": "white",
            "gridwidth": 2,
            "linecolor": "white",
            "showbackground": true,
            "ticks": "",
            "zerolinecolor": "white"
           },
           "zaxis": {
            "backgroundcolor": "#E5ECF6",
            "gridcolor": "white",
            "gridwidth": 2,
            "linecolor": "white",
            "showbackground": true,
            "ticks": "",
            "zerolinecolor": "white"
           }
          },
          "shapedefaults": {
           "line": {
            "color": "#2a3f5f"
           }
          },
          "ternary": {
           "aaxis": {
            "gridcolor": "white",
            "linecolor": "white",
            "ticks": ""
           },
           "baxis": {
            "gridcolor": "white",
            "linecolor": "white",
            "ticks": ""
           },
           "bgcolor": "#E5ECF6",
           "caxis": {
            "gridcolor": "white",
            "linecolor": "white",
            "ticks": ""
           }
          },
          "title": {
           "x": 0.05
          },
          "xaxis": {
           "automargin": true,
           "gridcolor": "white",
           "linecolor": "white",
           "ticks": "",
           "title": {
            "standoff": 15
           },
           "zerolinecolor": "white",
           "zerolinewidth": 2
          },
          "yaxis": {
           "automargin": true,
           "gridcolor": "white",
           "linecolor": "white",
           "ticks": "",
           "title": {
            "standoff": 15
           },
           "zerolinecolor": "white",
           "zerolinewidth": 2
          }
         }
        },
        "title": {
         "text": "Creating fig from dictionary"
        }
       }
      },
      "text/html": [
       "<div>\n",
       "        \n",
       "        \n",
       "            <div id=\"6b514454-a698-45af-819b-ca43bba15042\" class=\"plotly-graph-div\" style=\"height:525px; width:100%;\"></div>\n",
       "            <script type=\"text/javascript\">\n",
       "                require([\"plotly\"], function(Plotly) {\n",
       "                    window.PLOTLYENV=window.PLOTLYENV || {};\n",
       "                    \n",
       "                if (document.getElementById(\"6b514454-a698-45af-819b-ca43bba15042\")) {\n",
       "                    Plotly.newPlot(\n",
       "                        '6b514454-a698-45af-819b-ca43bba15042',\n",
       "                        [{\"type\": \"bar\", \"x\": [\"A\", \"C\", \"E\", \"W\"], \"y\": [1, 2, 3, 4]}],\n",
       "                        {\"template\": {\"data\": {\"bar\": [{\"error_x\": {\"color\": \"#2a3f5f\"}, \"error_y\": {\"color\": \"#2a3f5f\"}, \"marker\": {\"line\": {\"color\": \"#E5ECF6\", \"width\": 0.5}}, \"type\": \"bar\"}], \"barpolar\": [{\"marker\": {\"line\": {\"color\": \"#E5ECF6\", \"width\": 0.5}}, \"type\": \"barpolar\"}], \"carpet\": [{\"aaxis\": {\"endlinecolor\": \"#2a3f5f\", \"gridcolor\": \"white\", \"linecolor\": \"white\", \"minorgridcolor\": \"white\", \"startlinecolor\": \"#2a3f5f\"}, \"baxis\": {\"endlinecolor\": \"#2a3f5f\", \"gridcolor\": \"white\", \"linecolor\": \"white\", \"minorgridcolor\": \"white\", \"startlinecolor\": \"#2a3f5f\"}, \"type\": \"carpet\"}], \"choropleth\": [{\"colorbar\": {\"outlinewidth\": 0, \"ticks\": \"\"}, \"type\": \"choropleth\"}], \"contour\": [{\"colorbar\": {\"outlinewidth\": 0, \"ticks\": \"\"}, \"colorscale\": [[0.0, \"#0d0887\"], [0.1111111111111111, \"#46039f\"], [0.2222222222222222, \"#7201a8\"], [0.3333333333333333, \"#9c179e\"], [0.4444444444444444, \"#bd3786\"], [0.5555555555555556, \"#d8576b\"], [0.6666666666666666, \"#ed7953\"], [0.7777777777777778, \"#fb9f3a\"], [0.8888888888888888, \"#fdca26\"], [1.0, \"#f0f921\"]], \"type\": \"contour\"}], \"contourcarpet\": [{\"colorbar\": {\"outlinewidth\": 0, \"ticks\": \"\"}, \"type\": \"contourcarpet\"}], \"heatmap\": [{\"colorbar\": {\"outlinewidth\": 0, \"ticks\": \"\"}, \"colorscale\": [[0.0, \"#0d0887\"], [0.1111111111111111, \"#46039f\"], [0.2222222222222222, \"#7201a8\"], [0.3333333333333333, \"#9c179e\"], [0.4444444444444444, \"#bd3786\"], [0.5555555555555556, \"#d8576b\"], [0.6666666666666666, \"#ed7953\"], [0.7777777777777778, \"#fb9f3a\"], [0.8888888888888888, \"#fdca26\"], [1.0, \"#f0f921\"]], \"type\": \"heatmap\"}], \"heatmapgl\": [{\"colorbar\": {\"outlinewidth\": 0, \"ticks\": \"\"}, \"colorscale\": [[0.0, \"#0d0887\"], [0.1111111111111111, \"#46039f\"], [0.2222222222222222, \"#7201a8\"], [0.3333333333333333, \"#9c179e\"], [0.4444444444444444, \"#bd3786\"], [0.5555555555555556, \"#d8576b\"], [0.6666666666666666, \"#ed7953\"], [0.7777777777777778, \"#fb9f3a\"], [0.8888888888888888, \"#fdca26\"], [1.0, \"#f0f921\"]], \"type\": \"heatmapgl\"}], \"histogram\": [{\"marker\": {\"colorbar\": {\"outlinewidth\": 0, \"ticks\": \"\"}}, \"type\": \"histogram\"}], \"histogram2d\": [{\"colorbar\": {\"outlinewidth\": 0, \"ticks\": \"\"}, \"colorscale\": [[0.0, \"#0d0887\"], [0.1111111111111111, \"#46039f\"], [0.2222222222222222, \"#7201a8\"], [0.3333333333333333, \"#9c179e\"], [0.4444444444444444, \"#bd3786\"], [0.5555555555555556, \"#d8576b\"], [0.6666666666666666, \"#ed7953\"], [0.7777777777777778, \"#fb9f3a\"], [0.8888888888888888, \"#fdca26\"], [1.0, \"#f0f921\"]], \"type\": \"histogram2d\"}], \"histogram2dcontour\": [{\"colorbar\": {\"outlinewidth\": 0, \"ticks\": \"\"}, \"colorscale\": [[0.0, \"#0d0887\"], [0.1111111111111111, \"#46039f\"], [0.2222222222222222, \"#7201a8\"], [0.3333333333333333, \"#9c179e\"], [0.4444444444444444, \"#bd3786\"], [0.5555555555555556, \"#d8576b\"], [0.6666666666666666, \"#ed7953\"], [0.7777777777777778, \"#fb9f3a\"], [0.8888888888888888, \"#fdca26\"], [1.0, \"#f0f921\"]], \"type\": \"histogram2dcontour\"}], \"mesh3d\": [{\"colorbar\": {\"outlinewidth\": 0, \"ticks\": \"\"}, \"type\": \"mesh3d\"}], \"parcoords\": [{\"line\": {\"colorbar\": {\"outlinewidth\": 0, \"ticks\": \"\"}}, \"type\": \"parcoords\"}], \"pie\": [{\"automargin\": true, \"type\": \"pie\"}], \"scatter\": [{\"marker\": {\"colorbar\": {\"outlinewidth\": 0, \"ticks\": \"\"}}, \"type\": \"scatter\"}], \"scatter3d\": [{\"line\": {\"colorbar\": {\"outlinewidth\": 0, \"ticks\": \"\"}}, \"marker\": {\"colorbar\": {\"outlinewidth\": 0, \"ticks\": \"\"}}, \"type\": \"scatter3d\"}], \"scattercarpet\": [{\"marker\": {\"colorbar\": {\"outlinewidth\": 0, \"ticks\": \"\"}}, \"type\": \"scattercarpet\"}], \"scattergeo\": [{\"marker\": {\"colorbar\": {\"outlinewidth\": 0, \"ticks\": \"\"}}, \"type\": \"scattergeo\"}], \"scattergl\": [{\"marker\": {\"colorbar\": {\"outlinewidth\": 0, \"ticks\": \"\"}}, \"type\": \"scattergl\"}], \"scattermapbox\": [{\"marker\": {\"colorbar\": {\"outlinewidth\": 0, \"ticks\": \"\"}}, \"type\": \"scattermapbox\"}], \"scatterpolar\": [{\"marker\": {\"colorbar\": {\"outlinewidth\": 0, \"ticks\": \"\"}}, \"type\": \"scatterpolar\"}], \"scatterpolargl\": [{\"marker\": {\"colorbar\": {\"outlinewidth\": 0, \"ticks\": \"\"}}, \"type\": \"scatterpolargl\"}], \"scatterternary\": [{\"marker\": {\"colorbar\": {\"outlinewidth\": 0, \"ticks\": \"\"}}, \"type\": \"scatterternary\"}], \"surface\": [{\"colorbar\": {\"outlinewidth\": 0, \"ticks\": \"\"}, \"colorscale\": [[0.0, \"#0d0887\"], [0.1111111111111111, \"#46039f\"], [0.2222222222222222, \"#7201a8\"], [0.3333333333333333, \"#9c179e\"], [0.4444444444444444, \"#bd3786\"], [0.5555555555555556, \"#d8576b\"], [0.6666666666666666, \"#ed7953\"], [0.7777777777777778, \"#fb9f3a\"], [0.8888888888888888, \"#fdca26\"], [1.0, \"#f0f921\"]], \"type\": \"surface\"}], \"table\": [{\"cells\": {\"fill\": {\"color\": \"#EBF0F8\"}, \"line\": {\"color\": \"white\"}}, \"header\": {\"fill\": {\"color\": \"#C8D4E3\"}, \"line\": {\"color\": \"white\"}}, \"type\": \"table\"}]}, \"layout\": {\"annotationdefaults\": {\"arrowcolor\": \"#2a3f5f\", \"arrowhead\": 0, \"arrowwidth\": 1}, \"coloraxis\": {\"colorbar\": {\"outlinewidth\": 0, \"ticks\": \"\"}}, \"colorscale\": {\"diverging\": [[0, \"#8e0152\"], [0.1, \"#c51b7d\"], [0.2, \"#de77ae\"], [0.3, \"#f1b6da\"], [0.4, \"#fde0ef\"], [0.5, \"#f7f7f7\"], [0.6, \"#e6f5d0\"], [0.7, \"#b8e186\"], [0.8, \"#7fbc41\"], [0.9, \"#4d9221\"], [1, \"#276419\"]], \"sequential\": [[0.0, \"#0d0887\"], [0.1111111111111111, \"#46039f\"], [0.2222222222222222, \"#7201a8\"], [0.3333333333333333, \"#9c179e\"], [0.4444444444444444, \"#bd3786\"], [0.5555555555555556, \"#d8576b\"], [0.6666666666666666, \"#ed7953\"], [0.7777777777777778, \"#fb9f3a\"], [0.8888888888888888, \"#fdca26\"], [1.0, \"#f0f921\"]], \"sequentialminus\": [[0.0, \"#0d0887\"], [0.1111111111111111, \"#46039f\"], [0.2222222222222222, \"#7201a8\"], [0.3333333333333333, \"#9c179e\"], [0.4444444444444444, \"#bd3786\"], [0.5555555555555556, \"#d8576b\"], [0.6666666666666666, \"#ed7953\"], [0.7777777777777778, \"#fb9f3a\"], [0.8888888888888888, \"#fdca26\"], [1.0, \"#f0f921\"]]}, \"colorway\": [\"#636efa\", \"#EF553B\", \"#00cc96\", \"#ab63fa\", \"#FFA15A\", \"#19d3f3\", \"#FF6692\", \"#B6E880\", \"#FF97FF\", \"#FECB52\"], \"font\": {\"color\": \"#2a3f5f\"}, \"geo\": {\"bgcolor\": \"white\", \"lakecolor\": \"white\", \"landcolor\": \"#E5ECF6\", \"showlakes\": true, \"showland\": true, \"subunitcolor\": \"white\"}, \"hoverlabel\": {\"align\": \"left\"}, \"hovermode\": \"closest\", \"mapbox\": {\"style\": \"light\"}, \"paper_bgcolor\": \"white\", \"plot_bgcolor\": \"#E5ECF6\", \"polar\": {\"angularaxis\": {\"gridcolor\": \"white\", \"linecolor\": \"white\", \"ticks\": \"\"}, \"bgcolor\": \"#E5ECF6\", \"radialaxis\": {\"gridcolor\": \"white\", \"linecolor\": \"white\", \"ticks\": \"\"}}, \"scene\": {\"xaxis\": {\"backgroundcolor\": \"#E5ECF6\", \"gridcolor\": \"white\", \"gridwidth\": 2, \"linecolor\": \"white\", \"showbackground\": true, \"ticks\": \"\", \"zerolinecolor\": \"white\"}, \"yaxis\": {\"backgroundcolor\": \"#E5ECF6\", \"gridcolor\": \"white\", \"gridwidth\": 2, \"linecolor\": \"white\", \"showbackground\": true, \"ticks\": \"\", \"zerolinecolor\": \"white\"}, \"zaxis\": {\"backgroundcolor\": \"#E5ECF6\", \"gridcolor\": \"white\", \"gridwidth\": 2, \"linecolor\": \"white\", \"showbackground\": true, \"ticks\": \"\", \"zerolinecolor\": \"white\"}}, \"shapedefaults\": {\"line\": {\"color\": \"#2a3f5f\"}}, \"ternary\": {\"aaxis\": {\"gridcolor\": \"white\", \"linecolor\": \"white\", \"ticks\": \"\"}, \"baxis\": {\"gridcolor\": \"white\", \"linecolor\": \"white\", \"ticks\": \"\"}, \"bgcolor\": \"#E5ECF6\", \"caxis\": {\"gridcolor\": \"white\", \"linecolor\": \"white\", \"ticks\": \"\"}}, \"title\": {\"x\": 0.05}, \"xaxis\": {\"automargin\": true, \"gridcolor\": \"white\", \"linecolor\": \"white\", \"ticks\": \"\", \"title\": {\"standoff\": 15}, \"zerolinecolor\": \"white\", \"zerolinewidth\": 2}, \"yaxis\": {\"automargin\": true, \"gridcolor\": \"white\", \"linecolor\": \"white\", \"ticks\": \"\", \"title\": {\"standoff\": 15}, \"zerolinecolor\": \"white\", \"zerolinewidth\": 2}}}, \"title\": {\"text\": \"Creating fig from dictionary\"}},\n",
       "                        {\"responsive\": true}\n",
       "                    ).then(function(){\n",
       "                            \n",
       "var gd = document.getElementById('6b514454-a698-45af-819b-ca43bba15042');\n",
       "var x = new MutationObserver(function (mutations, observer) {{\n",
       "        var display = window.getComputedStyle(gd).display;\n",
       "        if (!display || display === 'none') {{\n",
       "            console.log([gd, 'removed!']);\n",
       "            Plotly.purge(gd);\n",
       "            observer.disconnect();\n",
       "        }}\n",
       "}});\n",
       "\n",
       "// Listen for the removal of the full notebook cells\n",
       "var notebookContainer = gd.closest('#notebook-container');\n",
       "if (notebookContainer) {{\n",
       "    x.observe(notebookContainer, {childList: true});\n",
       "}}\n",
       "\n",
       "// Listen for the clearing of the current output cell\n",
       "var outputEl = gd.closest('.output');\n",
       "if (outputEl) {{\n",
       "    x.observe(outputEl, {childList: true});\n",
       "}}\n",
       "\n",
       "                        })\n",
       "                };\n",
       "                });\n",
       "            </script>\n",
       "        </div>"
      ]
     },
     "metadata": {},
     "output_type": "display_data"
    }
   ],
   "source": [
    "fig = {'data': [ {'type':'bar' ,   # Data consists of list of dictionaries, each of the dict is called as TRACE \n",
    "                 'y':[1,2,3,4] ,\n",
    "                 'x':['A', 'C', 'E', 'W']  } ] ,\n",
    "       \n",
    "       'layout':{'title': 'Creating fig from dictionary'}       \n",
    "    \n",
    "    }\n",
    "pio.show(fig)"
   ]
  },
  {
   "cell_type": "markdown",
   "metadata": {},
   "source": [
    "Insted of creating a dictionary we can make a plotly figure object and plot the chart"
   ]
  },
  {
   "cell_type": "code",
   "execution_count": 40,
   "metadata": {},
   "outputs": [
    {
     "data": {
      "application/vnd.plotly.v1+json": {
       "config": {
        "plotlyServerURL": "https://plot.ly"
       },
       "data": [
        {
         "type": "bar",
         "x": [
          "a",
          "b",
          "c"
         ],
         "y": [
          1,
          2,
          3
         ]
        }
       ],
       "layout": {
        "template": {
         "data": {
          "bar": [
           {
            "error_x": {
             "color": "#2a3f5f"
            },
            "error_y": {
             "color": "#2a3f5f"
            },
            "marker": {
             "line": {
              "color": "#E5ECF6",
              "width": 0.5
             }
            },
            "type": "bar"
           }
          ],
          "barpolar": [
           {
            "marker": {
             "line": {
              "color": "#E5ECF6",
              "width": 0.5
             }
            },
            "type": "barpolar"
           }
          ],
          "carpet": [
           {
            "aaxis": {
             "endlinecolor": "#2a3f5f",
             "gridcolor": "white",
             "linecolor": "white",
             "minorgridcolor": "white",
             "startlinecolor": "#2a3f5f"
            },
            "baxis": {
             "endlinecolor": "#2a3f5f",
             "gridcolor": "white",
             "linecolor": "white",
             "minorgridcolor": "white",
             "startlinecolor": "#2a3f5f"
            },
            "type": "carpet"
           }
          ],
          "choropleth": [
           {
            "colorbar": {
             "outlinewidth": 0,
             "ticks": ""
            },
            "type": "choropleth"
           }
          ],
          "contour": [
           {
            "colorbar": {
             "outlinewidth": 0,
             "ticks": ""
            },
            "colorscale": [
             [
              0,
              "#0d0887"
             ],
             [
              0.1111111111111111,
              "#46039f"
             ],
             [
              0.2222222222222222,
              "#7201a8"
             ],
             [
              0.3333333333333333,
              "#9c179e"
             ],
             [
              0.4444444444444444,
              "#bd3786"
             ],
             [
              0.5555555555555556,
              "#d8576b"
             ],
             [
              0.6666666666666666,
              "#ed7953"
             ],
             [
              0.7777777777777778,
              "#fb9f3a"
             ],
             [
              0.8888888888888888,
              "#fdca26"
             ],
             [
              1,
              "#f0f921"
             ]
            ],
            "type": "contour"
           }
          ],
          "contourcarpet": [
           {
            "colorbar": {
             "outlinewidth": 0,
             "ticks": ""
            },
            "type": "contourcarpet"
           }
          ],
          "heatmap": [
           {
            "colorbar": {
             "outlinewidth": 0,
             "ticks": ""
            },
            "colorscale": [
             [
              0,
              "#0d0887"
             ],
             [
              0.1111111111111111,
              "#46039f"
             ],
             [
              0.2222222222222222,
              "#7201a8"
             ],
             [
              0.3333333333333333,
              "#9c179e"
             ],
             [
              0.4444444444444444,
              "#bd3786"
             ],
             [
              0.5555555555555556,
              "#d8576b"
             ],
             [
              0.6666666666666666,
              "#ed7953"
             ],
             [
              0.7777777777777778,
              "#fb9f3a"
             ],
             [
              0.8888888888888888,
              "#fdca26"
             ],
             [
              1,
              "#f0f921"
             ]
            ],
            "type": "heatmap"
           }
          ],
          "heatmapgl": [
           {
            "colorbar": {
             "outlinewidth": 0,
             "ticks": ""
            },
            "colorscale": [
             [
              0,
              "#0d0887"
             ],
             [
              0.1111111111111111,
              "#46039f"
             ],
             [
              0.2222222222222222,
              "#7201a8"
             ],
             [
              0.3333333333333333,
              "#9c179e"
             ],
             [
              0.4444444444444444,
              "#bd3786"
             ],
             [
              0.5555555555555556,
              "#d8576b"
             ],
             [
              0.6666666666666666,
              "#ed7953"
             ],
             [
              0.7777777777777778,
              "#fb9f3a"
             ],
             [
              0.8888888888888888,
              "#fdca26"
             ],
             [
              1,
              "#f0f921"
             ]
            ],
            "type": "heatmapgl"
           }
          ],
          "histogram": [
           {
            "marker": {
             "colorbar": {
              "outlinewidth": 0,
              "ticks": ""
             }
            },
            "type": "histogram"
           }
          ],
          "histogram2d": [
           {
            "colorbar": {
             "outlinewidth": 0,
             "ticks": ""
            },
            "colorscale": [
             [
              0,
              "#0d0887"
             ],
             [
              0.1111111111111111,
              "#46039f"
             ],
             [
              0.2222222222222222,
              "#7201a8"
             ],
             [
              0.3333333333333333,
              "#9c179e"
             ],
             [
              0.4444444444444444,
              "#bd3786"
             ],
             [
              0.5555555555555556,
              "#d8576b"
             ],
             [
              0.6666666666666666,
              "#ed7953"
             ],
             [
              0.7777777777777778,
              "#fb9f3a"
             ],
             [
              0.8888888888888888,
              "#fdca26"
             ],
             [
              1,
              "#f0f921"
             ]
            ],
            "type": "histogram2d"
           }
          ],
          "histogram2dcontour": [
           {
            "colorbar": {
             "outlinewidth": 0,
             "ticks": ""
            },
            "colorscale": [
             [
              0,
              "#0d0887"
             ],
             [
              0.1111111111111111,
              "#46039f"
             ],
             [
              0.2222222222222222,
              "#7201a8"
             ],
             [
              0.3333333333333333,
              "#9c179e"
             ],
             [
              0.4444444444444444,
              "#bd3786"
             ],
             [
              0.5555555555555556,
              "#d8576b"
             ],
             [
              0.6666666666666666,
              "#ed7953"
             ],
             [
              0.7777777777777778,
              "#fb9f3a"
             ],
             [
              0.8888888888888888,
              "#fdca26"
             ],
             [
              1,
              "#f0f921"
             ]
            ],
            "type": "histogram2dcontour"
           }
          ],
          "mesh3d": [
           {
            "colorbar": {
             "outlinewidth": 0,
             "ticks": ""
            },
            "type": "mesh3d"
           }
          ],
          "parcoords": [
           {
            "line": {
             "colorbar": {
              "outlinewidth": 0,
              "ticks": ""
             }
            },
            "type": "parcoords"
           }
          ],
          "pie": [
           {
            "automargin": true,
            "type": "pie"
           }
          ],
          "scatter": [
           {
            "marker": {
             "colorbar": {
              "outlinewidth": 0,
              "ticks": ""
             }
            },
            "type": "scatter"
           }
          ],
          "scatter3d": [
           {
            "line": {
             "colorbar": {
              "outlinewidth": 0,
              "ticks": ""
             }
            },
            "marker": {
             "colorbar": {
              "outlinewidth": 0,
              "ticks": ""
             }
            },
            "type": "scatter3d"
           }
          ],
          "scattercarpet": [
           {
            "marker": {
             "colorbar": {
              "outlinewidth": 0,
              "ticks": ""
             }
            },
            "type": "scattercarpet"
           }
          ],
          "scattergeo": [
           {
            "marker": {
             "colorbar": {
              "outlinewidth": 0,
              "ticks": ""
             }
            },
            "type": "scattergeo"
           }
          ],
          "scattergl": [
           {
            "marker": {
             "colorbar": {
              "outlinewidth": 0,
              "ticks": ""
             }
            },
            "type": "scattergl"
           }
          ],
          "scattermapbox": [
           {
            "marker": {
             "colorbar": {
              "outlinewidth": 0,
              "ticks": ""
             }
            },
            "type": "scattermapbox"
           }
          ],
          "scatterpolar": [
           {
            "marker": {
             "colorbar": {
              "outlinewidth": 0,
              "ticks": ""
             }
            },
            "type": "scatterpolar"
           }
          ],
          "scatterpolargl": [
           {
            "marker": {
             "colorbar": {
              "outlinewidth": 0,
              "ticks": ""
             }
            },
            "type": "scatterpolargl"
           }
          ],
          "scatterternary": [
           {
            "marker": {
             "colorbar": {
              "outlinewidth": 0,
              "ticks": ""
             }
            },
            "type": "scatterternary"
           }
          ],
          "surface": [
           {
            "colorbar": {
             "outlinewidth": 0,
             "ticks": ""
            },
            "colorscale": [
             [
              0,
              "#0d0887"
             ],
             [
              0.1111111111111111,
              "#46039f"
             ],
             [
              0.2222222222222222,
              "#7201a8"
             ],
             [
              0.3333333333333333,
              "#9c179e"
             ],
             [
              0.4444444444444444,
              "#bd3786"
             ],
             [
              0.5555555555555556,
              "#d8576b"
             ],
             [
              0.6666666666666666,
              "#ed7953"
             ],
             [
              0.7777777777777778,
              "#fb9f3a"
             ],
             [
              0.8888888888888888,
              "#fdca26"
             ],
             [
              1,
              "#f0f921"
             ]
            ],
            "type": "surface"
           }
          ],
          "table": [
           {
            "cells": {
             "fill": {
              "color": "#EBF0F8"
             },
             "line": {
              "color": "white"
             }
            },
            "header": {
             "fill": {
              "color": "#C8D4E3"
             },
             "line": {
              "color": "white"
             }
            },
            "type": "table"
           }
          ]
         },
         "layout": {
          "annotationdefaults": {
           "arrowcolor": "#2a3f5f",
           "arrowhead": 0,
           "arrowwidth": 1
          },
          "coloraxis": {
           "colorbar": {
            "outlinewidth": 0,
            "ticks": ""
           }
          },
          "colorscale": {
           "diverging": [
            [
             0,
             "#8e0152"
            ],
            [
             0.1,
             "#c51b7d"
            ],
            [
             0.2,
             "#de77ae"
            ],
            [
             0.3,
             "#f1b6da"
            ],
            [
             0.4,
             "#fde0ef"
            ],
            [
             0.5,
             "#f7f7f7"
            ],
            [
             0.6,
             "#e6f5d0"
            ],
            [
             0.7,
             "#b8e186"
            ],
            [
             0.8,
             "#7fbc41"
            ],
            [
             0.9,
             "#4d9221"
            ],
            [
             1,
             "#276419"
            ]
           ],
           "sequential": [
            [
             0,
             "#0d0887"
            ],
            [
             0.1111111111111111,
             "#46039f"
            ],
            [
             0.2222222222222222,
             "#7201a8"
            ],
            [
             0.3333333333333333,
             "#9c179e"
            ],
            [
             0.4444444444444444,
             "#bd3786"
            ],
            [
             0.5555555555555556,
             "#d8576b"
            ],
            [
             0.6666666666666666,
             "#ed7953"
            ],
            [
             0.7777777777777778,
             "#fb9f3a"
            ],
            [
             0.8888888888888888,
             "#fdca26"
            ],
            [
             1,
             "#f0f921"
            ]
           ],
           "sequentialminus": [
            [
             0,
             "#0d0887"
            ],
            [
             0.1111111111111111,
             "#46039f"
            ],
            [
             0.2222222222222222,
             "#7201a8"
            ],
            [
             0.3333333333333333,
             "#9c179e"
            ],
            [
             0.4444444444444444,
             "#bd3786"
            ],
            [
             0.5555555555555556,
             "#d8576b"
            ],
            [
             0.6666666666666666,
             "#ed7953"
            ],
            [
             0.7777777777777778,
             "#fb9f3a"
            ],
            [
             0.8888888888888888,
             "#fdca26"
            ],
            [
             1,
             "#f0f921"
            ]
           ]
          },
          "colorway": [
           "#636efa",
           "#EF553B",
           "#00cc96",
           "#ab63fa",
           "#FFA15A",
           "#19d3f3",
           "#FF6692",
           "#B6E880",
           "#FF97FF",
           "#FECB52"
          ],
          "font": {
           "color": "#2a3f5f"
          },
          "geo": {
           "bgcolor": "white",
           "lakecolor": "white",
           "landcolor": "#E5ECF6",
           "showlakes": true,
           "showland": true,
           "subunitcolor": "white"
          },
          "hoverlabel": {
           "align": "left"
          },
          "hovermode": "closest",
          "mapbox": {
           "style": "light"
          },
          "paper_bgcolor": "white",
          "plot_bgcolor": "#E5ECF6",
          "polar": {
           "angularaxis": {
            "gridcolor": "white",
            "linecolor": "white",
            "ticks": ""
           },
           "bgcolor": "#E5ECF6",
           "radialaxis": {
            "gridcolor": "white",
            "linecolor": "white",
            "ticks": ""
           }
          },
          "scene": {
           "xaxis": {
            "backgroundcolor": "#E5ECF6",
            "gridcolor": "white",
            "gridwidth": 2,
            "linecolor": "white",
            "showbackground": true,
            "ticks": "",
            "zerolinecolor": "white"
           },
           "yaxis": {
            "backgroundcolor": "#E5ECF6",
            "gridcolor": "white",
            "gridwidth": 2,
            "linecolor": "white",
            "showbackground": true,
            "ticks": "",
            "zerolinecolor": "white"
           },
           "zaxis": {
            "backgroundcolor": "#E5ECF6",
            "gridcolor": "white",
            "gridwidth": 2,
            "linecolor": "white",
            "showbackground": true,
            "ticks": "",
            "zerolinecolor": "white"
           }
          },
          "shapedefaults": {
           "line": {
            "color": "#2a3f5f"
           }
          },
          "ternary": {
           "aaxis": {
            "gridcolor": "white",
            "linecolor": "white",
            "ticks": ""
           },
           "baxis": {
            "gridcolor": "white",
            "linecolor": "white",
            "ticks": ""
           },
           "bgcolor": "#E5ECF6",
           "caxis": {
            "gridcolor": "white",
            "linecolor": "white",
            "ticks": ""
           }
          },
          "title": {
           "x": 0.05
          },
          "xaxis": {
           "automargin": true,
           "gridcolor": "white",
           "linecolor": "white",
           "ticks": "",
           "title": {
            "standoff": 15
           },
           "zerolinecolor": "white",
           "zerolinewidth": 2
          },
          "yaxis": {
           "automargin": true,
           "gridcolor": "white",
           "linecolor": "white",
           "ticks": "",
           "title": {
            "standoff": 15
           },
           "zerolinecolor": "white",
           "zerolinewidth": 2
          }
         }
        },
        "title": {
         "text": "Figure instance "
        }
       }
      },
      "text/html": [
       "<div>\n",
       "        \n",
       "        \n",
       "            <div id=\"ea0464aa-0107-4a45-b578-e2202859053a\" class=\"plotly-graph-div\" style=\"height:525px; width:100%;\"></div>\n",
       "            <script type=\"text/javascript\">\n",
       "                require([\"plotly\"], function(Plotly) {\n",
       "                    window.PLOTLYENV=window.PLOTLYENV || {};\n",
       "                    \n",
       "                if (document.getElementById(\"ea0464aa-0107-4a45-b578-e2202859053a\")) {\n",
       "                    Plotly.newPlot(\n",
       "                        'ea0464aa-0107-4a45-b578-e2202859053a',\n",
       "                        [{\"type\": \"bar\", \"x\": [\"a\", \"b\", \"c\"], \"y\": [1, 2, 3]}],\n",
       "                        {\"template\": {\"data\": {\"bar\": [{\"error_x\": {\"color\": \"#2a3f5f\"}, \"error_y\": {\"color\": \"#2a3f5f\"}, \"marker\": {\"line\": {\"color\": \"#E5ECF6\", \"width\": 0.5}}, \"type\": \"bar\"}], \"barpolar\": [{\"marker\": {\"line\": {\"color\": \"#E5ECF6\", \"width\": 0.5}}, \"type\": \"barpolar\"}], \"carpet\": [{\"aaxis\": {\"endlinecolor\": \"#2a3f5f\", \"gridcolor\": \"white\", \"linecolor\": \"white\", \"minorgridcolor\": \"white\", \"startlinecolor\": \"#2a3f5f\"}, \"baxis\": {\"endlinecolor\": \"#2a3f5f\", \"gridcolor\": \"white\", \"linecolor\": \"white\", \"minorgridcolor\": \"white\", \"startlinecolor\": \"#2a3f5f\"}, \"type\": \"carpet\"}], \"choropleth\": [{\"colorbar\": {\"outlinewidth\": 0, \"ticks\": \"\"}, \"type\": \"choropleth\"}], \"contour\": [{\"colorbar\": {\"outlinewidth\": 0, \"ticks\": \"\"}, \"colorscale\": [[0.0, \"#0d0887\"], [0.1111111111111111, \"#46039f\"], [0.2222222222222222, \"#7201a8\"], [0.3333333333333333, \"#9c179e\"], [0.4444444444444444, \"#bd3786\"], [0.5555555555555556, \"#d8576b\"], [0.6666666666666666, \"#ed7953\"], [0.7777777777777778, \"#fb9f3a\"], [0.8888888888888888, \"#fdca26\"], [1.0, \"#f0f921\"]], \"type\": \"contour\"}], \"contourcarpet\": [{\"colorbar\": {\"outlinewidth\": 0, \"ticks\": \"\"}, \"type\": \"contourcarpet\"}], \"heatmap\": [{\"colorbar\": {\"outlinewidth\": 0, \"ticks\": \"\"}, \"colorscale\": [[0.0, \"#0d0887\"], [0.1111111111111111, \"#46039f\"], [0.2222222222222222, \"#7201a8\"], [0.3333333333333333, \"#9c179e\"], [0.4444444444444444, \"#bd3786\"], [0.5555555555555556, \"#d8576b\"], [0.6666666666666666, \"#ed7953\"], [0.7777777777777778, \"#fb9f3a\"], [0.8888888888888888, \"#fdca26\"], [1.0, \"#f0f921\"]], \"type\": \"heatmap\"}], \"heatmapgl\": [{\"colorbar\": {\"outlinewidth\": 0, \"ticks\": \"\"}, \"colorscale\": [[0.0, \"#0d0887\"], [0.1111111111111111, \"#46039f\"], [0.2222222222222222, \"#7201a8\"], [0.3333333333333333, \"#9c179e\"], [0.4444444444444444, \"#bd3786\"], [0.5555555555555556, \"#d8576b\"], [0.6666666666666666, \"#ed7953\"], [0.7777777777777778, \"#fb9f3a\"], [0.8888888888888888, \"#fdca26\"], [1.0, \"#f0f921\"]], \"type\": \"heatmapgl\"}], \"histogram\": [{\"marker\": {\"colorbar\": {\"outlinewidth\": 0, \"ticks\": \"\"}}, \"type\": \"histogram\"}], \"histogram2d\": [{\"colorbar\": {\"outlinewidth\": 0, \"ticks\": \"\"}, \"colorscale\": [[0.0, \"#0d0887\"], [0.1111111111111111, \"#46039f\"], [0.2222222222222222, \"#7201a8\"], [0.3333333333333333, \"#9c179e\"], [0.4444444444444444, \"#bd3786\"], [0.5555555555555556, \"#d8576b\"], [0.6666666666666666, \"#ed7953\"], [0.7777777777777778, \"#fb9f3a\"], [0.8888888888888888, \"#fdca26\"], [1.0, \"#f0f921\"]], \"type\": \"histogram2d\"}], \"histogram2dcontour\": [{\"colorbar\": {\"outlinewidth\": 0, \"ticks\": \"\"}, \"colorscale\": [[0.0, \"#0d0887\"], [0.1111111111111111, \"#46039f\"], [0.2222222222222222, \"#7201a8\"], [0.3333333333333333, \"#9c179e\"], [0.4444444444444444, \"#bd3786\"], [0.5555555555555556, \"#d8576b\"], [0.6666666666666666, \"#ed7953\"], [0.7777777777777778, \"#fb9f3a\"], [0.8888888888888888, \"#fdca26\"], [1.0, \"#f0f921\"]], \"type\": \"histogram2dcontour\"}], \"mesh3d\": [{\"colorbar\": {\"outlinewidth\": 0, \"ticks\": \"\"}, \"type\": \"mesh3d\"}], \"parcoords\": [{\"line\": {\"colorbar\": {\"outlinewidth\": 0, \"ticks\": \"\"}}, \"type\": \"parcoords\"}], \"pie\": [{\"automargin\": true, \"type\": \"pie\"}], \"scatter\": [{\"marker\": {\"colorbar\": {\"outlinewidth\": 0, \"ticks\": \"\"}}, \"type\": \"scatter\"}], \"scatter3d\": [{\"line\": {\"colorbar\": {\"outlinewidth\": 0, \"ticks\": \"\"}}, \"marker\": {\"colorbar\": {\"outlinewidth\": 0, \"ticks\": \"\"}}, \"type\": \"scatter3d\"}], \"scattercarpet\": [{\"marker\": {\"colorbar\": {\"outlinewidth\": 0, \"ticks\": \"\"}}, \"type\": \"scattercarpet\"}], \"scattergeo\": [{\"marker\": {\"colorbar\": {\"outlinewidth\": 0, \"ticks\": \"\"}}, \"type\": \"scattergeo\"}], \"scattergl\": [{\"marker\": {\"colorbar\": {\"outlinewidth\": 0, \"ticks\": \"\"}}, \"type\": \"scattergl\"}], \"scattermapbox\": [{\"marker\": {\"colorbar\": {\"outlinewidth\": 0, \"ticks\": \"\"}}, \"type\": \"scattermapbox\"}], \"scatterpolar\": [{\"marker\": {\"colorbar\": {\"outlinewidth\": 0, \"ticks\": \"\"}}, \"type\": \"scatterpolar\"}], \"scatterpolargl\": [{\"marker\": {\"colorbar\": {\"outlinewidth\": 0, \"ticks\": \"\"}}, \"type\": \"scatterpolargl\"}], \"scatterternary\": [{\"marker\": {\"colorbar\": {\"outlinewidth\": 0, \"ticks\": \"\"}}, \"type\": \"scatterternary\"}], \"surface\": [{\"colorbar\": {\"outlinewidth\": 0, \"ticks\": \"\"}, \"colorscale\": [[0.0, \"#0d0887\"], [0.1111111111111111, \"#46039f\"], [0.2222222222222222, \"#7201a8\"], [0.3333333333333333, \"#9c179e\"], [0.4444444444444444, \"#bd3786\"], [0.5555555555555556, \"#d8576b\"], [0.6666666666666666, \"#ed7953\"], [0.7777777777777778, \"#fb9f3a\"], [0.8888888888888888, \"#fdca26\"], [1.0, \"#f0f921\"]], \"type\": \"surface\"}], \"table\": [{\"cells\": {\"fill\": {\"color\": \"#EBF0F8\"}, \"line\": {\"color\": \"white\"}}, \"header\": {\"fill\": {\"color\": \"#C8D4E3\"}, \"line\": {\"color\": \"white\"}}, \"type\": \"table\"}]}, \"layout\": {\"annotationdefaults\": {\"arrowcolor\": \"#2a3f5f\", \"arrowhead\": 0, \"arrowwidth\": 1}, \"coloraxis\": {\"colorbar\": {\"outlinewidth\": 0, \"ticks\": \"\"}}, \"colorscale\": {\"diverging\": [[0, \"#8e0152\"], [0.1, \"#c51b7d\"], [0.2, \"#de77ae\"], [0.3, \"#f1b6da\"], [0.4, \"#fde0ef\"], [0.5, \"#f7f7f7\"], [0.6, \"#e6f5d0\"], [0.7, \"#b8e186\"], [0.8, \"#7fbc41\"], [0.9, \"#4d9221\"], [1, \"#276419\"]], \"sequential\": [[0.0, \"#0d0887\"], [0.1111111111111111, \"#46039f\"], [0.2222222222222222, \"#7201a8\"], [0.3333333333333333, \"#9c179e\"], [0.4444444444444444, \"#bd3786\"], [0.5555555555555556, \"#d8576b\"], [0.6666666666666666, \"#ed7953\"], [0.7777777777777778, \"#fb9f3a\"], [0.8888888888888888, \"#fdca26\"], [1.0, \"#f0f921\"]], \"sequentialminus\": [[0.0, \"#0d0887\"], [0.1111111111111111, \"#46039f\"], [0.2222222222222222, \"#7201a8\"], [0.3333333333333333, \"#9c179e\"], [0.4444444444444444, \"#bd3786\"], [0.5555555555555556, \"#d8576b\"], [0.6666666666666666, \"#ed7953\"], [0.7777777777777778, \"#fb9f3a\"], [0.8888888888888888, \"#fdca26\"], [1.0, \"#f0f921\"]]}, \"colorway\": [\"#636efa\", \"#EF553B\", \"#00cc96\", \"#ab63fa\", \"#FFA15A\", \"#19d3f3\", \"#FF6692\", \"#B6E880\", \"#FF97FF\", \"#FECB52\"], \"font\": {\"color\": \"#2a3f5f\"}, \"geo\": {\"bgcolor\": \"white\", \"lakecolor\": \"white\", \"landcolor\": \"#E5ECF6\", \"showlakes\": true, \"showland\": true, \"subunitcolor\": \"white\"}, \"hoverlabel\": {\"align\": \"left\"}, \"hovermode\": \"closest\", \"mapbox\": {\"style\": \"light\"}, \"paper_bgcolor\": \"white\", \"plot_bgcolor\": \"#E5ECF6\", \"polar\": {\"angularaxis\": {\"gridcolor\": \"white\", \"linecolor\": \"white\", \"ticks\": \"\"}, \"bgcolor\": \"#E5ECF6\", \"radialaxis\": {\"gridcolor\": \"white\", \"linecolor\": \"white\", \"ticks\": \"\"}}, \"scene\": {\"xaxis\": {\"backgroundcolor\": \"#E5ECF6\", \"gridcolor\": \"white\", \"gridwidth\": 2, \"linecolor\": \"white\", \"showbackground\": true, \"ticks\": \"\", \"zerolinecolor\": \"white\"}, \"yaxis\": {\"backgroundcolor\": \"#E5ECF6\", \"gridcolor\": \"white\", \"gridwidth\": 2, \"linecolor\": \"white\", \"showbackground\": true, \"ticks\": \"\", \"zerolinecolor\": \"white\"}, \"zaxis\": {\"backgroundcolor\": \"#E5ECF6\", \"gridcolor\": \"white\", \"gridwidth\": 2, \"linecolor\": \"white\", \"showbackground\": true, \"ticks\": \"\", \"zerolinecolor\": \"white\"}}, \"shapedefaults\": {\"line\": {\"color\": \"#2a3f5f\"}}, \"ternary\": {\"aaxis\": {\"gridcolor\": \"white\", \"linecolor\": \"white\", \"ticks\": \"\"}, \"baxis\": {\"gridcolor\": \"white\", \"linecolor\": \"white\", \"ticks\": \"\"}, \"bgcolor\": \"#E5ECF6\", \"caxis\": {\"gridcolor\": \"white\", \"linecolor\": \"white\", \"ticks\": \"\"}}, \"title\": {\"x\": 0.05}, \"xaxis\": {\"automargin\": true, \"gridcolor\": \"white\", \"linecolor\": \"white\", \"ticks\": \"\", \"title\": {\"standoff\": 15}, \"zerolinecolor\": \"white\", \"zerolinewidth\": 2}, \"yaxis\": {\"automargin\": true, \"gridcolor\": \"white\", \"linecolor\": \"white\", \"ticks\": \"\", \"title\": {\"standoff\": 15}, \"zerolinecolor\": \"white\", \"zerolinewidth\": 2}}}, \"title\": {\"text\": \"Figure instance \"}},\n",
       "                        {\"responsive\": true}\n",
       "                    ).then(function(){\n",
       "                            \n",
       "var gd = document.getElementById('ea0464aa-0107-4a45-b578-e2202859053a');\n",
       "var x = new MutationObserver(function (mutations, observer) {{\n",
       "        var display = window.getComputedStyle(gd).display;\n",
       "        if (!display || display === 'none') {{\n",
       "            console.log([gd, 'removed!']);\n",
       "            Plotly.purge(gd);\n",
       "            observer.disconnect();\n",
       "        }}\n",
       "}});\n",
       "\n",
       "// Listen for the removal of the full notebook cells\n",
       "var notebookContainer = gd.closest('#notebook-container');\n",
       "if (notebookContainer) {{\n",
       "    x.observe(notebookContainer, {childList: true});\n",
       "}}\n",
       "\n",
       "// Listen for the clearing of the current output cell\n",
       "var outputEl = gd.closest('.output');\n",
       "if (outputEl) {{\n",
       "    x.observe(outputEl, {childList: true});\n",
       "}}\n",
       "\n",
       "                        })\n",
       "                };\n",
       "                });\n",
       "            </script>\n",
       "        </div>"
      ]
     },
     "metadata": {},
     "output_type": "display_data"
    }
   ],
   "source": [
    "fig = go.Figure(data = [go.Bar(x = ['a' , 'b', 'c' ], y = [1,2,3])], \n",
    "                    layout =  go.Layout( title = go.layout.Title(text = 'Figure instance ')) )  # Creating a figure object\n",
    "fig.show()"
   ]
  },
  {
   "cell_type": "code",
   "execution_count": 50,
   "metadata": {},
   "outputs": [
    {
     "data": {
      "application/vnd.plotly.v1+json": {
       "config": {
        "plotlyServerURL": "https://plot.ly"
       },
       "data": [
        {
         "type": "scatter",
         "x": [
          1,
          2,
          3,
          4,
          5,
          6
         ],
         "y": [
          3,
          4,
          5,
          10,
          6,
          7
         ]
        }
       ],
       "layout": {
        "height": 300,
        "template": {
         "data": {
          "bar": [
           {
            "error_x": {
             "color": "#2a3f5f"
            },
            "error_y": {
             "color": "#2a3f5f"
            },
            "marker": {
             "line": {
              "color": "#E5ECF6",
              "width": 0.5
             }
            },
            "type": "bar"
           }
          ],
          "barpolar": [
           {
            "marker": {
             "line": {
              "color": "#E5ECF6",
              "width": 0.5
             }
            },
            "type": "barpolar"
           }
          ],
          "carpet": [
           {
            "aaxis": {
             "endlinecolor": "#2a3f5f",
             "gridcolor": "white",
             "linecolor": "white",
             "minorgridcolor": "white",
             "startlinecolor": "#2a3f5f"
            },
            "baxis": {
             "endlinecolor": "#2a3f5f",
             "gridcolor": "white",
             "linecolor": "white",
             "minorgridcolor": "white",
             "startlinecolor": "#2a3f5f"
            },
            "type": "carpet"
           }
          ],
          "choropleth": [
           {
            "colorbar": {
             "outlinewidth": 0,
             "ticks": ""
            },
            "type": "choropleth"
           }
          ],
          "contour": [
           {
            "colorbar": {
             "outlinewidth": 0,
             "ticks": ""
            },
            "colorscale": [
             [
              0,
              "#0d0887"
             ],
             [
              0.1111111111111111,
              "#46039f"
             ],
             [
              0.2222222222222222,
              "#7201a8"
             ],
             [
              0.3333333333333333,
              "#9c179e"
             ],
             [
              0.4444444444444444,
              "#bd3786"
             ],
             [
              0.5555555555555556,
              "#d8576b"
             ],
             [
              0.6666666666666666,
              "#ed7953"
             ],
             [
              0.7777777777777778,
              "#fb9f3a"
             ],
             [
              0.8888888888888888,
              "#fdca26"
             ],
             [
              1,
              "#f0f921"
             ]
            ],
            "type": "contour"
           }
          ],
          "contourcarpet": [
           {
            "colorbar": {
             "outlinewidth": 0,
             "ticks": ""
            },
            "type": "contourcarpet"
           }
          ],
          "heatmap": [
           {
            "colorbar": {
             "outlinewidth": 0,
             "ticks": ""
            },
            "colorscale": [
             [
              0,
              "#0d0887"
             ],
             [
              0.1111111111111111,
              "#46039f"
             ],
             [
              0.2222222222222222,
              "#7201a8"
             ],
             [
              0.3333333333333333,
              "#9c179e"
             ],
             [
              0.4444444444444444,
              "#bd3786"
             ],
             [
              0.5555555555555556,
              "#d8576b"
             ],
             [
              0.6666666666666666,
              "#ed7953"
             ],
             [
              0.7777777777777778,
              "#fb9f3a"
             ],
             [
              0.8888888888888888,
              "#fdca26"
             ],
             [
              1,
              "#f0f921"
             ]
            ],
            "type": "heatmap"
           }
          ],
          "heatmapgl": [
           {
            "colorbar": {
             "outlinewidth": 0,
             "ticks": ""
            },
            "colorscale": [
             [
              0,
              "#0d0887"
             ],
             [
              0.1111111111111111,
              "#46039f"
             ],
             [
              0.2222222222222222,
              "#7201a8"
             ],
             [
              0.3333333333333333,
              "#9c179e"
             ],
             [
              0.4444444444444444,
              "#bd3786"
             ],
             [
              0.5555555555555556,
              "#d8576b"
             ],
             [
              0.6666666666666666,
              "#ed7953"
             ],
             [
              0.7777777777777778,
              "#fb9f3a"
             ],
             [
              0.8888888888888888,
              "#fdca26"
             ],
             [
              1,
              "#f0f921"
             ]
            ],
            "type": "heatmapgl"
           }
          ],
          "histogram": [
           {
            "marker": {
             "colorbar": {
              "outlinewidth": 0,
              "ticks": ""
             }
            },
            "type": "histogram"
           }
          ],
          "histogram2d": [
           {
            "colorbar": {
             "outlinewidth": 0,
             "ticks": ""
            },
            "colorscale": [
             [
              0,
              "#0d0887"
             ],
             [
              0.1111111111111111,
              "#46039f"
             ],
             [
              0.2222222222222222,
              "#7201a8"
             ],
             [
              0.3333333333333333,
              "#9c179e"
             ],
             [
              0.4444444444444444,
              "#bd3786"
             ],
             [
              0.5555555555555556,
              "#d8576b"
             ],
             [
              0.6666666666666666,
              "#ed7953"
             ],
             [
              0.7777777777777778,
              "#fb9f3a"
             ],
             [
              0.8888888888888888,
              "#fdca26"
             ],
             [
              1,
              "#f0f921"
             ]
            ],
            "type": "histogram2d"
           }
          ],
          "histogram2dcontour": [
           {
            "colorbar": {
             "outlinewidth": 0,
             "ticks": ""
            },
            "colorscale": [
             [
              0,
              "#0d0887"
             ],
             [
              0.1111111111111111,
              "#46039f"
             ],
             [
              0.2222222222222222,
              "#7201a8"
             ],
             [
              0.3333333333333333,
              "#9c179e"
             ],
             [
              0.4444444444444444,
              "#bd3786"
             ],
             [
              0.5555555555555556,
              "#d8576b"
             ],
             [
              0.6666666666666666,
              "#ed7953"
             ],
             [
              0.7777777777777778,
              "#fb9f3a"
             ],
             [
              0.8888888888888888,
              "#fdca26"
             ],
             [
              1,
              "#f0f921"
             ]
            ],
            "type": "histogram2dcontour"
           }
          ],
          "mesh3d": [
           {
            "colorbar": {
             "outlinewidth": 0,
             "ticks": ""
            },
            "type": "mesh3d"
           }
          ],
          "parcoords": [
           {
            "line": {
             "colorbar": {
              "outlinewidth": 0,
              "ticks": ""
             }
            },
            "type": "parcoords"
           }
          ],
          "pie": [
           {
            "automargin": true,
            "type": "pie"
           }
          ],
          "scatter": [
           {
            "marker": {
             "colorbar": {
              "outlinewidth": 0,
              "ticks": ""
             }
            },
            "type": "scatter"
           }
          ],
          "scatter3d": [
           {
            "line": {
             "colorbar": {
              "outlinewidth": 0,
              "ticks": ""
             }
            },
            "marker": {
             "colorbar": {
              "outlinewidth": 0,
              "ticks": ""
             }
            },
            "type": "scatter3d"
           }
          ],
          "scattercarpet": [
           {
            "marker": {
             "colorbar": {
              "outlinewidth": 0,
              "ticks": ""
             }
            },
            "type": "scattercarpet"
           }
          ],
          "scattergeo": [
           {
            "marker": {
             "colorbar": {
              "outlinewidth": 0,
              "ticks": ""
             }
            },
            "type": "scattergeo"
           }
          ],
          "scattergl": [
           {
            "marker": {
             "colorbar": {
              "outlinewidth": 0,
              "ticks": ""
             }
            },
            "type": "scattergl"
           }
          ],
          "scattermapbox": [
           {
            "marker": {
             "colorbar": {
              "outlinewidth": 0,
              "ticks": ""
             }
            },
            "type": "scattermapbox"
           }
          ],
          "scatterpolar": [
           {
            "marker": {
             "colorbar": {
              "outlinewidth": 0,
              "ticks": ""
             }
            },
            "type": "scatterpolar"
           }
          ],
          "scatterpolargl": [
           {
            "marker": {
             "colorbar": {
              "outlinewidth": 0,
              "ticks": ""
             }
            },
            "type": "scatterpolargl"
           }
          ],
          "scatterternary": [
           {
            "marker": {
             "colorbar": {
              "outlinewidth": 0,
              "ticks": ""
             }
            },
            "type": "scatterternary"
           }
          ],
          "surface": [
           {
            "colorbar": {
             "outlinewidth": 0,
             "ticks": ""
            },
            "colorscale": [
             [
              0,
              "#0d0887"
             ],
             [
              0.1111111111111111,
              "#46039f"
             ],
             [
              0.2222222222222222,
              "#7201a8"
             ],
             [
              0.3333333333333333,
              "#9c179e"
             ],
             [
              0.4444444444444444,
              "#bd3786"
             ],
             [
              0.5555555555555556,
              "#d8576b"
             ],
             [
              0.6666666666666666,
              "#ed7953"
             ],
             [
              0.7777777777777778,
              "#fb9f3a"
             ],
             [
              0.8888888888888888,
              "#fdca26"
             ],
             [
              1,
              "#f0f921"
             ]
            ],
            "type": "surface"
           }
          ],
          "table": [
           {
            "cells": {
             "fill": {
              "color": "#EBF0F8"
             },
             "line": {
              "color": "white"
             }
            },
            "header": {
             "fill": {
              "color": "#C8D4E3"
             },
             "line": {
              "color": "white"
             }
            },
            "type": "table"
           }
          ]
         },
         "layout": {
          "annotationdefaults": {
           "arrowcolor": "#2a3f5f",
           "arrowhead": 0,
           "arrowwidth": 1
          },
          "coloraxis": {
           "colorbar": {
            "outlinewidth": 0,
            "ticks": ""
           }
          },
          "colorscale": {
           "diverging": [
            [
             0,
             "#8e0152"
            ],
            [
             0.1,
             "#c51b7d"
            ],
            [
             0.2,
             "#de77ae"
            ],
            [
             0.3,
             "#f1b6da"
            ],
            [
             0.4,
             "#fde0ef"
            ],
            [
             0.5,
             "#f7f7f7"
            ],
            [
             0.6,
             "#e6f5d0"
            ],
            [
             0.7,
             "#b8e186"
            ],
            [
             0.8,
             "#7fbc41"
            ],
            [
             0.9,
             "#4d9221"
            ],
            [
             1,
             "#276419"
            ]
           ],
           "sequential": [
            [
             0,
             "#0d0887"
            ],
            [
             0.1111111111111111,
             "#46039f"
            ],
            [
             0.2222222222222222,
             "#7201a8"
            ],
            [
             0.3333333333333333,
             "#9c179e"
            ],
            [
             0.4444444444444444,
             "#bd3786"
            ],
            [
             0.5555555555555556,
             "#d8576b"
            ],
            [
             0.6666666666666666,
             "#ed7953"
            ],
            [
             0.7777777777777778,
             "#fb9f3a"
            ],
            [
             0.8888888888888888,
             "#fdca26"
            ],
            [
             1,
             "#f0f921"
            ]
           ],
           "sequentialminus": [
            [
             0,
             "#0d0887"
            ],
            [
             0.1111111111111111,
             "#46039f"
            ],
            [
             0.2222222222222222,
             "#7201a8"
            ],
            [
             0.3333333333333333,
             "#9c179e"
            ],
            [
             0.4444444444444444,
             "#bd3786"
            ],
            [
             0.5555555555555556,
             "#d8576b"
            ],
            [
             0.6666666666666666,
             "#ed7953"
            ],
            [
             0.7777777777777778,
             "#fb9f3a"
            ],
            [
             0.8888888888888888,
             "#fdca26"
            ],
            [
             1,
             "#f0f921"
            ]
           ]
          },
          "colorway": [
           "#636efa",
           "#EF553B",
           "#00cc96",
           "#ab63fa",
           "#FFA15A",
           "#19d3f3",
           "#FF6692",
           "#B6E880",
           "#FF97FF",
           "#FECB52"
          ],
          "font": {
           "color": "#2a3f5f"
          },
          "geo": {
           "bgcolor": "white",
           "lakecolor": "white",
           "landcolor": "#E5ECF6",
           "showlakes": true,
           "showland": true,
           "subunitcolor": "white"
          },
          "hoverlabel": {
           "align": "left"
          },
          "hovermode": "closest",
          "mapbox": {
           "style": "light"
          },
          "paper_bgcolor": "white",
          "plot_bgcolor": "#E5ECF6",
          "polar": {
           "angularaxis": {
            "gridcolor": "white",
            "linecolor": "white",
            "ticks": ""
           },
           "bgcolor": "#E5ECF6",
           "radialaxis": {
            "gridcolor": "white",
            "linecolor": "white",
            "ticks": ""
           }
          },
          "scene": {
           "xaxis": {
            "backgroundcolor": "#E5ECF6",
            "gridcolor": "white",
            "gridwidth": 2,
            "linecolor": "white",
            "showbackground": true,
            "ticks": "",
            "zerolinecolor": "white"
           },
           "yaxis": {
            "backgroundcolor": "#E5ECF6",
            "gridcolor": "white",
            "gridwidth": 2,
            "linecolor": "white",
            "showbackground": true,
            "ticks": "",
            "zerolinecolor": "white"
           },
           "zaxis": {
            "backgroundcolor": "#E5ECF6",
            "gridcolor": "white",
            "gridwidth": 2,
            "linecolor": "white",
            "showbackground": true,
            "ticks": "",
            "zerolinecolor": "white"
           }
          },
          "shapedefaults": {
           "line": {
            "color": "#2a3f5f"
           }
          },
          "ternary": {
           "aaxis": {
            "gridcolor": "white",
            "linecolor": "white",
            "ticks": ""
           },
           "baxis": {
            "gridcolor": "white",
            "linecolor": "white",
            "ticks": ""
           },
           "bgcolor": "#E5ECF6",
           "caxis": {
            "gridcolor": "white",
            "linecolor": "white",
            "ticks": ""
           }
          },
          "title": {
           "x": 0.05
          },
          "xaxis": {
           "automargin": true,
           "gridcolor": "white",
           "linecolor": "white",
           "ticks": "",
           "title": {
            "standoff": 15
           },
           "zerolinecolor": "white",
           "zerolinewidth": 2
          },
          "yaxis": {
           "automargin": true,
           "gridcolor": "white",
           "linecolor": "white",
           "ticks": "",
           "title": {
            "standoff": 15
           },
           "zerolinecolor": "white",
           "zerolinewidth": 2
          }
         }
        },
        "title": {
         "text": "using figure instance"
        },
        "width": 500
       }
      },
      "text/html": [
       "<div>\n",
       "        \n",
       "        \n",
       "            <div id=\"b560e74f-3ee1-4511-8363-7863d28e7987\" class=\"plotly-graph-div\" style=\"height:300px; width:500px;\"></div>\n",
       "            <script type=\"text/javascript\">\n",
       "                require([\"plotly\"], function(Plotly) {\n",
       "                    window.PLOTLYENV=window.PLOTLYENV || {};\n",
       "                    \n",
       "                if (document.getElementById(\"b560e74f-3ee1-4511-8363-7863d28e7987\")) {\n",
       "                    Plotly.newPlot(\n",
       "                        'b560e74f-3ee1-4511-8363-7863d28e7987',\n",
       "                        [{\"type\": \"scatter\", \"x\": [1, 2, 3, 4, 5, 6], \"y\": [3, 4, 5, 10, 6, 7]}],\n",
       "                        {\"height\": 300, \"template\": {\"data\": {\"bar\": [{\"error_x\": {\"color\": \"#2a3f5f\"}, \"error_y\": {\"color\": \"#2a3f5f\"}, \"marker\": {\"line\": {\"color\": \"#E5ECF6\", \"width\": 0.5}}, \"type\": \"bar\"}], \"barpolar\": [{\"marker\": {\"line\": {\"color\": \"#E5ECF6\", \"width\": 0.5}}, \"type\": \"barpolar\"}], \"carpet\": [{\"aaxis\": {\"endlinecolor\": \"#2a3f5f\", \"gridcolor\": \"white\", \"linecolor\": \"white\", \"minorgridcolor\": \"white\", \"startlinecolor\": \"#2a3f5f\"}, \"baxis\": {\"endlinecolor\": \"#2a3f5f\", \"gridcolor\": \"white\", \"linecolor\": \"white\", \"minorgridcolor\": \"white\", \"startlinecolor\": \"#2a3f5f\"}, \"type\": \"carpet\"}], \"choropleth\": [{\"colorbar\": {\"outlinewidth\": 0, \"ticks\": \"\"}, \"type\": \"choropleth\"}], \"contour\": [{\"colorbar\": {\"outlinewidth\": 0, \"ticks\": \"\"}, \"colorscale\": [[0.0, \"#0d0887\"], [0.1111111111111111, \"#46039f\"], [0.2222222222222222, \"#7201a8\"], [0.3333333333333333, \"#9c179e\"], [0.4444444444444444, \"#bd3786\"], [0.5555555555555556, \"#d8576b\"], [0.6666666666666666, \"#ed7953\"], [0.7777777777777778, \"#fb9f3a\"], [0.8888888888888888, \"#fdca26\"], [1.0, \"#f0f921\"]], \"type\": \"contour\"}], \"contourcarpet\": [{\"colorbar\": {\"outlinewidth\": 0, \"ticks\": \"\"}, \"type\": \"contourcarpet\"}], \"heatmap\": [{\"colorbar\": {\"outlinewidth\": 0, \"ticks\": \"\"}, \"colorscale\": [[0.0, \"#0d0887\"], [0.1111111111111111, \"#46039f\"], [0.2222222222222222, \"#7201a8\"], [0.3333333333333333, \"#9c179e\"], [0.4444444444444444, \"#bd3786\"], [0.5555555555555556, \"#d8576b\"], [0.6666666666666666, \"#ed7953\"], [0.7777777777777778, \"#fb9f3a\"], [0.8888888888888888, \"#fdca26\"], [1.0, \"#f0f921\"]], \"type\": \"heatmap\"}], \"heatmapgl\": [{\"colorbar\": {\"outlinewidth\": 0, \"ticks\": \"\"}, \"colorscale\": [[0.0, \"#0d0887\"], [0.1111111111111111, \"#46039f\"], [0.2222222222222222, \"#7201a8\"], [0.3333333333333333, \"#9c179e\"], [0.4444444444444444, \"#bd3786\"], [0.5555555555555556, \"#d8576b\"], [0.6666666666666666, \"#ed7953\"], [0.7777777777777778, \"#fb9f3a\"], [0.8888888888888888, \"#fdca26\"], [1.0, \"#f0f921\"]], \"type\": \"heatmapgl\"}], \"histogram\": [{\"marker\": {\"colorbar\": {\"outlinewidth\": 0, \"ticks\": \"\"}}, \"type\": \"histogram\"}], \"histogram2d\": [{\"colorbar\": {\"outlinewidth\": 0, \"ticks\": \"\"}, \"colorscale\": [[0.0, \"#0d0887\"], [0.1111111111111111, \"#46039f\"], [0.2222222222222222, \"#7201a8\"], [0.3333333333333333, \"#9c179e\"], [0.4444444444444444, \"#bd3786\"], [0.5555555555555556, \"#d8576b\"], [0.6666666666666666, \"#ed7953\"], [0.7777777777777778, \"#fb9f3a\"], [0.8888888888888888, \"#fdca26\"], [1.0, \"#f0f921\"]], \"type\": \"histogram2d\"}], \"histogram2dcontour\": [{\"colorbar\": {\"outlinewidth\": 0, \"ticks\": \"\"}, \"colorscale\": [[0.0, \"#0d0887\"], [0.1111111111111111, \"#46039f\"], [0.2222222222222222, \"#7201a8\"], [0.3333333333333333, \"#9c179e\"], [0.4444444444444444, \"#bd3786\"], [0.5555555555555556, \"#d8576b\"], [0.6666666666666666, \"#ed7953\"], [0.7777777777777778, \"#fb9f3a\"], [0.8888888888888888, \"#fdca26\"], [1.0, \"#f0f921\"]], \"type\": \"histogram2dcontour\"}], \"mesh3d\": [{\"colorbar\": {\"outlinewidth\": 0, \"ticks\": \"\"}, \"type\": \"mesh3d\"}], \"parcoords\": [{\"line\": {\"colorbar\": {\"outlinewidth\": 0, \"ticks\": \"\"}}, \"type\": \"parcoords\"}], \"pie\": [{\"automargin\": true, \"type\": \"pie\"}], \"scatter\": [{\"marker\": {\"colorbar\": {\"outlinewidth\": 0, \"ticks\": \"\"}}, \"type\": \"scatter\"}], \"scatter3d\": [{\"line\": {\"colorbar\": {\"outlinewidth\": 0, \"ticks\": \"\"}}, \"marker\": {\"colorbar\": {\"outlinewidth\": 0, \"ticks\": \"\"}}, \"type\": \"scatter3d\"}], \"scattercarpet\": [{\"marker\": {\"colorbar\": {\"outlinewidth\": 0, \"ticks\": \"\"}}, \"type\": \"scattercarpet\"}], \"scattergeo\": [{\"marker\": {\"colorbar\": {\"outlinewidth\": 0, \"ticks\": \"\"}}, \"type\": \"scattergeo\"}], \"scattergl\": [{\"marker\": {\"colorbar\": {\"outlinewidth\": 0, \"ticks\": \"\"}}, \"type\": \"scattergl\"}], \"scattermapbox\": [{\"marker\": {\"colorbar\": {\"outlinewidth\": 0, \"ticks\": \"\"}}, \"type\": \"scattermapbox\"}], \"scatterpolar\": [{\"marker\": {\"colorbar\": {\"outlinewidth\": 0, \"ticks\": \"\"}}, \"type\": \"scatterpolar\"}], \"scatterpolargl\": [{\"marker\": {\"colorbar\": {\"outlinewidth\": 0, \"ticks\": \"\"}}, \"type\": \"scatterpolargl\"}], \"scatterternary\": [{\"marker\": {\"colorbar\": {\"outlinewidth\": 0, \"ticks\": \"\"}}, \"type\": \"scatterternary\"}], \"surface\": [{\"colorbar\": {\"outlinewidth\": 0, \"ticks\": \"\"}, \"colorscale\": [[0.0, \"#0d0887\"], [0.1111111111111111, \"#46039f\"], [0.2222222222222222, \"#7201a8\"], [0.3333333333333333, \"#9c179e\"], [0.4444444444444444, \"#bd3786\"], [0.5555555555555556, \"#d8576b\"], [0.6666666666666666, \"#ed7953\"], [0.7777777777777778, \"#fb9f3a\"], [0.8888888888888888, \"#fdca26\"], [1.0, \"#f0f921\"]], \"type\": \"surface\"}], \"table\": [{\"cells\": {\"fill\": {\"color\": \"#EBF0F8\"}, \"line\": {\"color\": \"white\"}}, \"header\": {\"fill\": {\"color\": \"#C8D4E3\"}, \"line\": {\"color\": \"white\"}}, \"type\": \"table\"}]}, \"layout\": {\"annotationdefaults\": {\"arrowcolor\": \"#2a3f5f\", \"arrowhead\": 0, \"arrowwidth\": 1}, \"coloraxis\": {\"colorbar\": {\"outlinewidth\": 0, \"ticks\": \"\"}}, \"colorscale\": {\"diverging\": [[0, \"#8e0152\"], [0.1, \"#c51b7d\"], [0.2, \"#de77ae\"], [0.3, \"#f1b6da\"], [0.4, \"#fde0ef\"], [0.5, \"#f7f7f7\"], [0.6, \"#e6f5d0\"], [0.7, \"#b8e186\"], [0.8, \"#7fbc41\"], [0.9, \"#4d9221\"], [1, \"#276419\"]], \"sequential\": [[0.0, \"#0d0887\"], [0.1111111111111111, \"#46039f\"], [0.2222222222222222, \"#7201a8\"], [0.3333333333333333, \"#9c179e\"], [0.4444444444444444, \"#bd3786\"], [0.5555555555555556, \"#d8576b\"], [0.6666666666666666, \"#ed7953\"], [0.7777777777777778, \"#fb9f3a\"], [0.8888888888888888, \"#fdca26\"], [1.0, \"#f0f921\"]], \"sequentialminus\": [[0.0, \"#0d0887\"], [0.1111111111111111, \"#46039f\"], [0.2222222222222222, \"#7201a8\"], [0.3333333333333333, \"#9c179e\"], [0.4444444444444444, \"#bd3786\"], [0.5555555555555556, \"#d8576b\"], [0.6666666666666666, \"#ed7953\"], [0.7777777777777778, \"#fb9f3a\"], [0.8888888888888888, \"#fdca26\"], [1.0, \"#f0f921\"]]}, \"colorway\": [\"#636efa\", \"#EF553B\", \"#00cc96\", \"#ab63fa\", \"#FFA15A\", \"#19d3f3\", \"#FF6692\", \"#B6E880\", \"#FF97FF\", \"#FECB52\"], \"font\": {\"color\": \"#2a3f5f\"}, \"geo\": {\"bgcolor\": \"white\", \"lakecolor\": \"white\", \"landcolor\": \"#E5ECF6\", \"showlakes\": true, \"showland\": true, \"subunitcolor\": \"white\"}, \"hoverlabel\": {\"align\": \"left\"}, \"hovermode\": \"closest\", \"mapbox\": {\"style\": \"light\"}, \"paper_bgcolor\": \"white\", \"plot_bgcolor\": \"#E5ECF6\", \"polar\": {\"angularaxis\": {\"gridcolor\": \"white\", \"linecolor\": \"white\", \"ticks\": \"\"}, \"bgcolor\": \"#E5ECF6\", \"radialaxis\": {\"gridcolor\": \"white\", \"linecolor\": \"white\", \"ticks\": \"\"}}, \"scene\": {\"xaxis\": {\"backgroundcolor\": \"#E5ECF6\", \"gridcolor\": \"white\", \"gridwidth\": 2, \"linecolor\": \"white\", \"showbackground\": true, \"ticks\": \"\", \"zerolinecolor\": \"white\"}, \"yaxis\": {\"backgroundcolor\": \"#E5ECF6\", \"gridcolor\": \"white\", \"gridwidth\": 2, \"linecolor\": \"white\", \"showbackground\": true, \"ticks\": \"\", \"zerolinecolor\": \"white\"}, \"zaxis\": {\"backgroundcolor\": \"#E5ECF6\", \"gridcolor\": \"white\", \"gridwidth\": 2, \"linecolor\": \"white\", \"showbackground\": true, \"ticks\": \"\", \"zerolinecolor\": \"white\"}}, \"shapedefaults\": {\"line\": {\"color\": \"#2a3f5f\"}}, \"ternary\": {\"aaxis\": {\"gridcolor\": \"white\", \"linecolor\": \"white\", \"ticks\": \"\"}, \"baxis\": {\"gridcolor\": \"white\", \"linecolor\": \"white\", \"ticks\": \"\"}, \"bgcolor\": \"#E5ECF6\", \"caxis\": {\"gridcolor\": \"white\", \"linecolor\": \"white\", \"ticks\": \"\"}}, \"title\": {\"x\": 0.05}, \"xaxis\": {\"automargin\": true, \"gridcolor\": \"white\", \"linecolor\": \"white\", \"ticks\": \"\", \"title\": {\"standoff\": 15}, \"zerolinecolor\": \"white\", \"zerolinewidth\": 2}, \"yaxis\": {\"automargin\": true, \"gridcolor\": \"white\", \"linecolor\": \"white\", \"ticks\": \"\", \"title\": {\"standoff\": 15}, \"zerolinecolor\": \"white\", \"zerolinewidth\": 2}}}, \"title\": {\"text\": \"using figure instance\"}, \"width\": 500},\n",
       "                        {\"responsive\": true}\n",
       "                    ).then(function(){\n",
       "                            \n",
       "var gd = document.getElementById('b560e74f-3ee1-4511-8363-7863d28e7987');\n",
       "var x = new MutationObserver(function (mutations, observer) {{\n",
       "        var display = window.getComputedStyle(gd).display;\n",
       "        if (!display || display === 'none') {{\n",
       "            console.log([gd, 'removed!']);\n",
       "            Plotly.purge(gd);\n",
       "            observer.disconnect();\n",
       "        }}\n",
       "}});\n",
       "\n",
       "// Listen for the removal of the full notebook cells\n",
       "var notebookContainer = gd.closest('#notebook-container');\n",
       "if (notebookContainer) {{\n",
       "    x.observe(notebookContainer, {childList: true});\n",
       "}}\n",
       "\n",
       "// Listen for the clearing of the current output cell\n",
       "var outputEl = gd.closest('.output');\n",
       "if (outputEl) {{\n",
       "    x.observe(outputEl, {childList: true});\n",
       "}}\n",
       "\n",
       "                        })\n",
       "                };\n",
       "                });\n",
       "            </script>\n",
       "        </div>"
      ]
     },
     "metadata": {},
     "output_type": "display_data"
    }
   ],
   "source": [
    "fig = go.Figure(data = go.Scatter(x = [1,2,3,4,5,6], y = [3,4,5,10,6,7]), \n",
    "               layout = go.Layout( height = 300 , width = 500,\n",
    "                                 title = go.layout.Title(text = 'using figure instance')))\n",
    "fig.show()"
   ]
  },
  {
   "cell_type": "code",
   "execution_count": 60,
   "metadata": {},
   "outputs": [],
   "source": [
    "iris = px.data.iris()"
   ]
  },
  {
   "cell_type": "code",
   "execution_count": 66,
   "metadata": {},
   "outputs": [
    {
     "data": {
      "application/vnd.plotly.v1+json": {
       "config": {
        "plotlyServerURL": "https://plot.ly"
       },
       "data": [
        {
         "hoverlabel": {
          "namelength": 0
         },
         "hovertemplate": "species=setosa<br>sepal_length=%{x}<br>petal_length=%{y}",
         "legendgroup": "species=setosa",
         "marker": {
          "color": "#636efa",
          "symbol": "circle"
         },
         "mode": "markers",
         "name": "species=setosa",
         "showlegend": true,
         "type": "scatter",
         "x": [
          5.1,
          4.9,
          4.7,
          4.6,
          5,
          5.4,
          4.6,
          5,
          4.4,
          4.9,
          5.4,
          4.8,
          4.8,
          4.3,
          5.8,
          5.7,
          5.4,
          5.1,
          5.7,
          5.1,
          5.4,
          5.1,
          4.6,
          5.1,
          4.8,
          5,
          5,
          5.2,
          5.2,
          4.7,
          4.8,
          5.4,
          5.2,
          5.5,
          4.9,
          5,
          5.5,
          4.9,
          4.4,
          5.1,
          5,
          4.5,
          4.4,
          5,
          5.1,
          4.8,
          5.1,
          4.6,
          5.3,
          5
         ],
         "xaxis": "x",
         "y": [
          1.4,
          1.4,
          1.3,
          1.5,
          1.4,
          1.7,
          1.4,
          1.5,
          1.4,
          1.5,
          1.5,
          1.6,
          1.4,
          1.1,
          1.2,
          1.5,
          1.3,
          1.4,
          1.7,
          1.5,
          1.7,
          1.5,
          1,
          1.7,
          1.9,
          1.6,
          1.6,
          1.5,
          1.4,
          1.6,
          1.6,
          1.5,
          1.5,
          1.4,
          1.5,
          1.2,
          1.3,
          1.5,
          1.3,
          1.5,
          1.3,
          1.3,
          1.3,
          1.6,
          1.9,
          1.4,
          1.6,
          1.4,
          1.5,
          1.4
         ],
         "yaxis": "y"
        },
        {
         "hoverlabel": {
          "namelength": 0
         },
         "hovertemplate": "species=versicolor<br>sepal_length=%{x}<br>petal_length=%{y}",
         "legendgroup": "species=versicolor",
         "marker": {
          "color": "#EF553B",
          "symbol": "circle"
         },
         "mode": "markers",
         "name": "species=versicolor",
         "showlegend": true,
         "type": "scatter",
         "x": [
          7,
          6.4,
          6.9,
          5.5,
          6.5,
          5.7,
          6.3,
          4.9,
          6.6,
          5.2,
          5,
          5.9,
          6,
          6.1,
          5.6,
          6.7,
          5.6,
          5.8,
          6.2,
          5.6,
          5.9,
          6.1,
          6.3,
          6.1,
          6.4,
          6.6,
          6.8,
          6.7,
          6,
          5.7,
          5.5,
          5.5,
          5.8,
          6,
          5.4,
          6,
          6.7,
          6.3,
          5.6,
          5.5,
          5.5,
          6.1,
          5.8,
          5,
          5.6,
          5.7,
          5.7,
          6.2,
          5.1,
          5.7
         ],
         "xaxis": "x",
         "y": [
          4.7,
          4.5,
          4.9,
          4,
          4.6,
          4.5,
          4.7,
          3.3,
          4.6,
          3.9,
          3.5,
          4.2,
          4,
          4.7,
          3.6,
          4.4,
          4.5,
          4.1,
          4.5,
          3.9,
          4.8,
          4,
          4.9,
          4.7,
          4.3,
          4.4,
          4.8,
          5,
          4.5,
          3.5,
          3.8,
          3.7,
          3.9,
          5.1,
          4.5,
          4.5,
          4.7,
          4.4,
          4.1,
          4,
          4.4,
          4.6,
          4,
          3.3,
          4.2,
          4.2,
          4.2,
          4.3,
          3,
          4.1
         ],
         "yaxis": "y"
        },
        {
         "hoverlabel": {
          "namelength": 0
         },
         "hovertemplate": "species=virginica<br>sepal_length=%{x}<br>petal_length=%{y}",
         "legendgroup": "species=virginica",
         "marker": {
          "color": "#00cc96",
          "symbol": "circle"
         },
         "mode": "markers",
         "name": "species=virginica",
         "showlegend": true,
         "type": "scatter",
         "x": [
          6.3,
          5.8,
          7.1,
          6.3,
          6.5,
          7.6,
          4.9,
          7.3,
          6.7,
          7.2,
          6.5,
          6.4,
          6.8,
          5.7,
          5.8,
          6.4,
          6.5,
          7.7,
          7.7,
          6,
          6.9,
          5.6,
          7.7,
          6.3,
          6.7,
          7.2,
          6.2,
          6.1,
          6.4,
          7.2,
          7.4,
          7.9,
          6.4,
          6.3,
          6.1,
          7.7,
          6.3,
          6.4,
          6,
          6.9,
          6.7,
          6.9,
          5.8,
          6.8,
          6.7,
          6.7,
          6.3,
          6.5,
          6.2,
          5.9
         ],
         "xaxis": "x",
         "y": [
          6,
          5.1,
          5.9,
          5.6,
          5.8,
          6.6,
          4.5,
          6.3,
          5.8,
          6.1,
          5.1,
          5.3,
          5.5,
          5,
          5.1,
          5.3,
          5.5,
          6.7,
          6.9,
          5,
          5.7,
          4.9,
          6.7,
          4.9,
          5.7,
          6,
          4.8,
          4.9,
          5.6,
          5.8,
          6.1,
          6.4,
          5.6,
          5.1,
          5.6,
          6.1,
          5.6,
          5.5,
          4.8,
          5.4,
          5.6,
          5.1,
          5.1,
          5.9,
          5.7,
          5.2,
          5,
          5.2,
          5.4,
          5.1
         ],
         "yaxis": "y"
        }
       ],
       "layout": {
        "legend": {
         "tracegroupgap": 0
        },
        "template": {
         "data": {
          "bar": [
           {
            "error_x": {
             "color": "#2a3f5f"
            },
            "error_y": {
             "color": "#2a3f5f"
            },
            "marker": {
             "line": {
              "color": "#E5ECF6",
              "width": 0.5
             }
            },
            "type": "bar"
           }
          ],
          "barpolar": [
           {
            "marker": {
             "line": {
              "color": "#E5ECF6",
              "width": 0.5
             }
            },
            "type": "barpolar"
           }
          ],
          "carpet": [
           {
            "aaxis": {
             "endlinecolor": "#2a3f5f",
             "gridcolor": "white",
             "linecolor": "white",
             "minorgridcolor": "white",
             "startlinecolor": "#2a3f5f"
            },
            "baxis": {
             "endlinecolor": "#2a3f5f",
             "gridcolor": "white",
             "linecolor": "white",
             "minorgridcolor": "white",
             "startlinecolor": "#2a3f5f"
            },
            "type": "carpet"
           }
          ],
          "choropleth": [
           {
            "colorbar": {
             "outlinewidth": 0,
             "ticks": ""
            },
            "type": "choropleth"
           }
          ],
          "contour": [
           {
            "colorbar": {
             "outlinewidth": 0,
             "ticks": ""
            },
            "colorscale": [
             [
              0,
              "#0d0887"
             ],
             [
              0.1111111111111111,
              "#46039f"
             ],
             [
              0.2222222222222222,
              "#7201a8"
             ],
             [
              0.3333333333333333,
              "#9c179e"
             ],
             [
              0.4444444444444444,
              "#bd3786"
             ],
             [
              0.5555555555555556,
              "#d8576b"
             ],
             [
              0.6666666666666666,
              "#ed7953"
             ],
             [
              0.7777777777777778,
              "#fb9f3a"
             ],
             [
              0.8888888888888888,
              "#fdca26"
             ],
             [
              1,
              "#f0f921"
             ]
            ],
            "type": "contour"
           }
          ],
          "contourcarpet": [
           {
            "colorbar": {
             "outlinewidth": 0,
             "ticks": ""
            },
            "type": "contourcarpet"
           }
          ],
          "heatmap": [
           {
            "colorbar": {
             "outlinewidth": 0,
             "ticks": ""
            },
            "colorscale": [
             [
              0,
              "#0d0887"
             ],
             [
              0.1111111111111111,
              "#46039f"
             ],
             [
              0.2222222222222222,
              "#7201a8"
             ],
             [
              0.3333333333333333,
              "#9c179e"
             ],
             [
              0.4444444444444444,
              "#bd3786"
             ],
             [
              0.5555555555555556,
              "#d8576b"
             ],
             [
              0.6666666666666666,
              "#ed7953"
             ],
             [
              0.7777777777777778,
              "#fb9f3a"
             ],
             [
              0.8888888888888888,
              "#fdca26"
             ],
             [
              1,
              "#f0f921"
             ]
            ],
            "type": "heatmap"
           }
          ],
          "heatmapgl": [
           {
            "colorbar": {
             "outlinewidth": 0,
             "ticks": ""
            },
            "colorscale": [
             [
              0,
              "#0d0887"
             ],
             [
              0.1111111111111111,
              "#46039f"
             ],
             [
              0.2222222222222222,
              "#7201a8"
             ],
             [
              0.3333333333333333,
              "#9c179e"
             ],
             [
              0.4444444444444444,
              "#bd3786"
             ],
             [
              0.5555555555555556,
              "#d8576b"
             ],
             [
              0.6666666666666666,
              "#ed7953"
             ],
             [
              0.7777777777777778,
              "#fb9f3a"
             ],
             [
              0.8888888888888888,
              "#fdca26"
             ],
             [
              1,
              "#f0f921"
             ]
            ],
            "type": "heatmapgl"
           }
          ],
          "histogram": [
           {
            "marker": {
             "colorbar": {
              "outlinewidth": 0,
              "ticks": ""
             }
            },
            "type": "histogram"
           }
          ],
          "histogram2d": [
           {
            "colorbar": {
             "outlinewidth": 0,
             "ticks": ""
            },
            "colorscale": [
             [
              0,
              "#0d0887"
             ],
             [
              0.1111111111111111,
              "#46039f"
             ],
             [
              0.2222222222222222,
              "#7201a8"
             ],
             [
              0.3333333333333333,
              "#9c179e"
             ],
             [
              0.4444444444444444,
              "#bd3786"
             ],
             [
              0.5555555555555556,
              "#d8576b"
             ],
             [
              0.6666666666666666,
              "#ed7953"
             ],
             [
              0.7777777777777778,
              "#fb9f3a"
             ],
             [
              0.8888888888888888,
              "#fdca26"
             ],
             [
              1,
              "#f0f921"
             ]
            ],
            "type": "histogram2d"
           }
          ],
          "histogram2dcontour": [
           {
            "colorbar": {
             "outlinewidth": 0,
             "ticks": ""
            },
            "colorscale": [
             [
              0,
              "#0d0887"
             ],
             [
              0.1111111111111111,
              "#46039f"
             ],
             [
              0.2222222222222222,
              "#7201a8"
             ],
             [
              0.3333333333333333,
              "#9c179e"
             ],
             [
              0.4444444444444444,
              "#bd3786"
             ],
             [
              0.5555555555555556,
              "#d8576b"
             ],
             [
              0.6666666666666666,
              "#ed7953"
             ],
             [
              0.7777777777777778,
              "#fb9f3a"
             ],
             [
              0.8888888888888888,
              "#fdca26"
             ],
             [
              1,
              "#f0f921"
             ]
            ],
            "type": "histogram2dcontour"
           }
          ],
          "mesh3d": [
           {
            "colorbar": {
             "outlinewidth": 0,
             "ticks": ""
            },
            "type": "mesh3d"
           }
          ],
          "parcoords": [
           {
            "line": {
             "colorbar": {
              "outlinewidth": 0,
              "ticks": ""
             }
            },
            "type": "parcoords"
           }
          ],
          "pie": [
           {
            "automargin": true,
            "type": "pie"
           }
          ],
          "scatter": [
           {
            "marker": {
             "colorbar": {
              "outlinewidth": 0,
              "ticks": ""
             }
            },
            "type": "scatter"
           }
          ],
          "scatter3d": [
           {
            "line": {
             "colorbar": {
              "outlinewidth": 0,
              "ticks": ""
             }
            },
            "marker": {
             "colorbar": {
              "outlinewidth": 0,
              "ticks": ""
             }
            },
            "type": "scatter3d"
           }
          ],
          "scattercarpet": [
           {
            "marker": {
             "colorbar": {
              "outlinewidth": 0,
              "ticks": ""
             }
            },
            "type": "scattercarpet"
           }
          ],
          "scattergeo": [
           {
            "marker": {
             "colorbar": {
              "outlinewidth": 0,
              "ticks": ""
             }
            },
            "type": "scattergeo"
           }
          ],
          "scattergl": [
           {
            "marker": {
             "colorbar": {
              "outlinewidth": 0,
              "ticks": ""
             }
            },
            "type": "scattergl"
           }
          ],
          "scattermapbox": [
           {
            "marker": {
             "colorbar": {
              "outlinewidth": 0,
              "ticks": ""
             }
            },
            "type": "scattermapbox"
           }
          ],
          "scatterpolar": [
           {
            "marker": {
             "colorbar": {
              "outlinewidth": 0,
              "ticks": ""
             }
            },
            "type": "scatterpolar"
           }
          ],
          "scatterpolargl": [
           {
            "marker": {
             "colorbar": {
              "outlinewidth": 0,
              "ticks": ""
             }
            },
            "type": "scatterpolargl"
           }
          ],
          "scatterternary": [
           {
            "marker": {
             "colorbar": {
              "outlinewidth": 0,
              "ticks": ""
             }
            },
            "type": "scatterternary"
           }
          ],
          "surface": [
           {
            "colorbar": {
             "outlinewidth": 0,
             "ticks": ""
            },
            "colorscale": [
             [
              0,
              "#0d0887"
             ],
             [
              0.1111111111111111,
              "#46039f"
             ],
             [
              0.2222222222222222,
              "#7201a8"
             ],
             [
              0.3333333333333333,
              "#9c179e"
             ],
             [
              0.4444444444444444,
              "#bd3786"
             ],
             [
              0.5555555555555556,
              "#d8576b"
             ],
             [
              0.6666666666666666,
              "#ed7953"
             ],
             [
              0.7777777777777778,
              "#fb9f3a"
             ],
             [
              0.8888888888888888,
              "#fdca26"
             ],
             [
              1,
              "#f0f921"
             ]
            ],
            "type": "surface"
           }
          ],
          "table": [
           {
            "cells": {
             "fill": {
              "color": "#EBF0F8"
             },
             "line": {
              "color": "white"
             }
            },
            "header": {
             "fill": {
              "color": "#C8D4E3"
             },
             "line": {
              "color": "white"
             }
            },
            "type": "table"
           }
          ]
         },
         "layout": {
          "annotationdefaults": {
           "arrowcolor": "#2a3f5f",
           "arrowhead": 0,
           "arrowwidth": 1
          },
          "coloraxis": {
           "colorbar": {
            "outlinewidth": 0,
            "ticks": ""
           }
          },
          "colorscale": {
           "diverging": [
            [
             0,
             "#8e0152"
            ],
            [
             0.1,
             "#c51b7d"
            ],
            [
             0.2,
             "#de77ae"
            ],
            [
             0.3,
             "#f1b6da"
            ],
            [
             0.4,
             "#fde0ef"
            ],
            [
             0.5,
             "#f7f7f7"
            ],
            [
             0.6,
             "#e6f5d0"
            ],
            [
             0.7,
             "#b8e186"
            ],
            [
             0.8,
             "#7fbc41"
            ],
            [
             0.9,
             "#4d9221"
            ],
            [
             1,
             "#276419"
            ]
           ],
           "sequential": [
            [
             0,
             "#0d0887"
            ],
            [
             0.1111111111111111,
             "#46039f"
            ],
            [
             0.2222222222222222,
             "#7201a8"
            ],
            [
             0.3333333333333333,
             "#9c179e"
            ],
            [
             0.4444444444444444,
             "#bd3786"
            ],
            [
             0.5555555555555556,
             "#d8576b"
            ],
            [
             0.6666666666666666,
             "#ed7953"
            ],
            [
             0.7777777777777778,
             "#fb9f3a"
            ],
            [
             0.8888888888888888,
             "#fdca26"
            ],
            [
             1,
             "#f0f921"
            ]
           ],
           "sequentialminus": [
            [
             0,
             "#0d0887"
            ],
            [
             0.1111111111111111,
             "#46039f"
            ],
            [
             0.2222222222222222,
             "#7201a8"
            ],
            [
             0.3333333333333333,
             "#9c179e"
            ],
            [
             0.4444444444444444,
             "#bd3786"
            ],
            [
             0.5555555555555556,
             "#d8576b"
            ],
            [
             0.6666666666666666,
             "#ed7953"
            ],
            [
             0.7777777777777778,
             "#fb9f3a"
            ],
            [
             0.8888888888888888,
             "#fdca26"
            ],
            [
             1,
             "#f0f921"
            ]
           ]
          },
          "colorway": [
           "#636efa",
           "#EF553B",
           "#00cc96",
           "#ab63fa",
           "#FFA15A",
           "#19d3f3",
           "#FF6692",
           "#B6E880",
           "#FF97FF",
           "#FECB52"
          ],
          "font": {
           "color": "#2a3f5f"
          },
          "geo": {
           "bgcolor": "white",
           "lakecolor": "white",
           "landcolor": "#E5ECF6",
           "showlakes": true,
           "showland": true,
           "subunitcolor": "white"
          },
          "hoverlabel": {
           "align": "left"
          },
          "hovermode": "closest",
          "mapbox": {
           "style": "light"
          },
          "paper_bgcolor": "white",
          "plot_bgcolor": "#E5ECF6",
          "polar": {
           "angularaxis": {
            "gridcolor": "white",
            "linecolor": "white",
            "ticks": ""
           },
           "bgcolor": "#E5ECF6",
           "radialaxis": {
            "gridcolor": "white",
            "linecolor": "white",
            "ticks": ""
           }
          },
          "scene": {
           "xaxis": {
            "backgroundcolor": "#E5ECF6",
            "gridcolor": "white",
            "gridwidth": 2,
            "linecolor": "white",
            "showbackground": true,
            "ticks": "",
            "zerolinecolor": "white"
           },
           "yaxis": {
            "backgroundcolor": "#E5ECF6",
            "gridcolor": "white",
            "gridwidth": 2,
            "linecolor": "white",
            "showbackground": true,
            "ticks": "",
            "zerolinecolor": "white"
           },
           "zaxis": {
            "backgroundcolor": "#E5ECF6",
            "gridcolor": "white",
            "gridwidth": 2,
            "linecolor": "white",
            "showbackground": true,
            "ticks": "",
            "zerolinecolor": "white"
           }
          },
          "shapedefaults": {
           "line": {
            "color": "#2a3f5f"
           }
          },
          "ternary": {
           "aaxis": {
            "gridcolor": "white",
            "linecolor": "white",
            "ticks": ""
           },
           "baxis": {
            "gridcolor": "white",
            "linecolor": "white",
            "ticks": ""
           },
           "bgcolor": "#E5ECF6",
           "caxis": {
            "gridcolor": "white",
            "linecolor": "white",
            "ticks": ""
           }
          },
          "title": {
           "x": 0.05
          },
          "xaxis": {
           "automargin": true,
           "gridcolor": "white",
           "linecolor": "white",
           "ticks": "",
           "title": {
            "standoff": 15
           },
           "zerolinecolor": "white",
           "zerolinewidth": 2
          },
          "yaxis": {
           "automargin": true,
           "gridcolor": "white",
           "linecolor": "white",
           "ticks": "",
           "title": {
            "standoff": 15
           },
           "zerolinecolor": "white",
           "zerolinewidth": 2
          }
         }
        },
        "title": {
         "text": "plotly express figure"
        },
        "xaxis": {
         "anchor": "y",
         "domain": [
          0,
          1
         ],
         "title": {
          "text": "sepal_length"
         }
        },
        "yaxis": {
         "anchor": "x",
         "domain": [
          0,
          1
         ],
         "title": {
          "text": "petal_length"
         }
        }
       }
      },
      "text/html": [
       "<div>\n",
       "        \n",
       "        \n",
       "            <div id=\"9c1b81a1-cab4-4d2d-b691-9a896fe24bb4\" class=\"plotly-graph-div\" style=\"height:525px; width:100%;\"></div>\n",
       "            <script type=\"text/javascript\">\n",
       "                require([\"plotly\"], function(Plotly) {\n",
       "                    window.PLOTLYENV=window.PLOTLYENV || {};\n",
       "                    \n",
       "                if (document.getElementById(\"9c1b81a1-cab4-4d2d-b691-9a896fe24bb4\")) {\n",
       "                    Plotly.newPlot(\n",
       "                        '9c1b81a1-cab4-4d2d-b691-9a896fe24bb4',\n",
       "                        [{\"hoverlabel\": {\"namelength\": 0}, \"hovertemplate\": \"species=setosa<br>sepal_length=%{x}<br>petal_length=%{y}\", \"legendgroup\": \"species=setosa\", \"marker\": {\"color\": \"#636efa\", \"symbol\": \"circle\"}, \"mode\": \"markers\", \"name\": \"species=setosa\", \"showlegend\": true, \"type\": \"scatter\", \"x\": [5.1, 4.9, 4.7, 4.6, 5.0, 5.4, 4.6, 5.0, 4.4, 4.9, 5.4, 4.8, 4.8, 4.3, 5.8, 5.7, 5.4, 5.1, 5.7, 5.1, 5.4, 5.1, 4.6, 5.1, 4.8, 5.0, 5.0, 5.2, 5.2, 4.7, 4.8, 5.4, 5.2, 5.5, 4.9, 5.0, 5.5, 4.9, 4.4, 5.1, 5.0, 4.5, 4.4, 5.0, 5.1, 4.8, 5.1, 4.6, 5.3, 5.0], \"xaxis\": \"x\", \"y\": [1.4, 1.4, 1.3, 1.5, 1.4, 1.7, 1.4, 1.5, 1.4, 1.5, 1.5, 1.6, 1.4, 1.1, 1.2, 1.5, 1.3, 1.4, 1.7, 1.5, 1.7, 1.5, 1.0, 1.7, 1.9, 1.6, 1.6, 1.5, 1.4, 1.6, 1.6, 1.5, 1.5, 1.4, 1.5, 1.2, 1.3, 1.5, 1.3, 1.5, 1.3, 1.3, 1.3, 1.6, 1.9, 1.4, 1.6, 1.4, 1.5, 1.4], \"yaxis\": \"y\"}, {\"hoverlabel\": {\"namelength\": 0}, \"hovertemplate\": \"species=versicolor<br>sepal_length=%{x}<br>petal_length=%{y}\", \"legendgroup\": \"species=versicolor\", \"marker\": {\"color\": \"#EF553B\", \"symbol\": \"circle\"}, \"mode\": \"markers\", \"name\": \"species=versicolor\", \"showlegend\": true, \"type\": \"scatter\", \"x\": [7.0, 6.4, 6.9, 5.5, 6.5, 5.7, 6.3, 4.9, 6.6, 5.2, 5.0, 5.9, 6.0, 6.1, 5.6, 6.7, 5.6, 5.8, 6.2, 5.6, 5.9, 6.1, 6.3, 6.1, 6.4, 6.6, 6.8, 6.7, 6.0, 5.7, 5.5, 5.5, 5.8, 6.0, 5.4, 6.0, 6.7, 6.3, 5.6, 5.5, 5.5, 6.1, 5.8, 5.0, 5.6, 5.7, 5.7, 6.2, 5.1, 5.7], \"xaxis\": \"x\", \"y\": [4.7, 4.5, 4.9, 4.0, 4.6, 4.5, 4.7, 3.3, 4.6, 3.9, 3.5, 4.2, 4.0, 4.7, 3.6, 4.4, 4.5, 4.1, 4.5, 3.9, 4.8, 4.0, 4.9, 4.7, 4.3, 4.4, 4.8, 5.0, 4.5, 3.5, 3.8, 3.7, 3.9, 5.1, 4.5, 4.5, 4.7, 4.4, 4.1, 4.0, 4.4, 4.6, 4.0, 3.3, 4.2, 4.2, 4.2, 4.3, 3.0, 4.1], \"yaxis\": \"y\"}, {\"hoverlabel\": {\"namelength\": 0}, \"hovertemplate\": \"species=virginica<br>sepal_length=%{x}<br>petal_length=%{y}\", \"legendgroup\": \"species=virginica\", \"marker\": {\"color\": \"#00cc96\", \"symbol\": \"circle\"}, \"mode\": \"markers\", \"name\": \"species=virginica\", \"showlegend\": true, \"type\": \"scatter\", \"x\": [6.3, 5.8, 7.1, 6.3, 6.5, 7.6, 4.9, 7.3, 6.7, 7.2, 6.5, 6.4, 6.8, 5.7, 5.8, 6.4, 6.5, 7.7, 7.7, 6.0, 6.9, 5.6, 7.7, 6.3, 6.7, 7.2, 6.2, 6.1, 6.4, 7.2, 7.4, 7.9, 6.4, 6.3, 6.1, 7.7, 6.3, 6.4, 6.0, 6.9, 6.7, 6.9, 5.8, 6.8, 6.7, 6.7, 6.3, 6.5, 6.2, 5.9], \"xaxis\": \"x\", \"y\": [6.0, 5.1, 5.9, 5.6, 5.8, 6.6, 4.5, 6.3, 5.8, 6.1, 5.1, 5.3, 5.5, 5.0, 5.1, 5.3, 5.5, 6.7, 6.9, 5.0, 5.7, 4.9, 6.7, 4.9, 5.7, 6.0, 4.8, 4.9, 5.6, 5.8, 6.1, 6.4, 5.6, 5.1, 5.6, 6.1, 5.6, 5.5, 4.8, 5.4, 5.6, 5.1, 5.1, 5.9, 5.7, 5.2, 5.0, 5.2, 5.4, 5.1], \"yaxis\": \"y\"}],\n",
       "                        {\"legend\": {\"tracegroupgap\": 0}, \"template\": {\"data\": {\"bar\": [{\"error_x\": {\"color\": \"#2a3f5f\"}, \"error_y\": {\"color\": \"#2a3f5f\"}, \"marker\": {\"line\": {\"color\": \"#E5ECF6\", \"width\": 0.5}}, \"type\": \"bar\"}], \"barpolar\": [{\"marker\": {\"line\": {\"color\": \"#E5ECF6\", \"width\": 0.5}}, \"type\": \"barpolar\"}], \"carpet\": [{\"aaxis\": {\"endlinecolor\": \"#2a3f5f\", \"gridcolor\": \"white\", \"linecolor\": \"white\", \"minorgridcolor\": \"white\", \"startlinecolor\": \"#2a3f5f\"}, \"baxis\": {\"endlinecolor\": \"#2a3f5f\", \"gridcolor\": \"white\", \"linecolor\": \"white\", \"minorgridcolor\": \"white\", \"startlinecolor\": \"#2a3f5f\"}, \"type\": \"carpet\"}], \"choropleth\": [{\"colorbar\": {\"outlinewidth\": 0, \"ticks\": \"\"}, \"type\": \"choropleth\"}], \"contour\": [{\"colorbar\": {\"outlinewidth\": 0, \"ticks\": \"\"}, \"colorscale\": [[0.0, \"#0d0887\"], [0.1111111111111111, \"#46039f\"], [0.2222222222222222, \"#7201a8\"], [0.3333333333333333, \"#9c179e\"], [0.4444444444444444, \"#bd3786\"], [0.5555555555555556, \"#d8576b\"], [0.6666666666666666, \"#ed7953\"], [0.7777777777777778, \"#fb9f3a\"], [0.8888888888888888, \"#fdca26\"], [1.0, \"#f0f921\"]], \"type\": \"contour\"}], \"contourcarpet\": [{\"colorbar\": {\"outlinewidth\": 0, \"ticks\": \"\"}, \"type\": \"contourcarpet\"}], \"heatmap\": [{\"colorbar\": {\"outlinewidth\": 0, \"ticks\": \"\"}, \"colorscale\": [[0.0, \"#0d0887\"], [0.1111111111111111, \"#46039f\"], [0.2222222222222222, \"#7201a8\"], [0.3333333333333333, \"#9c179e\"], [0.4444444444444444, \"#bd3786\"], [0.5555555555555556, \"#d8576b\"], [0.6666666666666666, \"#ed7953\"], [0.7777777777777778, \"#fb9f3a\"], [0.8888888888888888, \"#fdca26\"], [1.0, \"#f0f921\"]], \"type\": \"heatmap\"}], \"heatmapgl\": [{\"colorbar\": {\"outlinewidth\": 0, \"ticks\": \"\"}, \"colorscale\": [[0.0, \"#0d0887\"], [0.1111111111111111, \"#46039f\"], [0.2222222222222222, \"#7201a8\"], [0.3333333333333333, \"#9c179e\"], [0.4444444444444444, \"#bd3786\"], [0.5555555555555556, \"#d8576b\"], [0.6666666666666666, \"#ed7953\"], [0.7777777777777778, \"#fb9f3a\"], [0.8888888888888888, \"#fdca26\"], [1.0, \"#f0f921\"]], \"type\": \"heatmapgl\"}], \"histogram\": [{\"marker\": {\"colorbar\": {\"outlinewidth\": 0, \"ticks\": \"\"}}, \"type\": \"histogram\"}], \"histogram2d\": [{\"colorbar\": {\"outlinewidth\": 0, \"ticks\": \"\"}, \"colorscale\": [[0.0, \"#0d0887\"], [0.1111111111111111, \"#46039f\"], [0.2222222222222222, \"#7201a8\"], [0.3333333333333333, \"#9c179e\"], [0.4444444444444444, \"#bd3786\"], [0.5555555555555556, \"#d8576b\"], [0.6666666666666666, \"#ed7953\"], [0.7777777777777778, \"#fb9f3a\"], [0.8888888888888888, \"#fdca26\"], [1.0, \"#f0f921\"]], \"type\": \"histogram2d\"}], \"histogram2dcontour\": [{\"colorbar\": {\"outlinewidth\": 0, \"ticks\": \"\"}, \"colorscale\": [[0.0, \"#0d0887\"], [0.1111111111111111, \"#46039f\"], [0.2222222222222222, \"#7201a8\"], [0.3333333333333333, \"#9c179e\"], [0.4444444444444444, \"#bd3786\"], [0.5555555555555556, \"#d8576b\"], [0.6666666666666666, \"#ed7953\"], [0.7777777777777778, \"#fb9f3a\"], [0.8888888888888888, \"#fdca26\"], [1.0, \"#f0f921\"]], \"type\": \"histogram2dcontour\"}], \"mesh3d\": [{\"colorbar\": {\"outlinewidth\": 0, \"ticks\": \"\"}, \"type\": \"mesh3d\"}], \"parcoords\": [{\"line\": {\"colorbar\": {\"outlinewidth\": 0, \"ticks\": \"\"}}, \"type\": \"parcoords\"}], \"pie\": [{\"automargin\": true, \"type\": \"pie\"}], \"scatter\": [{\"marker\": {\"colorbar\": {\"outlinewidth\": 0, \"ticks\": \"\"}}, \"type\": \"scatter\"}], \"scatter3d\": [{\"line\": {\"colorbar\": {\"outlinewidth\": 0, \"ticks\": \"\"}}, \"marker\": {\"colorbar\": {\"outlinewidth\": 0, \"ticks\": \"\"}}, \"type\": \"scatter3d\"}], \"scattercarpet\": [{\"marker\": {\"colorbar\": {\"outlinewidth\": 0, \"ticks\": \"\"}}, \"type\": \"scattercarpet\"}], \"scattergeo\": [{\"marker\": {\"colorbar\": {\"outlinewidth\": 0, \"ticks\": \"\"}}, \"type\": \"scattergeo\"}], \"scattergl\": [{\"marker\": {\"colorbar\": {\"outlinewidth\": 0, \"ticks\": \"\"}}, \"type\": \"scattergl\"}], \"scattermapbox\": [{\"marker\": {\"colorbar\": {\"outlinewidth\": 0, \"ticks\": \"\"}}, \"type\": \"scattermapbox\"}], \"scatterpolar\": [{\"marker\": {\"colorbar\": {\"outlinewidth\": 0, \"ticks\": \"\"}}, \"type\": \"scatterpolar\"}], \"scatterpolargl\": [{\"marker\": {\"colorbar\": {\"outlinewidth\": 0, \"ticks\": \"\"}}, \"type\": \"scatterpolargl\"}], \"scatterternary\": [{\"marker\": {\"colorbar\": {\"outlinewidth\": 0, \"ticks\": \"\"}}, \"type\": \"scatterternary\"}], \"surface\": [{\"colorbar\": {\"outlinewidth\": 0, \"ticks\": \"\"}, \"colorscale\": [[0.0, \"#0d0887\"], [0.1111111111111111, \"#46039f\"], [0.2222222222222222, \"#7201a8\"], [0.3333333333333333, \"#9c179e\"], [0.4444444444444444, \"#bd3786\"], [0.5555555555555556, \"#d8576b\"], [0.6666666666666666, \"#ed7953\"], [0.7777777777777778, \"#fb9f3a\"], [0.8888888888888888, \"#fdca26\"], [1.0, \"#f0f921\"]], \"type\": \"surface\"}], \"table\": [{\"cells\": {\"fill\": {\"color\": \"#EBF0F8\"}, \"line\": {\"color\": \"white\"}}, \"header\": {\"fill\": {\"color\": \"#C8D4E3\"}, \"line\": {\"color\": \"white\"}}, \"type\": \"table\"}]}, \"layout\": {\"annotationdefaults\": {\"arrowcolor\": \"#2a3f5f\", \"arrowhead\": 0, \"arrowwidth\": 1}, \"coloraxis\": {\"colorbar\": {\"outlinewidth\": 0, \"ticks\": \"\"}}, \"colorscale\": {\"diverging\": [[0, \"#8e0152\"], [0.1, \"#c51b7d\"], [0.2, \"#de77ae\"], [0.3, \"#f1b6da\"], [0.4, \"#fde0ef\"], [0.5, \"#f7f7f7\"], [0.6, \"#e6f5d0\"], [0.7, \"#b8e186\"], [0.8, \"#7fbc41\"], [0.9, \"#4d9221\"], [1, \"#276419\"]], \"sequential\": [[0.0, \"#0d0887\"], [0.1111111111111111, \"#46039f\"], [0.2222222222222222, \"#7201a8\"], [0.3333333333333333, \"#9c179e\"], [0.4444444444444444, \"#bd3786\"], [0.5555555555555556, \"#d8576b\"], [0.6666666666666666, \"#ed7953\"], [0.7777777777777778, \"#fb9f3a\"], [0.8888888888888888, \"#fdca26\"], [1.0, \"#f0f921\"]], \"sequentialminus\": [[0.0, \"#0d0887\"], [0.1111111111111111, \"#46039f\"], [0.2222222222222222, \"#7201a8\"], [0.3333333333333333, \"#9c179e\"], [0.4444444444444444, \"#bd3786\"], [0.5555555555555556, \"#d8576b\"], [0.6666666666666666, \"#ed7953\"], [0.7777777777777778, \"#fb9f3a\"], [0.8888888888888888, \"#fdca26\"], [1.0, \"#f0f921\"]]}, \"colorway\": [\"#636efa\", \"#EF553B\", \"#00cc96\", \"#ab63fa\", \"#FFA15A\", \"#19d3f3\", \"#FF6692\", \"#B6E880\", \"#FF97FF\", \"#FECB52\"], \"font\": {\"color\": \"#2a3f5f\"}, \"geo\": {\"bgcolor\": \"white\", \"lakecolor\": \"white\", \"landcolor\": \"#E5ECF6\", \"showlakes\": true, \"showland\": true, \"subunitcolor\": \"white\"}, \"hoverlabel\": {\"align\": \"left\"}, \"hovermode\": \"closest\", \"mapbox\": {\"style\": \"light\"}, \"paper_bgcolor\": \"white\", \"plot_bgcolor\": \"#E5ECF6\", \"polar\": {\"angularaxis\": {\"gridcolor\": \"white\", \"linecolor\": \"white\", \"ticks\": \"\"}, \"bgcolor\": \"#E5ECF6\", \"radialaxis\": {\"gridcolor\": \"white\", \"linecolor\": \"white\", \"ticks\": \"\"}}, \"scene\": {\"xaxis\": {\"backgroundcolor\": \"#E5ECF6\", \"gridcolor\": \"white\", \"gridwidth\": 2, \"linecolor\": \"white\", \"showbackground\": true, \"ticks\": \"\", \"zerolinecolor\": \"white\"}, \"yaxis\": {\"backgroundcolor\": \"#E5ECF6\", \"gridcolor\": \"white\", \"gridwidth\": 2, \"linecolor\": \"white\", \"showbackground\": true, \"ticks\": \"\", \"zerolinecolor\": \"white\"}, \"zaxis\": {\"backgroundcolor\": \"#E5ECF6\", \"gridcolor\": \"white\", \"gridwidth\": 2, \"linecolor\": \"white\", \"showbackground\": true, \"ticks\": \"\", \"zerolinecolor\": \"white\"}}, \"shapedefaults\": {\"line\": {\"color\": \"#2a3f5f\"}}, \"ternary\": {\"aaxis\": {\"gridcolor\": \"white\", \"linecolor\": \"white\", \"ticks\": \"\"}, \"baxis\": {\"gridcolor\": \"white\", \"linecolor\": \"white\", \"ticks\": \"\"}, \"bgcolor\": \"#E5ECF6\", \"caxis\": {\"gridcolor\": \"white\", \"linecolor\": \"white\", \"ticks\": \"\"}}, \"title\": {\"x\": 0.05}, \"xaxis\": {\"automargin\": true, \"gridcolor\": \"white\", \"linecolor\": \"white\", \"ticks\": \"\", \"title\": {\"standoff\": 15}, \"zerolinecolor\": \"white\", \"zerolinewidth\": 2}, \"yaxis\": {\"automargin\": true, \"gridcolor\": \"white\", \"linecolor\": \"white\", \"ticks\": \"\", \"title\": {\"standoff\": 15}, \"zerolinecolor\": \"white\", \"zerolinewidth\": 2}}}, \"title\": {\"text\": \"plotly express figure\"}, \"xaxis\": {\"anchor\": \"y\", \"domain\": [0.0, 1.0], \"title\": {\"text\": \"sepal_length\"}}, \"yaxis\": {\"anchor\": \"x\", \"domain\": [0.0, 1.0], \"title\": {\"text\": \"petal_length\"}}},\n",
       "                        {\"responsive\": true}\n",
       "                    ).then(function(){\n",
       "                            \n",
       "var gd = document.getElementById('9c1b81a1-cab4-4d2d-b691-9a896fe24bb4');\n",
       "var x = new MutationObserver(function (mutations, observer) {{\n",
       "        var display = window.getComputedStyle(gd).display;\n",
       "        if (!display || display === 'none') {{\n",
       "            console.log([gd, 'removed!']);\n",
       "            Plotly.purge(gd);\n",
       "            observer.disconnect();\n",
       "        }}\n",
       "}});\n",
       "\n",
       "// Listen for the removal of the full notebook cells\n",
       "var notebookContainer = gd.closest('#notebook-container');\n",
       "if (notebookContainer) {{\n",
       "    x.observe(notebookContainer, {childList: true});\n",
       "}}\n",
       "\n",
       "// Listen for the clearing of the current output cell\n",
       "var outputEl = gd.closest('.output');\n",
       "if (outputEl) {{\n",
       "    x.observe(outputEl, {childList: true});\n",
       "}}\n",
       "\n",
       "                        })\n",
       "                };\n",
       "                });\n",
       "            </script>\n",
       "        </div>"
      ]
     },
     "metadata": {},
     "output_type": "display_data"
    }
   ],
   "source": [
    "px.scatter(data_frame = iris , x ='sepal_length', y = 'petal_length' , color = 'species', title = 'plotly express figure')"
   ]
  },
  {
   "cell_type": "code",
   "execution_count": 69,
   "metadata": {},
   "outputs": [
    {
     "data": {
      "application/vnd.plotly.v1+json": {
       "config": {
        "plotlyServerURL": "https://plot.ly"
       },
       "data": [
        {
         "type": "scatter",
         "x": [
          5.1,
          4.9,
          4.7,
          4.6,
          5,
          5.4,
          4.6,
          5,
          4.4,
          4.9,
          5.4,
          4.8,
          4.8,
          4.3,
          5.8,
          5.7,
          5.4,
          5.1,
          5.7,
          5.1,
          5.4,
          5.1,
          4.6,
          5.1,
          4.8,
          5,
          5,
          5.2,
          5.2,
          4.7,
          4.8,
          5.4,
          5.2,
          5.5,
          4.9,
          5,
          5.5,
          4.9,
          4.4,
          5.1,
          5,
          4.5,
          4.4,
          5,
          5.1,
          4.8,
          5.1,
          4.6,
          5.3,
          5,
          7,
          6.4,
          6.9,
          5.5,
          6.5,
          5.7,
          6.3,
          4.9,
          6.6,
          5.2,
          5,
          5.9,
          6,
          6.1,
          5.6,
          6.7,
          5.6,
          5.8,
          6.2,
          5.6,
          5.9,
          6.1,
          6.3,
          6.1,
          6.4,
          6.6,
          6.8,
          6.7,
          6,
          5.7,
          5.5,
          5.5,
          5.8,
          6,
          5.4,
          6,
          6.7,
          6.3,
          5.6,
          5.5,
          5.5,
          6.1,
          5.8,
          5,
          5.6,
          5.7,
          5.7,
          6.2,
          5.1,
          5.7,
          6.3,
          5.8,
          7.1,
          6.3,
          6.5,
          7.6,
          4.9,
          7.3,
          6.7,
          7.2,
          6.5,
          6.4,
          6.8,
          5.7,
          5.8,
          6.4,
          6.5,
          7.7,
          7.7,
          6,
          6.9,
          5.6,
          7.7,
          6.3,
          6.7,
          7.2,
          6.2,
          6.1,
          6.4,
          7.2,
          7.4,
          7.9,
          6.4,
          6.3,
          6.1,
          7.7,
          6.3,
          6.4,
          6,
          6.9,
          6.7,
          6.9,
          5.8,
          6.8,
          6.7,
          6.7,
          6.3,
          6.5,
          6.2,
          5.9
         ],
         "y": [
          1.4,
          1.4,
          1.3,
          1.5,
          1.4,
          1.7,
          1.4,
          1.5,
          1.4,
          1.5,
          1.5,
          1.6,
          1.4,
          1.1,
          1.2,
          1.5,
          1.3,
          1.4,
          1.7,
          1.5,
          1.7,
          1.5,
          1,
          1.7,
          1.9,
          1.6,
          1.6,
          1.5,
          1.4,
          1.6,
          1.6,
          1.5,
          1.5,
          1.4,
          1.5,
          1.2,
          1.3,
          1.5,
          1.3,
          1.5,
          1.3,
          1.3,
          1.3,
          1.6,
          1.9,
          1.4,
          1.6,
          1.4,
          1.5,
          1.4,
          4.7,
          4.5,
          4.9,
          4,
          4.6,
          4.5,
          4.7,
          3.3,
          4.6,
          3.9,
          3.5,
          4.2,
          4,
          4.7,
          3.6,
          4.4,
          4.5,
          4.1,
          4.5,
          3.9,
          4.8,
          4,
          4.9,
          4.7,
          4.3,
          4.4,
          4.8,
          5,
          4.5,
          3.5,
          3.8,
          3.7,
          3.9,
          5.1,
          4.5,
          4.5,
          4.7,
          4.4,
          4.1,
          4,
          4.4,
          4.6,
          4,
          3.3,
          4.2,
          4.2,
          4.2,
          4.3,
          3,
          4.1,
          6,
          5.1,
          5.9,
          5.6,
          5.8,
          6.6,
          4.5,
          6.3,
          5.8,
          6.1,
          5.1,
          5.3,
          5.5,
          5,
          5.1,
          5.3,
          5.5,
          6.7,
          6.9,
          5,
          5.7,
          4.9,
          6.7,
          4.9,
          5.7,
          6,
          4.8,
          4.9,
          5.6,
          5.8,
          6.1,
          6.4,
          5.6,
          5.1,
          5.6,
          6.1,
          5.6,
          5.5,
          4.8,
          5.4,
          5.6,
          5.1,
          5.1,
          5.9,
          5.7,
          5.2,
          5,
          5.2,
          5.4,
          5.1
         ]
        }
       ],
       "layout": {
        "template": {
         "data": {
          "bar": [
           {
            "error_x": {
             "color": "#2a3f5f"
            },
            "error_y": {
             "color": "#2a3f5f"
            },
            "marker": {
             "line": {
              "color": "#E5ECF6",
              "width": 0.5
             }
            },
            "type": "bar"
           }
          ],
          "barpolar": [
           {
            "marker": {
             "line": {
              "color": "#E5ECF6",
              "width": 0.5
             }
            },
            "type": "barpolar"
           }
          ],
          "carpet": [
           {
            "aaxis": {
             "endlinecolor": "#2a3f5f",
             "gridcolor": "white",
             "linecolor": "white",
             "minorgridcolor": "white",
             "startlinecolor": "#2a3f5f"
            },
            "baxis": {
             "endlinecolor": "#2a3f5f",
             "gridcolor": "white",
             "linecolor": "white",
             "minorgridcolor": "white",
             "startlinecolor": "#2a3f5f"
            },
            "type": "carpet"
           }
          ],
          "choropleth": [
           {
            "colorbar": {
             "outlinewidth": 0,
             "ticks": ""
            },
            "type": "choropleth"
           }
          ],
          "contour": [
           {
            "colorbar": {
             "outlinewidth": 0,
             "ticks": ""
            },
            "colorscale": [
             [
              0,
              "#0d0887"
             ],
             [
              0.1111111111111111,
              "#46039f"
             ],
             [
              0.2222222222222222,
              "#7201a8"
             ],
             [
              0.3333333333333333,
              "#9c179e"
             ],
             [
              0.4444444444444444,
              "#bd3786"
             ],
             [
              0.5555555555555556,
              "#d8576b"
             ],
             [
              0.6666666666666666,
              "#ed7953"
             ],
             [
              0.7777777777777778,
              "#fb9f3a"
             ],
             [
              0.8888888888888888,
              "#fdca26"
             ],
             [
              1,
              "#f0f921"
             ]
            ],
            "type": "contour"
           }
          ],
          "contourcarpet": [
           {
            "colorbar": {
             "outlinewidth": 0,
             "ticks": ""
            },
            "type": "contourcarpet"
           }
          ],
          "heatmap": [
           {
            "colorbar": {
             "outlinewidth": 0,
             "ticks": ""
            },
            "colorscale": [
             [
              0,
              "#0d0887"
             ],
             [
              0.1111111111111111,
              "#46039f"
             ],
             [
              0.2222222222222222,
              "#7201a8"
             ],
             [
              0.3333333333333333,
              "#9c179e"
             ],
             [
              0.4444444444444444,
              "#bd3786"
             ],
             [
              0.5555555555555556,
              "#d8576b"
             ],
             [
              0.6666666666666666,
              "#ed7953"
             ],
             [
              0.7777777777777778,
              "#fb9f3a"
             ],
             [
              0.8888888888888888,
              "#fdca26"
             ],
             [
              1,
              "#f0f921"
             ]
            ],
            "type": "heatmap"
           }
          ],
          "heatmapgl": [
           {
            "colorbar": {
             "outlinewidth": 0,
             "ticks": ""
            },
            "colorscale": [
             [
              0,
              "#0d0887"
             ],
             [
              0.1111111111111111,
              "#46039f"
             ],
             [
              0.2222222222222222,
              "#7201a8"
             ],
             [
              0.3333333333333333,
              "#9c179e"
             ],
             [
              0.4444444444444444,
              "#bd3786"
             ],
             [
              0.5555555555555556,
              "#d8576b"
             ],
             [
              0.6666666666666666,
              "#ed7953"
             ],
             [
              0.7777777777777778,
              "#fb9f3a"
             ],
             [
              0.8888888888888888,
              "#fdca26"
             ],
             [
              1,
              "#f0f921"
             ]
            ],
            "type": "heatmapgl"
           }
          ],
          "histogram": [
           {
            "marker": {
             "colorbar": {
              "outlinewidth": 0,
              "ticks": ""
             }
            },
            "type": "histogram"
           }
          ],
          "histogram2d": [
           {
            "colorbar": {
             "outlinewidth": 0,
             "ticks": ""
            },
            "colorscale": [
             [
              0,
              "#0d0887"
             ],
             [
              0.1111111111111111,
              "#46039f"
             ],
             [
              0.2222222222222222,
              "#7201a8"
             ],
             [
              0.3333333333333333,
              "#9c179e"
             ],
             [
              0.4444444444444444,
              "#bd3786"
             ],
             [
              0.5555555555555556,
              "#d8576b"
             ],
             [
              0.6666666666666666,
              "#ed7953"
             ],
             [
              0.7777777777777778,
              "#fb9f3a"
             ],
             [
              0.8888888888888888,
              "#fdca26"
             ],
             [
              1,
              "#f0f921"
             ]
            ],
            "type": "histogram2d"
           }
          ],
          "histogram2dcontour": [
           {
            "colorbar": {
             "outlinewidth": 0,
             "ticks": ""
            },
            "colorscale": [
             [
              0,
              "#0d0887"
             ],
             [
              0.1111111111111111,
              "#46039f"
             ],
             [
              0.2222222222222222,
              "#7201a8"
             ],
             [
              0.3333333333333333,
              "#9c179e"
             ],
             [
              0.4444444444444444,
              "#bd3786"
             ],
             [
              0.5555555555555556,
              "#d8576b"
             ],
             [
              0.6666666666666666,
              "#ed7953"
             ],
             [
              0.7777777777777778,
              "#fb9f3a"
             ],
             [
              0.8888888888888888,
              "#fdca26"
             ],
             [
              1,
              "#f0f921"
             ]
            ],
            "type": "histogram2dcontour"
           }
          ],
          "mesh3d": [
           {
            "colorbar": {
             "outlinewidth": 0,
             "ticks": ""
            },
            "type": "mesh3d"
           }
          ],
          "parcoords": [
           {
            "line": {
             "colorbar": {
              "outlinewidth": 0,
              "ticks": ""
             }
            },
            "type": "parcoords"
           }
          ],
          "pie": [
           {
            "automargin": true,
            "type": "pie"
           }
          ],
          "scatter": [
           {
            "marker": {
             "colorbar": {
              "outlinewidth": 0,
              "ticks": ""
             }
            },
            "type": "scatter"
           }
          ],
          "scatter3d": [
           {
            "line": {
             "colorbar": {
              "outlinewidth": 0,
              "ticks": ""
             }
            },
            "marker": {
             "colorbar": {
              "outlinewidth": 0,
              "ticks": ""
             }
            },
            "type": "scatter3d"
           }
          ],
          "scattercarpet": [
           {
            "marker": {
             "colorbar": {
              "outlinewidth": 0,
              "ticks": ""
             }
            },
            "type": "scattercarpet"
           }
          ],
          "scattergeo": [
           {
            "marker": {
             "colorbar": {
              "outlinewidth": 0,
              "ticks": ""
             }
            },
            "type": "scattergeo"
           }
          ],
          "scattergl": [
           {
            "marker": {
             "colorbar": {
              "outlinewidth": 0,
              "ticks": ""
             }
            },
            "type": "scattergl"
           }
          ],
          "scattermapbox": [
           {
            "marker": {
             "colorbar": {
              "outlinewidth": 0,
              "ticks": ""
             }
            },
            "type": "scattermapbox"
           }
          ],
          "scatterpolar": [
           {
            "marker": {
             "colorbar": {
              "outlinewidth": 0,
              "ticks": ""
             }
            },
            "type": "scatterpolar"
           }
          ],
          "scatterpolargl": [
           {
            "marker": {
             "colorbar": {
              "outlinewidth": 0,
              "ticks": ""
             }
            },
            "type": "scatterpolargl"
           }
          ],
          "scatterternary": [
           {
            "marker": {
             "colorbar": {
              "outlinewidth": 0,
              "ticks": ""
             }
            },
            "type": "scatterternary"
           }
          ],
          "surface": [
           {
            "colorbar": {
             "outlinewidth": 0,
             "ticks": ""
            },
            "colorscale": [
             [
              0,
              "#0d0887"
             ],
             [
              0.1111111111111111,
              "#46039f"
             ],
             [
              0.2222222222222222,
              "#7201a8"
             ],
             [
              0.3333333333333333,
              "#9c179e"
             ],
             [
              0.4444444444444444,
              "#bd3786"
             ],
             [
              0.5555555555555556,
              "#d8576b"
             ],
             [
              0.6666666666666666,
              "#ed7953"
             ],
             [
              0.7777777777777778,
              "#fb9f3a"
             ],
             [
              0.8888888888888888,
              "#fdca26"
             ],
             [
              1,
              "#f0f921"
             ]
            ],
            "type": "surface"
           }
          ],
          "table": [
           {
            "cells": {
             "fill": {
              "color": "#EBF0F8"
             },
             "line": {
              "color": "white"
             }
            },
            "header": {
             "fill": {
              "color": "#C8D4E3"
             },
             "line": {
              "color": "white"
             }
            },
            "type": "table"
           }
          ]
         },
         "layout": {
          "annotationdefaults": {
           "arrowcolor": "#2a3f5f",
           "arrowhead": 0,
           "arrowwidth": 1
          },
          "coloraxis": {
           "colorbar": {
            "outlinewidth": 0,
            "ticks": ""
           }
          },
          "colorscale": {
           "diverging": [
            [
             0,
             "#8e0152"
            ],
            [
             0.1,
             "#c51b7d"
            ],
            [
             0.2,
             "#de77ae"
            ],
            [
             0.3,
             "#f1b6da"
            ],
            [
             0.4,
             "#fde0ef"
            ],
            [
             0.5,
             "#f7f7f7"
            ],
            [
             0.6,
             "#e6f5d0"
            ],
            [
             0.7,
             "#b8e186"
            ],
            [
             0.8,
             "#7fbc41"
            ],
            [
             0.9,
             "#4d9221"
            ],
            [
             1,
             "#276419"
            ]
           ],
           "sequential": [
            [
             0,
             "#0d0887"
            ],
            [
             0.1111111111111111,
             "#46039f"
            ],
            [
             0.2222222222222222,
             "#7201a8"
            ],
            [
             0.3333333333333333,
             "#9c179e"
            ],
            [
             0.4444444444444444,
             "#bd3786"
            ],
            [
             0.5555555555555556,
             "#d8576b"
            ],
            [
             0.6666666666666666,
             "#ed7953"
            ],
            [
             0.7777777777777778,
             "#fb9f3a"
            ],
            [
             0.8888888888888888,
             "#fdca26"
            ],
            [
             1,
             "#f0f921"
            ]
           ],
           "sequentialminus": [
            [
             0,
             "#0d0887"
            ],
            [
             0.1111111111111111,
             "#46039f"
            ],
            [
             0.2222222222222222,
             "#7201a8"
            ],
            [
             0.3333333333333333,
             "#9c179e"
            ],
            [
             0.4444444444444444,
             "#bd3786"
            ],
            [
             0.5555555555555556,
             "#d8576b"
            ],
            [
             0.6666666666666666,
             "#ed7953"
            ],
            [
             0.7777777777777778,
             "#fb9f3a"
            ],
            [
             0.8888888888888888,
             "#fdca26"
            ],
            [
             1,
             "#f0f921"
            ]
           ]
          },
          "colorway": [
           "#636efa",
           "#EF553B",
           "#00cc96",
           "#ab63fa",
           "#FFA15A",
           "#19d3f3",
           "#FF6692",
           "#B6E880",
           "#FF97FF",
           "#FECB52"
          ],
          "font": {
           "color": "#2a3f5f"
          },
          "geo": {
           "bgcolor": "white",
           "lakecolor": "white",
           "landcolor": "#E5ECF6",
           "showlakes": true,
           "showland": true,
           "subunitcolor": "white"
          },
          "hoverlabel": {
           "align": "left"
          },
          "hovermode": "closest",
          "mapbox": {
           "style": "light"
          },
          "paper_bgcolor": "white",
          "plot_bgcolor": "#E5ECF6",
          "polar": {
           "angularaxis": {
            "gridcolor": "white",
            "linecolor": "white",
            "ticks": ""
           },
           "bgcolor": "#E5ECF6",
           "radialaxis": {
            "gridcolor": "white",
            "linecolor": "white",
            "ticks": ""
           }
          },
          "scene": {
           "xaxis": {
            "backgroundcolor": "#E5ECF6",
            "gridcolor": "white",
            "gridwidth": 2,
            "linecolor": "white",
            "showbackground": true,
            "ticks": "",
            "zerolinecolor": "white"
           },
           "yaxis": {
            "backgroundcolor": "#E5ECF6",
            "gridcolor": "white",
            "gridwidth": 2,
            "linecolor": "white",
            "showbackground": true,
            "ticks": "",
            "zerolinecolor": "white"
           },
           "zaxis": {
            "backgroundcolor": "#E5ECF6",
            "gridcolor": "white",
            "gridwidth": 2,
            "linecolor": "white",
            "showbackground": true,
            "ticks": "",
            "zerolinecolor": "white"
           }
          },
          "shapedefaults": {
           "line": {
            "color": "#2a3f5f"
           }
          },
          "ternary": {
           "aaxis": {
            "gridcolor": "white",
            "linecolor": "white",
            "ticks": ""
           },
           "baxis": {
            "gridcolor": "white",
            "linecolor": "white",
            "ticks": ""
           },
           "bgcolor": "#E5ECF6",
           "caxis": {
            "gridcolor": "white",
            "linecolor": "white",
            "ticks": ""
           }
          },
          "title": {
           "x": 0.05
          },
          "xaxis": {
           "automargin": true,
           "gridcolor": "white",
           "linecolor": "white",
           "ticks": "",
           "title": {
            "standoff": 15
           },
           "zerolinecolor": "white",
           "zerolinewidth": 2
          },
          "yaxis": {
           "automargin": true,
           "gridcolor": "white",
           "linecolor": "white",
           "ticks": "",
           "title": {
            "standoff": 15
           },
           "zerolinecolor": "white",
           "zerolinewidth": 2
          }
         }
        }
       }
      },
      "text/html": [
       "<div>\n",
       "        \n",
       "        \n",
       "            <div id=\"1485f475-94f4-466e-b20f-53b004ac5c85\" class=\"plotly-graph-div\" style=\"height:525px; width:100%;\"></div>\n",
       "            <script type=\"text/javascript\">\n",
       "                require([\"plotly\"], function(Plotly) {\n",
       "                    window.PLOTLYENV=window.PLOTLYENV || {};\n",
       "                    \n",
       "                if (document.getElementById(\"1485f475-94f4-466e-b20f-53b004ac5c85\")) {\n",
       "                    Plotly.newPlot(\n",
       "                        '1485f475-94f4-466e-b20f-53b004ac5c85',\n",
       "                        [{\"type\": \"scatter\", \"x\": [5.1, 4.9, 4.7, 4.6, 5.0, 5.4, 4.6, 5.0, 4.4, 4.9, 5.4, 4.8, 4.8, 4.3, 5.8, 5.7, 5.4, 5.1, 5.7, 5.1, 5.4, 5.1, 4.6, 5.1, 4.8, 5.0, 5.0, 5.2, 5.2, 4.7, 4.8, 5.4, 5.2, 5.5, 4.9, 5.0, 5.5, 4.9, 4.4, 5.1, 5.0, 4.5, 4.4, 5.0, 5.1, 4.8, 5.1, 4.6, 5.3, 5.0, 7.0, 6.4, 6.9, 5.5, 6.5, 5.7, 6.3, 4.9, 6.6, 5.2, 5.0, 5.9, 6.0, 6.1, 5.6, 6.7, 5.6, 5.8, 6.2, 5.6, 5.9, 6.1, 6.3, 6.1, 6.4, 6.6, 6.8, 6.7, 6.0, 5.7, 5.5, 5.5, 5.8, 6.0, 5.4, 6.0, 6.7, 6.3, 5.6, 5.5, 5.5, 6.1, 5.8, 5.0, 5.6, 5.7, 5.7, 6.2, 5.1, 5.7, 6.3, 5.8, 7.1, 6.3, 6.5, 7.6, 4.9, 7.3, 6.7, 7.2, 6.5, 6.4, 6.8, 5.7, 5.8, 6.4, 6.5, 7.7, 7.7, 6.0, 6.9, 5.6, 7.7, 6.3, 6.7, 7.2, 6.2, 6.1, 6.4, 7.2, 7.4, 7.9, 6.4, 6.3, 6.1, 7.7, 6.3, 6.4, 6.0, 6.9, 6.7, 6.9, 5.8, 6.8, 6.7, 6.7, 6.3, 6.5, 6.2, 5.9], \"y\": [1.4, 1.4, 1.3, 1.5, 1.4, 1.7, 1.4, 1.5, 1.4, 1.5, 1.5, 1.6, 1.4, 1.1, 1.2, 1.5, 1.3, 1.4, 1.7, 1.5, 1.7, 1.5, 1.0, 1.7, 1.9, 1.6, 1.6, 1.5, 1.4, 1.6, 1.6, 1.5, 1.5, 1.4, 1.5, 1.2, 1.3, 1.5, 1.3, 1.5, 1.3, 1.3, 1.3, 1.6, 1.9, 1.4, 1.6, 1.4, 1.5, 1.4, 4.7, 4.5, 4.9, 4.0, 4.6, 4.5, 4.7, 3.3, 4.6, 3.9, 3.5, 4.2, 4.0, 4.7, 3.6, 4.4, 4.5, 4.1, 4.5, 3.9, 4.8, 4.0, 4.9, 4.7, 4.3, 4.4, 4.8, 5.0, 4.5, 3.5, 3.8, 3.7, 3.9, 5.1, 4.5, 4.5, 4.7, 4.4, 4.1, 4.0, 4.4, 4.6, 4.0, 3.3, 4.2, 4.2, 4.2, 4.3, 3.0, 4.1, 6.0, 5.1, 5.9, 5.6, 5.8, 6.6, 4.5, 6.3, 5.8, 6.1, 5.1, 5.3, 5.5, 5.0, 5.1, 5.3, 5.5, 6.7, 6.9, 5.0, 5.7, 4.9, 6.7, 4.9, 5.7, 6.0, 4.8, 4.9, 5.6, 5.8, 6.1, 6.4, 5.6, 5.1, 5.6, 6.1, 5.6, 5.5, 4.8, 5.4, 5.6, 5.1, 5.1, 5.9, 5.7, 5.2, 5.0, 5.2, 5.4, 5.1]}],\n",
       "                        {\"template\": {\"data\": {\"bar\": [{\"error_x\": {\"color\": \"#2a3f5f\"}, \"error_y\": {\"color\": \"#2a3f5f\"}, \"marker\": {\"line\": {\"color\": \"#E5ECF6\", \"width\": 0.5}}, \"type\": \"bar\"}], \"barpolar\": [{\"marker\": {\"line\": {\"color\": \"#E5ECF6\", \"width\": 0.5}}, \"type\": \"barpolar\"}], \"carpet\": [{\"aaxis\": {\"endlinecolor\": \"#2a3f5f\", \"gridcolor\": \"white\", \"linecolor\": \"white\", \"minorgridcolor\": \"white\", \"startlinecolor\": \"#2a3f5f\"}, \"baxis\": {\"endlinecolor\": \"#2a3f5f\", \"gridcolor\": \"white\", \"linecolor\": \"white\", \"minorgridcolor\": \"white\", \"startlinecolor\": \"#2a3f5f\"}, \"type\": \"carpet\"}], \"choropleth\": [{\"colorbar\": {\"outlinewidth\": 0, \"ticks\": \"\"}, \"type\": \"choropleth\"}], \"contour\": [{\"colorbar\": {\"outlinewidth\": 0, \"ticks\": \"\"}, \"colorscale\": [[0.0, \"#0d0887\"], [0.1111111111111111, \"#46039f\"], [0.2222222222222222, \"#7201a8\"], [0.3333333333333333, \"#9c179e\"], [0.4444444444444444, \"#bd3786\"], [0.5555555555555556, \"#d8576b\"], [0.6666666666666666, \"#ed7953\"], [0.7777777777777778, \"#fb9f3a\"], [0.8888888888888888, \"#fdca26\"], [1.0, \"#f0f921\"]], \"type\": \"contour\"}], \"contourcarpet\": [{\"colorbar\": {\"outlinewidth\": 0, \"ticks\": \"\"}, \"type\": \"contourcarpet\"}], \"heatmap\": [{\"colorbar\": {\"outlinewidth\": 0, \"ticks\": \"\"}, \"colorscale\": [[0.0, \"#0d0887\"], [0.1111111111111111, \"#46039f\"], [0.2222222222222222, \"#7201a8\"], [0.3333333333333333, \"#9c179e\"], [0.4444444444444444, \"#bd3786\"], [0.5555555555555556, \"#d8576b\"], [0.6666666666666666, \"#ed7953\"], [0.7777777777777778, \"#fb9f3a\"], [0.8888888888888888, \"#fdca26\"], [1.0, \"#f0f921\"]], \"type\": \"heatmap\"}], \"heatmapgl\": [{\"colorbar\": {\"outlinewidth\": 0, \"ticks\": \"\"}, \"colorscale\": [[0.0, \"#0d0887\"], [0.1111111111111111, \"#46039f\"], [0.2222222222222222, \"#7201a8\"], [0.3333333333333333, \"#9c179e\"], [0.4444444444444444, \"#bd3786\"], [0.5555555555555556, \"#d8576b\"], [0.6666666666666666, \"#ed7953\"], [0.7777777777777778, \"#fb9f3a\"], [0.8888888888888888, \"#fdca26\"], [1.0, \"#f0f921\"]], \"type\": \"heatmapgl\"}], \"histogram\": [{\"marker\": {\"colorbar\": {\"outlinewidth\": 0, \"ticks\": \"\"}}, \"type\": \"histogram\"}], \"histogram2d\": [{\"colorbar\": {\"outlinewidth\": 0, \"ticks\": \"\"}, \"colorscale\": [[0.0, \"#0d0887\"], [0.1111111111111111, \"#46039f\"], [0.2222222222222222, \"#7201a8\"], [0.3333333333333333, \"#9c179e\"], [0.4444444444444444, \"#bd3786\"], [0.5555555555555556, \"#d8576b\"], [0.6666666666666666, \"#ed7953\"], [0.7777777777777778, \"#fb9f3a\"], [0.8888888888888888, \"#fdca26\"], [1.0, \"#f0f921\"]], \"type\": \"histogram2d\"}], \"histogram2dcontour\": [{\"colorbar\": {\"outlinewidth\": 0, \"ticks\": \"\"}, \"colorscale\": [[0.0, \"#0d0887\"], [0.1111111111111111, \"#46039f\"], [0.2222222222222222, \"#7201a8\"], [0.3333333333333333, \"#9c179e\"], [0.4444444444444444, \"#bd3786\"], [0.5555555555555556, \"#d8576b\"], [0.6666666666666666, \"#ed7953\"], [0.7777777777777778, \"#fb9f3a\"], [0.8888888888888888, \"#fdca26\"], [1.0, \"#f0f921\"]], \"type\": \"histogram2dcontour\"}], \"mesh3d\": [{\"colorbar\": {\"outlinewidth\": 0, \"ticks\": \"\"}, \"type\": \"mesh3d\"}], \"parcoords\": [{\"line\": {\"colorbar\": {\"outlinewidth\": 0, \"ticks\": \"\"}}, \"type\": \"parcoords\"}], \"pie\": [{\"automargin\": true, \"type\": \"pie\"}], \"scatter\": [{\"marker\": {\"colorbar\": {\"outlinewidth\": 0, \"ticks\": \"\"}}, \"type\": \"scatter\"}], \"scatter3d\": [{\"line\": {\"colorbar\": {\"outlinewidth\": 0, \"ticks\": \"\"}}, \"marker\": {\"colorbar\": {\"outlinewidth\": 0, \"ticks\": \"\"}}, \"type\": \"scatter3d\"}], \"scattercarpet\": [{\"marker\": {\"colorbar\": {\"outlinewidth\": 0, \"ticks\": \"\"}}, \"type\": \"scattercarpet\"}], \"scattergeo\": [{\"marker\": {\"colorbar\": {\"outlinewidth\": 0, \"ticks\": \"\"}}, \"type\": \"scattergeo\"}], \"scattergl\": [{\"marker\": {\"colorbar\": {\"outlinewidth\": 0, \"ticks\": \"\"}}, \"type\": \"scattergl\"}], \"scattermapbox\": [{\"marker\": {\"colorbar\": {\"outlinewidth\": 0, \"ticks\": \"\"}}, \"type\": \"scattermapbox\"}], \"scatterpolar\": [{\"marker\": {\"colorbar\": {\"outlinewidth\": 0, \"ticks\": \"\"}}, \"type\": \"scatterpolar\"}], \"scatterpolargl\": [{\"marker\": {\"colorbar\": {\"outlinewidth\": 0, \"ticks\": \"\"}}, \"type\": \"scatterpolargl\"}], \"scatterternary\": [{\"marker\": {\"colorbar\": {\"outlinewidth\": 0, \"ticks\": \"\"}}, \"type\": \"scatterternary\"}], \"surface\": [{\"colorbar\": {\"outlinewidth\": 0, \"ticks\": \"\"}, \"colorscale\": [[0.0, \"#0d0887\"], [0.1111111111111111, \"#46039f\"], [0.2222222222222222, \"#7201a8\"], [0.3333333333333333, \"#9c179e\"], [0.4444444444444444, \"#bd3786\"], [0.5555555555555556, \"#d8576b\"], [0.6666666666666666, \"#ed7953\"], [0.7777777777777778, \"#fb9f3a\"], [0.8888888888888888, \"#fdca26\"], [1.0, \"#f0f921\"]], \"type\": \"surface\"}], \"table\": [{\"cells\": {\"fill\": {\"color\": \"#EBF0F8\"}, \"line\": {\"color\": \"white\"}}, \"header\": {\"fill\": {\"color\": \"#C8D4E3\"}, \"line\": {\"color\": \"white\"}}, \"type\": \"table\"}]}, \"layout\": {\"annotationdefaults\": {\"arrowcolor\": \"#2a3f5f\", \"arrowhead\": 0, \"arrowwidth\": 1}, \"coloraxis\": {\"colorbar\": {\"outlinewidth\": 0, \"ticks\": \"\"}}, \"colorscale\": {\"diverging\": [[0, \"#8e0152\"], [0.1, \"#c51b7d\"], [0.2, \"#de77ae\"], [0.3, \"#f1b6da\"], [0.4, \"#fde0ef\"], [0.5, \"#f7f7f7\"], [0.6, \"#e6f5d0\"], [0.7, \"#b8e186\"], [0.8, \"#7fbc41\"], [0.9, \"#4d9221\"], [1, \"#276419\"]], \"sequential\": [[0.0, \"#0d0887\"], [0.1111111111111111, \"#46039f\"], [0.2222222222222222, \"#7201a8\"], [0.3333333333333333, \"#9c179e\"], [0.4444444444444444, \"#bd3786\"], [0.5555555555555556, \"#d8576b\"], [0.6666666666666666, \"#ed7953\"], [0.7777777777777778, \"#fb9f3a\"], [0.8888888888888888, \"#fdca26\"], [1.0, \"#f0f921\"]], \"sequentialminus\": [[0.0, \"#0d0887\"], [0.1111111111111111, \"#46039f\"], [0.2222222222222222, \"#7201a8\"], [0.3333333333333333, \"#9c179e\"], [0.4444444444444444, \"#bd3786\"], [0.5555555555555556, \"#d8576b\"], [0.6666666666666666, \"#ed7953\"], [0.7777777777777778, \"#fb9f3a\"], [0.8888888888888888, \"#fdca26\"], [1.0, \"#f0f921\"]]}, \"colorway\": [\"#636efa\", \"#EF553B\", \"#00cc96\", \"#ab63fa\", \"#FFA15A\", \"#19d3f3\", \"#FF6692\", \"#B6E880\", \"#FF97FF\", \"#FECB52\"], \"font\": {\"color\": \"#2a3f5f\"}, \"geo\": {\"bgcolor\": \"white\", \"lakecolor\": \"white\", \"landcolor\": \"#E5ECF6\", \"showlakes\": true, \"showland\": true, \"subunitcolor\": \"white\"}, \"hoverlabel\": {\"align\": \"left\"}, \"hovermode\": \"closest\", \"mapbox\": {\"style\": \"light\"}, \"paper_bgcolor\": \"white\", \"plot_bgcolor\": \"#E5ECF6\", \"polar\": {\"angularaxis\": {\"gridcolor\": \"white\", \"linecolor\": \"white\", \"ticks\": \"\"}, \"bgcolor\": \"#E5ECF6\", \"radialaxis\": {\"gridcolor\": \"white\", \"linecolor\": \"white\", \"ticks\": \"\"}}, \"scene\": {\"xaxis\": {\"backgroundcolor\": \"#E5ECF6\", \"gridcolor\": \"white\", \"gridwidth\": 2, \"linecolor\": \"white\", \"showbackground\": true, \"ticks\": \"\", \"zerolinecolor\": \"white\"}, \"yaxis\": {\"backgroundcolor\": \"#E5ECF6\", \"gridcolor\": \"white\", \"gridwidth\": 2, \"linecolor\": \"white\", \"showbackground\": true, \"ticks\": \"\", \"zerolinecolor\": \"white\"}, \"zaxis\": {\"backgroundcolor\": \"#E5ECF6\", \"gridcolor\": \"white\", \"gridwidth\": 2, \"linecolor\": \"white\", \"showbackground\": true, \"ticks\": \"\", \"zerolinecolor\": \"white\"}}, \"shapedefaults\": {\"line\": {\"color\": \"#2a3f5f\"}}, \"ternary\": {\"aaxis\": {\"gridcolor\": \"white\", \"linecolor\": \"white\", \"ticks\": \"\"}, \"baxis\": {\"gridcolor\": \"white\", \"linecolor\": \"white\", \"ticks\": \"\"}, \"bgcolor\": \"#E5ECF6\", \"caxis\": {\"gridcolor\": \"white\", \"linecolor\": \"white\", \"ticks\": \"\"}}, \"title\": {\"x\": 0.05}, \"xaxis\": {\"automargin\": true, \"gridcolor\": \"white\", \"linecolor\": \"white\", \"ticks\": \"\", \"title\": {\"standoff\": 15}, \"zerolinecolor\": \"white\", \"zerolinewidth\": 2}, \"yaxis\": {\"automargin\": true, \"gridcolor\": \"white\", \"linecolor\": \"white\", \"ticks\": \"\", \"title\": {\"standoff\": 15}, \"zerolinecolor\": \"white\", \"zerolinewidth\": 2}}}},\n",
       "                        {\"responsive\": true}\n",
       "                    ).then(function(){\n",
       "                            \n",
       "var gd = document.getElementById('1485f475-94f4-466e-b20f-53b004ac5c85');\n",
       "var x = new MutationObserver(function (mutations, observer) {{\n",
       "        var display = window.getComputedStyle(gd).display;\n",
       "        if (!display || display === 'none') {{\n",
       "            console.log([gd, 'removed!']);\n",
       "            Plotly.purge(gd);\n",
       "            observer.disconnect();\n",
       "        }}\n",
       "}});\n",
       "\n",
       "// Listen for the removal of the full notebook cells\n",
       "var notebookContainer = gd.closest('#notebook-container');\n",
       "if (notebookContainer) {{\n",
       "    x.observe(notebookContainer, {childList: true});\n",
       "}}\n",
       "\n",
       "// Listen for the clearing of the current output cell\n",
       "var outputEl = gd.closest('.output');\n",
       "if (outputEl) {{\n",
       "    x.observe(outputEl, {childList: true});\n",
       "}}\n",
       "\n",
       "                        })\n",
       "                };\n",
       "                });\n",
       "            </script>\n",
       "        </div>"
      ]
     },
     "metadata": {},
     "output_type": "display_data"
    }
   ],
   "source": [
    "fig = go.Figure(data = go.Scatter(x = iris.sepal_length, y = iris.petal_length))\n",
    "fig.show()"
   ]
  },
  {
   "cell_type": "code",
   "execution_count": 70,
   "metadata": {},
   "outputs": [
    {
     "data": {
      "text/plain": [
       "{'data': [{'x': array([5.1, 4.9, 4.7, 4.6, 5. , 5.4, 4.6, 5. , 4.4, 4.9, 5.4, 4.8, 4.8,\n",
       "          4.3, 5.8, 5.7, 5.4, 5.1, 5.7, 5.1, 5.4, 5.1, 4.6, 5.1, 4.8, 5. ,\n",
       "          5. , 5.2, 5.2, 4.7, 4.8, 5.4, 5.2, 5.5, 4.9, 5. , 5.5, 4.9, 4.4,\n",
       "          5.1, 5. , 4.5, 4.4, 5. , 5.1, 4.8, 5.1, 4.6, 5.3, 5. , 7. , 6.4,\n",
       "          6.9, 5.5, 6.5, 5.7, 6.3, 4.9, 6.6, 5.2, 5. , 5.9, 6. , 6.1, 5.6,\n",
       "          6.7, 5.6, 5.8, 6.2, 5.6, 5.9, 6.1, 6.3, 6.1, 6.4, 6.6, 6.8, 6.7,\n",
       "          6. , 5.7, 5.5, 5.5, 5.8, 6. , 5.4, 6. , 6.7, 6.3, 5.6, 5.5, 5.5,\n",
       "          6.1, 5.8, 5. , 5.6, 5.7, 5.7, 6.2, 5.1, 5.7, 6.3, 5.8, 7.1, 6.3,\n",
       "          6.5, 7.6, 4.9, 7.3, 6.7, 7.2, 6.5, 6.4, 6.8, 5.7, 5.8, 6.4, 6.5,\n",
       "          7.7, 7.7, 6. , 6.9, 5.6, 7.7, 6.3, 6.7, 7.2, 6.2, 6.1, 6.4, 7.2,\n",
       "          7.4, 7.9, 6.4, 6.3, 6.1, 7.7, 6.3, 6.4, 6. , 6.9, 6.7, 6.9, 5.8,\n",
       "          6.8, 6.7, 6.7, 6.3, 6.5, 6.2, 5.9]),\n",
       "   'y': array([1.4, 1.4, 1.3, 1.5, 1.4, 1.7, 1.4, 1.5, 1.4, 1.5, 1.5, 1.6, 1.4,\n",
       "          1.1, 1.2, 1.5, 1.3, 1.4, 1.7, 1.5, 1.7, 1.5, 1. , 1.7, 1.9, 1.6,\n",
       "          1.6, 1.5, 1.4, 1.6, 1.6, 1.5, 1.5, 1.4, 1.5, 1.2, 1.3, 1.5, 1.3,\n",
       "          1.5, 1.3, 1.3, 1.3, 1.6, 1.9, 1.4, 1.6, 1.4, 1.5, 1.4, 4.7, 4.5,\n",
       "          4.9, 4. , 4.6, 4.5, 4.7, 3.3, 4.6, 3.9, 3.5, 4.2, 4. , 4.7, 3.6,\n",
       "          4.4, 4.5, 4.1, 4.5, 3.9, 4.8, 4. , 4.9, 4.7, 4.3, 4.4, 4.8, 5. ,\n",
       "          4.5, 3.5, 3.8, 3.7, 3.9, 5.1, 4.5, 4.5, 4.7, 4.4, 4.1, 4. , 4.4,\n",
       "          4.6, 4. , 3.3, 4.2, 4.2, 4.2, 4.3, 3. , 4.1, 6. , 5.1, 5.9, 5.6,\n",
       "          5.8, 6.6, 4.5, 6.3, 5.8, 6.1, 5.1, 5.3, 5.5, 5. , 5.1, 5.3, 5.5,\n",
       "          6.7, 6.9, 5. , 5.7, 4.9, 6.7, 4.9, 5.7, 6. , 4.8, 4.9, 5.6, 5.8,\n",
       "          6.1, 6.4, 5.6, 5.1, 5.6, 6.1, 5.6, 5.5, 4.8, 5.4, 5.6, 5.1, 5.1,\n",
       "          5.9, 5.7, 5.2, 5. , 5.2, 5.4, 5.1]),\n",
       "   'type': 'scatter'}],\n",
       " 'layout': {'template': {'data': {'barpolar': [{'marker': {'line': {'color': '#E5ECF6',\n",
       "        'width': 0.5}},\n",
       "      'type': 'barpolar'}],\n",
       "    'bar': [{'error_x': {'color': '#2a3f5f'},\n",
       "      'error_y': {'color': '#2a3f5f'},\n",
       "      'marker': {'line': {'color': '#E5ECF6', 'width': 0.5}},\n",
       "      'type': 'bar'}],\n",
       "    'carpet': [{'aaxis': {'endlinecolor': '#2a3f5f',\n",
       "       'gridcolor': 'white',\n",
       "       'linecolor': 'white',\n",
       "       'minorgridcolor': 'white',\n",
       "       'startlinecolor': '#2a3f5f'},\n",
       "      'baxis': {'endlinecolor': '#2a3f5f',\n",
       "       'gridcolor': 'white',\n",
       "       'linecolor': 'white',\n",
       "       'minorgridcolor': 'white',\n",
       "       'startlinecolor': '#2a3f5f'},\n",
       "      'type': 'carpet'}],\n",
       "    'choropleth': [{'colorbar': {'outlinewidth': 0, 'ticks': ''},\n",
       "      'type': 'choropleth'}],\n",
       "    'contourcarpet': [{'colorbar': {'outlinewidth': 0, 'ticks': ''},\n",
       "      'type': 'contourcarpet'}],\n",
       "    'contour': [{'colorbar': {'outlinewidth': 0, 'ticks': ''},\n",
       "      'colorscale': [[0.0, '#0d0887'],\n",
       "       [0.1111111111111111, '#46039f'],\n",
       "       [0.2222222222222222, '#7201a8'],\n",
       "       [0.3333333333333333, '#9c179e'],\n",
       "       [0.4444444444444444, '#bd3786'],\n",
       "       [0.5555555555555556, '#d8576b'],\n",
       "       [0.6666666666666666, '#ed7953'],\n",
       "       [0.7777777777777778, '#fb9f3a'],\n",
       "       [0.8888888888888888, '#fdca26'],\n",
       "       [1.0, '#f0f921']],\n",
       "      'type': 'contour'}],\n",
       "    'heatmapgl': [{'colorbar': {'outlinewidth': 0, 'ticks': ''},\n",
       "      'colorscale': [[0.0, '#0d0887'],\n",
       "       [0.1111111111111111, '#46039f'],\n",
       "       [0.2222222222222222, '#7201a8'],\n",
       "       [0.3333333333333333, '#9c179e'],\n",
       "       [0.4444444444444444, '#bd3786'],\n",
       "       [0.5555555555555556, '#d8576b'],\n",
       "       [0.6666666666666666, '#ed7953'],\n",
       "       [0.7777777777777778, '#fb9f3a'],\n",
       "       [0.8888888888888888, '#fdca26'],\n",
       "       [1.0, '#f0f921']],\n",
       "      'type': 'heatmapgl'}],\n",
       "    'heatmap': [{'colorbar': {'outlinewidth': 0, 'ticks': ''},\n",
       "      'colorscale': [[0.0, '#0d0887'],\n",
       "       [0.1111111111111111, '#46039f'],\n",
       "       [0.2222222222222222, '#7201a8'],\n",
       "       [0.3333333333333333, '#9c179e'],\n",
       "       [0.4444444444444444, '#bd3786'],\n",
       "       [0.5555555555555556, '#d8576b'],\n",
       "       [0.6666666666666666, '#ed7953'],\n",
       "       [0.7777777777777778, '#fb9f3a'],\n",
       "       [0.8888888888888888, '#fdca26'],\n",
       "       [1.0, '#f0f921']],\n",
       "      'type': 'heatmap'}],\n",
       "    'histogram2dcontour': [{'colorbar': {'outlinewidth': 0, 'ticks': ''},\n",
       "      'colorscale': [[0.0, '#0d0887'],\n",
       "       [0.1111111111111111, '#46039f'],\n",
       "       [0.2222222222222222, '#7201a8'],\n",
       "       [0.3333333333333333, '#9c179e'],\n",
       "       [0.4444444444444444, '#bd3786'],\n",
       "       [0.5555555555555556, '#d8576b'],\n",
       "       [0.6666666666666666, '#ed7953'],\n",
       "       [0.7777777777777778, '#fb9f3a'],\n",
       "       [0.8888888888888888, '#fdca26'],\n",
       "       [1.0, '#f0f921']],\n",
       "      'type': 'histogram2dcontour'}],\n",
       "    'histogram2d': [{'colorbar': {'outlinewidth': 0, 'ticks': ''},\n",
       "      'colorscale': [[0.0, '#0d0887'],\n",
       "       [0.1111111111111111, '#46039f'],\n",
       "       [0.2222222222222222, '#7201a8'],\n",
       "       [0.3333333333333333, '#9c179e'],\n",
       "       [0.4444444444444444, '#bd3786'],\n",
       "       [0.5555555555555556, '#d8576b'],\n",
       "       [0.6666666666666666, '#ed7953'],\n",
       "       [0.7777777777777778, '#fb9f3a'],\n",
       "       [0.8888888888888888, '#fdca26'],\n",
       "       [1.0, '#f0f921']],\n",
       "      'type': 'histogram2d'}],\n",
       "    'histogram': [{'marker': {'colorbar': {'outlinewidth': 0, 'ticks': ''}},\n",
       "      'type': 'histogram'}],\n",
       "    'mesh3d': [{'colorbar': {'outlinewidth': 0, 'ticks': ''},\n",
       "      'type': 'mesh3d'}],\n",
       "    'parcoords': [{'line': {'colorbar': {'outlinewidth': 0, 'ticks': ''}},\n",
       "      'type': 'parcoords'}],\n",
       "    'pie': [{'automargin': True, 'type': 'pie'}],\n",
       "    'scatter3d': [{'line': {'colorbar': {'outlinewidth': 0, 'ticks': ''}},\n",
       "      'marker': {'colorbar': {'outlinewidth': 0, 'ticks': ''}},\n",
       "      'type': 'scatter3d'}],\n",
       "    'scattercarpet': [{'marker': {'colorbar': {'outlinewidth': 0,\n",
       "        'ticks': ''}},\n",
       "      'type': 'scattercarpet'}],\n",
       "    'scattergeo': [{'marker': {'colorbar': {'outlinewidth': 0, 'ticks': ''}},\n",
       "      'type': 'scattergeo'}],\n",
       "    'scattergl': [{'marker': {'colorbar': {'outlinewidth': 0, 'ticks': ''}},\n",
       "      'type': 'scattergl'}],\n",
       "    'scattermapbox': [{'marker': {'colorbar': {'outlinewidth': 0,\n",
       "        'ticks': ''}},\n",
       "      'type': 'scattermapbox'}],\n",
       "    'scatterpolargl': [{'marker': {'colorbar': {'outlinewidth': 0,\n",
       "        'ticks': ''}},\n",
       "      'type': 'scatterpolargl'}],\n",
       "    'scatterpolar': [{'marker': {'colorbar': {'outlinewidth': 0, 'ticks': ''}},\n",
       "      'type': 'scatterpolar'}],\n",
       "    'scatter': [{'marker': {'colorbar': {'outlinewidth': 0, 'ticks': ''}},\n",
       "      'type': 'scatter'}],\n",
       "    'scatterternary': [{'marker': {'colorbar': {'outlinewidth': 0,\n",
       "        'ticks': ''}},\n",
       "      'type': 'scatterternary'}],\n",
       "    'surface': [{'colorbar': {'outlinewidth': 0, 'ticks': ''},\n",
       "      'colorscale': [[0.0, '#0d0887'],\n",
       "       [0.1111111111111111, '#46039f'],\n",
       "       [0.2222222222222222, '#7201a8'],\n",
       "       [0.3333333333333333, '#9c179e'],\n",
       "       [0.4444444444444444, '#bd3786'],\n",
       "       [0.5555555555555556, '#d8576b'],\n",
       "       [0.6666666666666666, '#ed7953'],\n",
       "       [0.7777777777777778, '#fb9f3a'],\n",
       "       [0.8888888888888888, '#fdca26'],\n",
       "       [1.0, '#f0f921']],\n",
       "      'type': 'surface'}],\n",
       "    'table': [{'cells': {'fill': {'color': '#EBF0F8'},\n",
       "       'line': {'color': 'white'}},\n",
       "      'header': {'fill': {'color': '#C8D4E3'}, 'line': {'color': 'white'}},\n",
       "      'type': 'table'}]},\n",
       "   'layout': {'annotationdefaults': {'arrowcolor': '#2a3f5f',\n",
       "     'arrowhead': 0,\n",
       "     'arrowwidth': 1},\n",
       "    'coloraxis': {'colorbar': {'outlinewidth': 0, 'ticks': ''}},\n",
       "    'colorscale': {'diverging': [[0, '#8e0152'],\n",
       "      [0.1, '#c51b7d'],\n",
       "      [0.2, '#de77ae'],\n",
       "      [0.3, '#f1b6da'],\n",
       "      [0.4, '#fde0ef'],\n",
       "      [0.5, '#f7f7f7'],\n",
       "      [0.6, '#e6f5d0'],\n",
       "      [0.7, '#b8e186'],\n",
       "      [0.8, '#7fbc41'],\n",
       "      [0.9, '#4d9221'],\n",
       "      [1, '#276419']],\n",
       "     'sequential': [[0.0, '#0d0887'],\n",
       "      [0.1111111111111111, '#46039f'],\n",
       "      [0.2222222222222222, '#7201a8'],\n",
       "      [0.3333333333333333, '#9c179e'],\n",
       "      [0.4444444444444444, '#bd3786'],\n",
       "      [0.5555555555555556, '#d8576b'],\n",
       "      [0.6666666666666666, '#ed7953'],\n",
       "      [0.7777777777777778, '#fb9f3a'],\n",
       "      [0.8888888888888888, '#fdca26'],\n",
       "      [1.0, '#f0f921']],\n",
       "     'sequentialminus': [[0.0, '#0d0887'],\n",
       "      [0.1111111111111111, '#46039f'],\n",
       "      [0.2222222222222222, '#7201a8'],\n",
       "      [0.3333333333333333, '#9c179e'],\n",
       "      [0.4444444444444444, '#bd3786'],\n",
       "      [0.5555555555555556, '#d8576b'],\n",
       "      [0.6666666666666666, '#ed7953'],\n",
       "      [0.7777777777777778, '#fb9f3a'],\n",
       "      [0.8888888888888888, '#fdca26'],\n",
       "      [1.0, '#f0f921']]},\n",
       "    'colorway': ['#636efa',\n",
       "     '#EF553B',\n",
       "     '#00cc96',\n",
       "     '#ab63fa',\n",
       "     '#FFA15A',\n",
       "     '#19d3f3',\n",
       "     '#FF6692',\n",
       "     '#B6E880',\n",
       "     '#FF97FF',\n",
       "     '#FECB52'],\n",
       "    'font': {'color': '#2a3f5f'},\n",
       "    'geo': {'bgcolor': 'white',\n",
       "     'lakecolor': 'white',\n",
       "     'landcolor': '#E5ECF6',\n",
       "     'showlakes': True,\n",
       "     'showland': True,\n",
       "     'subunitcolor': 'white'},\n",
       "    'hoverlabel': {'align': 'left'},\n",
       "    'hovermode': 'closest',\n",
       "    'mapbox': {'style': 'light'},\n",
       "    'paper_bgcolor': 'white',\n",
       "    'plot_bgcolor': '#E5ECF6',\n",
       "    'polar': {'angularaxis': {'gridcolor': 'white',\n",
       "      'linecolor': 'white',\n",
       "      'ticks': ''},\n",
       "     'bgcolor': '#E5ECF6',\n",
       "     'radialaxis': {'gridcolor': 'white', 'linecolor': 'white', 'ticks': ''}},\n",
       "    'scene': {'xaxis': {'backgroundcolor': '#E5ECF6',\n",
       "      'gridcolor': 'white',\n",
       "      'gridwidth': 2,\n",
       "      'linecolor': 'white',\n",
       "      'showbackground': True,\n",
       "      'ticks': '',\n",
       "      'zerolinecolor': 'white'},\n",
       "     'yaxis': {'backgroundcolor': '#E5ECF6',\n",
       "      'gridcolor': 'white',\n",
       "      'gridwidth': 2,\n",
       "      'linecolor': 'white',\n",
       "      'showbackground': True,\n",
       "      'ticks': '',\n",
       "      'zerolinecolor': 'white'},\n",
       "     'zaxis': {'backgroundcolor': '#E5ECF6',\n",
       "      'gridcolor': 'white',\n",
       "      'gridwidth': 2,\n",
       "      'linecolor': 'white',\n",
       "      'showbackground': True,\n",
       "      'ticks': '',\n",
       "      'zerolinecolor': 'white'}},\n",
       "    'shapedefaults': {'line': {'color': '#2a3f5f'}},\n",
       "    'ternary': {'aaxis': {'gridcolor': 'white',\n",
       "      'linecolor': 'white',\n",
       "      'ticks': ''},\n",
       "     'baxis': {'gridcolor': 'white', 'linecolor': 'white', 'ticks': ''},\n",
       "     'bgcolor': '#E5ECF6',\n",
       "     'caxis': {'gridcolor': 'white', 'linecolor': 'white', 'ticks': ''}},\n",
       "    'title': {'x': 0.05},\n",
       "    'xaxis': {'automargin': True,\n",
       "     'gridcolor': 'white',\n",
       "     'linecolor': 'white',\n",
       "     'ticks': '',\n",
       "     'title': {'standoff': 15},\n",
       "     'zerolinecolor': 'white',\n",
       "     'zerolinewidth': 2},\n",
       "    'yaxis': {'automargin': True,\n",
       "     'gridcolor': 'white',\n",
       "     'linecolor': 'white',\n",
       "     'ticks': '',\n",
       "     'title': {'standoff': 15},\n",
       "     'zerolinecolor': 'white',\n",
       "     'zerolinewidth': 2}}}}}"
      ]
     },
     "execution_count": 70,
     "metadata": {},
     "output_type": "execute_result"
    }
   ],
   "source": [
    "fig.to_dict()"
   ]
  },
  {
   "cell_type": "code",
   "execution_count": 73,
   "metadata": {},
   "outputs": [],
   "source": []
  },
  {
   "cell_type": "markdown",
   "metadata": {},
   "source": [
    "# Creating subplots in figure"
   ]
  },
  {
   "cell_type": "code",
   "execution_count": 152,
   "metadata": {},
   "outputs": [
    {
     "data": {
      "application/vnd.plotly.v1+json": {
       "config": {
        "plotlyServerURL": "https://plot.ly"
       },
       "data": [
        {
         "marker": {
          "color": "chocolate",
          "size": 5
         },
         "mode": "markers",
         "type": "scatter",
         "x": [
          12,
          56,
          10,
          88,
          59,
          57,
          34,
          28,
          21,
          89,
          76,
          94,
          17,
          23,
          92,
          20,
          96,
          15,
          24,
          45,
          3,
          21,
          51,
          46,
          40,
          13,
          67,
          10,
          80,
          32,
          44,
          83,
          49,
          83,
          41,
          5,
          50,
          57,
          82,
          96,
          70,
          47,
          12,
          97,
          94,
          42,
          46,
          49,
          10,
          60,
          29,
          6,
          35,
          52,
          2,
          43,
          60,
          85,
          81,
          52,
          67,
          56,
          21,
          21,
          92,
          26,
          76,
          71,
          13,
          41,
          91,
          86,
          15,
          94,
          77,
          39,
          47,
          13,
          16,
          9,
          4,
          10,
          15,
          92,
          99,
          17,
          10,
          63,
          65,
          59,
          19,
          47,
          14,
          26,
          65,
          99,
          94,
          14,
          64,
          92
         ],
         "y": [
          85,
          128,
          94,
          103,
          13,
          29,
          140,
          139,
          60,
          41,
          132,
          33,
          114,
          133,
          139,
          47,
          159,
          79,
          144,
          148,
          18,
          33,
          62,
          66,
          151,
          91,
          186,
          56,
          84,
          92,
          40,
          99,
          177,
          11,
          152,
          116,
          88,
          197,
          135,
          69,
          40,
          43,
          34,
          195,
          146,
          60,
          178,
          39,
          48,
          169,
          151,
          122,
          184,
          50,
          102,
          145,
          41,
          25,
          22,
          168,
          37,
          159,
          142,
          185,
          191,
          172,
          41,
          16,
          176,
          70,
          192,
          34,
          158,
          109,
          183,
          35,
          11,
          183,
          14,
          147,
          154,
          174,
          178,
          47,
          34,
          72,
          169,
          144,
          75,
          53,
          71,
          193,
          63,
          73,
          104,
          161,
          77,
          193,
          25,
          23
         ]
        },
        {
         "type": "bar",
         "x": [
          10,
          20,
          30
         ],
         "y": [
          20,
          30,
          40
         ]
        }
       ],
       "layout": {
        "template": {
         "data": {
          "bar": [
           {
            "error_x": {
             "color": "#2a3f5f"
            },
            "error_y": {
             "color": "#2a3f5f"
            },
            "marker": {
             "line": {
              "color": "#E5ECF6",
              "width": 0.5
             }
            },
            "type": "bar"
           }
          ],
          "barpolar": [
           {
            "marker": {
             "line": {
              "color": "#E5ECF6",
              "width": 0.5
             }
            },
            "type": "barpolar"
           }
          ],
          "carpet": [
           {
            "aaxis": {
             "endlinecolor": "#2a3f5f",
             "gridcolor": "white",
             "linecolor": "white",
             "minorgridcolor": "white",
             "startlinecolor": "#2a3f5f"
            },
            "baxis": {
             "endlinecolor": "#2a3f5f",
             "gridcolor": "white",
             "linecolor": "white",
             "minorgridcolor": "white",
             "startlinecolor": "#2a3f5f"
            },
            "type": "carpet"
           }
          ],
          "choropleth": [
           {
            "colorbar": {
             "outlinewidth": 0,
             "ticks": ""
            },
            "type": "choropleth"
           }
          ],
          "contour": [
           {
            "colorbar": {
             "outlinewidth": 0,
             "ticks": ""
            },
            "colorscale": [
             [
              0,
              "#0d0887"
             ],
             [
              0.1111111111111111,
              "#46039f"
             ],
             [
              0.2222222222222222,
              "#7201a8"
             ],
             [
              0.3333333333333333,
              "#9c179e"
             ],
             [
              0.4444444444444444,
              "#bd3786"
             ],
             [
              0.5555555555555556,
              "#d8576b"
             ],
             [
              0.6666666666666666,
              "#ed7953"
             ],
             [
              0.7777777777777778,
              "#fb9f3a"
             ],
             [
              0.8888888888888888,
              "#fdca26"
             ],
             [
              1,
              "#f0f921"
             ]
            ],
            "type": "contour"
           }
          ],
          "contourcarpet": [
           {
            "colorbar": {
             "outlinewidth": 0,
             "ticks": ""
            },
            "type": "contourcarpet"
           }
          ],
          "heatmap": [
           {
            "colorbar": {
             "outlinewidth": 0,
             "ticks": ""
            },
            "colorscale": [
             [
              0,
              "#0d0887"
             ],
             [
              0.1111111111111111,
              "#46039f"
             ],
             [
              0.2222222222222222,
              "#7201a8"
             ],
             [
              0.3333333333333333,
              "#9c179e"
             ],
             [
              0.4444444444444444,
              "#bd3786"
             ],
             [
              0.5555555555555556,
              "#d8576b"
             ],
             [
              0.6666666666666666,
              "#ed7953"
             ],
             [
              0.7777777777777778,
              "#fb9f3a"
             ],
             [
              0.8888888888888888,
              "#fdca26"
             ],
             [
              1,
              "#f0f921"
             ]
            ],
            "type": "heatmap"
           }
          ],
          "heatmapgl": [
           {
            "colorbar": {
             "outlinewidth": 0,
             "ticks": ""
            },
            "colorscale": [
             [
              0,
              "#0d0887"
             ],
             [
              0.1111111111111111,
              "#46039f"
             ],
             [
              0.2222222222222222,
              "#7201a8"
             ],
             [
              0.3333333333333333,
              "#9c179e"
             ],
             [
              0.4444444444444444,
              "#bd3786"
             ],
             [
              0.5555555555555556,
              "#d8576b"
             ],
             [
              0.6666666666666666,
              "#ed7953"
             ],
             [
              0.7777777777777778,
              "#fb9f3a"
             ],
             [
              0.8888888888888888,
              "#fdca26"
             ],
             [
              1,
              "#f0f921"
             ]
            ],
            "type": "heatmapgl"
           }
          ],
          "histogram": [
           {
            "marker": {
             "colorbar": {
              "outlinewidth": 0,
              "ticks": ""
             }
            },
            "type": "histogram"
           }
          ],
          "histogram2d": [
           {
            "colorbar": {
             "outlinewidth": 0,
             "ticks": ""
            },
            "colorscale": [
             [
              0,
              "#0d0887"
             ],
             [
              0.1111111111111111,
              "#46039f"
             ],
             [
              0.2222222222222222,
              "#7201a8"
             ],
             [
              0.3333333333333333,
              "#9c179e"
             ],
             [
              0.4444444444444444,
              "#bd3786"
             ],
             [
              0.5555555555555556,
              "#d8576b"
             ],
             [
              0.6666666666666666,
              "#ed7953"
             ],
             [
              0.7777777777777778,
              "#fb9f3a"
             ],
             [
              0.8888888888888888,
              "#fdca26"
             ],
             [
              1,
              "#f0f921"
             ]
            ],
            "type": "histogram2d"
           }
          ],
          "histogram2dcontour": [
           {
            "colorbar": {
             "outlinewidth": 0,
             "ticks": ""
            },
            "colorscale": [
             [
              0,
              "#0d0887"
             ],
             [
              0.1111111111111111,
              "#46039f"
             ],
             [
              0.2222222222222222,
              "#7201a8"
             ],
             [
              0.3333333333333333,
              "#9c179e"
             ],
             [
              0.4444444444444444,
              "#bd3786"
             ],
             [
              0.5555555555555556,
              "#d8576b"
             ],
             [
              0.6666666666666666,
              "#ed7953"
             ],
             [
              0.7777777777777778,
              "#fb9f3a"
             ],
             [
              0.8888888888888888,
              "#fdca26"
             ],
             [
              1,
              "#f0f921"
             ]
            ],
            "type": "histogram2dcontour"
           }
          ],
          "mesh3d": [
           {
            "colorbar": {
             "outlinewidth": 0,
             "ticks": ""
            },
            "type": "mesh3d"
           }
          ],
          "parcoords": [
           {
            "line": {
             "colorbar": {
              "outlinewidth": 0,
              "ticks": ""
             }
            },
            "type": "parcoords"
           }
          ],
          "pie": [
           {
            "automargin": true,
            "type": "pie"
           }
          ],
          "scatter": [
           {
            "marker": {
             "colorbar": {
              "outlinewidth": 0,
              "ticks": ""
             }
            },
            "type": "scatter"
           }
          ],
          "scatter3d": [
           {
            "line": {
             "colorbar": {
              "outlinewidth": 0,
              "ticks": ""
             }
            },
            "marker": {
             "colorbar": {
              "outlinewidth": 0,
              "ticks": ""
             }
            },
            "type": "scatter3d"
           }
          ],
          "scattercarpet": [
           {
            "marker": {
             "colorbar": {
              "outlinewidth": 0,
              "ticks": ""
             }
            },
            "type": "scattercarpet"
           }
          ],
          "scattergeo": [
           {
            "marker": {
             "colorbar": {
              "outlinewidth": 0,
              "ticks": ""
             }
            },
            "type": "scattergeo"
           }
          ],
          "scattergl": [
           {
            "marker": {
             "colorbar": {
              "outlinewidth": 0,
              "ticks": ""
             }
            },
            "type": "scattergl"
           }
          ],
          "scattermapbox": [
           {
            "marker": {
             "colorbar": {
              "outlinewidth": 0,
              "ticks": ""
             }
            },
            "type": "scattermapbox"
           }
          ],
          "scatterpolar": [
           {
            "marker": {
             "colorbar": {
              "outlinewidth": 0,
              "ticks": ""
             }
            },
            "type": "scatterpolar"
           }
          ],
          "scatterpolargl": [
           {
            "marker": {
             "colorbar": {
              "outlinewidth": 0,
              "ticks": ""
             }
            },
            "type": "scatterpolargl"
           }
          ],
          "scatterternary": [
           {
            "marker": {
             "colorbar": {
              "outlinewidth": 0,
              "ticks": ""
             }
            },
            "type": "scatterternary"
           }
          ],
          "surface": [
           {
            "colorbar": {
             "outlinewidth": 0,
             "ticks": ""
            },
            "colorscale": [
             [
              0,
              "#0d0887"
             ],
             [
              0.1111111111111111,
              "#46039f"
             ],
             [
              0.2222222222222222,
              "#7201a8"
             ],
             [
              0.3333333333333333,
              "#9c179e"
             ],
             [
              0.4444444444444444,
              "#bd3786"
             ],
             [
              0.5555555555555556,
              "#d8576b"
             ],
             [
              0.6666666666666666,
              "#ed7953"
             ],
             [
              0.7777777777777778,
              "#fb9f3a"
             ],
             [
              0.8888888888888888,
              "#fdca26"
             ],
             [
              1,
              "#f0f921"
             ]
            ],
            "type": "surface"
           }
          ],
          "table": [
           {
            "cells": {
             "fill": {
              "color": "#EBF0F8"
             },
             "line": {
              "color": "white"
             }
            },
            "header": {
             "fill": {
              "color": "#C8D4E3"
             },
             "line": {
              "color": "white"
             }
            },
            "type": "table"
           }
          ]
         },
         "layout": {
          "annotationdefaults": {
           "arrowcolor": "#2a3f5f",
           "arrowhead": 0,
           "arrowwidth": 1
          },
          "coloraxis": {
           "colorbar": {
            "outlinewidth": 0,
            "ticks": ""
           }
          },
          "colorscale": {
           "diverging": [
            [
             0,
             "#8e0152"
            ],
            [
             0.1,
             "#c51b7d"
            ],
            [
             0.2,
             "#de77ae"
            ],
            [
             0.3,
             "#f1b6da"
            ],
            [
             0.4,
             "#fde0ef"
            ],
            [
             0.5,
             "#f7f7f7"
            ],
            [
             0.6,
             "#e6f5d0"
            ],
            [
             0.7,
             "#b8e186"
            ],
            [
             0.8,
             "#7fbc41"
            ],
            [
             0.9,
             "#4d9221"
            ],
            [
             1,
             "#276419"
            ]
           ],
           "sequential": [
            [
             0,
             "#0d0887"
            ],
            [
             0.1111111111111111,
             "#46039f"
            ],
            [
             0.2222222222222222,
             "#7201a8"
            ],
            [
             0.3333333333333333,
             "#9c179e"
            ],
            [
             0.4444444444444444,
             "#bd3786"
            ],
            [
             0.5555555555555556,
             "#d8576b"
            ],
            [
             0.6666666666666666,
             "#ed7953"
            ],
            [
             0.7777777777777778,
             "#fb9f3a"
            ],
            [
             0.8888888888888888,
             "#fdca26"
            ],
            [
             1,
             "#f0f921"
            ]
           ],
           "sequentialminus": [
            [
             0,
             "#0d0887"
            ],
            [
             0.1111111111111111,
             "#46039f"
            ],
            [
             0.2222222222222222,
             "#7201a8"
            ],
            [
             0.3333333333333333,
             "#9c179e"
            ],
            [
             0.4444444444444444,
             "#bd3786"
            ],
            [
             0.5555555555555556,
             "#d8576b"
            ],
            [
             0.6666666666666666,
             "#ed7953"
            ],
            [
             0.7777777777777778,
             "#fb9f3a"
            ],
            [
             0.8888888888888888,
             "#fdca26"
            ],
            [
             1,
             "#f0f921"
            ]
           ]
          },
          "colorway": [
           "#636efa",
           "#EF553B",
           "#00cc96",
           "#ab63fa",
           "#FFA15A",
           "#19d3f3",
           "#FF6692",
           "#B6E880",
           "#FF97FF",
           "#FECB52"
          ],
          "font": {
           "color": "#2a3f5f"
          },
          "geo": {
           "bgcolor": "white",
           "lakecolor": "white",
           "landcolor": "#E5ECF6",
           "showlakes": true,
           "showland": true,
           "subunitcolor": "white"
          },
          "hoverlabel": {
           "align": "left"
          },
          "hovermode": "closest",
          "mapbox": {
           "style": "light"
          },
          "paper_bgcolor": "white",
          "plot_bgcolor": "#E5ECF6",
          "polar": {
           "angularaxis": {
            "gridcolor": "white",
            "linecolor": "white",
            "ticks": ""
           },
           "bgcolor": "#E5ECF6",
           "radialaxis": {
            "gridcolor": "white",
            "linecolor": "white",
            "ticks": ""
           }
          },
          "scene": {
           "xaxis": {
            "backgroundcolor": "#E5ECF6",
            "gridcolor": "white",
            "gridwidth": 2,
            "linecolor": "white",
            "showbackground": true,
            "ticks": "",
            "zerolinecolor": "white"
           },
           "yaxis": {
            "backgroundcolor": "#E5ECF6",
            "gridcolor": "white",
            "gridwidth": 2,
            "linecolor": "white",
            "showbackground": true,
            "ticks": "",
            "zerolinecolor": "white"
           },
           "zaxis": {
            "backgroundcolor": "#E5ECF6",
            "gridcolor": "white",
            "gridwidth": 2,
            "linecolor": "white",
            "showbackground": true,
            "ticks": "",
            "zerolinecolor": "white"
           }
          },
          "shapedefaults": {
           "line": {
            "color": "#2a3f5f"
           }
          },
          "ternary": {
           "aaxis": {
            "gridcolor": "white",
            "linecolor": "white",
            "ticks": ""
           },
           "baxis": {
            "gridcolor": "white",
            "linecolor": "white",
            "ticks": ""
           },
           "bgcolor": "#E5ECF6",
           "caxis": {
            "gridcolor": "white",
            "linecolor": "white",
            "ticks": ""
           }
          },
          "title": {
           "x": 0.05
          },
          "xaxis": {
           "automargin": true,
           "gridcolor": "white",
           "linecolor": "white",
           "ticks": "",
           "title": {
            "standoff": 15
           },
           "zerolinecolor": "white",
           "zerolinewidth": 2
          },
          "yaxis": {
           "automargin": true,
           "gridcolor": "white",
           "linecolor": "white",
           "ticks": "",
           "title": {
            "standoff": 15
           },
           "zerolinecolor": "white",
           "zerolinewidth": 2
          }
         }
        }
       }
      },
      "text/html": [
       "<div>\n",
       "        \n",
       "        \n",
       "            <div id=\"eb97a13e-7aa7-4694-84d6-34f8ec5ea8d4\" class=\"plotly-graph-div\" style=\"height:525px; width:100%;\"></div>\n",
       "            <script type=\"text/javascript\">\n",
       "                require([\"plotly\"], function(Plotly) {\n",
       "                    window.PLOTLYENV=window.PLOTLYENV || {};\n",
       "                    \n",
       "                if (document.getElementById(\"eb97a13e-7aa7-4694-84d6-34f8ec5ea8d4\")) {\n",
       "                    Plotly.newPlot(\n",
       "                        'eb97a13e-7aa7-4694-84d6-34f8ec5ea8d4',\n",
       "                        [{\"marker\": {\"color\": \"chocolate\", \"size\": 5}, \"mode\": \"markers\", \"type\": \"scatter\", \"x\": [12, 56, 10, 88, 59, 57, 34, 28, 21, 89, 76, 94, 17, 23, 92, 20, 96, 15, 24, 45, 3, 21, 51, 46, 40, 13, 67, 10, 80, 32, 44, 83, 49, 83, 41, 5, 50, 57, 82, 96, 70, 47, 12, 97, 94, 42, 46, 49, 10, 60, 29, 6, 35, 52, 2, 43, 60, 85, 81, 52, 67, 56, 21, 21, 92, 26, 76, 71, 13, 41, 91, 86, 15, 94, 77, 39, 47, 13, 16, 9, 4, 10, 15, 92, 99, 17, 10, 63, 65, 59, 19, 47, 14, 26, 65, 99, 94, 14, 64, 92], \"y\": [85, 128, 94, 103, 13, 29, 140, 139, 60, 41, 132, 33, 114, 133, 139, 47, 159, 79, 144, 148, 18, 33, 62, 66, 151, 91, 186, 56, 84, 92, 40, 99, 177, 11, 152, 116, 88, 197, 135, 69, 40, 43, 34, 195, 146, 60, 178, 39, 48, 169, 151, 122, 184, 50, 102, 145, 41, 25, 22, 168, 37, 159, 142, 185, 191, 172, 41, 16, 176, 70, 192, 34, 158, 109, 183, 35, 11, 183, 14, 147, 154, 174, 178, 47, 34, 72, 169, 144, 75, 53, 71, 193, 63, 73, 104, 161, 77, 193, 25, 23]}, {\"type\": \"bar\", \"x\": [10, 20, 30], \"y\": [20, 30, 40]}],\n",
       "                        {\"template\": {\"data\": {\"bar\": [{\"error_x\": {\"color\": \"#2a3f5f\"}, \"error_y\": {\"color\": \"#2a3f5f\"}, \"marker\": {\"line\": {\"color\": \"#E5ECF6\", \"width\": 0.5}}, \"type\": \"bar\"}], \"barpolar\": [{\"marker\": {\"line\": {\"color\": \"#E5ECF6\", \"width\": 0.5}}, \"type\": \"barpolar\"}], \"carpet\": [{\"aaxis\": {\"endlinecolor\": \"#2a3f5f\", \"gridcolor\": \"white\", \"linecolor\": \"white\", \"minorgridcolor\": \"white\", \"startlinecolor\": \"#2a3f5f\"}, \"baxis\": {\"endlinecolor\": \"#2a3f5f\", \"gridcolor\": \"white\", \"linecolor\": \"white\", \"minorgridcolor\": \"white\", \"startlinecolor\": \"#2a3f5f\"}, \"type\": \"carpet\"}], \"choropleth\": [{\"colorbar\": {\"outlinewidth\": 0, \"ticks\": \"\"}, \"type\": \"choropleth\"}], \"contour\": [{\"colorbar\": {\"outlinewidth\": 0, \"ticks\": \"\"}, \"colorscale\": [[0.0, \"#0d0887\"], [0.1111111111111111, \"#46039f\"], [0.2222222222222222, \"#7201a8\"], [0.3333333333333333, \"#9c179e\"], [0.4444444444444444, \"#bd3786\"], [0.5555555555555556, \"#d8576b\"], [0.6666666666666666, \"#ed7953\"], [0.7777777777777778, \"#fb9f3a\"], [0.8888888888888888, \"#fdca26\"], [1.0, \"#f0f921\"]], \"type\": \"contour\"}], \"contourcarpet\": [{\"colorbar\": {\"outlinewidth\": 0, \"ticks\": \"\"}, \"type\": \"contourcarpet\"}], \"heatmap\": [{\"colorbar\": {\"outlinewidth\": 0, \"ticks\": \"\"}, \"colorscale\": [[0.0, \"#0d0887\"], [0.1111111111111111, \"#46039f\"], [0.2222222222222222, \"#7201a8\"], [0.3333333333333333, \"#9c179e\"], [0.4444444444444444, \"#bd3786\"], [0.5555555555555556, \"#d8576b\"], [0.6666666666666666, \"#ed7953\"], [0.7777777777777778, \"#fb9f3a\"], [0.8888888888888888, \"#fdca26\"], [1.0, \"#f0f921\"]], \"type\": \"heatmap\"}], \"heatmapgl\": [{\"colorbar\": {\"outlinewidth\": 0, \"ticks\": \"\"}, \"colorscale\": [[0.0, \"#0d0887\"], [0.1111111111111111, \"#46039f\"], [0.2222222222222222, \"#7201a8\"], [0.3333333333333333, \"#9c179e\"], [0.4444444444444444, \"#bd3786\"], [0.5555555555555556, \"#d8576b\"], [0.6666666666666666, \"#ed7953\"], [0.7777777777777778, \"#fb9f3a\"], [0.8888888888888888, \"#fdca26\"], [1.0, \"#f0f921\"]], \"type\": \"heatmapgl\"}], \"histogram\": [{\"marker\": {\"colorbar\": {\"outlinewidth\": 0, \"ticks\": \"\"}}, \"type\": \"histogram\"}], \"histogram2d\": [{\"colorbar\": {\"outlinewidth\": 0, \"ticks\": \"\"}, \"colorscale\": [[0.0, \"#0d0887\"], [0.1111111111111111, \"#46039f\"], [0.2222222222222222, \"#7201a8\"], [0.3333333333333333, \"#9c179e\"], [0.4444444444444444, \"#bd3786\"], [0.5555555555555556, \"#d8576b\"], [0.6666666666666666, \"#ed7953\"], [0.7777777777777778, \"#fb9f3a\"], [0.8888888888888888, \"#fdca26\"], [1.0, \"#f0f921\"]], \"type\": \"histogram2d\"}], \"histogram2dcontour\": [{\"colorbar\": {\"outlinewidth\": 0, \"ticks\": \"\"}, \"colorscale\": [[0.0, \"#0d0887\"], [0.1111111111111111, \"#46039f\"], [0.2222222222222222, \"#7201a8\"], [0.3333333333333333, \"#9c179e\"], [0.4444444444444444, \"#bd3786\"], [0.5555555555555556, \"#d8576b\"], [0.6666666666666666, \"#ed7953\"], [0.7777777777777778, \"#fb9f3a\"], [0.8888888888888888, \"#fdca26\"], [1.0, \"#f0f921\"]], \"type\": \"histogram2dcontour\"}], \"mesh3d\": [{\"colorbar\": {\"outlinewidth\": 0, \"ticks\": \"\"}, \"type\": \"mesh3d\"}], \"parcoords\": [{\"line\": {\"colorbar\": {\"outlinewidth\": 0, \"ticks\": \"\"}}, \"type\": \"parcoords\"}], \"pie\": [{\"automargin\": true, \"type\": \"pie\"}], \"scatter\": [{\"marker\": {\"colorbar\": {\"outlinewidth\": 0, \"ticks\": \"\"}}, \"type\": \"scatter\"}], \"scatter3d\": [{\"line\": {\"colorbar\": {\"outlinewidth\": 0, \"ticks\": \"\"}}, \"marker\": {\"colorbar\": {\"outlinewidth\": 0, \"ticks\": \"\"}}, \"type\": \"scatter3d\"}], \"scattercarpet\": [{\"marker\": {\"colorbar\": {\"outlinewidth\": 0, \"ticks\": \"\"}}, \"type\": \"scattercarpet\"}], \"scattergeo\": [{\"marker\": {\"colorbar\": {\"outlinewidth\": 0, \"ticks\": \"\"}}, \"type\": \"scattergeo\"}], \"scattergl\": [{\"marker\": {\"colorbar\": {\"outlinewidth\": 0, \"ticks\": \"\"}}, \"type\": \"scattergl\"}], \"scattermapbox\": [{\"marker\": {\"colorbar\": {\"outlinewidth\": 0, \"ticks\": \"\"}}, \"type\": \"scattermapbox\"}], \"scatterpolar\": [{\"marker\": {\"colorbar\": {\"outlinewidth\": 0, \"ticks\": \"\"}}, \"type\": \"scatterpolar\"}], \"scatterpolargl\": [{\"marker\": {\"colorbar\": {\"outlinewidth\": 0, \"ticks\": \"\"}}, \"type\": \"scatterpolargl\"}], \"scatterternary\": [{\"marker\": {\"colorbar\": {\"outlinewidth\": 0, \"ticks\": \"\"}}, \"type\": \"scatterternary\"}], \"surface\": [{\"colorbar\": {\"outlinewidth\": 0, \"ticks\": \"\"}, \"colorscale\": [[0.0, \"#0d0887\"], [0.1111111111111111, \"#46039f\"], [0.2222222222222222, \"#7201a8\"], [0.3333333333333333, \"#9c179e\"], [0.4444444444444444, \"#bd3786\"], [0.5555555555555556, \"#d8576b\"], [0.6666666666666666, \"#ed7953\"], [0.7777777777777778, \"#fb9f3a\"], [0.8888888888888888, \"#fdca26\"], [1.0, \"#f0f921\"]], \"type\": \"surface\"}], \"table\": [{\"cells\": {\"fill\": {\"color\": \"#EBF0F8\"}, \"line\": {\"color\": \"white\"}}, \"header\": {\"fill\": {\"color\": \"#C8D4E3\"}, \"line\": {\"color\": \"white\"}}, \"type\": \"table\"}]}, \"layout\": {\"annotationdefaults\": {\"arrowcolor\": \"#2a3f5f\", \"arrowhead\": 0, \"arrowwidth\": 1}, \"coloraxis\": {\"colorbar\": {\"outlinewidth\": 0, \"ticks\": \"\"}}, \"colorscale\": {\"diverging\": [[0, \"#8e0152\"], [0.1, \"#c51b7d\"], [0.2, \"#de77ae\"], [0.3, \"#f1b6da\"], [0.4, \"#fde0ef\"], [0.5, \"#f7f7f7\"], [0.6, \"#e6f5d0\"], [0.7, \"#b8e186\"], [0.8, \"#7fbc41\"], [0.9, \"#4d9221\"], [1, \"#276419\"]], \"sequential\": [[0.0, \"#0d0887\"], [0.1111111111111111, \"#46039f\"], [0.2222222222222222, \"#7201a8\"], [0.3333333333333333, \"#9c179e\"], [0.4444444444444444, \"#bd3786\"], [0.5555555555555556, \"#d8576b\"], [0.6666666666666666, \"#ed7953\"], [0.7777777777777778, \"#fb9f3a\"], [0.8888888888888888, \"#fdca26\"], [1.0, \"#f0f921\"]], \"sequentialminus\": [[0.0, \"#0d0887\"], [0.1111111111111111, \"#46039f\"], [0.2222222222222222, \"#7201a8\"], [0.3333333333333333, \"#9c179e\"], [0.4444444444444444, \"#bd3786\"], [0.5555555555555556, \"#d8576b\"], [0.6666666666666666, \"#ed7953\"], [0.7777777777777778, \"#fb9f3a\"], [0.8888888888888888, \"#fdca26\"], [1.0, \"#f0f921\"]]}, \"colorway\": [\"#636efa\", \"#EF553B\", \"#00cc96\", \"#ab63fa\", \"#FFA15A\", \"#19d3f3\", \"#FF6692\", \"#B6E880\", \"#FF97FF\", \"#FECB52\"], \"font\": {\"color\": \"#2a3f5f\"}, \"geo\": {\"bgcolor\": \"white\", \"lakecolor\": \"white\", \"landcolor\": \"#E5ECF6\", \"showlakes\": true, \"showland\": true, \"subunitcolor\": \"white\"}, \"hoverlabel\": {\"align\": \"left\"}, \"hovermode\": \"closest\", \"mapbox\": {\"style\": \"light\"}, \"paper_bgcolor\": \"white\", \"plot_bgcolor\": \"#E5ECF6\", \"polar\": {\"angularaxis\": {\"gridcolor\": \"white\", \"linecolor\": \"white\", \"ticks\": \"\"}, \"bgcolor\": \"#E5ECF6\", \"radialaxis\": {\"gridcolor\": \"white\", \"linecolor\": \"white\", \"ticks\": \"\"}}, \"scene\": {\"xaxis\": {\"backgroundcolor\": \"#E5ECF6\", \"gridcolor\": \"white\", \"gridwidth\": 2, \"linecolor\": \"white\", \"showbackground\": true, \"ticks\": \"\", \"zerolinecolor\": \"white\"}, \"yaxis\": {\"backgroundcolor\": \"#E5ECF6\", \"gridcolor\": \"white\", \"gridwidth\": 2, \"linecolor\": \"white\", \"showbackground\": true, \"ticks\": \"\", \"zerolinecolor\": \"white\"}, \"zaxis\": {\"backgroundcolor\": \"#E5ECF6\", \"gridcolor\": \"white\", \"gridwidth\": 2, \"linecolor\": \"white\", \"showbackground\": true, \"ticks\": \"\", \"zerolinecolor\": \"white\"}}, \"shapedefaults\": {\"line\": {\"color\": \"#2a3f5f\"}}, \"ternary\": {\"aaxis\": {\"gridcolor\": \"white\", \"linecolor\": \"white\", \"ticks\": \"\"}, \"baxis\": {\"gridcolor\": \"white\", \"linecolor\": \"white\", \"ticks\": \"\"}, \"bgcolor\": \"#E5ECF6\", \"caxis\": {\"gridcolor\": \"white\", \"linecolor\": \"white\", \"ticks\": \"\"}}, \"title\": {\"x\": 0.05}, \"xaxis\": {\"automargin\": true, \"gridcolor\": \"white\", \"linecolor\": \"white\", \"ticks\": \"\", \"title\": {\"standoff\": 15}, \"zerolinecolor\": \"white\", \"zerolinewidth\": 2}, \"yaxis\": {\"automargin\": true, \"gridcolor\": \"white\", \"linecolor\": \"white\", \"ticks\": \"\", \"title\": {\"standoff\": 15}, \"zerolinecolor\": \"white\", \"zerolinewidth\": 2}}}},\n",
       "                        {\"responsive\": true}\n",
       "                    ).then(function(){\n",
       "                            \n",
       "var gd = document.getElementById('eb97a13e-7aa7-4694-84d6-34f8ec5ea8d4');\n",
       "var x = new MutationObserver(function (mutations, observer) {{\n",
       "        var display = window.getComputedStyle(gd).display;\n",
       "        if (!display || display === 'none') {{\n",
       "            console.log([gd, 'removed!']);\n",
       "            Plotly.purge(gd);\n",
       "            observer.disconnect();\n",
       "        }}\n",
       "}});\n",
       "\n",
       "// Listen for the removal of the full notebook cells\n",
       "var notebookContainer = gd.closest('#notebook-container');\n",
       "if (notebookContainer) {{\n",
       "    x.observe(notebookContainer, {childList: true});\n",
       "}}\n",
       "\n",
       "// Listen for the clearing of the current output cell\n",
       "var outputEl = gd.closest('.output');\n",
       "if (outputEl) {{\n",
       "    x.observe(outputEl, {childList: true});\n",
       "}}\n",
       "\n",
       "                        })\n",
       "                };\n",
       "                });\n",
       "            </script>\n",
       "        </div>"
      ]
     },
     "metadata": {},
     "output_type": "display_data"
    }
   ],
   "source": [
    "#method 1 : each figure is a trace, so pass a list of traces in data attribute\n",
    "x = np.random.randint(0, 100 , (100,))\n",
    "y = np.random.randint(10, 200 , (100,))\n",
    "fig = go.Figure(data = [go.Scatter(x = x, y = y, mode = 'markers', \n",
    "                            marker = go.scatter.Marker(color = 'chocolate', size= 5)), \n",
    "                        go.Bar(x = [10,20,30], y = [20,30,40], )])\n",
    "fig.show()"
   ]
  },
  {
   "cell_type": "code",
   "execution_count": 94,
   "metadata": {},
   "outputs": [
    {
     "data": {
      "application/vnd.plotly.v1+json": {
       "config": {
        "plotlyServerURL": "https://plot.ly"
       },
       "data": [
        {
         "marker": {
          "color": "chocolate",
          "size": 5
         },
         "mode": "markers",
         "type": "scatter",
         "x": [
          82,
          76,
          27,
          12,
          12,
          92,
          16,
          67,
          52,
          84,
          19,
          22,
          56,
          72,
          70,
          96,
          98,
          0,
          66,
          43,
          92,
          19,
          27,
          28,
          65,
          32,
          10,
          70,
          10,
          27,
          55,
          20,
          51,
          63,
          74,
          0,
          75,
          80,
          31,
          47,
          53,
          41,
          61,
          0,
          63,
          51,
          47,
          71,
          87,
          3,
          28,
          67,
          34,
          76,
          46,
          56,
          64,
          14,
          83,
          27,
          30,
          38,
          54,
          32,
          35,
          4,
          51,
          78,
          60,
          8,
          78,
          26,
          67,
          24,
          13,
          42,
          2,
          60,
          4,
          88,
          7,
          8,
          15,
          62,
          93,
          79,
          18,
          13,
          44,
          84,
          9,
          86,
          35,
          1,
          64,
          71,
          80,
          81,
          19,
          33
         ],
         "y": [
          167,
          92,
          148,
          173,
          105,
          41,
          37,
          105,
          164,
          176,
          111,
          195,
          75,
          16,
          10,
          131,
          25,
          111,
          146,
          89,
          86,
          109,
          145,
          32,
          50,
          154,
          93,
          80,
          191,
          128,
          53,
          166,
          80,
          165,
          11,
          27,
          96,
          32,
          122,
          95,
          109,
          54,
          84,
          130,
          23,
          54,
          140,
          119,
          151,
          108,
          46,
          61,
          155,
          75,
          131,
          43,
          193,
          63,
          18,
          10,
          93,
          113,
          13,
          36,
          122,
          170,
          115,
          192,
          81,
          146,
          157,
          136,
          104,
          190,
          41,
          110,
          136,
          198,
          49,
          96,
          114,
          82,
          174,
          10,
          46,
          29,
          41,
          121,
          11,
          62,
          99,
          178,
          97,
          162,
          57,
          26,
          51,
          160,
          167,
          54
         ]
        },
        {
         "type": "bar",
         "x": [
          10,
          20,
          30
         ],
         "y": [
          20,
          30,
          40
         ]
        }
       ],
       "layout": {
        "template": {
         "data": {
          "bar": [
           {
            "error_x": {
             "color": "#2a3f5f"
            },
            "error_y": {
             "color": "#2a3f5f"
            },
            "marker": {
             "line": {
              "color": "#E5ECF6",
              "width": 0.5
             }
            },
            "type": "bar"
           }
          ],
          "barpolar": [
           {
            "marker": {
             "line": {
              "color": "#E5ECF6",
              "width": 0.5
             }
            },
            "type": "barpolar"
           }
          ],
          "carpet": [
           {
            "aaxis": {
             "endlinecolor": "#2a3f5f",
             "gridcolor": "white",
             "linecolor": "white",
             "minorgridcolor": "white",
             "startlinecolor": "#2a3f5f"
            },
            "baxis": {
             "endlinecolor": "#2a3f5f",
             "gridcolor": "white",
             "linecolor": "white",
             "minorgridcolor": "white",
             "startlinecolor": "#2a3f5f"
            },
            "type": "carpet"
           }
          ],
          "choropleth": [
           {
            "colorbar": {
             "outlinewidth": 0,
             "ticks": ""
            },
            "type": "choropleth"
           }
          ],
          "contour": [
           {
            "colorbar": {
             "outlinewidth": 0,
             "ticks": ""
            },
            "colorscale": [
             [
              0,
              "#0d0887"
             ],
             [
              0.1111111111111111,
              "#46039f"
             ],
             [
              0.2222222222222222,
              "#7201a8"
             ],
             [
              0.3333333333333333,
              "#9c179e"
             ],
             [
              0.4444444444444444,
              "#bd3786"
             ],
             [
              0.5555555555555556,
              "#d8576b"
             ],
             [
              0.6666666666666666,
              "#ed7953"
             ],
             [
              0.7777777777777778,
              "#fb9f3a"
             ],
             [
              0.8888888888888888,
              "#fdca26"
             ],
             [
              1,
              "#f0f921"
             ]
            ],
            "type": "contour"
           }
          ],
          "contourcarpet": [
           {
            "colorbar": {
             "outlinewidth": 0,
             "ticks": ""
            },
            "type": "contourcarpet"
           }
          ],
          "heatmap": [
           {
            "colorbar": {
             "outlinewidth": 0,
             "ticks": ""
            },
            "colorscale": [
             [
              0,
              "#0d0887"
             ],
             [
              0.1111111111111111,
              "#46039f"
             ],
             [
              0.2222222222222222,
              "#7201a8"
             ],
             [
              0.3333333333333333,
              "#9c179e"
             ],
             [
              0.4444444444444444,
              "#bd3786"
             ],
             [
              0.5555555555555556,
              "#d8576b"
             ],
             [
              0.6666666666666666,
              "#ed7953"
             ],
             [
              0.7777777777777778,
              "#fb9f3a"
             ],
             [
              0.8888888888888888,
              "#fdca26"
             ],
             [
              1,
              "#f0f921"
             ]
            ],
            "type": "heatmap"
           }
          ],
          "heatmapgl": [
           {
            "colorbar": {
             "outlinewidth": 0,
             "ticks": ""
            },
            "colorscale": [
             [
              0,
              "#0d0887"
             ],
             [
              0.1111111111111111,
              "#46039f"
             ],
             [
              0.2222222222222222,
              "#7201a8"
             ],
             [
              0.3333333333333333,
              "#9c179e"
             ],
             [
              0.4444444444444444,
              "#bd3786"
             ],
             [
              0.5555555555555556,
              "#d8576b"
             ],
             [
              0.6666666666666666,
              "#ed7953"
             ],
             [
              0.7777777777777778,
              "#fb9f3a"
             ],
             [
              0.8888888888888888,
              "#fdca26"
             ],
             [
              1,
              "#f0f921"
             ]
            ],
            "type": "heatmapgl"
           }
          ],
          "histogram": [
           {
            "marker": {
             "colorbar": {
              "outlinewidth": 0,
              "ticks": ""
             }
            },
            "type": "histogram"
           }
          ],
          "histogram2d": [
           {
            "colorbar": {
             "outlinewidth": 0,
             "ticks": ""
            },
            "colorscale": [
             [
              0,
              "#0d0887"
             ],
             [
              0.1111111111111111,
              "#46039f"
             ],
             [
              0.2222222222222222,
              "#7201a8"
             ],
             [
              0.3333333333333333,
              "#9c179e"
             ],
             [
              0.4444444444444444,
              "#bd3786"
             ],
             [
              0.5555555555555556,
              "#d8576b"
             ],
             [
              0.6666666666666666,
              "#ed7953"
             ],
             [
              0.7777777777777778,
              "#fb9f3a"
             ],
             [
              0.8888888888888888,
              "#fdca26"
             ],
             [
              1,
              "#f0f921"
             ]
            ],
            "type": "histogram2d"
           }
          ],
          "histogram2dcontour": [
           {
            "colorbar": {
             "outlinewidth": 0,
             "ticks": ""
            },
            "colorscale": [
             [
              0,
              "#0d0887"
             ],
             [
              0.1111111111111111,
              "#46039f"
             ],
             [
              0.2222222222222222,
              "#7201a8"
             ],
             [
              0.3333333333333333,
              "#9c179e"
             ],
             [
              0.4444444444444444,
              "#bd3786"
             ],
             [
              0.5555555555555556,
              "#d8576b"
             ],
             [
              0.6666666666666666,
              "#ed7953"
             ],
             [
              0.7777777777777778,
              "#fb9f3a"
             ],
             [
              0.8888888888888888,
              "#fdca26"
             ],
             [
              1,
              "#f0f921"
             ]
            ],
            "type": "histogram2dcontour"
           }
          ],
          "mesh3d": [
           {
            "colorbar": {
             "outlinewidth": 0,
             "ticks": ""
            },
            "type": "mesh3d"
           }
          ],
          "parcoords": [
           {
            "line": {
             "colorbar": {
              "outlinewidth": 0,
              "ticks": ""
             }
            },
            "type": "parcoords"
           }
          ],
          "pie": [
           {
            "automargin": true,
            "type": "pie"
           }
          ],
          "scatter": [
           {
            "marker": {
             "colorbar": {
              "outlinewidth": 0,
              "ticks": ""
             }
            },
            "type": "scatter"
           }
          ],
          "scatter3d": [
           {
            "line": {
             "colorbar": {
              "outlinewidth": 0,
              "ticks": ""
             }
            },
            "marker": {
             "colorbar": {
              "outlinewidth": 0,
              "ticks": ""
             }
            },
            "type": "scatter3d"
           }
          ],
          "scattercarpet": [
           {
            "marker": {
             "colorbar": {
              "outlinewidth": 0,
              "ticks": ""
             }
            },
            "type": "scattercarpet"
           }
          ],
          "scattergeo": [
           {
            "marker": {
             "colorbar": {
              "outlinewidth": 0,
              "ticks": ""
             }
            },
            "type": "scattergeo"
           }
          ],
          "scattergl": [
           {
            "marker": {
             "colorbar": {
              "outlinewidth": 0,
              "ticks": ""
             }
            },
            "type": "scattergl"
           }
          ],
          "scattermapbox": [
           {
            "marker": {
             "colorbar": {
              "outlinewidth": 0,
              "ticks": ""
             }
            },
            "type": "scattermapbox"
           }
          ],
          "scatterpolar": [
           {
            "marker": {
             "colorbar": {
              "outlinewidth": 0,
              "ticks": ""
             }
            },
            "type": "scatterpolar"
           }
          ],
          "scatterpolargl": [
           {
            "marker": {
             "colorbar": {
              "outlinewidth": 0,
              "ticks": ""
             }
            },
            "type": "scatterpolargl"
           }
          ],
          "scatterternary": [
           {
            "marker": {
             "colorbar": {
              "outlinewidth": 0,
              "ticks": ""
             }
            },
            "type": "scatterternary"
           }
          ],
          "surface": [
           {
            "colorbar": {
             "outlinewidth": 0,
             "ticks": ""
            },
            "colorscale": [
             [
              0,
              "#0d0887"
             ],
             [
              0.1111111111111111,
              "#46039f"
             ],
             [
              0.2222222222222222,
              "#7201a8"
             ],
             [
              0.3333333333333333,
              "#9c179e"
             ],
             [
              0.4444444444444444,
              "#bd3786"
             ],
             [
              0.5555555555555556,
              "#d8576b"
             ],
             [
              0.6666666666666666,
              "#ed7953"
             ],
             [
              0.7777777777777778,
              "#fb9f3a"
             ],
             [
              0.8888888888888888,
              "#fdca26"
             ],
             [
              1,
              "#f0f921"
             ]
            ],
            "type": "surface"
           }
          ],
          "table": [
           {
            "cells": {
             "fill": {
              "color": "#EBF0F8"
             },
             "line": {
              "color": "white"
             }
            },
            "header": {
             "fill": {
              "color": "#C8D4E3"
             },
             "line": {
              "color": "white"
             }
            },
            "type": "table"
           }
          ]
         },
         "layout": {
          "annotationdefaults": {
           "arrowcolor": "#2a3f5f",
           "arrowhead": 0,
           "arrowwidth": 1
          },
          "coloraxis": {
           "colorbar": {
            "outlinewidth": 0,
            "ticks": ""
           }
          },
          "colorscale": {
           "diverging": [
            [
             0,
             "#8e0152"
            ],
            [
             0.1,
             "#c51b7d"
            ],
            [
             0.2,
             "#de77ae"
            ],
            [
             0.3,
             "#f1b6da"
            ],
            [
             0.4,
             "#fde0ef"
            ],
            [
             0.5,
             "#f7f7f7"
            ],
            [
             0.6,
             "#e6f5d0"
            ],
            [
             0.7,
             "#b8e186"
            ],
            [
             0.8,
             "#7fbc41"
            ],
            [
             0.9,
             "#4d9221"
            ],
            [
             1,
             "#276419"
            ]
           ],
           "sequential": [
            [
             0,
             "#0d0887"
            ],
            [
             0.1111111111111111,
             "#46039f"
            ],
            [
             0.2222222222222222,
             "#7201a8"
            ],
            [
             0.3333333333333333,
             "#9c179e"
            ],
            [
             0.4444444444444444,
             "#bd3786"
            ],
            [
             0.5555555555555556,
             "#d8576b"
            ],
            [
             0.6666666666666666,
             "#ed7953"
            ],
            [
             0.7777777777777778,
             "#fb9f3a"
            ],
            [
             0.8888888888888888,
             "#fdca26"
            ],
            [
             1,
             "#f0f921"
            ]
           ],
           "sequentialminus": [
            [
             0,
             "#0d0887"
            ],
            [
             0.1111111111111111,
             "#46039f"
            ],
            [
             0.2222222222222222,
             "#7201a8"
            ],
            [
             0.3333333333333333,
             "#9c179e"
            ],
            [
             0.4444444444444444,
             "#bd3786"
            ],
            [
             0.5555555555555556,
             "#d8576b"
            ],
            [
             0.6666666666666666,
             "#ed7953"
            ],
            [
             0.7777777777777778,
             "#fb9f3a"
            ],
            [
             0.8888888888888888,
             "#fdca26"
            ],
            [
             1,
             "#f0f921"
            ]
           ]
          },
          "colorway": [
           "#636efa",
           "#EF553B",
           "#00cc96",
           "#ab63fa",
           "#FFA15A",
           "#19d3f3",
           "#FF6692",
           "#B6E880",
           "#FF97FF",
           "#FECB52"
          ],
          "font": {
           "color": "#2a3f5f"
          },
          "geo": {
           "bgcolor": "white",
           "lakecolor": "white",
           "landcolor": "#E5ECF6",
           "showlakes": true,
           "showland": true,
           "subunitcolor": "white"
          },
          "hoverlabel": {
           "align": "left"
          },
          "hovermode": "closest",
          "mapbox": {
           "style": "light"
          },
          "paper_bgcolor": "white",
          "plot_bgcolor": "#E5ECF6",
          "polar": {
           "angularaxis": {
            "gridcolor": "white",
            "linecolor": "white",
            "ticks": ""
           },
           "bgcolor": "#E5ECF6",
           "radialaxis": {
            "gridcolor": "white",
            "linecolor": "white",
            "ticks": ""
           }
          },
          "scene": {
           "xaxis": {
            "backgroundcolor": "#E5ECF6",
            "gridcolor": "white",
            "gridwidth": 2,
            "linecolor": "white",
            "showbackground": true,
            "ticks": "",
            "zerolinecolor": "white"
           },
           "yaxis": {
            "backgroundcolor": "#E5ECF6",
            "gridcolor": "white",
            "gridwidth": 2,
            "linecolor": "white",
            "showbackground": true,
            "ticks": "",
            "zerolinecolor": "white"
           },
           "zaxis": {
            "backgroundcolor": "#E5ECF6",
            "gridcolor": "white",
            "gridwidth": 2,
            "linecolor": "white",
            "showbackground": true,
            "ticks": "",
            "zerolinecolor": "white"
           }
          },
          "shapedefaults": {
           "line": {
            "color": "#2a3f5f"
           }
          },
          "ternary": {
           "aaxis": {
            "gridcolor": "white",
            "linecolor": "white",
            "ticks": ""
           },
           "baxis": {
            "gridcolor": "white",
            "linecolor": "white",
            "ticks": ""
           },
           "bgcolor": "#E5ECF6",
           "caxis": {
            "gridcolor": "white",
            "linecolor": "white",
            "ticks": ""
           }
          },
          "title": {
           "x": 0.05
          },
          "xaxis": {
           "automargin": true,
           "gridcolor": "white",
           "linecolor": "white",
           "ticks": "",
           "title": {
            "standoff": 15
           },
           "zerolinecolor": "white",
           "zerolinewidth": 2
          },
          "yaxis": {
           "automargin": true,
           "gridcolor": "white",
           "linecolor": "white",
           "ticks": "",
           "title": {
            "standoff": 15
           },
           "zerolinecolor": "white",
           "zerolinewidth": 2
          }
         }
        }
       }
      },
      "text/html": [
       "<div>\n",
       "        \n",
       "        \n",
       "            <div id=\"9bd0fb26-dcdb-4a68-854b-0acab9cf31ee\" class=\"plotly-graph-div\" style=\"height:525px; width:100%;\"></div>\n",
       "            <script type=\"text/javascript\">\n",
       "                require([\"plotly\"], function(Plotly) {\n",
       "                    window.PLOTLYENV=window.PLOTLYENV || {};\n",
       "                    \n",
       "                if (document.getElementById(\"9bd0fb26-dcdb-4a68-854b-0acab9cf31ee\")) {\n",
       "                    Plotly.newPlot(\n",
       "                        '9bd0fb26-dcdb-4a68-854b-0acab9cf31ee',\n",
       "                        [{\"marker\": {\"color\": \"chocolate\", \"size\": 5}, \"mode\": \"markers\", \"type\": \"scatter\", \"x\": [82, 76, 27, 12, 12, 92, 16, 67, 52, 84, 19, 22, 56, 72, 70, 96, 98, 0, 66, 43, 92, 19, 27, 28, 65, 32, 10, 70, 10, 27, 55, 20, 51, 63, 74, 0, 75, 80, 31, 47, 53, 41, 61, 0, 63, 51, 47, 71, 87, 3, 28, 67, 34, 76, 46, 56, 64, 14, 83, 27, 30, 38, 54, 32, 35, 4, 51, 78, 60, 8, 78, 26, 67, 24, 13, 42, 2, 60, 4, 88, 7, 8, 15, 62, 93, 79, 18, 13, 44, 84, 9, 86, 35, 1, 64, 71, 80, 81, 19, 33], \"y\": [167, 92, 148, 173, 105, 41, 37, 105, 164, 176, 111, 195, 75, 16, 10, 131, 25, 111, 146, 89, 86, 109, 145, 32, 50, 154, 93, 80, 191, 128, 53, 166, 80, 165, 11, 27, 96, 32, 122, 95, 109, 54, 84, 130, 23, 54, 140, 119, 151, 108, 46, 61, 155, 75, 131, 43, 193, 63, 18, 10, 93, 113, 13, 36, 122, 170, 115, 192, 81, 146, 157, 136, 104, 190, 41, 110, 136, 198, 49, 96, 114, 82, 174, 10, 46, 29, 41, 121, 11, 62, 99, 178, 97, 162, 57, 26, 51, 160, 167, 54]}, {\"type\": \"bar\", \"x\": [10, 20, 30], \"y\": [20, 30, 40]}],\n",
       "                        {\"template\": {\"data\": {\"bar\": [{\"error_x\": {\"color\": \"#2a3f5f\"}, \"error_y\": {\"color\": \"#2a3f5f\"}, \"marker\": {\"line\": {\"color\": \"#E5ECF6\", \"width\": 0.5}}, \"type\": \"bar\"}], \"barpolar\": [{\"marker\": {\"line\": {\"color\": \"#E5ECF6\", \"width\": 0.5}}, \"type\": \"barpolar\"}], \"carpet\": [{\"aaxis\": {\"endlinecolor\": \"#2a3f5f\", \"gridcolor\": \"white\", \"linecolor\": \"white\", \"minorgridcolor\": \"white\", \"startlinecolor\": \"#2a3f5f\"}, \"baxis\": {\"endlinecolor\": \"#2a3f5f\", \"gridcolor\": \"white\", \"linecolor\": \"white\", \"minorgridcolor\": \"white\", \"startlinecolor\": \"#2a3f5f\"}, \"type\": \"carpet\"}], \"choropleth\": [{\"colorbar\": {\"outlinewidth\": 0, \"ticks\": \"\"}, \"type\": \"choropleth\"}], \"contour\": [{\"colorbar\": {\"outlinewidth\": 0, \"ticks\": \"\"}, \"colorscale\": [[0.0, \"#0d0887\"], [0.1111111111111111, \"#46039f\"], [0.2222222222222222, \"#7201a8\"], [0.3333333333333333, \"#9c179e\"], [0.4444444444444444, \"#bd3786\"], [0.5555555555555556, \"#d8576b\"], [0.6666666666666666, \"#ed7953\"], [0.7777777777777778, \"#fb9f3a\"], [0.8888888888888888, \"#fdca26\"], [1.0, \"#f0f921\"]], \"type\": \"contour\"}], \"contourcarpet\": [{\"colorbar\": {\"outlinewidth\": 0, \"ticks\": \"\"}, \"type\": \"contourcarpet\"}], \"heatmap\": [{\"colorbar\": {\"outlinewidth\": 0, \"ticks\": \"\"}, \"colorscale\": [[0.0, \"#0d0887\"], [0.1111111111111111, \"#46039f\"], [0.2222222222222222, \"#7201a8\"], [0.3333333333333333, \"#9c179e\"], [0.4444444444444444, \"#bd3786\"], [0.5555555555555556, \"#d8576b\"], [0.6666666666666666, \"#ed7953\"], [0.7777777777777778, \"#fb9f3a\"], [0.8888888888888888, \"#fdca26\"], [1.0, \"#f0f921\"]], \"type\": \"heatmap\"}], \"heatmapgl\": [{\"colorbar\": {\"outlinewidth\": 0, \"ticks\": \"\"}, \"colorscale\": [[0.0, \"#0d0887\"], [0.1111111111111111, \"#46039f\"], [0.2222222222222222, \"#7201a8\"], [0.3333333333333333, \"#9c179e\"], [0.4444444444444444, \"#bd3786\"], [0.5555555555555556, \"#d8576b\"], [0.6666666666666666, \"#ed7953\"], [0.7777777777777778, \"#fb9f3a\"], [0.8888888888888888, \"#fdca26\"], [1.0, \"#f0f921\"]], \"type\": \"heatmapgl\"}], \"histogram\": [{\"marker\": {\"colorbar\": {\"outlinewidth\": 0, \"ticks\": \"\"}}, \"type\": \"histogram\"}], \"histogram2d\": [{\"colorbar\": {\"outlinewidth\": 0, \"ticks\": \"\"}, \"colorscale\": [[0.0, \"#0d0887\"], [0.1111111111111111, \"#46039f\"], [0.2222222222222222, \"#7201a8\"], [0.3333333333333333, \"#9c179e\"], [0.4444444444444444, \"#bd3786\"], [0.5555555555555556, \"#d8576b\"], [0.6666666666666666, \"#ed7953\"], [0.7777777777777778, \"#fb9f3a\"], [0.8888888888888888, \"#fdca26\"], [1.0, \"#f0f921\"]], \"type\": \"histogram2d\"}], \"histogram2dcontour\": [{\"colorbar\": {\"outlinewidth\": 0, \"ticks\": \"\"}, \"colorscale\": [[0.0, \"#0d0887\"], [0.1111111111111111, \"#46039f\"], [0.2222222222222222, \"#7201a8\"], [0.3333333333333333, \"#9c179e\"], [0.4444444444444444, \"#bd3786\"], [0.5555555555555556, \"#d8576b\"], [0.6666666666666666, \"#ed7953\"], [0.7777777777777778, \"#fb9f3a\"], [0.8888888888888888, \"#fdca26\"], [1.0, \"#f0f921\"]], \"type\": \"histogram2dcontour\"}], \"mesh3d\": [{\"colorbar\": {\"outlinewidth\": 0, \"ticks\": \"\"}, \"type\": \"mesh3d\"}], \"parcoords\": [{\"line\": {\"colorbar\": {\"outlinewidth\": 0, \"ticks\": \"\"}}, \"type\": \"parcoords\"}], \"pie\": [{\"automargin\": true, \"type\": \"pie\"}], \"scatter\": [{\"marker\": {\"colorbar\": {\"outlinewidth\": 0, \"ticks\": \"\"}}, \"type\": \"scatter\"}], \"scatter3d\": [{\"line\": {\"colorbar\": {\"outlinewidth\": 0, \"ticks\": \"\"}}, \"marker\": {\"colorbar\": {\"outlinewidth\": 0, \"ticks\": \"\"}}, \"type\": \"scatter3d\"}], \"scattercarpet\": [{\"marker\": {\"colorbar\": {\"outlinewidth\": 0, \"ticks\": \"\"}}, \"type\": \"scattercarpet\"}], \"scattergeo\": [{\"marker\": {\"colorbar\": {\"outlinewidth\": 0, \"ticks\": \"\"}}, \"type\": \"scattergeo\"}], \"scattergl\": [{\"marker\": {\"colorbar\": {\"outlinewidth\": 0, \"ticks\": \"\"}}, \"type\": \"scattergl\"}], \"scattermapbox\": [{\"marker\": {\"colorbar\": {\"outlinewidth\": 0, \"ticks\": \"\"}}, \"type\": \"scattermapbox\"}], \"scatterpolar\": [{\"marker\": {\"colorbar\": {\"outlinewidth\": 0, \"ticks\": \"\"}}, \"type\": \"scatterpolar\"}], \"scatterpolargl\": [{\"marker\": {\"colorbar\": {\"outlinewidth\": 0, \"ticks\": \"\"}}, \"type\": \"scatterpolargl\"}], \"scatterternary\": [{\"marker\": {\"colorbar\": {\"outlinewidth\": 0, \"ticks\": \"\"}}, \"type\": \"scatterternary\"}], \"surface\": [{\"colorbar\": {\"outlinewidth\": 0, \"ticks\": \"\"}, \"colorscale\": [[0.0, \"#0d0887\"], [0.1111111111111111, \"#46039f\"], [0.2222222222222222, \"#7201a8\"], [0.3333333333333333, \"#9c179e\"], [0.4444444444444444, \"#bd3786\"], [0.5555555555555556, \"#d8576b\"], [0.6666666666666666, \"#ed7953\"], [0.7777777777777778, \"#fb9f3a\"], [0.8888888888888888, \"#fdca26\"], [1.0, \"#f0f921\"]], \"type\": \"surface\"}], \"table\": [{\"cells\": {\"fill\": {\"color\": \"#EBF0F8\"}, \"line\": {\"color\": \"white\"}}, \"header\": {\"fill\": {\"color\": \"#C8D4E3\"}, \"line\": {\"color\": \"white\"}}, \"type\": \"table\"}]}, \"layout\": {\"annotationdefaults\": {\"arrowcolor\": \"#2a3f5f\", \"arrowhead\": 0, \"arrowwidth\": 1}, \"coloraxis\": {\"colorbar\": {\"outlinewidth\": 0, \"ticks\": \"\"}}, \"colorscale\": {\"diverging\": [[0, \"#8e0152\"], [0.1, \"#c51b7d\"], [0.2, \"#de77ae\"], [0.3, \"#f1b6da\"], [0.4, \"#fde0ef\"], [0.5, \"#f7f7f7\"], [0.6, \"#e6f5d0\"], [0.7, \"#b8e186\"], [0.8, \"#7fbc41\"], [0.9, \"#4d9221\"], [1, \"#276419\"]], \"sequential\": [[0.0, \"#0d0887\"], [0.1111111111111111, \"#46039f\"], [0.2222222222222222, \"#7201a8\"], [0.3333333333333333, \"#9c179e\"], [0.4444444444444444, \"#bd3786\"], [0.5555555555555556, \"#d8576b\"], [0.6666666666666666, \"#ed7953\"], [0.7777777777777778, \"#fb9f3a\"], [0.8888888888888888, \"#fdca26\"], [1.0, \"#f0f921\"]], \"sequentialminus\": [[0.0, \"#0d0887\"], [0.1111111111111111, \"#46039f\"], [0.2222222222222222, \"#7201a8\"], [0.3333333333333333, \"#9c179e\"], [0.4444444444444444, \"#bd3786\"], [0.5555555555555556, \"#d8576b\"], [0.6666666666666666, \"#ed7953\"], [0.7777777777777778, \"#fb9f3a\"], [0.8888888888888888, \"#fdca26\"], [1.0, \"#f0f921\"]]}, \"colorway\": [\"#636efa\", \"#EF553B\", \"#00cc96\", \"#ab63fa\", \"#FFA15A\", \"#19d3f3\", \"#FF6692\", \"#B6E880\", \"#FF97FF\", \"#FECB52\"], \"font\": {\"color\": \"#2a3f5f\"}, \"geo\": {\"bgcolor\": \"white\", \"lakecolor\": \"white\", \"landcolor\": \"#E5ECF6\", \"showlakes\": true, \"showland\": true, \"subunitcolor\": \"white\"}, \"hoverlabel\": {\"align\": \"left\"}, \"hovermode\": \"closest\", \"mapbox\": {\"style\": \"light\"}, \"paper_bgcolor\": \"white\", \"plot_bgcolor\": \"#E5ECF6\", \"polar\": {\"angularaxis\": {\"gridcolor\": \"white\", \"linecolor\": \"white\", \"ticks\": \"\"}, \"bgcolor\": \"#E5ECF6\", \"radialaxis\": {\"gridcolor\": \"white\", \"linecolor\": \"white\", \"ticks\": \"\"}}, \"scene\": {\"xaxis\": {\"backgroundcolor\": \"#E5ECF6\", \"gridcolor\": \"white\", \"gridwidth\": 2, \"linecolor\": \"white\", \"showbackground\": true, \"ticks\": \"\", \"zerolinecolor\": \"white\"}, \"yaxis\": {\"backgroundcolor\": \"#E5ECF6\", \"gridcolor\": \"white\", \"gridwidth\": 2, \"linecolor\": \"white\", \"showbackground\": true, \"ticks\": \"\", \"zerolinecolor\": \"white\"}, \"zaxis\": {\"backgroundcolor\": \"#E5ECF6\", \"gridcolor\": \"white\", \"gridwidth\": 2, \"linecolor\": \"white\", \"showbackground\": true, \"ticks\": \"\", \"zerolinecolor\": \"white\"}}, \"shapedefaults\": {\"line\": {\"color\": \"#2a3f5f\"}}, \"ternary\": {\"aaxis\": {\"gridcolor\": \"white\", \"linecolor\": \"white\", \"ticks\": \"\"}, \"baxis\": {\"gridcolor\": \"white\", \"linecolor\": \"white\", \"ticks\": \"\"}, \"bgcolor\": \"#E5ECF6\", \"caxis\": {\"gridcolor\": \"white\", \"linecolor\": \"white\", \"ticks\": \"\"}}, \"title\": {\"x\": 0.05}, \"xaxis\": {\"automargin\": true, \"gridcolor\": \"white\", \"linecolor\": \"white\", \"ticks\": \"\", \"title\": {\"standoff\": 15}, \"zerolinecolor\": \"white\", \"zerolinewidth\": 2}, \"yaxis\": {\"automargin\": true, \"gridcolor\": \"white\", \"linecolor\": \"white\", \"ticks\": \"\", \"title\": {\"standoff\": 15}, \"zerolinecolor\": \"white\", \"zerolinewidth\": 2}}}},\n",
       "                        {\"responsive\": true}\n",
       "                    ).then(function(){\n",
       "                            \n",
       "var gd = document.getElementById('9bd0fb26-dcdb-4a68-854b-0acab9cf31ee');\n",
       "var x = new MutationObserver(function (mutations, observer) {{\n",
       "        var display = window.getComputedStyle(gd).display;\n",
       "        if (!display || display === 'none') {{\n",
       "            console.log([gd, 'removed!']);\n",
       "            Plotly.purge(gd);\n",
       "            observer.disconnect();\n",
       "        }}\n",
       "}});\n",
       "\n",
       "// Listen for the removal of the full notebook cells\n",
       "var notebookContainer = gd.closest('#notebook-container');\n",
       "if (notebookContainer) {{\n",
       "    x.observe(notebookContainer, {childList: true});\n",
       "}}\n",
       "\n",
       "// Listen for the clearing of the current output cell\n",
       "var outputEl = gd.closest('.output');\n",
       "if (outputEl) {{\n",
       "    x.observe(outputEl, {childList: true});\n",
       "}}\n",
       "\n",
       "                        })\n",
       "                };\n",
       "                });\n",
       "            </script>\n",
       "        </div>"
      ]
     },
     "metadata": {},
     "output_type": "display_data"
    }
   ],
   "source": [
    "#method 1 : each figure is a trace, so pass a list of traces in data attribute\n",
    "#marker can also be passed an a dictionary\n",
    "fig = go.Figure(data = [go.Scatter(x = x, y = y, mode = 'markers', marker ={'color' :'chocolate', 'size':5}), \n",
    "                \n",
    "                        go.Bar(x = [10,20,30], y = [20,30,40], )])\n",
    "fig.show()"
   ]
  },
  {
   "cell_type": "code",
   "execution_count": 203,
   "metadata": {},
   "outputs": [
    {
     "data": {
      "application/vnd.plotly.v1+json": {
       "config": {
        "plotlyServerURL": "https://plot.ly"
       },
       "data": [
        {
         "marker": {
          "color": "lightcoral",
          "opacity": 0.5
         },
         "mode": "markers",
         "type": "scatter",
         "x": [
          -0.49859283832818413,
          12.056082419965012,
          16.918214815381866,
          8.485383780871661,
          15.887924721707389,
          13.085313048366292,
          11.327078015328404,
          3.5797400165902404,
          8.863025015060948,
          11.53000866564029,
          7.251838086984254,
          12.610980928737353,
          6.498429698064012,
          14.901082430114673,
          14.036324834257966,
          9.373533139656233,
          6.812317738888542,
          16.178396110800076,
          7.371186263773495,
          3.2900905224673824,
          19.713889964051557,
          19.24963104708044,
          8.488725164720723,
          4.945385570492214,
          11.107112143383658,
          15.622493206653713,
          14.386002063008853,
          18.169336750871985,
          8.042571644786184,
          10.334056089128662,
          11.334397651331829,
          1.340698028647978,
          5.461886166433388,
          14.898724066115715,
          14.50266856920507,
          7.264318435191987,
          17.137733608174752,
          -0.14370095830162555,
          1.8616057068321243,
          2.605392916510443,
          6.733365029965214,
          5.990969579119434,
          10.043887379373418,
          6.3223675871310245,
          17.798488448531856,
          -0.3985737419196873,
          4.100139405222221,
          12.145046519004193,
          0.318528983066944,
          18.824283199672774,
          2.8718944160936832,
          6.701522838787062,
          4.3597230307313914,
          5.032405813804775,
          10.653180807002077,
          13.04685754295392,
          4.826635920937122,
          17.496818456361872,
          9.522332524495603,
          4.661611112409797,
          4.709209663101895,
          10.111833696928361,
          11.427067731541731,
          10.081291291771674,
          0.18682360371506768,
          3.7347407337440988,
          13.678233290125277,
          14.417231279942943,
          16.161528636398742,
          1.4068563336464397,
          -1.0471298011203025,
          12.19655935700382,
          8.009337189683148,
          5.8646921314614815,
          22.2076453690296,
          6.695713528512443,
          14.502719981961047,
          2.158045965515085,
          13.483440014765646,
          3.3728614440262374,
          14.140728821348246,
          14.121340396830428,
          0.5998748225296531,
          15.429844728800088,
          14.672934395938404,
          12.569397223580445,
          10.653231939387487,
          10.16970180893844,
          6.52704505125407,
          2.8032928048364134,
          -0.2357120344290209,
          12.214983742642035,
          21.259440561772994,
          7.738579898986151,
          20.991616490953216,
          10.018104604187284,
          9.543859205652259,
          10.023745563925594,
          8.889915334617317,
          -4.922909211336616,
          -0.22790723456577489,
          3.182433959035823,
          -7.839892844305314,
          10.199903668833178,
          8.506667997651352,
          7.298941389930095,
          10.794566806892643,
          10.133283568236346,
          11.904207855646408,
          5.4855149336497755,
          2.2216491570990957,
          10.570836661392718,
          7.4577094003394775,
          2.884098610424962,
          7.807228043940238,
          2.373861754920034,
          19.51702563053941,
          14.160343951099529,
          -1.7484874052472001,
          9.191192128060031,
          0.7563038526843187,
          22.280283810892833,
          1.6180039302802989,
          3.4169680921610635,
          8.567722784111922,
          1.4255986093102528,
          15.69402865903156,
          9.883614484225209,
          15.367586234560079,
          14.558158719101232,
          1.0136777135009822,
          2.836684139248371,
          17.777575518394343,
          15.713653756491343,
          2.696475216153912,
          9.056408995749173,
          0.9544890384136835,
          10.647304784839681,
          14.482333930594885,
          12.578058615175657,
          1.5097424748848454,
          6.15544046193657,
          14.677757821982174,
          7.371274501906942,
          22.448759007679392,
          7.940213906905182,
          6.300223769900833,
          14.579101876359953,
          11.157503150939839,
          7.909246416085777,
          23.791923644282054,
          9.008742684155608,
          12.797796210143137,
          11.619923431786534,
          8.08101371729147,
          3.1135504007404826,
          20.22174392872423,
          5.66709537966548,
          16.56211989795233,
          8.622893480560263,
          9.946608020247337,
          6.740811949556967,
          14.518373126151873,
          0.3433666229622734,
          21.659573580603976,
          1.3153833260824896,
          10.781490732116213,
          15.69616518796592,
          -2.091132302735158,
          9.522756478395333,
          11.806296782728392,
          -0.10939977011108226,
          11.334344856672692,
          5.890469588516619,
          9.242792897718537,
          21.941641898524544,
          13.137986827124509,
          9.901927583455077,
          7.5051019849561005,
          1.8489823794412015,
          6.9134206517872885,
          8.703639279980433,
          12.534281322531868,
          3.43574241380659,
          17.42144731114135,
          8.618291929437353,
          5.773490801589861,
          6.451749273488968,
          14.421971014109273,
          12.61520351508946,
          20.6559615130406,
          13.078446273037873,
          17.023161897688862,
          22.466273393501222,
          7.264467884715879,
          13.895037563528092,
          8.951310673291012,
          16.103586059507016,
          6.4001017309067985,
          19.45700034591524,
          13.626541231535215,
          4.557817495115805,
          13.552139616162268,
          7.37761350609056,
          10.6106546378159,
          17.850080959864883,
          18.325610868451314,
          -0.4123468839984401,
          11.730264521363946,
          7.965487400341819,
          13.164214796946482,
          7.754182697513517,
          12.862553784506106,
          1.421424026582713,
          12.44623914985905,
          5.030317643526598,
          12.5407436910259,
          9.042895809980015,
          17.44649252317963,
          19.981217864423847,
          6.028373710444516,
          30.791362890875902,
          12.34863171563152,
          11.963472117858709,
          8.131917636587952,
          1.4520664679218331,
          6.250766887952606,
          9.340027624474864,
          15.71775656795155,
          4.099824138142375,
          3.4326568623058265,
          8.551907502688092,
          6.42931696505979,
          4.103128631306163,
          10.52937960655291,
          6.383443781057716,
          16.75333271789559,
          15.56231979280152,
          -3.614941968117593,
          7.910976173600954,
          9.015847583943662,
          17.299483542189456,
          6.238876571630196,
          8.350361152662416,
          16.88474463108394,
          16.95981384445041,
          14.21310703215866,
          2.2965711363141397,
          19.133846607266076,
          8.920220094105199,
          7.743115794304382,
          12.762095263970103,
          18.732528764426643,
          11.44904132725268,
          9.773999976416565,
          14.98919817943086,
          23.796216812533558,
          4.362385341647427,
          10.670935471253074,
          25.236592198668767,
          12.421590492552134,
          -1.3090063239174778,
          17.664712191189366,
          7.326470417160545,
          2.3780917664471,
          13.81300700917272,
          8.209385973446036,
          7.5862604704169065,
          6.780157439126052,
          14.938746409998899,
          10.151151419647263,
          19.105216770125537,
          12.217666904042408,
          7.116207026986657,
          16.253996458128015,
          16.593255919401216,
          -2.797462243446308,
          14.555225988411738,
          8.288914779263791,
          12.882468467629128,
          12.808004129216584,
          26.25401168419551,
          22.114516700379166,
          14.484420509439728,
          6.461748479513687,
          5.119451052539226,
          8.938618813932809,
          13.042285011857722,
          8.399331014576465,
          4.863627868012853,
          19.355889141334615,
          3.4438668122301195,
          14.548254988994563,
          2.8033601831920354,
          11.058222868930255,
          4.7456149504073375,
          10.705650737599385,
          4.250989986511924,
          -1.2866878936484323,
          11.094056364922253,
          6.709046318348744,
          9.684190181365286,
          29.040343143771878,
          30.005221105584592,
          19.62023197809395,
          16.077377385730102,
          21.067139237534057,
          7.98313822913826,
          12.992502932825367,
          3.533043537596906,
          13.461604359658205,
          10.519149091645437,
          12.302733090291252,
          18.008384546362855,
          20.03074713168801,
          8.121953610545479,
          10.741315775111964,
          19.28637461695352,
          9.352664939216588,
          16.020385343328343,
          15.32603068495759,
          10.531898743441158,
          2.0525314243586186,
          11.430307871530038,
          17.179968760720065,
          7.21094457836872,
          3.17996373224568,
          11.490967749284088,
          12.104156886388097,
          9.207539711720544,
          6.84612883110716,
          6.490664005240312,
          4.424516812591451,
          12.39049851765809,
          1.8645528664162008,
          -0.2694983187054216,
          10.951591578168346,
          22.79492037297377,
          26.32800165919938,
          -1.8371842884702758,
          13.238877513947834,
          13.259039080594844,
          15.782467186463858,
          17.522356805580706,
          8.67921661739205,
          8.486379757318115,
          10.060222836450386,
          12.881730293711632,
          -1.7418053134583769,
          6.613092050153938,
          3.020585066916028,
          9.87294535419702,
          11.98643009568675,
          7.801022503317639,
          15.162852441429465,
          8.5204162027956,
          18.943198583604058,
          7.60365173793852,
          11.951237753900864,
          6.074314877152404,
          9.885263492205702,
          15.957649896024133,
          9.222420645917987,
          8.975017553875364,
          14.742568542833643,
          16.550895443292767,
          7.569500416476187,
          13.218663621208755,
          -2.7878879599112096,
          11.578460136599729,
          2.3736520870345927,
          15.574600679780149,
          -1.5884771415742858,
          10.14529204362438,
          2.717850763928716,
          11.128821742335639,
          6.566416604755412,
          26.47070778865044,
          10.74972387610025,
          3.6085230710738125,
          13.61832218741996,
          3.63119417847014,
          0.9014170256781853,
          11.975695031769158,
          -1.9017256568250662,
          11.002820702224689,
          8.926636002887548,
          17.069434955201835,
          7.339552083660054,
          14.433723404559714,
          9.070909270993042,
          9.483666139764749,
          7.985458968861487,
          9.180223724305653,
          10.556658549804098,
          11.138312751877516,
          -2.2920315356245755,
          14.702716469082866,
          8.602092630523028,
          2.893531435536575,
          8.813216258432826,
          4.871963264322561,
          10.141584975191474,
          8.977261189542114,
          3.5820024001590243,
          11.355032474624505,
          4.794043009801667,
          12.51049143302648,
          -3.8315489119022725,
          10.972933598572217,
          6.526953274316828,
          7.6042921927353895,
          18.92736659280182,
          7.853098885888387,
          12.138585363724538,
          16.187693180811802,
          19.135258556862816,
          3.901113326916261,
          16.770488511195836,
          4.436508403793355,
          2.843371701824984,
          18.24915650523934,
          5.780578293603129,
          11.465242424775807,
          16.194075464674093,
          19.70163941313824,
          9.671018576443803,
          8.511931910368,
          7.619650300821153,
          9.798717835968011,
          16.19750827549637,
          -1.9389334396297482,
          8.331797697339223,
          14.594172556651491,
          14.464897408016009,
          -0.33915994379206005,
          16.182354557878472,
          10.35828862415762,
          4.394704974661343,
          3.625353178669428,
          6.223324836223968,
          8.186293450829806,
          16.23783336931531,
          4.414182083364275,
          2.334225516158506,
          4.334079844366134,
          8.087155462237597,
          -2.5056253013293546,
          17.621869268155066,
          10.185266517883829,
          13.919055112859828,
          13.350081413704144,
          10.818385219560609,
          7.975969533179625,
          1.9770096946892384,
          7.531054285825571,
          9.353342836221026,
          13.1375041789059,
          15.736899871889593,
          17.219923555812173,
          4.142610869074536,
          9.549084577486516,
          12.116839497058763,
          10.294224769288101,
          17.71610480260977,
          8.39664819148574,
          17.94542813257764,
          8.39444846935614,
          7.183562663872113,
          1.4454623113219327,
          14.832952636881647,
          18.128614839142536,
          14.953355088802155,
          8.447862457170913,
          14.544997146538904,
          5.7732657814058355,
          17.26791104430977,
          -1.0534050442075973,
          7.79052661523487,
          0.7120446195395118,
          7.289966376093879,
          3.1747456080655017,
          9.184739486336882,
          13.806274562734554,
          9.918652491817294,
          12.255380963967735,
          8.580505882841473,
          15.874848016277452,
          16.56248918785129,
          1.698267062595324,
          16.060803297194315,
          15.23597875739119,
          16.22567401089426,
          11.815286209813165,
          2.2112951122342395,
          15.087182308749533,
          8.386741603790096,
          11.811897952035984,
          -3.63143299170601,
          14.5456299259152,
          15.256307112473845,
          22.93731996008808,
          17.732215337773646,
          9.14478882384492,
          19.995428216750895,
          1.7193142214015253,
          33.14763804093784,
          28.453443360594544,
          14.984917382169177,
          4.730390994749617,
          10.83917323456609,
          14.275233642247812,
          12.157742460503677,
          14.276488007138582,
          16.41271408451125,
          7.028956270941027,
          10.797773682617825,
          9.502608849971969,
          11.285314284800986,
          14.156176342791028,
          -1.4491086988196216,
          10.69919989635096,
          20.5310449940589,
          7.626606190845747,
          4.4044992594289685,
          5.958612671204639,
          14.287192287950182,
          -0.7400235144569418,
          11.345817117728664,
          -9.259732291868275,
          19.141508989477174,
          9.582306045108714,
          18.1935411951559,
          6.647827985699461,
          11.652360855647068,
          24.405509867927684,
          3.933789274267176,
          15.655041275027349,
          -3.3290649422031446,
          -5.514605533996626,
          14.133528172947667,
          10.247647445216199,
          7.013639893258905,
          9.940916275171112,
          6.894038057683711,
          11.813060951249632,
          14.640645985265255,
          15.929253090918778,
          10.105601241538588,
          14.918836924118672,
          14.126558174768794,
          12.358949153494654,
          6.934820839072643,
          -6.512225976067562,
          8.847585506564679,
          8.595586655805388,
          0.3915163508308872,
          14.746156898111327,
          10.077201305108344,
          1.9089286934892815,
          15.196355036930832,
          14.747769882400931,
          17.061715082144488,
          3.007409598978578,
          13.229476585027346,
          4.942836689746148,
          -7.249813279193173,
          6.828966183324003,
          8.073466055739086,
          23.09365546500701,
          11.972214736437012,
          18.688008525256294,
          7.3762765447370535,
          15.468846910781927,
          3.239030298057223,
          16.68840335578934,
          2.6405954100891558,
          18.131635369197042,
          9.466853997496672,
          5.830305257576092,
          3.913167755815808,
          15.227296082310788,
          4.4831246339918795,
          11.72578672855818,
          6.803245763304343,
          10.993850716332393,
          10.100034240539618,
          6.211406490643448,
          3.975905159927077,
          2.127408810840132,
          12.680957480778872,
          10.891191916123391,
          21.017848961863677,
          10.838005470931801,
          -0.5911631040959016,
          18.685624317366127,
          3.149327833550455,
          14.47841292221619,
          7.185833177514345,
          14.72188879146228,
          8.907874991053703,
          3.979715693619748,
          4.378467333566918,
          4.3343763973758485,
          5.634872494872976,
          22.392916823720377,
          10.81636776103755,
          11.210883182980362,
          17.624529426873433,
          3.9791527917308347,
          5.605973138509643,
          6.11204732172873,
          5.286871370057838,
          20.408387099160862,
          7.323076843405617,
          2.5604780302844405,
          8.24928132161791,
          6.039164374943109,
          3.449214010385531,
          13.389141476332664,
          -1.6672416937728833,
          11.58358734190265,
          19.232521957018918,
          24.382438403403754,
          19.337250225899467,
          8.783903063653417,
          9.346562430171344,
          16.811210004810256,
          16.05876125374256,
          4.519475830970225,
          -3.3755535985315923,
          7.2236181181469545,
          19.769245814723863,
          9.54460139770873,
          1.6328037080718296,
          5.320010183723822,
          14.191784621794056,
          12.837480787890422,
          8.36528914737422,
          11.108756533081065,
          7.9660988074425365,
          9.146126154786987,
          1.3057244328516404,
          2.0637009978310434,
          5.734585464406198,
          6.362895339341434,
          3.566546365724295,
          13.272724178337329,
          13.235034671660259,
          17.19294363110061,
          9.53895796176882,
          5.839672893337092,
          4.3181436844585885,
          -3.611719773476608,
          11.281540604981199,
          2.4096538358872115,
          15.782181189392384,
          13.110061090935382,
          13.54015675789076,
          16.787087145521348,
          9.34555622459425,
          9.651003297084637,
          4.944904045157037,
          5.482326374244559,
          7.104608112630774,
          13.147287077407196,
          8.412497917813209,
          12.118031100768594,
          11.342944714543977,
          7.766806059391345,
          25.884513935698614,
          10.799741452164582,
          14.860587204394541,
          -2.3987223427097355,
          8.029551523649621,
          11.712693967277582,
          15.476369552049427,
          4.687628816611097,
          13.977359290600276,
          0.7115355337514622,
          6.664753446722319,
          8.743607318538652,
          21.03922561109855,
          9.927785392466722,
          19.265497369409992,
          -3.1109228195478913,
          4.568478155324742,
          11.278395514577227,
          4.205706025316336,
          16.05693863121045,
          3.926732675524077,
          15.430317177597278,
          4.522064064304502,
          7.297790061909359,
          16.244304971693513,
          5.466849464292035,
          12.54650948966862,
          10.398665813986417,
          9.472027566990155,
          21.72658053341688,
          13.407660289899614,
          9.390172153708939,
          10.415505771007158,
          3.0303883196303403,
          11.962156939163313,
          13.404000523386518,
          15.409553550324523,
          21.262857223826753,
          12.583679650804392,
          2.855294470838854,
          11.357272786846039,
          6.584100578104754,
          5.606435741579401,
          5.729550486899872,
          10.341232967357561,
          5.059006770200018,
          11.839815115472138,
          -1.003242411724628,
          -7.353442432190839,
          9.048452079335718,
          0.8103890614242992,
          6.532322398049243,
          -1.4354332210788705,
          -2.0536557005734473,
          11.43337589817786,
          6.949282689086471,
          9.710429777224414,
          9.789837698866554,
          5.636158565710382,
          19.11017241955706,
          12.166152498072275,
          25.46186607418693,
          19.52392745483715,
          14.126065696929292,
          9.890725917372322,
          6.462507592485579,
          5.619002318650976,
          10.8062968686617,
          15.82932137949583,
          3.649723343668752,
          9.828366842297221,
          2.48633491535141,
          10.639585733795858,
          13.253543999121502,
          15.947313104815848,
          11.72327791718881,
          6.184181088152437,
          7.7289831846449975,
          10.097937210043893,
          8.742472285263108,
          11.92866562776622,
          11.401116215298948,
          16.089713732483204,
          1.8079405490619038,
          11.65918632454536,
          4.268704697063226,
          8.43692427521409,
          2.035054103612267,
          10.2238459351279,
          1.2841559565331426,
          5.034389575000458,
          23.75316187486594,
          13.767326070677012,
          15.716231461055829,
          5.022233568339761,
          16.96279822523377,
          8.130849367046387,
          6.763653863079716,
          13.242596532201478,
          10.844170338803965,
          17.429574478817432,
          2.286556837516856,
          5.317394922918248,
          7.202967241688535,
          10.581642059910454,
          7.250617610343898,
          9.523802103665469,
          8.090288118306793,
          15.517261874546914,
          6.632935943681399,
          7.539327944750967,
          10.408754249415095,
          9.406485277834305,
          11.435559165247406,
          2.3950240350433862,
          10.549427465734887,
          8.98388189421689,
          4.68581263482503,
          0.12635221226640425,
          11.018785114797545,
          9.172847822013809,
          9.571035293528215,
          7.682680567064258,
          18.069701631665193,
          3.512448572708866,
          9.621527219769586,
          6.97863708395254,
          -2.3054345782962393,
          10.52354788451323,
          2.023326293222567,
          14.53826132756452,
          14.9457352090278,
          12.278039332001882,
          13.145341911722339,
          7.283720229297517,
          14.125556720507944,
          15.500481709167547,
          16.718296610071523,
          17.58126901798323,
          1.2633664148240094,
          11.927721633512412,
          -4.622160196484021,
          15.840242265580386,
          6.145113239500774,
          11.756995381430675,
          7.216112427904499,
          12.320401841219526,
          14.034978655200057,
          3.454144281910554,
          6.837979478808026,
          8.173582924423782,
          14.62491060025837,
          8.58549418079032,
          8.93330244895695,
          23.73181174799946,
          -5.1736850653081135,
          13.406521324577584,
          10.441315305366286,
          14.489945120342657,
          15.4879398586677,
          17.513389375763815,
          4.691628392567985,
          17.053656884478016,
          12.878177250743555,
          6.460195395603259,
          15.173013510988614,
          1.1640572425253932,
          13.913861190187433,
          9.089860208328009,
          18.05942129872756,
          6.0430956252223895,
          7.545605241372353,
          7.968517105661878,
          7.620287887686109,
          1.2505489222799984,
          9.934560446992302,
          5.400562145952189,
          15.053034941934978,
          14.751275208506922,
          2.0942336479681245,
          10.078918219347225,
          10.91938016628003,
          5.2816298175289464,
          18.20863131480713,
          10.024052773201403,
          12.719165226159838,
          7.561727860412078,
          14.10471693596087,
          27.303815510655028,
          6.470867349160392,
          12.191352443055795,
          11.938657008332727,
          13.494425588041583,
          9.94925508279988,
          -0.3419086028441569,
          3.846776471397897,
          13.209565562492724,
          0.09984883105386189,
          14.013683854384878,
          11.681933821022405,
          12.41630507598666,
          13.571149088041121,
          9.730630467128652,
          13.872078658492867,
          3.2352451006426453,
          11.347086524396616,
          10.634265701256323,
          3.9919192957385103,
          8.882910132742792,
          21.9877091066124,
          13.435340509583394,
          1.7877027935757308,
          3.053679723243043,
          16.394957378755326,
          0.07001920458117894,
          18.86281229372584,
          4.402834347194581,
          10.78252550352295,
          9.813827814574445,
          9.473897561045593,
          13.706556824657675,
          27.314510772353657,
          20.5589266021654,
          16.547985445174398,
          -3.2807636443471537,
          9.85611542860837,
          17.423521076124306,
          7.262847603154399,
          22.748472397078704,
          11.444453707529195,
          9.648136524158986,
          4.756000480315161,
          9.263285798413428,
          15.47077937387985,
          9.355215311543287,
          5.63517499237133,
          19.57457740768251,
          15.926482164042495,
          7.071333898501229,
          13.778168833781415,
          7.279601809413405,
          13.654597548579606,
          4.886506296049082,
          9.672702224109159,
          16.54476776404887,
          -1.0780496873230128,
          7.525397070316044,
          7.507203822930129,
          2.18946046468154,
          3.183406152759998,
          -0.7858254690091933,
          6.030658339058853,
          25.295714192642208,
          0.17394625517708384,
          10.037905970903804,
          13.250275907645173,
          9.207399769658085,
          7.727582209259715,
          21.643736828007185,
          3.748753773453002,
          8.286437324029787,
          6.40646424524728,
          7.705957731723865,
          4.084115130550391,
          1.8131405679345356,
          5.058799455989182,
          -0.08832089329914616,
          4.5026803649773575,
          13.261767593619007,
          19.149175603289567,
          17.184504086775544,
          2.66496821562027,
          -2.142581180124374,
          10.322270485996537,
          6.78225782546117,
          10.642855211637588,
          13.690913112356547,
          15.430392642406265,
          19.915513848392862,
          4.943081874400466,
          9.619568071876136,
          12.934321611340717,
          14.227212566831795,
          3.5695865944725407,
          12.482551890480277,
          7.929848355776062,
          17.44113890927272,
          10.620574106897125,
          -2.8511096864212853,
          5.898099149910948,
          2.9152118344562092,
          17.086012970903795,
          3.603668451027323,
          5.541724466110946,
          4.684448502923699,
          7.025089989143229,
          13.164326125772213,
          8.189491630678587,
          12.133866333559544,
          17.96879267886191,
          11.42844554171022,
          11.031152951021838,
          16.70060948085328,
          9.91786686875112,
          17.697458539686817,
          3.2201737250972844,
          14.552328664534318,
          3.408374586579191,
          8.182575709645253,
          18.997663370225858,
          10.876855252798451,
          21.420498497152323,
          8.162761633780743,
          7.2576079656181225,
          -4.33168444210466,
          4.829204920565162,
          6.79363698818165,
          2.4243742871426903,
          3.860806952683439,
          13.230796067449624,
          20.299016645410752,
          11.074743428198248,
          7.264189899730185,
          11.960150194598004,
          14.091789304079754,
          5.572067757509286,
          17.958069041976017,
          15.562021143981807,
          11.278553489502361,
          17.96999855282869
         ],
         "y": [
          0.6579377457809075,
          11.348421756649753,
          19.458685920371668,
          9.82837164432293,
          22.28680683298985,
          12.74236642654559,
          17.45769303395048,
          2.4324419275701166,
          17.333992860753135,
          20.5974556723307,
          9.358695198190706,
          11.835480120438453,
          16.399742383094196,
          12.019534463452759,
          11.510331294844942,
          21.481816822787003,
          5.865058372278458,
          19.178050834986987,
          7.742379975926884,
          3.1767571158317534,
          24.514071053310296,
          21.54787028992259,
          10.121492958924744,
          3.703145106822733,
          21.106543505213264,
          14.460602363095065,
          21.474141774485958,
          20.662963588533568,
          9.463692583007141,
          12.587655797622055,
          13.45858945951867,
          -3.6156990627598242,
          7.807862392584735,
          14.934540189652921,
          5.805248775014315,
          11.841755884922428,
          18.557519364279162,
          5.103063249213017,
          2.882356429920987,
          1.8199899488688946,
          10.529760366943092,
          4.698618135139406,
          10.433904991495394,
          13.865502652949052,
          22.136571420960678,
          0.6088269954255605,
          7.414050756479325,
          18.71734022077049,
          5.181878182042307,
          26.22748865974107,
          4.178070041607265,
          8.829217502347166,
          2.9182411255909098,
          12.70392157323337,
          11.787734440941772,
          10.984900114487267,
          3.9227346712338753,
          24.407640429324704,
          7.0163906723680665,
          4.254801120938969,
          7.776668946337708,
          7.999550966954876,
          19.908941326524168,
          12.397394167645844,
          -0.09147098500340389,
          5.141568904164988,
          15.07628104825463,
          12.86538674088436,
          19.308532425406742,
          4.550748103719386,
          2.182591206338315,
          11.566482795199992,
          9.508597841352342,
          4.248031294488062,
          24.526485405382854,
          10.65264858784676,
          7.431212297595614,
          -1.5875221496001446,
          17.852797699609525,
          4.872131688231254,
          13.991852217978167,
          12.641513778719677,
          3.439312760860367,
          14.824070392003229,
          19.73059478410503,
          10.331398298961599,
          11.733088713180981,
          19.708526026752693,
          6.327797931324375,
          5.8060847233260064,
          2.81608103923169,
          15.834700032942845,
          16.84950244111768,
          9.496647838922712,
          20.201494126357062,
          12.61961702416765,
          11.232631692628814,
          12.524596307293415,
          6.896051047879826,
          -3.9468100677071645,
          7.688560689904405,
          7.086219400104054,
          -6.583115252795052,
          16.416073568086787,
          7.363163364807136,
          14.57502141246649,
          12.1054113478052,
          4.749165182175528,
          11.005178387941108,
          7.430291852510969,
          6.559419940682105,
          8.253040854648425,
          12.316492709412884,
          5.778408669238987,
          6.182880928163286,
          5.231997903204571,
          15.791671832546482,
          7.078691142455083,
          6.923653106618506,
          13.942062093432458,
          8.633137064093102,
          22.49214648455819,
          7.494857289651275,
          8.803717043158596,
          13.010995160006406,
          0.7644430670761895,
          15.537754092721645,
          9.60380729920685,
          11.410212486410241,
          16.362777970935632,
          5.213400101729141,
          10.056035457634486,
          21.86681935270854,
          21.088893941603548,
          4.91922116872212,
          17.311579430222118,
          0.40232609837006317,
          9.828347903869497,
          12.295824411324215,
          22.777173700951963,
          5.069514463298292,
          7.243602838585872,
          21.738955326346236,
          16.11139855363039,
          22.72574242803191,
          19.917836378825463,
          10.725336584631041,
          24.16908461596016,
          11.69656722301398,
          8.508766384229416,
          29.379497867730073,
          5.8241736027076625,
          11.73338732705583,
          4.674912278980019,
          10.266323946534857,
          4.892146131715948,
          23.921395372536008,
          10.158381438681332,
          17.74376078407861,
          7.0088105773346365,
          9.115455987434583,
          7.587841170326691,
          18.019473809465982,
          2.511747897553142,
          23.299746219510318,
          8.573096504438269,
          11.959403107854751,
          13.851691109738146,
          -3.599451121577459,
          10.125234322351314,
          16.444550643095017,
          4.606681447930608,
          11.696848900075588,
          6.477198676149647,
          12.960070044153206,
          29.336793371684944,
          14.046421402439334,
          12.63767294455934,
          11.740565136751966,
          -1.6363106091472739,
          7.590845165879485,
          12.512572369380642,
          12.41220806509697,
          4.3099095377912136,
          16.84493581566404,
          6.09818702645622,
          3.126424665820794,
          9.129081644763488,
          16.18317845565808,
          19.038549301479165,
          20.008396409549185,
          13.644428523670381,
          18.738480497193947,
          24.8577285971643,
          16.347140928054344,
          18.759481220926755,
          9.94317190244159,
          24.77630382452435,
          5.066175149245151,
          26.117727470901464,
          16.299506774452574,
          6.169738453430068,
          11.118653054326824,
          14.030116443585307,
          3.7937469575057126,
          19.356629451050665,
          18.569191991506404,
          4.107603583318118,
          10.252061695274216,
          7.53316307258612,
          19.96154603996184,
          20.65426592691258,
          16.665605726729304,
          0.06351312893774663,
          14.285457248756014,
          10.570677211001254,
          20.88500425760169,
          19.146012745732175,
          25.567696646617723,
          29.31215158494087,
          11.903991941377846,
          33.474446618747756,
          17.180609234167086,
          19.169913016000216,
          11.641621732793183,
          0.30046195111808505,
          11.96361630812184,
          19.473320892728882,
          20.042808207906315,
          12.342717833269486,
          5.727503170368258,
          10.462480658108326,
          11.1716453399643,
          5.22283624731519,
          4.253817625129258,
          10.917896231972561,
          9.3896306522883,
          15.882935474615719,
          2.454334706387109,
          8.354546011415229,
          8.06679893763434,
          19.27309072823899,
          9.344888379804413,
          8.009290206509117,
          28.009833060693918,
          23.573893392672783,
          21.402109178636046,
          3.4049450400499013,
          22.510700459420413,
          2.9270917435762147,
          11.94927651992866,
          11.423294325655942,
          17.4900255155102,
          13.864350775673964,
          10.61983865575727,
          13.271207442905801,
          27.591371962827214,
          4.138112703786991,
          17.910744766266042,
          24.49100873659485,
          9.888601408268872,
          0.03366674694903593,
          23.906676924833015,
          7.207872406958982,
          2.694825327475434,
          5.4408094578799755,
          11.360110284915867,
          12.827027039434016,
          9.187908028140898,
          15.816707882593342,
          9.840060551301466,
          20.13237231017845,
          8.247586209557955,
          10.084390368458234,
          12.60183354719427,
          14.811917471006836,
          5.2911491964397666,
          24.557914084750692,
          7.663398838579024,
          12.990815691563315,
          21.79302940231725,
          34.026362018014645,
          20.436719961325718,
          20.845032080012324,
          12.832001927428092,
          5.822850259786028,
          14.23346924642271,
          22.862506787370048,
          7.794808946743567,
          10.739175260899646,
          23.036846143181734,
          -1.386992749310953,
          16.524558699989836,
          1.8413721581597287,
          18.466769903174217,
          4.1656607820074,
          12.085079501799145,
          5.976388975306053,
          -1.0159679038720189,
          4.303288658255916,
          12.278077857348215,
          12.259634165203922,
          36.142732436992425,
          30.129272485330038,
          23.516731289181493,
          20.750958261342625,
          18.24827571794556,
          6.578609876461111,
          18.58900104993363,
          9.281809672422025,
          19.275950966456058,
          3.6987352333434576,
          5.1775099195149075,
          17.56186024268756,
          33.26955170598093,
          10.82533645714569,
          10.218293412501883,
          28.70855677843417,
          11.993827938754745,
          12.32898715547585,
          15.855391270867948,
          4.986745273410107,
          7.071819797070134,
          20.555206184179134,
          21.79048660065859,
          10.16095975453078,
          7.5567694384103135,
          8.959230423970963,
          16.09386837754643,
          10.23060163637284,
          13.008854902962517,
          7.422379870961574,
          3.7153820678511993,
          11.704067225597443,
          14.36701064955482,
          -2.7367008793089838,
          16.69660586835476,
          22.530190837980864,
          26.30661397326859,
          -3.3028534296779544,
          20.82700197167094,
          11.811351183419397,
          17.321841813677906,
          19.564503595369487,
          8.60075117741529,
          9.488094726533241,
          21.034860639363266,
          12.949743898179783,
          -9.217726013584587,
          4.926768759620575,
          11.09659832245302,
          14.082939029663176,
          11.215703640890391,
          5.560989466684324,
          23.031474643072077,
          9.848763511645652,
          23.982382210849384,
          8.769164810526146,
          13.758351211522163,
          7.340816509583767,
          17.01738659104023,
          20.696702517987994,
          13.253729350091106,
          12.639601457029784,
          17.314396352639427,
          18.304385177931188,
          8.310273434114835,
          17.862893355077304,
          -5.167361918147438,
          12.18904308185083,
          9.80709686083176,
          16.382365079072006,
          0.0911912320648145,
          14.124017240023257,
          10.211156411841245,
          9.413758698950641,
          4.341294172737946,
          29.27972805625203,
          10.036720244500167,
          5.520473202881605,
          8.016843421562255,
          1.5354485014414179,
          3.7616892137117537,
          11.868902221189758,
          -1.9994655789959341,
          15.19103189252446,
          11.401563705962063,
          9.848145261497224,
          12.219516638403906,
          11.295705166080065,
          16.498824421666153,
          13.42241125170018,
          8.96099731154046,
          16.598728951643132,
          20.86046087135182,
          15.805833549306238,
          -4.346910345376345,
          17.489096745420287,
          11.44558531067597,
          -1.3160233902134388,
          6.370677570304032,
          8.67374573539897,
          21.262830068148205,
          17.747623701481885,
          9.118689672978299,
          11.201112695994972,
          5.2873456409477,
          12.780945968285247,
          4.491090405744982,
          6.234107937937251,
          17.070311592962007,
          9.556111245322306,
          19.76302023204086,
          12.102923904420678,
          17.06483958271378,
          19.02006791462047,
          21.722796357934918,
          7.939310817393876,
          24.932710635115576,
          13.181469504095382,
          0.1356721367930387,
          19.491045376066946,
          7.917732714987533,
          12.129602701973514,
          16.66557400234157,
          25.592828407281722,
          12.905719622238516,
          12.338959112572034,
          8.18083595907261,
          8.408098190839763,
          23.04406294089162,
          -6.119472609520546,
          13.064188430020309,
          18.018907496095387,
          15.9910202075286,
          1.1544375317040274,
          16.765073468748966,
          18.84882653629395,
          8.34596403456771,
          1.1373962277317116,
          3.1360781643854967,
          9.213484190660099,
          15.971268258452415,
          8.937154002442767,
          3.8175323588112695,
          9.657490248441118,
          6.272204576073889,
          1.33520312042647,
          26.265210880388437,
          9.129105526649756,
          16.42990235496794,
          12.033351160265067,
          10.816487573904665,
          12.726473337393022,
          10.11522166637448,
          5.382088169631182,
          6.789474991637679,
          17.48176802397441,
          14.855371902835106,
          20.474713343908874,
          8.425877556263506,
          15.195033488628514,
          12.907640138591557,
          3.9265357854853686,
          18.20273730444975,
          6.485323504909625,
          17.93565241192603,
          14.849378347126965,
          6.502665759079129,
          2.0277015962269154,
          23.376608138272516,
          31.847258412872037,
          21.053209267451827,
          13.753333847119343,
          11.726107027834455,
          12.188990175314087,
          20.911146720258486,
          -3.7065885496030315,
          6.9460223406424575,
          -0.39870895881353086,
          6.484041787053709,
          7.24189101001412,
          9.52714151331909,
          13.55993538572576,
          13.293520622305433,
          21.2454693095048,
          12.74010539090158,
          15.894058518721579,
          20.41455678423889,
          4.6477722599326174,
          15.693350388152268,
          19.856660870730757,
          18.603722007465652,
          18.54893650262713,
          3.3248613219072913,
          13.980106463804143,
          10.612097380754912,
          15.261788651237026,
          0.089998582468231,
          16.792060670978913,
          5.981695102444407,
          28.24603020951502,
          23.180691391492132,
          9.048708133692465,
          24.21865410563927,
          2.520450816047445,
          31.71930783936167,
          33.12379572953884,
          20.751938448968822,
          4.142542548447825,
          22.0307155505562,
          21.380225426205175,
          12.277369802032924,
          13.399663497993679,
          17.780440171198975,
          6.835830892393572,
          10.01773415324233,
          9.470289398445672,
          16.66574267894938,
          14.699430913594217,
          0.967498732405943,
          8.16828318361678,
          26.51178252654093,
          15.641824852194592,
          4.973335881910089,
          9.715616965981358,
          20.191899460672122,
          3.454203127573397,
          14.46531214754651,
          -5.417556682312013,
          13.879110712695883,
          14.538110035069455,
          21.52990656338834,
          4.101324334872872,
          14.999844080394649,
          18.684616783550805,
          9.695608551994454,
          17.341273023674063,
          -4.083228532834381,
          -6.4068446841454545,
          19.39082662709724,
          17.103885513702267,
          2.5658385357801237,
          13.47155052162815,
          12.277691939359501,
          15.107111216883933,
          17.351009006350147,
          18.020156221403592,
          16.542696662435695,
          19.904086055938105,
          19.52383925093163,
          11.490160639810059,
          11.443603365281659,
          -7.890660651255805,
          11.349533108369677,
          10.674430922256208,
          3.7166571024499815,
          22.317645728677,
          10.61399893414516,
          13.00936063061289,
          15.552759706929976,
          13.292989343557538,
          21.49813792393761,
          10.055238611068171,
          20.21157330341389,
          4.524766518303514,
          -4.412708101313513,
          9.104436667566834,
          13.755957510285095,
          28.568256511971036,
          14.422161982438755,
          22.82147358400061,
          10.439237038393655,
          19.511624106362664,
          2.7368966959254486,
          23.451329790292867,
          7.321221611417731,
          17.984016283877512,
          7.9664564558464495,
          2.3021663534852275,
          -4.563954658548221,
          19.57195739099025,
          3.4331615964578592,
          16.284868998233932,
          17.427346907918402,
          17.335826762671623,
          5.781638944943699,
          7.8738704041250385,
          5.548770444154949,
          0.6421982227454186,
          17.515062801308787,
          12.183013369535244,
          16.18686959094807,
          14.812277474092019,
          -7.658702927275208,
          24.522756974029637,
          9.138898765091009,
          16.973328093018377,
          6.39099792985359,
          17.883173690246647,
          7.424998152859865,
          11.762189270016302,
          8.358428424097372,
          2.9537105352234434,
          6.583620359679143,
          37.182848639613866,
          12.812132391689225,
          11.69769337207897,
          23.668572691935317,
          3.4454325901967318,
          5.263548480232745,
          11.220626228550923,
          4.212846912273501,
          17.2202762383507,
          12.273359513537132,
          7.572151748380507,
          1.0245495570274556,
          4.802072241354729,
          4.50147782851764,
          16.684770479017555,
          4.621033681473074,
          13.929388302046558,
          21.727320908634567,
          22.13352106560679,
          17.998434286885413,
          14.377431353663043,
          6.944610645276499,
          21.346693259950545,
          14.397679315086588,
          1.3295888095331412,
          -3.1044006107438906,
          13.461440185394686,
          13.130877612850936,
          12.639031410638424,
          4.504373529387241,
          11.623773856337294,
          16.469264957620204,
          16.704088773418555,
          4.250141168422953,
          9.4062029646899,
          7.313566882396531,
          2.04984593986112,
          7.972916546841034,
          1.1639686872915087,
          10.699147536345615,
          4.354841682298536,
          2.6398861982911996,
          17.657981600067433,
          17.3804124477935,
          13.676041166560925,
          12.095304963986711,
          7.581620511282461,
          5.9370520750877045,
          -0.2599054935032825,
          19.604684968356796,
          1.6282953017949011,
          24.130536937688582,
          16.711813550453282,
          12.972898407655794,
          16.01659835551315,
          9.094532704306573,
          9.77305650479809,
          3.172988858642206,
          6.04771377042786,
          11.430044804633127,
          15.596120168278617,
          16.807748758695503,
          15.335253819149102,
          17.05801964611747,
          2.206549095335377,
          31.84925177153115,
          14.990180722687022,
          22.41034745006044,
          3.0799035160918535,
          12.196908824064552,
          15.995315025798373,
          16.40539882910062,
          8.257338238595413,
          13.126839135006971,
          -2.2927945454864664,
          15.822338270731677,
          9.201897818442468,
          21.681716811106792,
          10.066278256748113,
          17.84790506766872,
          -0.3973124225352125,
          7.517724746208206,
          16.24954017900242,
          7.202945969216639,
          10.330821330818221,
          9.098540265860803,
          11.279577886999679,
          12.080921239907951,
          14.032413769731033,
          13.292823391611272,
          16.009031870672487,
          13.879625317616878,
          9.530795496714779,
          9.696612288738548,
          26.25675972130687,
          13.925705269188741,
          3.685819092993718,
          8.457461183511588,
          0.6550239898361356,
          13.901062471908924,
          6.314243011988996,
          27.692611593388698,
          23.040461516255437,
          11.747119272951323,
          1.8757377775194208,
          8.715470428460645,
          9.761788934263882,
          3.5667742872591113,
          7.393314155890124,
          14.8868830534953,
          6.5777410565824015,
          12.652896078971658,
          2.0141257365099623,
          1.1853880115278628,
          8.161769246452316,
          6.89808984588268,
          9.304302421642445,
          -1.3446088182101568,
          -1.140334907255827,
          12.443301691092858,
          4.4203176023437045,
          8.46634061506317,
          11.370893466909232,
          7.4924451139444965,
          18.49628313051183,
          10.904321021203325,
          40.473469283391566,
          20.234692455955607,
          9.742540220801132,
          8.102168852680544,
          6.597884783621078,
          2.8337624330369247,
          10.091056028023669,
          16.916702193162294,
          -0.24533872678582203,
          8.581798859317576,
          4.113640807582994,
          13.089602783121332,
          15.621860193624078,
          12.400454494354303,
          17.036441511016896,
          8.221902769971571,
          11.26564064449026,
          15.230425333329734,
          10.627760819423631,
          16.227949352820858,
          12.517710276798718,
          24.022429397020776,
          5.961826419622241,
          5.90972781329924,
          3.1717262088123013,
          14.382396934840784,
          8.58520523194608,
          6.909910061055076,
          7.009758950274408,
          8.695584381514358,
          36.01683131557637,
          21.01168974496472,
          16.89904942129349,
          4.911101407051991,
          18.73781252948424,
          9.381782309036101,
          10.425085323694395,
          14.521303234249782,
          7.893141091679526,
          21.067366742758242,
          8.170617133276217,
          7.5409683633322775,
          8.665264754064646,
          9.407608942988311,
          14.244669862789628,
          6.945208945152526,
          6.3988897455343885,
          11.287765772230255,
          4.017392772799111,
          11.530961593034863,
          3.0556607025256675,
          8.31210138451268,
          16.15842489178707,
          1.5109126541578446,
          15.042314161859792,
          5.670582401832304,
          14.028554481201049,
          4.512228870796152,
          17.486584026805623,
          14.98432018592398,
          9.387844882221069,
          11.86299445314155,
          16.359573618513235,
          7.740001383767964,
          1.003361487714896,
          7.981486589421905,
          -10.440294181044008,
          13.347714510453013,
          6.189790759889958,
          18.626253209897804,
          19.20153256676339,
          14.045279912312484,
          19.456556260976235,
          12.000272483969951,
          18.095805728616185,
          17.084275126867308,
          19.01950611331468,
          18.042645086684555,
          -3.3946753170228288,
          15.490058676557393,
          2.9479441154784523,
          18.513900321416678,
          6.574838135982374,
          12.54779810533866,
          7.062866853161266,
          12.698603940184393,
          25.268648300258924,
          0.808216480963706,
          10.29889872456923,
          8.62299684553135,
          15.340607739249574,
          11.175637416293725,
          12.214588202775715,
          35.54809169428984,
          2.752934906971446,
          20.971546720533578,
          14.867584348127618,
          11.181751124754973,
          16.259522604035904,
          15.738599022249726,
          3.5401476286925995,
          14.887928826293876,
          10.9504151870844,
          11.863866157253055,
          17.022434184567395,
          2.728144346588614,
          16.995021708351434,
          12.016717243769266,
          13.943856742527325,
          13.988720901366463,
          3.0327341541338804,
          13.374584875280966,
          15.92210637044467,
          -3.7569605813824136,
          9.264735886733636,
          9.891826427991564,
          11.546107861481458,
          25.77969781780711,
          5.553937168664344,
          6.971551006492951,
          7.001570763386455,
          6.607419732625125,
          15.995000167192043,
          13.792468269677995,
          22.39813546022036,
          13.453459257742487,
          15.58745913241287,
          31.832807817552307,
          11.070952106991264,
          10.02603756858458,
          6.340918049045631,
          6.489084911467517,
          9.912754211325975,
          -0.25138403134972287,
          9.377469438502738,
          16.097755358116313,
          5.709062961156285,
          18.032604640208028,
          18.792760857155287,
          6.74162301744674,
          20.529287868226437,
          12.261695617415157,
          12.135423687039463,
          2.5337995293487756,
          8.877699087697128,
          8.95691096716995,
          -0.5883197057574892,
          12.88149028817631,
          23.395950000063625,
          18.639393319840018,
          1.1630292279002097,
          2.1323068693750926,
          22.60540623394795,
          2.893547389386385,
          18.027037314883138,
          5.292799471658256,
          14.883808965975057,
          11.40327820054228,
          5.586687952163902,
          15.018550261569468,
          29.175100011551592,
          18.05516821684159,
          19.002130967686117,
          -8.489698893300833,
          12.1678970221826,
          12.841268706446316,
          4.929757760712121,
          25.84415123337956,
          12.553987039871217,
          8.96294226229557,
          5.056451647322225,
          10.337021749046906,
          16.462618975877636,
          11.195274202267527,
          7.988975775068026,
          24.507381734482546,
          10.745592838295384,
          5.627997690152524,
          14.341031004188952,
          16.725633725930955,
          15.957316328236022,
          8.153376682408238,
          11.10917435584872,
          15.360971432603472,
          0.13884446009539797,
          10.791051467467806,
          6.145219935887152,
          6.969644125877053,
          15.480915820989052,
          1.0601671858047057,
          4.497933965528123,
          26.765255577373384,
          7.157655563971796,
          11.921044568439422,
          10.271253788520164,
          14.043428428781025,
          14.100642827044885,
          15.171902075150312,
          7.967166628567213,
          11.78165532683456,
          4.627454656501444,
          12.33758311834614,
          12.847023760069476,
          4.6049728614894345,
          8.911327111334156,
          2.583899869690894,
          7.076174289679323,
          6.851477315357563,
          15.01110125136511,
          21.353308037393447,
          4.749517750834132,
          -1.7079521388550607,
          17.02395868052762,
          8.13260637201612,
          11.324151251337206,
          13.01131345815451,
          20.613408089139384,
          13.653673753391843,
          13.534890633239726,
          14.786195519600415,
          15.038513410241585,
          16.706428722631365,
          7.170926375307826,
          12.351186854930033,
          12.135939669088199,
          19.267998975041777,
          15.96466058622442,
          -5.258741537629271,
          15.255057600368083,
          1.5580969557624007,
          15.472967852812534,
          1.459606152853758,
          8.975398186403336,
          13.12975976409753,
          4.533604353727706,
          15.141380941113622,
          12.903881659256635,
          17.07592288141899,
          15.503473351132488,
          11.742453878024058,
          9.786389012960676,
          20.754015963575142,
          14.156286853337352,
          24.646287850493685,
          5.101103762263689,
          19.119035298146564,
          9.253909197039736,
          10.268283109761391,
          19.9485020142747,
          9.310492188837598,
          19.232156959348004,
          13.06539080196753,
          12.785264415249163,
          -3.3146475421626374,
          4.126010446251769,
          13.886821664459445,
          -2.144589336559429,
          6.314510031053748,
          12.152732148676755,
          18.376687775131256,
          17.75907744267285,
          5.174433843117177,
          16.489670869810276,
          15.856592064093011,
          3.723553092522457,
          23.504465283283587,
          22.622172098156366,
          21.164638336094193,
          11.191963340649904
         ]
        },
        {
         "line": {
          "color": "#ED719B",
          "dash": "dashdot",
          "width": 9
         },
         "mode": "lines",
         "type": "scatter",
         "x": [
          -0.49859283832818413,
          12.056082419965012,
          16.918214815381866,
          8.485383780871661,
          15.887924721707389,
          13.085313048366292,
          11.327078015328404,
          3.5797400165902404,
          8.863025015060948,
          11.53000866564029,
          7.251838086984254,
          12.610980928737353,
          6.498429698064012,
          14.901082430114673,
          14.036324834257966,
          9.373533139656233,
          6.812317738888542,
          16.178396110800076,
          7.371186263773495,
          3.2900905224673824,
          19.713889964051557,
          19.24963104708044,
          8.488725164720723,
          4.945385570492214,
          11.107112143383658,
          15.622493206653713,
          14.386002063008853,
          18.169336750871985,
          8.042571644786184,
          10.334056089128662,
          11.334397651331829,
          1.340698028647978,
          5.461886166433388,
          14.898724066115715,
          14.50266856920507,
          7.264318435191987,
          17.137733608174752,
          -0.14370095830162555,
          1.8616057068321243,
          2.605392916510443,
          6.733365029965214,
          5.990969579119434,
          10.043887379373418,
          6.3223675871310245,
          17.798488448531856,
          -0.3985737419196873,
          4.100139405222221,
          12.145046519004193,
          0.318528983066944,
          18.824283199672774,
          2.8718944160936832,
          6.701522838787062,
          4.3597230307313914,
          5.032405813804775,
          10.653180807002077,
          13.04685754295392,
          4.826635920937122,
          17.496818456361872,
          9.522332524495603,
          4.661611112409797,
          4.709209663101895,
          10.111833696928361,
          11.427067731541731,
          10.081291291771674,
          0.18682360371506768,
          3.7347407337440988,
          13.678233290125277,
          14.417231279942943,
          16.161528636398742,
          1.4068563336464397,
          -1.0471298011203025,
          12.19655935700382,
          8.009337189683148,
          5.8646921314614815,
          22.2076453690296,
          6.695713528512443,
          14.502719981961047,
          2.158045965515085,
          13.483440014765646,
          3.3728614440262374,
          14.140728821348246,
          14.121340396830428,
          0.5998748225296531,
          15.429844728800088,
          14.672934395938404,
          12.569397223580445,
          10.653231939387487,
          10.16970180893844,
          6.52704505125407,
          2.8032928048364134,
          -0.2357120344290209,
          12.214983742642035,
          21.259440561772994,
          7.738579898986151,
          20.991616490953216,
          10.018104604187284,
          9.543859205652259,
          10.023745563925594,
          8.889915334617317,
          -4.922909211336616,
          -0.22790723456577489,
          3.182433959035823,
          -7.839892844305314,
          10.199903668833178,
          8.506667997651352,
          7.298941389930095,
          10.794566806892643,
          10.133283568236346,
          11.904207855646408,
          5.4855149336497755,
          2.2216491570990957,
          10.570836661392718,
          7.4577094003394775,
          2.884098610424962,
          7.807228043940238,
          2.373861754920034,
          19.51702563053941,
          14.160343951099529,
          -1.7484874052472001,
          9.191192128060031,
          0.7563038526843187,
          22.280283810892833,
          1.6180039302802989,
          3.4169680921610635,
          8.567722784111922,
          1.4255986093102528,
          15.69402865903156,
          9.883614484225209,
          15.367586234560079,
          14.558158719101232,
          1.0136777135009822,
          2.836684139248371,
          17.777575518394343,
          15.713653756491343,
          2.696475216153912,
          9.056408995749173,
          0.9544890384136835,
          10.647304784839681,
          14.482333930594885,
          12.578058615175657,
          1.5097424748848454,
          6.15544046193657,
          14.677757821982174,
          7.371274501906942,
          22.448759007679392,
          7.940213906905182,
          6.300223769900833,
          14.579101876359953,
          11.157503150939839,
          7.909246416085777,
          23.791923644282054,
          9.008742684155608,
          12.797796210143137,
          11.619923431786534,
          8.08101371729147,
          3.1135504007404826,
          20.22174392872423,
          5.66709537966548,
          16.56211989795233,
          8.622893480560263,
          9.946608020247337,
          6.740811949556967,
          14.518373126151873,
          0.3433666229622734,
          21.659573580603976,
          1.3153833260824896,
          10.781490732116213,
          15.69616518796592,
          -2.091132302735158,
          9.522756478395333,
          11.806296782728392,
          -0.10939977011108226,
          11.334344856672692,
          5.890469588516619,
          9.242792897718537,
          21.941641898524544,
          13.137986827124509,
          9.901927583455077,
          7.5051019849561005,
          1.8489823794412015,
          6.9134206517872885,
          8.703639279980433,
          12.534281322531868,
          3.43574241380659,
          17.42144731114135,
          8.618291929437353,
          5.773490801589861,
          6.451749273488968,
          14.421971014109273,
          12.61520351508946,
          20.6559615130406,
          13.078446273037873,
          17.023161897688862,
          22.466273393501222,
          7.264467884715879,
          13.895037563528092,
          8.951310673291012,
          16.103586059507016,
          6.4001017309067985,
          19.45700034591524,
          13.626541231535215,
          4.557817495115805,
          13.552139616162268,
          7.37761350609056,
          10.6106546378159,
          17.850080959864883,
          18.325610868451314,
          -0.4123468839984401,
          11.730264521363946,
          7.965487400341819,
          13.164214796946482,
          7.754182697513517,
          12.862553784506106,
          1.421424026582713,
          12.44623914985905,
          5.030317643526598,
          12.5407436910259,
          9.042895809980015,
          17.44649252317963,
          19.981217864423847,
          6.028373710444516,
          30.791362890875902,
          12.34863171563152,
          11.963472117858709,
          8.131917636587952,
          1.4520664679218331,
          6.250766887952606,
          9.340027624474864,
          15.71775656795155,
          4.099824138142375,
          3.4326568623058265,
          8.551907502688092,
          6.42931696505979,
          4.103128631306163,
          10.52937960655291,
          6.383443781057716,
          16.75333271789559,
          15.56231979280152,
          -3.614941968117593,
          7.910976173600954,
          9.015847583943662,
          17.299483542189456,
          6.238876571630196,
          8.350361152662416,
          16.88474463108394,
          16.95981384445041,
          14.21310703215866,
          2.2965711363141397,
          19.133846607266076,
          8.920220094105199,
          7.743115794304382,
          12.762095263970103,
          18.732528764426643,
          11.44904132725268,
          9.773999976416565,
          14.98919817943086,
          23.796216812533558,
          4.362385341647427,
          10.670935471253074,
          25.236592198668767,
          12.421590492552134,
          -1.3090063239174778,
          17.664712191189366,
          7.326470417160545,
          2.3780917664471,
          13.81300700917272,
          8.209385973446036,
          7.5862604704169065,
          6.780157439126052,
          14.938746409998899,
          10.151151419647263,
          19.105216770125537,
          12.217666904042408,
          7.116207026986657,
          16.253996458128015,
          16.593255919401216,
          -2.797462243446308,
          14.555225988411738,
          8.288914779263791,
          12.882468467629128,
          12.808004129216584,
          26.25401168419551,
          22.114516700379166,
          14.484420509439728,
          6.461748479513687,
          5.119451052539226,
          8.938618813932809,
          13.042285011857722,
          8.399331014576465,
          4.863627868012853,
          19.355889141334615,
          3.4438668122301195,
          14.548254988994563,
          2.8033601831920354,
          11.058222868930255,
          4.7456149504073375,
          10.705650737599385,
          4.250989986511924,
          -1.2866878936484323,
          11.094056364922253,
          6.709046318348744,
          9.684190181365286,
          29.040343143771878,
          30.005221105584592,
          19.62023197809395,
          16.077377385730102,
          21.067139237534057,
          7.98313822913826,
          12.992502932825367,
          3.533043537596906,
          13.461604359658205,
          10.519149091645437,
          12.302733090291252,
          18.008384546362855,
          20.03074713168801,
          8.121953610545479,
          10.741315775111964,
          19.28637461695352,
          9.352664939216588,
          16.020385343328343,
          15.32603068495759,
          10.531898743441158,
          2.0525314243586186,
          11.430307871530038,
          17.179968760720065,
          7.21094457836872,
          3.17996373224568,
          11.490967749284088,
          12.104156886388097,
          9.207539711720544,
          6.84612883110716,
          6.490664005240312,
          4.424516812591451,
          12.39049851765809,
          1.8645528664162008,
          -0.2694983187054216,
          10.951591578168346,
          22.79492037297377,
          26.32800165919938,
          -1.8371842884702758,
          13.238877513947834,
          13.259039080594844,
          15.782467186463858,
          17.522356805580706,
          8.67921661739205,
          8.486379757318115,
          10.060222836450386,
          12.881730293711632,
          -1.7418053134583769,
          6.613092050153938,
          3.020585066916028,
          9.87294535419702,
          11.98643009568675,
          7.801022503317639,
          15.162852441429465,
          8.5204162027956,
          18.943198583604058,
          7.60365173793852,
          11.951237753900864,
          6.074314877152404,
          9.885263492205702,
          15.957649896024133,
          9.222420645917987,
          8.975017553875364,
          14.742568542833643,
          16.550895443292767,
          7.569500416476187,
          13.218663621208755,
          -2.7878879599112096,
          11.578460136599729,
          2.3736520870345927,
          15.574600679780149,
          -1.5884771415742858,
          10.14529204362438,
          2.717850763928716,
          11.128821742335639,
          6.566416604755412,
          26.47070778865044,
          10.74972387610025,
          3.6085230710738125,
          13.61832218741996,
          3.63119417847014,
          0.9014170256781853,
          11.975695031769158,
          -1.9017256568250662,
          11.002820702224689,
          8.926636002887548,
          17.069434955201835,
          7.339552083660054,
          14.433723404559714,
          9.070909270993042,
          9.483666139764749,
          7.985458968861487,
          9.180223724305653,
          10.556658549804098,
          11.138312751877516,
          -2.2920315356245755,
          14.702716469082866,
          8.602092630523028,
          2.893531435536575,
          8.813216258432826,
          4.871963264322561,
          10.141584975191474,
          8.977261189542114,
          3.5820024001590243,
          11.355032474624505,
          4.794043009801667,
          12.51049143302648,
          -3.8315489119022725,
          10.972933598572217,
          6.526953274316828,
          7.6042921927353895,
          18.92736659280182,
          7.853098885888387,
          12.138585363724538,
          16.187693180811802,
          19.135258556862816,
          3.901113326916261,
          16.770488511195836,
          4.436508403793355,
          2.843371701824984,
          18.24915650523934,
          5.780578293603129,
          11.465242424775807,
          16.194075464674093,
          19.70163941313824,
          9.671018576443803,
          8.511931910368,
          7.619650300821153,
          9.798717835968011,
          16.19750827549637,
          -1.9389334396297482,
          8.331797697339223,
          14.594172556651491,
          14.464897408016009,
          -0.33915994379206005,
          16.182354557878472,
          10.35828862415762,
          4.394704974661343,
          3.625353178669428,
          6.223324836223968,
          8.186293450829806,
          16.23783336931531,
          4.414182083364275,
          2.334225516158506,
          4.334079844366134,
          8.087155462237597,
          -2.5056253013293546,
          17.621869268155066,
          10.185266517883829,
          13.919055112859828,
          13.350081413704144,
          10.818385219560609,
          7.975969533179625,
          1.9770096946892384,
          7.531054285825571,
          9.353342836221026,
          13.1375041789059,
          15.736899871889593,
          17.219923555812173,
          4.142610869074536,
          9.549084577486516,
          12.116839497058763,
          10.294224769288101,
          17.71610480260977,
          8.39664819148574,
          17.94542813257764,
          8.39444846935614,
          7.183562663872113,
          1.4454623113219327,
          14.832952636881647,
          18.128614839142536,
          14.953355088802155,
          8.447862457170913,
          14.544997146538904,
          5.7732657814058355,
          17.26791104430977,
          -1.0534050442075973,
          7.79052661523487,
          0.7120446195395118,
          7.289966376093879,
          3.1747456080655017,
          9.184739486336882,
          13.806274562734554,
          9.918652491817294,
          12.255380963967735,
          8.580505882841473,
          15.874848016277452,
          16.56248918785129,
          1.698267062595324,
          16.060803297194315,
          15.23597875739119,
          16.22567401089426,
          11.815286209813165,
          2.2112951122342395,
          15.087182308749533,
          8.386741603790096,
          11.811897952035984,
          -3.63143299170601,
          14.5456299259152,
          15.256307112473845,
          22.93731996008808,
          17.732215337773646,
          9.14478882384492,
          19.995428216750895,
          1.7193142214015253,
          33.14763804093784,
          28.453443360594544,
          14.984917382169177,
          4.730390994749617,
          10.83917323456609,
          14.275233642247812,
          12.157742460503677,
          14.276488007138582,
          16.41271408451125,
          7.028956270941027,
          10.797773682617825,
          9.502608849971969,
          11.285314284800986,
          14.156176342791028,
          -1.4491086988196216,
          10.69919989635096,
          20.5310449940589,
          7.626606190845747,
          4.4044992594289685,
          5.958612671204639,
          14.287192287950182,
          -0.7400235144569418,
          11.345817117728664,
          -9.259732291868275,
          19.141508989477174,
          9.582306045108714,
          18.1935411951559,
          6.647827985699461,
          11.652360855647068,
          24.405509867927684,
          3.933789274267176,
          15.655041275027349,
          -3.3290649422031446,
          -5.514605533996626,
          14.133528172947667,
          10.247647445216199,
          7.013639893258905,
          9.940916275171112,
          6.894038057683711,
          11.813060951249632,
          14.640645985265255,
          15.929253090918778,
          10.105601241538588,
          14.918836924118672,
          14.126558174768794,
          12.358949153494654,
          6.934820839072643,
          -6.512225976067562,
          8.847585506564679,
          8.595586655805388,
          0.3915163508308872,
          14.746156898111327,
          10.077201305108344,
          1.9089286934892815,
          15.196355036930832,
          14.747769882400931,
          17.061715082144488,
          3.007409598978578,
          13.229476585027346,
          4.942836689746148,
          -7.249813279193173,
          6.828966183324003,
          8.073466055739086,
          23.09365546500701,
          11.972214736437012,
          18.688008525256294,
          7.3762765447370535,
          15.468846910781927,
          3.239030298057223,
          16.68840335578934,
          2.6405954100891558,
          18.131635369197042,
          9.466853997496672,
          5.830305257576092,
          3.913167755815808,
          15.227296082310788,
          4.4831246339918795,
          11.72578672855818,
          6.803245763304343,
          10.993850716332393,
          10.100034240539618,
          6.211406490643448,
          3.975905159927077,
          2.127408810840132,
          12.680957480778872,
          10.891191916123391,
          21.017848961863677,
          10.838005470931801,
          -0.5911631040959016,
          18.685624317366127,
          3.149327833550455,
          14.47841292221619,
          7.185833177514345,
          14.72188879146228,
          8.907874991053703,
          3.979715693619748,
          4.378467333566918,
          4.3343763973758485,
          5.634872494872976,
          22.392916823720377,
          10.81636776103755,
          11.210883182980362,
          17.624529426873433,
          3.9791527917308347,
          5.605973138509643,
          6.11204732172873,
          5.286871370057838,
          20.408387099160862,
          7.323076843405617,
          2.5604780302844405,
          8.24928132161791,
          6.039164374943109,
          3.449214010385531,
          13.389141476332664,
          -1.6672416937728833,
          11.58358734190265,
          19.232521957018918,
          24.382438403403754,
          19.337250225899467,
          8.783903063653417,
          9.346562430171344,
          16.811210004810256,
          16.05876125374256,
          4.519475830970225,
          -3.3755535985315923,
          7.2236181181469545,
          19.769245814723863,
          9.54460139770873,
          1.6328037080718296,
          5.320010183723822,
          14.191784621794056,
          12.837480787890422,
          8.36528914737422,
          11.108756533081065,
          7.9660988074425365,
          9.146126154786987,
          1.3057244328516404,
          2.0637009978310434,
          5.734585464406198,
          6.362895339341434,
          3.566546365724295,
          13.272724178337329,
          13.235034671660259,
          17.19294363110061,
          9.53895796176882,
          5.839672893337092,
          4.3181436844585885,
          -3.611719773476608,
          11.281540604981199,
          2.4096538358872115,
          15.782181189392384,
          13.110061090935382,
          13.54015675789076,
          16.787087145521348,
          9.34555622459425,
          9.651003297084637,
          4.944904045157037,
          5.482326374244559,
          7.104608112630774,
          13.147287077407196,
          8.412497917813209,
          12.118031100768594,
          11.342944714543977,
          7.766806059391345,
          25.884513935698614,
          10.799741452164582,
          14.860587204394541,
          -2.3987223427097355,
          8.029551523649621,
          11.712693967277582,
          15.476369552049427,
          4.687628816611097,
          13.977359290600276,
          0.7115355337514622,
          6.664753446722319,
          8.743607318538652,
          21.03922561109855,
          9.927785392466722,
          19.265497369409992,
          -3.1109228195478913,
          4.568478155324742,
          11.278395514577227,
          4.205706025316336,
          16.05693863121045,
          3.926732675524077,
          15.430317177597278,
          4.522064064304502,
          7.297790061909359,
          16.244304971693513,
          5.466849464292035,
          12.54650948966862,
          10.398665813986417,
          9.472027566990155,
          21.72658053341688,
          13.407660289899614,
          9.390172153708939,
          10.415505771007158,
          3.0303883196303403,
          11.962156939163313,
          13.404000523386518,
          15.409553550324523,
          21.262857223826753,
          12.583679650804392,
          2.855294470838854,
          11.357272786846039,
          6.584100578104754,
          5.606435741579401,
          5.729550486899872,
          10.341232967357561,
          5.059006770200018,
          11.839815115472138,
          -1.003242411724628,
          -7.353442432190839,
          9.048452079335718,
          0.8103890614242992,
          6.532322398049243,
          -1.4354332210788705,
          -2.0536557005734473,
          11.43337589817786,
          6.949282689086471,
          9.710429777224414,
          9.789837698866554,
          5.636158565710382,
          19.11017241955706,
          12.166152498072275,
          25.46186607418693,
          19.52392745483715,
          14.126065696929292,
          9.890725917372322,
          6.462507592485579,
          5.619002318650976,
          10.8062968686617,
          15.82932137949583,
          3.649723343668752,
          9.828366842297221,
          2.48633491535141,
          10.639585733795858,
          13.253543999121502,
          15.947313104815848,
          11.72327791718881,
          6.184181088152437,
          7.7289831846449975,
          10.097937210043893,
          8.742472285263108,
          11.92866562776622,
          11.401116215298948,
          16.089713732483204,
          1.8079405490619038,
          11.65918632454536,
          4.268704697063226,
          8.43692427521409,
          2.035054103612267,
          10.2238459351279,
          1.2841559565331426,
          5.034389575000458,
          23.75316187486594,
          13.767326070677012,
          15.716231461055829,
          5.022233568339761,
          16.96279822523377,
          8.130849367046387,
          6.763653863079716,
          13.242596532201478,
          10.844170338803965,
          17.429574478817432,
          2.286556837516856,
          5.317394922918248,
          7.202967241688535,
          10.581642059910454,
          7.250617610343898,
          9.523802103665469,
          8.090288118306793,
          15.517261874546914,
          6.632935943681399,
          7.539327944750967,
          10.408754249415095,
          9.406485277834305,
          11.435559165247406,
          2.3950240350433862,
          10.549427465734887,
          8.98388189421689,
          4.68581263482503,
          0.12635221226640425,
          11.018785114797545,
          9.172847822013809,
          9.571035293528215,
          7.682680567064258,
          18.069701631665193,
          3.512448572708866,
          9.621527219769586,
          6.97863708395254,
          -2.3054345782962393,
          10.52354788451323,
          2.023326293222567,
          14.53826132756452,
          14.9457352090278,
          12.278039332001882,
          13.145341911722339,
          7.283720229297517,
          14.125556720507944,
          15.500481709167547,
          16.718296610071523,
          17.58126901798323,
          1.2633664148240094,
          11.927721633512412,
          -4.622160196484021,
          15.840242265580386,
          6.145113239500774,
          11.756995381430675,
          7.216112427904499,
          12.320401841219526,
          14.034978655200057,
          3.454144281910554,
          6.837979478808026,
          8.173582924423782,
          14.62491060025837,
          8.58549418079032,
          8.93330244895695,
          23.73181174799946,
          -5.1736850653081135,
          13.406521324577584,
          10.441315305366286,
          14.489945120342657,
          15.4879398586677,
          17.513389375763815,
          4.691628392567985,
          17.053656884478016,
          12.878177250743555,
          6.460195395603259,
          15.173013510988614,
          1.1640572425253932,
          13.913861190187433,
          9.089860208328009,
          18.05942129872756,
          6.0430956252223895,
          7.545605241372353,
          7.968517105661878,
          7.620287887686109,
          1.2505489222799984,
          9.934560446992302,
          5.400562145952189,
          15.053034941934978,
          14.751275208506922,
          2.0942336479681245,
          10.078918219347225,
          10.91938016628003,
          5.2816298175289464,
          18.20863131480713,
          10.024052773201403,
          12.719165226159838,
          7.561727860412078,
          14.10471693596087,
          27.303815510655028,
          6.470867349160392,
          12.191352443055795,
          11.938657008332727,
          13.494425588041583,
          9.94925508279988,
          -0.3419086028441569,
          3.846776471397897,
          13.209565562492724,
          0.09984883105386189,
          14.013683854384878,
          11.681933821022405,
          12.41630507598666,
          13.571149088041121,
          9.730630467128652,
          13.872078658492867,
          3.2352451006426453,
          11.347086524396616,
          10.634265701256323,
          3.9919192957385103,
          8.882910132742792,
          21.9877091066124,
          13.435340509583394,
          1.7877027935757308,
          3.053679723243043,
          16.394957378755326,
          0.07001920458117894,
          18.86281229372584,
          4.402834347194581,
          10.78252550352295,
          9.813827814574445,
          9.473897561045593,
          13.706556824657675,
          27.314510772353657,
          20.5589266021654,
          16.547985445174398,
          -3.2807636443471537,
          9.85611542860837,
          17.423521076124306,
          7.262847603154399,
          22.748472397078704,
          11.444453707529195,
          9.648136524158986,
          4.756000480315161,
          9.263285798413428,
          15.47077937387985,
          9.355215311543287,
          5.63517499237133,
          19.57457740768251,
          15.926482164042495,
          7.071333898501229,
          13.778168833781415,
          7.279601809413405,
          13.654597548579606,
          4.886506296049082,
          9.672702224109159,
          16.54476776404887,
          -1.0780496873230128,
          7.525397070316044,
          7.507203822930129,
          2.18946046468154,
          3.183406152759998,
          -0.7858254690091933,
          6.030658339058853,
          25.295714192642208,
          0.17394625517708384,
          10.037905970903804,
          13.250275907645173,
          9.207399769658085,
          7.727582209259715,
          21.643736828007185,
          3.748753773453002,
          8.286437324029787,
          6.40646424524728,
          7.705957731723865,
          4.084115130550391,
          1.8131405679345356,
          5.058799455989182,
          -0.08832089329914616,
          4.5026803649773575,
          13.261767593619007,
          19.149175603289567,
          17.184504086775544,
          2.66496821562027,
          -2.142581180124374,
          10.322270485996537,
          6.78225782546117,
          10.642855211637588,
          13.690913112356547,
          15.430392642406265,
          19.915513848392862,
          4.943081874400466,
          9.619568071876136,
          12.934321611340717,
          14.227212566831795,
          3.5695865944725407,
          12.482551890480277,
          7.929848355776062,
          17.44113890927272,
          10.620574106897125,
          -2.8511096864212853,
          5.898099149910948,
          2.9152118344562092,
          17.086012970903795,
          3.603668451027323,
          5.541724466110946,
          4.684448502923699,
          7.025089989143229,
          13.164326125772213,
          8.189491630678587,
          12.133866333559544,
          17.96879267886191,
          11.42844554171022,
          11.031152951021838,
          16.70060948085328,
          9.91786686875112,
          17.697458539686817,
          3.2201737250972844,
          14.552328664534318,
          3.408374586579191,
          8.182575709645253,
          18.997663370225858,
          10.876855252798451,
          21.420498497152323,
          8.162761633780743,
          7.2576079656181225,
          -4.33168444210466,
          4.829204920565162,
          6.79363698818165,
          2.4243742871426903,
          3.860806952683439,
          13.230796067449624,
          20.299016645410752,
          11.074743428198248,
          7.264189899730185,
          11.960150194598004,
          14.091789304079754,
          5.572067757509286,
          17.958069041976017,
          15.562021143981807,
          11.278553489502361,
          17.96999855282869
         ],
         "y": [
          1.5676679953222483,
          14.085002914469712,
          18.932674268969052,
          10.524924310974882,
          17.905448482472956,
          15.111172386773124,
          13.358166727739805,
          5.633870999900558,
          10.90144235786781,
          13.560493818090976,
          9.295047450698371,
          14.638251034197117,
          8.54387986245029,
          16.92154127483051,
          16.059355656443852,
          11.410432120090762,
          8.856834331863608,
          18.1950559463778,
          9.414040660010873,
          5.345082986470862,
          21.720034470732912,
          21.257156360915666,
          10.528255756820485,
          6.995454826431139,
          13.138855082215889,
          17.640806418567017,
          16.40799286894227,
          20.180075095276912,
          10.083429194644923,
          12.368098265069833,
          13.365464593551238,
          3.401488410586394,
          7.51041923708479,
          16.91918992511983,
          16.52431238353427,
          9.307490679631798,
          19.151540165051898,
          1.921504349587477,
          3.920846795860382,
          4.662421820349498,
          8.778116445495783,
          8.037929040445256,
          12.078792580268146,
          8.368341398588825,
          19.810329776574044,
          1.6673896131497299,
          6.152722607386234,
          14.17370241489829,
          2.382359518417616,
          20.83307359066454,
          4.928130686417928,
          8.746368959930741,
          6.41153417464509,
          7.08221625258348,
          12.686273836513728,
          15.072831256411048,
          6.877058364202409,
          19.509557016676972,
          11.55878894314496,
          6.712524375404873,
          6.75998135763828,
          12.146536810673163,
          13.457859052755218,
          12.116085245282811,
          2.2510458595548117,
          5.7884107111560335,
          15.702329154570563,
          16.43912920338218,
          18.17823863951977,
          3.467449946373775,
          1.020762500951513,
          14.225062042496079,
          10.050293586051202,
          7.912027169425089,
          24.206372903893474,
          8.740576927810388,
          16.52436364337751,
          4.21640537663707,
          15.508115236845885,
          5.427607729278071,
          16.163449123333017,
          16.14411836421332,
          2.6628685740650018,
          17.448730919253332,
          16.694071802607958,
          14.596791008037997,
          12.686324816820285,
          12.204232810312055,
          8.572410107346352,
          4.859733111296806,
          1.8297669344443028,
          14.243431629997813,
          23.260988264291875,
          9.780341586518876,
          22.99396076060188,
          12.053086488671973,
          11.580251599262454,
          12.058710670967185,
          10.928252699755994,
          -2.8434894969937483,
          1.8375485211325473,
          5.237746617111,
          -5.751797385198308,
          12.234344843296252,
          10.546145223857287,
          9.342010658160204,
          12.827239323640901,
          12.167922885391208,
          13.933580058189953,
          7.533977727200153,
          4.279819398473904,
          12.604174600331373,
          9.500306457920388,
          4.940298582816688,
          9.848785556935464,
          4.431579282870723,
          21.523755654633824,
          16.183005913415435,
          0.3214908871239852,
          11.228633430384463,
          2.8188323502072743,
          24.278795303206948,
          3.677969544058565,
          5.471583194633091,
          10.607018420082666,
          3.4861364784269213,
          17.712129108926106,
          11.918996371624175,
          17.386657595337667,
          16.57963749363659,
          3.0754407250951967,
          4.893025132606208,
          19.78947904604646,
          17.731695837070887,
          4.753233221392335,
          11.094251172470438,
          3.016428090021349,
          12.680415290921283,
          16.504038224569037,
          14.605426638767794,
          3.5700300818152804,
          8.201910751028333,
          16.698880882731935,
          9.414128635704888,
          24.4467694180574,
          9.981375890974128,
          8.346263441894916,
          16.600518361383337,
          13.189096215938351,
          9.95050050421842,
          25.785939190433986,
          11.046726630871246,
          14.824510686259904,
          13.650141158135545,
          10.121756932052303,
          5.169067933523719,
          22.226377967083046,
          7.715018113413675,
          18.577638455396148,
          10.66202502686131,
          11.981802551147576,
          8.785541216326424,
          16.53997023170761,
          2.4071232857612315,
          23.65993120035933,
          3.376248999460925,
          12.814202139959365,
          17.714259283357997,
          -0.02013490979661192,
          11.559211636113437,
          13.835960194131877,
          1.955703518572124,
          13.365411955914917,
          7.937727958707549,
          11.280080728113221,
          23.941160585656256,
          15.163689502238785,
          11.937255003707582,
          9.547558086666296,
          3.908261012995003,
          8.957636542674997,
          10.742530670684229,
          14.561779549328833,
          5.4903016773562205,
          19.434410041661287,
          10.657437161753847,
          7.821097092175929,
          8.49733827562686,
          16.443854840546592,
          14.642461061657558,
          22.65930409371311,
          15.104326034730398,
          19.037309215791446,
          24.464231712280437,
          9.30763968466025,
          15.918488604835341,
          10.989465435318028,
          18.12046839647401,
          8.445844344087298,
          21.463908898282114,
          15.650790839423417,
          6.609039462939257,
          15.57661051066234,
          9.420448786309166,
          12.64387414941867,
          19.861768840539384,
          20.335884419587593,
          1.6536574353958793,
          13.7601540692757,
          10.006574215535672,
          15.18983946436497,
          9.795897978924486,
          14.88907565748984,
          3.48197431181781,
          14.473999233256771,
          7.0801342929786,
          14.568222697331194,
          11.080778177859488,
          19.459380763783088,
          21.98656727969442,
          8.07522192373561,
          32.76456057994108,
          14.376682104801569,
          13.992668055576226,
          10.172509452003819,
          3.512525615861196,
          8.296953655487357,
          11.37702625761043,
          17.73578644587605,
          6.1524082779793625,
          5.48722530295778,
          10.591250176751013,
          8.474972685769632,
          6.155702942860626,
          12.562840847803718,
          8.429235938609859,
          18.768282566758835,
          17.580811973555875,
          -1.5394124332854253,
          9.952225117057935,
          11.05381039913959,
          19.312809019527016,
          8.285098703555892,
          10.390303269475444,
          18.89930363229042,
          18.97414957346315,
          16.235612065577513,
          4.354518543401657,
          21.141716289247945,
          10.95846732628753,
          9.784863991096323,
          14.788915922477932,
          20.741592053096745,
          13.479767294205764,
          11.809707881240328,
          17.009394948712973,
          25.79021958986788,
          6.414188567268501,
          12.703975694525543,
          27.22631098583139,
          14.449423886426183,
          0.7596648559806753,
          19.676951398962892,
          9.36945780806671,
          4.435796713422036,
          15.83670202721827,
          10.249747381152279,
          9.628475189111668,
          8.824769683838454,
          16.959093233833784,
          12.185737593919674,
          21.113171603479827,
          14.246106811091678,
          9.159819787019263,
          18.2704314418039,
          18.608681871534536,
          -0.7243640713962098,
          16.576713485527037,
          10.329039650976869,
          14.908931110007012,
          14.83468824475832,
          28.24070444417213,
          24.113521220190883,
          16.50611859747385,
          8.50730774183462,
          7.169002599815881,
          10.976811324314369,
          15.068272325018416,
          10.4391274843525,
          6.91394028916916,
          21.363098420450115,
          5.498401912049008,
          16.5697632193807,
          4.859800289254521,
          13.090111215114817,
          6.796278367688698,
          12.738587710107318,
          6.3031245261856865,
          0.7819169063762235,
          13.125838134483717,
          8.753870063025282,
          11.72016520008382,
          31.018748747009475,
          31.980756951573426,
          21.626655044028126,
          18.094337673002244,
          23.06925888608241,
          10.024172546922191,
          15.0186383087337,
          5.587313406408175,
          15.486344525733442,
          12.55264076067621,
          14.330919991971683,
          20.01960159768604,
          22.035949236128218,
          10.162575061145374,
          12.774146672029014,
          21.29379064740767,
          11.389625986225182,
          18.037515137349807,
          17.345225640992215,
          12.565352492230089,
          4.111204658711435,
          13.461089555861363,
          19.193649701052976,
          9.254275568285758,
          5.235283737313448,
          13.521569017924744,
          14.132934396957047,
          11.24493239276999,
          8.890544862528515,
          8.536137266488735,
          6.476135245683132,
          14.418424385838591,
          3.923785189949842,
          1.7960811379373902,
          12.983797069040339,
          24.79190122404313,
          28.31447435687226,
          0.23305780775346485,
          15.264280118181334,
          15.284381719937112,
          17.800304600912256,
          19.535019409281922,
          10.718180646414652,
          10.52591732517042,
          12.09507945213723,
          14.908195131579552,
          0.32815310491619254,
          8.658201183726895,
          5.076379098853753,
          11.908358973912867,
          14.01555775137701,
          9.842598472942498,
          17.182532725107315,
          10.55985253884451,
          20.951635294339326,
          9.645814731215134,
          13.980470079281943,
          8.121026451405822,
          11.920640475095713,
          17.974966278932257,
          11.259769067827445,
          11.013101806475184,
          16.763498842381132,
          18.566447384709896,
          9.6117649832224,
          15.244126345962682,
          -0.7148182638660199,
          13.608801183821045,
          4.431370238583247,
          17.593056334501345,
          0.48102524541588254,
          12.179895644957497,
          4.774545193631578,
          13.160500112091338,
          8.611664561270828,
          28.456756047207037,
          12.78252976549333,
          5.6625684473099565,
          15.642596240535807,
          5.685172125894182,
          2.9635139250130056,
          14.00485461587805,
          0.16870839948794125,
          13.034873826521917,
          10.964864152759509,
          19.08344464715119,
          9.38250056684032,
          16.455572276827677,
          11.108708320736971,
          11.520237560665432,
          10.026486384259929,
          11.217697649052221,
          12.590038657535196,
          13.169962893303303,
          -0.22043662460325386,
          16.72376529737912,
          10.641286043083372,
          4.949703352651559,
          10.851781743332307,
          6.922250894194449,
          12.176199602153662,
          11.015338769080705,
          5.636126654647768,
          13.386038044384323,
          6.8445623914847555,
          14.538060416137256,
          -1.7553751408333373,
          13.005075613626355,
          8.572318603373713,
          9.646453281159921,
          20.935850391326596,
          9.894519969007092,
          14.167260476501943,
          18.204325364878024,
          21.143124039399005,
          5.954288475993269,
          18.78538733499257,
          6.488091171280537,
          4.899692804914891,
          20.259657448306733,
          7.828163504444,
          13.49592020613559,
          18.210688666437783,
          21.707820355626687,
          11.707032770384693,
          10.551393480550818,
          9.661765710886606,
          11.834352224492896,
          18.214111267332868,
          0.1316112807347145,
          10.371795025912272,
          16.61554421818867,
          16.486653562006705,
          1.726626701698943,
          18.199002620172273,
          12.392258727260765,
          6.44641207465328,
          5.679348498499289,
          8.269593222398575,
          10.226723540728818,
          18.25431642553832,
          6.465831254192009,
          4.392060930917684,
          6.38596725670223,
          10.127880410111036,
          -0.4333951159192697,
          19.634235900114653,
          12.219751226422403,
          15.942434720743348,
          15.37515327331496,
          12.850986895160956,
          10.017025172226976,
          4.035907547117847,
          9.573433199739497,
          11.390301867016255,
          15.163208289521119,
          17.75487281345798,
          19.23348566188067,
          6.195067751853012,
          11.585461429702574,
          14.145579286780782,
          12.328385412251386,
          19.728191157561497,
          10.436452640562077,
          19.95683242998993,
          10.434259460885281,
          9.226975093567777,
          3.5059411014616826,
          16.853614114444042,
          20.139474299383863,
          16.973658463243908,
          10.487514583864517,
          16.566515066458194,
          7.820872741250949,
          19.281330425133817,
          1.0145059218041674,
          9.832133801917326,
          2.774704753663332,
          9.333062337970265,
          5.230081132971305,
          11.22219998022345,
          15.829989604542416,
          11.953930168548954,
          14.283708701187104,
          10.619763499091908,
          17.892410670013618,
          18.578006646946505,
          3.757993956333455,
          18.07781287941628,
          17.25544154747543,
          18.242193231698018,
          13.84492288470223,
          4.269496148794015,
          17.107087651886054,
          10.426575517216303,
          13.841544704341782,
          -1.5558544089772632,
          16.56714596381078,
          17.275709441601713,
          24.933877283764836,
          19.74425377648425,
          11.182368139704645,
          22.000735367338045,
          3.778978516304425,
          35.113827654412546,
          30.433594531638356,
          17.00512688347488,
          6.781099691391511,
          12.871713082081321,
          16.29755389759452,
          14.186360595902054,
          16.29880453173085,
          18.42867700739101,
          9.072828533728936,
          12.830436661419085,
          11.53912393112599,
          13.316527211644845,
          16.17885070048192,
          0.6199791760615827,
          12.732156055066026,
          22.534759103670844,
          9.668700912578986,
          6.456177229084406,
          8.005668369023272,
          16.30947697567948,
          1.3269553866178851,
          13.376850095967377,
          -7.167413920944455,
          21.149355881865162,
          11.618584089443054,
          20.204207550270795,
          8.692833807033184,
          13.682482106031305,
          26.39770047498604,
          5.98686723795859,
          17.67325768189499,
          -1.2543856679218877,
          -3.4334259858942335,
          16.156269891229382,
          12.28194661928774,
          9.057557710290581,
          11.976127734561105,
          8.938311596628616,
          13.84270424454242,
          16.6618794247019,
          17.946653932111282,
          12.140322891963406,
          16.939242963101677,
          16.14932062334345,
          14.386968856356935,
          8.978973081141518,
          -4.428079287447454,
          10.886048769833172,
          10.634799418551811,
          2.4551298058501616,
          16.76707652510853,
          12.112007423130787,
          3.9680290336463173,
          17.215935676591407,
          16.76868471203148,
          19.075747734678025,
          5.063242817628111,
          15.254907149671366,
          6.992913526611663,
          -5.163472845256546,
          8.873433260198599,
          10.11423171888957,
          25.089747812835803,
          14.001384671702374,
          20.697204226816034,
          9.419115801369971,
          17.487617100249672,
          5.294174626291127,
          18.703546318719795,
          4.697519614043749,
          20.14248584572399,
          11.503475421370842,
          7.877742569593519,
          5.966307052395315,
          17.246784696562166,
          6.534568754655508,
          13.755689594401188,
          8.847789338311047,
          13.025930519321697,
          12.13477244843813,
          8.25771032457412,
          6.028857861799956,
          4.18585934353416,
          14.708019460729076,
          12.923577048747852,
          23.02011521042933,
          12.870548791630467,
          1.4753730536905567,
          20.694827110079515,
          5.20473895645471,
          16.50012887812342,
          9.229238854207825,
          16.742880597095255,
          10.946158940261782,
          6.032657062135334,
          6.430222727840699,
          6.386262927698692,
          7.682891066500021,
          24.391093320918216,
          12.848975436999032,
          13.242317484135208,
          19.6368881469415,
          6.032095834439261,
          7.654077663117988,
          8.15864667147229,
          7.3359249728391225,
          22.412466020072202,
          9.36607432753939,
          4.617640520779451,
          10.289524071867834,
          8.08598049444733,
          5.503733206472265,
          15.414097162808325,
          0.402494956153701,
          13.613913139698479,
          21.240098157015048,
          26.37469763002352,
          21.344514941209802,
          10.822555732379799,
          11.383541627371217,
          18.825987714014154,
          18.075776909446596,
          6.570811835255246,
          -1.3007360568592623,
          9.26691141419587,
          21.77522568104652,
          11.580991583878069,
          3.69272530408694,
          7.368965224454259,
          16.21435307270624,
          14.864077233428027,
          10.405186865079042,
          13.14049458114012,
          10.007183804178482,
          11.183701493133166,
          3.366618833882651,
          4.122341011439157,
          7.7823074679402415,
          8.408748612435542,
          5.6207165898264115,
          15.29802611521773,
          15.260448705343851,
          19.20658598134255,
          11.575364932746016,
          7.8870823439651065,
          6.370078494405805,
          -1.5361998221532298,
          13.312764755570905,
          4.4672649103921085,
          17.800019454458372,
          15.135846823272466,
          15.564663292021692,
          18.801936601363728,
          11.382538414468701,
          11.687077020826496,
          6.994974733257205,
          7.530798651265208,
          9.148255370361397,
          15.172962091551152,
          10.452255226350722,
          14.146767346401598,
          13.373986235935488,
          9.8084837961742,
          27.872305662471156,
          12.83239857839055,
          16.881166490733204,
          -0.32681010998647153,
          10.07044779818494,
          13.742635773844784,
          17.495117367543298,
          6.738464697286147,
          16.000565489158134,
          2.774197182007316,
          8.709708928047894,
          10.782379835589085,
          23.041428280852664,
          11.963035905962327,
          21.272975493346266,
          -1.036892347459788,
          6.6196684160223995,
          13.309629019350925,
          6.257975249355414,
          18.073959707790934,
          5.979831627077372,
          17.44920196288488,
          6.573392370619763,
          9.340862754439808,
          18.26076877996126,
          7.515367773014393,
          14.573971347232721,
          12.432515826531189,
          11.508633603541632,
          23.726738859897686,
          15.432560897389562,
          11.42702164609101,
          12.449305697851312,
          5.086153194558939,
          13.99135678850877,
          15.428912015819325,
          17.42850009116281,
          23.264394764448397,
          14.611030956212076,
          4.911580113016441,
          13.388271693429278,
          8.629295938631127,
          7.654538890305441,
          7.777287465553846,
          12.375253797699457,
          7.108738091939614,
          13.869378836052364,
          1.0645193596906364,
          -5.266793782578481,
          11.086317921659742,
          2.8727566977544665,
          8.57767175816253,
          0.6336139799524481,
          0.01723022878631575,
          13.464148457529593,
          8.993391918463017,
          11.746326753668793,
          11.825498498853639,
          7.684173312282597,
          21.118112513730395,
          14.194745620186868,
          27.450914847769795,
          21.5306369514026,
          16.14882961024032,
          11.926086653819944,
          8.508064597039166,
          7.667068091639286,
          12.838934497650964,
          17.84701943936737,
          5.703646181319074,
          11.863913048218503,
          4.543717923621669,
          12.672719198016793,
          15.278902982033129,
          17.964660231592806,
          13.753188244783352,
          8.230565896360936,
          9.770773414896734,
          12.13268165496792,
          10.78124817814976,
          13.957965087567567,
          13.431984721975056,
          18.106637328772734,
          3.8673412499598614,
          13.689287274498223,
          6.320786549328813,
          10.47660893444362,
          4.093779319324265,
          12.258215900075397,
          3.34511450691123,
          7.084194113641221,
          25.747292706964032,
          15.791156953784844,
          17.73426587498047,
          7.072074261592414,
          18.97712507804794,
          10.171444359728586,
          8.808315193022441,
          15.267988075264535,
          12.876695323842617,
          19.44251303737027,
          4.344534029310524,
          7.366357742004033,
          9.246321957942653,
          12.614947861240054,
          9.293830604021414,
          11.56025415146624,
          10.13100374897866,
          17.53588806736564,
          8.677986057192186,
          9.581682251000904,
          12.442574256755224,
          11.443286251431553,
          13.466325231087268,
          4.452678621762969,
          12.582829080285235,
          11.021939782337514,
          6.736653917220351,
          2.1907543231974866,
          13.050790757454072,
          11.21034368430057,
          11.60734685953299,
          9.724608511387306,
          20.080736312619294,
          5.566779695432147,
          11.65768861178649,
          9.022659006964153,
          -0.23379980370627473,
          12.557026470575774,
          4.082086389997467,
          16.55979928127678,
          16.966061246651925,
          14.306299678298787,
          15.17102271121278,
          9.326834768575146,
          16.148322147625727,
          17.519157809853525,
          18.733350663951754,
          19.593756403931245,
          3.324386797827962,
          13.95702390095831,
          -2.5436349752269,
          17.857907844357687,
          8.191614244001757,
          13.786805425941504,
          9.259428047511246,
          14.348536192185712,
          16.058013481215717,
          5.508648814295755,
          8.882419748178382,
          10.214050818197203,
          16.646190840157846,
          10.624736960755998,
          10.971510771366072,
          25.726006080025797,
          -3.09351948894618,
          15.431425319598514,
          12.47503846903287,
          16.511626776980464,
          17.506653261549197,
          19.526078650554787,
          6.7424523776328655,
          19.067713503846825,
          14.90465265613526,
          8.505759277134066,
          17.192663573432093,
          3.2253729926414074,
          15.937256245928431,
          11.127602893856006,
          20.070486555631298,
          8.089900052331892,
          9.587940877574685,
          10.009594909852114,
          9.662401401429332,
          3.311607427298957,
          11.96979080999986,
          7.44927760759941,
          17.07304184677912,
          16.77217961253403,
          4.152782850823456,
          12.113719230892706,
          12.951681460907958,
          7.330699009829279,
          20.21925278861893,
          12.059016966535685,
          14.746113567952053,
          9.60401554443321,
          16.127544345137665,
          29.287385925361058,
          8.516399489976529,
          14.219870615044416,
          13.967926751591733,
          15.519068136633788,
          11.984441740759447,
          1.7238862177576386,
          5.900113230120031,
          15.235055346855207,
          2.1643297688142034,
          16.03678201577705,
          13.7119671149654,
          14.444154189840956,
          15.595563444230775,
          11.766467362320709,
          15.89559798458509,
          5.2904006868782325,
          13.378115727143369,
          12.667414988412954,
          6.044824368082946,
          10.921268332877865,
          23.987090779831917,
          15.460158790070107,
          3.8471636859671245,
          5.109375324463466,
          18.41097311394615,
          2.1345888621487763,
          20.871488090798664,
          6.45451726866169,
          12.815233833730522,
          11.849417262731375,
          11.510498035827387,
          15.730568448741225,
          29.298049377021528,
          22.56255778580107,
          18.563546041559846,
          -1.206228028647741,
          11.891579104189171,
          19.436477638815433,
          9.3060242221691,
          24.745591394546665,
          13.475193319062711,
          11.684218774308029,
          6.806633008768179,
          11.300512678457244,
          17.489543815781367,
          11.392168773189004,
          7.683192664304919,
          21.581136260254546,
          17.943891246575156,
          9.115080120993174,
          15.801967468149773,
          9.322728597768931,
          15.678763710869092,
          6.936750671776542,
          11.708711410515123,
          18.560337930518934,
          0.989934577226,
          9.56779281002127,
          9.549653673316325,
          4.247726442239626,
          5.238715919319256,
          1.2812896570560321,
          8.07749975736676,
          27.28525713811554,
          2.2382068110565987,
          12.07282896181032,
          15.275644610572776,
          11.244792866925708,
          9.769376606317437,
          23.644141549714668,
          5.802382073032223,
          10.326569564234424,
          8.452187934924112,
          9.747816444688485,
          6.136745992398029,
          3.8725258028435867,
          7.108531394326403,
          1.9767197022125702,
          6.554066322636989,
          15.287102117769159,
          21.156999693497973,
          19.198171538060784,
          4.721819929541809,
          -0.07143076701677886,
          12.356347714888814,
          8.826863823167061,
          12.675978951719195,
          15.714971264248328,
          17.44927720324509,
          21.92105868172016,
          6.9931579820334075,
          11.655735290825659,
          14.960630031173443,
          16.249675647317765,
          5.623747776272072,
          14.510203971876974,
          9.97104116925211,
          19.454043072690176,
          12.653764115837976,
          -0.7778519551891478,
          7.945334828124256,
          4.971319269341919,
          19.099973356223074,
          5.657728265961022,
          7.590020080267022,
          6.735293842544459,
          9.068973751095442,
          15.189950462074522,
          10.229912208494031,
          14.16255548176066,
          19.980127485023786,
          13.459232765016122,
          13.063121809039206,
          18.715716140108796,
          11.953146882096918,
          19.7096003526864,
          5.275374136886914,
          16.573824778921985,
          5.4630152480088405,
          10.223016856916423,
          21.005938090821026,
          12.909283025782758,
          23.42156717828631,
          10.20326171242986,
          9.300800168456265,
          -2.254023159018697,
          6.87961972306592,
          8.838209141778758,
          4.48194157981883,
          5.9141019816978115,
          15.256222707665483,
          22.30342085787695,
          13.106582638640687,
          9.307362526462459,
          13.989356012438952,
          16.114655162849935,
          7.62027312410672,
          19.96943574257005,
          17.580514212982813,
          13.309786524424219,
          19.981329772458707
         ]
        }
       ],
       "layout": {
        "template": {
         "data": {
          "bar": [
           {
            "error_x": {
             "color": "#2a3f5f"
            },
            "error_y": {
             "color": "#2a3f5f"
            },
            "marker": {
             "line": {
              "color": "#E5ECF6",
              "width": 0.5
             }
            },
            "type": "bar"
           }
          ],
          "barpolar": [
           {
            "marker": {
             "line": {
              "color": "#E5ECF6",
              "width": 0.5
             }
            },
            "type": "barpolar"
           }
          ],
          "carpet": [
           {
            "aaxis": {
             "endlinecolor": "#2a3f5f",
             "gridcolor": "white",
             "linecolor": "white",
             "minorgridcolor": "white",
             "startlinecolor": "#2a3f5f"
            },
            "baxis": {
             "endlinecolor": "#2a3f5f",
             "gridcolor": "white",
             "linecolor": "white",
             "minorgridcolor": "white",
             "startlinecolor": "#2a3f5f"
            },
            "type": "carpet"
           }
          ],
          "choropleth": [
           {
            "colorbar": {
             "outlinewidth": 0,
             "ticks": ""
            },
            "type": "choropleth"
           }
          ],
          "contour": [
           {
            "colorbar": {
             "outlinewidth": 0,
             "ticks": ""
            },
            "colorscale": [
             [
              0,
              "#0d0887"
             ],
             [
              0.1111111111111111,
              "#46039f"
             ],
             [
              0.2222222222222222,
              "#7201a8"
             ],
             [
              0.3333333333333333,
              "#9c179e"
             ],
             [
              0.4444444444444444,
              "#bd3786"
             ],
             [
              0.5555555555555556,
              "#d8576b"
             ],
             [
              0.6666666666666666,
              "#ed7953"
             ],
             [
              0.7777777777777778,
              "#fb9f3a"
             ],
             [
              0.8888888888888888,
              "#fdca26"
             ],
             [
              1,
              "#f0f921"
             ]
            ],
            "type": "contour"
           }
          ],
          "contourcarpet": [
           {
            "colorbar": {
             "outlinewidth": 0,
             "ticks": ""
            },
            "type": "contourcarpet"
           }
          ],
          "heatmap": [
           {
            "colorbar": {
             "outlinewidth": 0,
             "ticks": ""
            },
            "colorscale": [
             [
              0,
              "#0d0887"
             ],
             [
              0.1111111111111111,
              "#46039f"
             ],
             [
              0.2222222222222222,
              "#7201a8"
             ],
             [
              0.3333333333333333,
              "#9c179e"
             ],
             [
              0.4444444444444444,
              "#bd3786"
             ],
             [
              0.5555555555555556,
              "#d8576b"
             ],
             [
              0.6666666666666666,
              "#ed7953"
             ],
             [
              0.7777777777777778,
              "#fb9f3a"
             ],
             [
              0.8888888888888888,
              "#fdca26"
             ],
             [
              1,
              "#f0f921"
             ]
            ],
            "type": "heatmap"
           }
          ],
          "heatmapgl": [
           {
            "colorbar": {
             "outlinewidth": 0,
             "ticks": ""
            },
            "colorscale": [
             [
              0,
              "#0d0887"
             ],
             [
              0.1111111111111111,
              "#46039f"
             ],
             [
              0.2222222222222222,
              "#7201a8"
             ],
             [
              0.3333333333333333,
              "#9c179e"
             ],
             [
              0.4444444444444444,
              "#bd3786"
             ],
             [
              0.5555555555555556,
              "#d8576b"
             ],
             [
              0.6666666666666666,
              "#ed7953"
             ],
             [
              0.7777777777777778,
              "#fb9f3a"
             ],
             [
              0.8888888888888888,
              "#fdca26"
             ],
             [
              1,
              "#f0f921"
             ]
            ],
            "type": "heatmapgl"
           }
          ],
          "histogram": [
           {
            "marker": {
             "colorbar": {
              "outlinewidth": 0,
              "ticks": ""
             }
            },
            "type": "histogram"
           }
          ],
          "histogram2d": [
           {
            "colorbar": {
             "outlinewidth": 0,
             "ticks": ""
            },
            "colorscale": [
             [
              0,
              "#0d0887"
             ],
             [
              0.1111111111111111,
              "#46039f"
             ],
             [
              0.2222222222222222,
              "#7201a8"
             ],
             [
              0.3333333333333333,
              "#9c179e"
             ],
             [
              0.4444444444444444,
              "#bd3786"
             ],
             [
              0.5555555555555556,
              "#d8576b"
             ],
             [
              0.6666666666666666,
              "#ed7953"
             ],
             [
              0.7777777777777778,
              "#fb9f3a"
             ],
             [
              0.8888888888888888,
              "#fdca26"
             ],
             [
              1,
              "#f0f921"
             ]
            ],
            "type": "histogram2d"
           }
          ],
          "histogram2dcontour": [
           {
            "colorbar": {
             "outlinewidth": 0,
             "ticks": ""
            },
            "colorscale": [
             [
              0,
              "#0d0887"
             ],
             [
              0.1111111111111111,
              "#46039f"
             ],
             [
              0.2222222222222222,
              "#7201a8"
             ],
             [
              0.3333333333333333,
              "#9c179e"
             ],
             [
              0.4444444444444444,
              "#bd3786"
             ],
             [
              0.5555555555555556,
              "#d8576b"
             ],
             [
              0.6666666666666666,
              "#ed7953"
             ],
             [
              0.7777777777777778,
              "#fb9f3a"
             ],
             [
              0.8888888888888888,
              "#fdca26"
             ],
             [
              1,
              "#f0f921"
             ]
            ],
            "type": "histogram2dcontour"
           }
          ],
          "mesh3d": [
           {
            "colorbar": {
             "outlinewidth": 0,
             "ticks": ""
            },
            "type": "mesh3d"
           }
          ],
          "parcoords": [
           {
            "line": {
             "colorbar": {
              "outlinewidth": 0,
              "ticks": ""
             }
            },
            "type": "parcoords"
           }
          ],
          "pie": [
           {
            "automargin": true,
            "type": "pie"
           }
          ],
          "scatter": [
           {
            "marker": {
             "colorbar": {
              "outlinewidth": 0,
              "ticks": ""
             }
            },
            "type": "scatter"
           }
          ],
          "scatter3d": [
           {
            "line": {
             "colorbar": {
              "outlinewidth": 0,
              "ticks": ""
             }
            },
            "marker": {
             "colorbar": {
              "outlinewidth": 0,
              "ticks": ""
             }
            },
            "type": "scatter3d"
           }
          ],
          "scattercarpet": [
           {
            "marker": {
             "colorbar": {
              "outlinewidth": 0,
              "ticks": ""
             }
            },
            "type": "scattercarpet"
           }
          ],
          "scattergeo": [
           {
            "marker": {
             "colorbar": {
              "outlinewidth": 0,
              "ticks": ""
             }
            },
            "type": "scattergeo"
           }
          ],
          "scattergl": [
           {
            "marker": {
             "colorbar": {
              "outlinewidth": 0,
              "ticks": ""
             }
            },
            "type": "scattergl"
           }
          ],
          "scattermapbox": [
           {
            "marker": {
             "colorbar": {
              "outlinewidth": 0,
              "ticks": ""
             }
            },
            "type": "scattermapbox"
           }
          ],
          "scatterpolar": [
           {
            "marker": {
             "colorbar": {
              "outlinewidth": 0,
              "ticks": ""
             }
            },
            "type": "scatterpolar"
           }
          ],
          "scatterpolargl": [
           {
            "marker": {
             "colorbar": {
              "outlinewidth": 0,
              "ticks": ""
             }
            },
            "type": "scatterpolargl"
           }
          ],
          "scatterternary": [
           {
            "marker": {
             "colorbar": {
              "outlinewidth": 0,
              "ticks": ""
             }
            },
            "type": "scatterternary"
           }
          ],
          "surface": [
           {
            "colorbar": {
             "outlinewidth": 0,
             "ticks": ""
            },
            "colorscale": [
             [
              0,
              "#0d0887"
             ],
             [
              0.1111111111111111,
              "#46039f"
             ],
             [
              0.2222222222222222,
              "#7201a8"
             ],
             [
              0.3333333333333333,
              "#9c179e"
             ],
             [
              0.4444444444444444,
              "#bd3786"
             ],
             [
              0.5555555555555556,
              "#d8576b"
             ],
             [
              0.6666666666666666,
              "#ed7953"
             ],
             [
              0.7777777777777778,
              "#fb9f3a"
             ],
             [
              0.8888888888888888,
              "#fdca26"
             ],
             [
              1,
              "#f0f921"
             ]
            ],
            "type": "surface"
           }
          ],
          "table": [
           {
            "cells": {
             "fill": {
              "color": "#EBF0F8"
             },
             "line": {
              "color": "white"
             }
            },
            "header": {
             "fill": {
              "color": "#C8D4E3"
             },
             "line": {
              "color": "white"
             }
            },
            "type": "table"
           }
          ]
         },
         "layout": {
          "annotationdefaults": {
           "arrowcolor": "#2a3f5f",
           "arrowhead": 0,
           "arrowwidth": 1
          },
          "coloraxis": {
           "colorbar": {
            "outlinewidth": 0,
            "ticks": ""
           }
          },
          "colorscale": {
           "diverging": [
            [
             0,
             "#8e0152"
            ],
            [
             0.1,
             "#c51b7d"
            ],
            [
             0.2,
             "#de77ae"
            ],
            [
             0.3,
             "#f1b6da"
            ],
            [
             0.4,
             "#fde0ef"
            ],
            [
             0.5,
             "#f7f7f7"
            ],
            [
             0.6,
             "#e6f5d0"
            ],
            [
             0.7,
             "#b8e186"
            ],
            [
             0.8,
             "#7fbc41"
            ],
            [
             0.9,
             "#4d9221"
            ],
            [
             1,
             "#276419"
            ]
           ],
           "sequential": [
            [
             0,
             "#0d0887"
            ],
            [
             0.1111111111111111,
             "#46039f"
            ],
            [
             0.2222222222222222,
             "#7201a8"
            ],
            [
             0.3333333333333333,
             "#9c179e"
            ],
            [
             0.4444444444444444,
             "#bd3786"
            ],
            [
             0.5555555555555556,
             "#d8576b"
            ],
            [
             0.6666666666666666,
             "#ed7953"
            ],
            [
             0.7777777777777778,
             "#fb9f3a"
            ],
            [
             0.8888888888888888,
             "#fdca26"
            ],
            [
             1,
             "#f0f921"
            ]
           ],
           "sequentialminus": [
            [
             0,
             "#0d0887"
            ],
            [
             0.1111111111111111,
             "#46039f"
            ],
            [
             0.2222222222222222,
             "#7201a8"
            ],
            [
             0.3333333333333333,
             "#9c179e"
            ],
            [
             0.4444444444444444,
             "#bd3786"
            ],
            [
             0.5555555555555556,
             "#d8576b"
            ],
            [
             0.6666666666666666,
             "#ed7953"
            ],
            [
             0.7777777777777778,
             "#fb9f3a"
            ],
            [
             0.8888888888888888,
             "#fdca26"
            ],
            [
             1,
             "#f0f921"
            ]
           ]
          },
          "colorway": [
           "#636efa",
           "#EF553B",
           "#00cc96",
           "#ab63fa",
           "#FFA15A",
           "#19d3f3",
           "#FF6692",
           "#B6E880",
           "#FF97FF",
           "#FECB52"
          ],
          "font": {
           "color": "#2a3f5f"
          },
          "geo": {
           "bgcolor": "white",
           "lakecolor": "white",
           "landcolor": "#E5ECF6",
           "showlakes": true,
           "showland": true,
           "subunitcolor": "white"
          },
          "hoverlabel": {
           "align": "left"
          },
          "hovermode": "closest",
          "mapbox": {
           "style": "light"
          },
          "paper_bgcolor": "white",
          "plot_bgcolor": "#E5ECF6",
          "polar": {
           "angularaxis": {
            "gridcolor": "white",
            "linecolor": "white",
            "ticks": ""
           },
           "bgcolor": "#E5ECF6",
           "radialaxis": {
            "gridcolor": "white",
            "linecolor": "white",
            "ticks": ""
           }
          },
          "scene": {
           "xaxis": {
            "backgroundcolor": "#E5ECF6",
            "gridcolor": "white",
            "gridwidth": 2,
            "linecolor": "white",
            "showbackground": true,
            "ticks": "",
            "zerolinecolor": "white"
           },
           "yaxis": {
            "backgroundcolor": "#E5ECF6",
            "gridcolor": "white",
            "gridwidth": 2,
            "linecolor": "white",
            "showbackground": true,
            "ticks": "",
            "zerolinecolor": "white"
           },
           "zaxis": {
            "backgroundcolor": "#E5ECF6",
            "gridcolor": "white",
            "gridwidth": 2,
            "linecolor": "white",
            "showbackground": true,
            "ticks": "",
            "zerolinecolor": "white"
           }
          },
          "shapedefaults": {
           "line": {
            "color": "#2a3f5f"
           }
          },
          "ternary": {
           "aaxis": {
            "gridcolor": "white",
            "linecolor": "white",
            "ticks": ""
           },
           "baxis": {
            "gridcolor": "white",
            "linecolor": "white",
            "ticks": ""
           },
           "bgcolor": "#E5ECF6",
           "caxis": {
            "gridcolor": "white",
            "linecolor": "white",
            "ticks": ""
           }
          },
          "title": {
           "x": 0.05
          },
          "xaxis": {
           "automargin": true,
           "gridcolor": "white",
           "linecolor": "white",
           "ticks": "",
           "title": {
            "standoff": 15
           },
           "zerolinecolor": "white",
           "zerolinewidth": 2
          },
          "yaxis": {
           "automargin": true,
           "gridcolor": "white",
           "linecolor": "white",
           "ticks": "",
           "title": {
            "standoff": 15
           },
           "zerolinecolor": "white",
           "zerolinewidth": 2
          }
         }
        }
       }
      },
      "text/html": [
       "<div>\n",
       "        \n",
       "        \n",
       "            <div id=\"330871fb-5df9-4875-9685-099673e8f022\" class=\"plotly-graph-div\" style=\"height:525px; width:100%;\"></div>\n",
       "            <script type=\"text/javascript\">\n",
       "                require([\"plotly\"], function(Plotly) {\n",
       "                    window.PLOTLYENV=window.PLOTLYENV || {};\n",
       "                    \n",
       "                if (document.getElementById(\"330871fb-5df9-4875-9685-099673e8f022\")) {\n",
       "                    Plotly.newPlot(\n",
       "                        '330871fb-5df9-4875-9685-099673e8f022',\n",
       "                        [{\"marker\": {\"color\": \"lightcoral\", \"opacity\": 0.5}, \"mode\": \"markers\", \"type\": \"scatter\", \"x\": [-0.49859283832818413, 12.056082419965012, 16.918214815381866, 8.485383780871661, 15.887924721707389, 13.085313048366292, 11.327078015328404, 3.5797400165902404, 8.863025015060948, 11.53000866564029, 7.251838086984254, 12.610980928737353, 6.498429698064012, 14.901082430114673, 14.036324834257966, 9.373533139656233, 6.812317738888542, 16.178396110800076, 7.371186263773495, 3.2900905224673824, 19.713889964051557, 19.24963104708044, 8.488725164720723, 4.945385570492214, 11.107112143383658, 15.622493206653713, 14.386002063008853, 18.169336750871985, 8.042571644786184, 10.334056089128662, 11.334397651331829, 1.340698028647978, 5.461886166433388, 14.898724066115715, 14.50266856920507, 7.264318435191987, 17.137733608174752, -0.14370095830162555, 1.8616057068321243, 2.605392916510443, 6.733365029965214, 5.990969579119434, 10.043887379373418, 6.3223675871310245, 17.798488448531856, -0.3985737419196873, 4.100139405222221, 12.145046519004193, 0.318528983066944, 18.824283199672774, 2.8718944160936832, 6.701522838787062, 4.3597230307313914, 5.032405813804775, 10.653180807002077, 13.04685754295392, 4.826635920937122, 17.496818456361872, 9.522332524495603, 4.661611112409797, 4.709209663101895, 10.111833696928361, 11.427067731541731, 10.081291291771674, 0.18682360371506768, 3.7347407337440988, 13.678233290125277, 14.417231279942943, 16.161528636398742, 1.4068563336464397, -1.0471298011203025, 12.19655935700382, 8.009337189683148, 5.8646921314614815, 22.2076453690296, 6.695713528512443, 14.502719981961047, 2.158045965515085, 13.483440014765646, 3.3728614440262374, 14.140728821348246, 14.121340396830428, 0.5998748225296531, 15.429844728800088, 14.672934395938404, 12.569397223580445, 10.653231939387487, 10.16970180893844, 6.52704505125407, 2.8032928048364134, -0.2357120344290209, 12.214983742642035, 21.259440561772994, 7.738579898986151, 20.991616490953216, 10.018104604187284, 9.543859205652259, 10.023745563925594, 8.889915334617317, -4.922909211336616, -0.22790723456577489, 3.182433959035823, -7.839892844305314, 10.199903668833178, 8.506667997651352, 7.298941389930095, 10.794566806892643, 10.133283568236346, 11.904207855646408, 5.4855149336497755, 2.2216491570990957, 10.570836661392718, 7.4577094003394775, 2.884098610424962, 7.807228043940238, 2.373861754920034, 19.51702563053941, 14.160343951099529, -1.7484874052472001, 9.191192128060031, 0.7563038526843187, 22.280283810892833, 1.6180039302802989, 3.4169680921610635, 8.567722784111922, 1.4255986093102528, 15.69402865903156, 9.883614484225209, 15.367586234560079, 14.558158719101232, 1.0136777135009822, 2.836684139248371, 17.777575518394343, 15.713653756491343, 2.696475216153912, 9.056408995749173, 0.9544890384136835, 10.647304784839681, 14.482333930594885, 12.578058615175657, 1.5097424748848454, 6.15544046193657, 14.677757821982174, 7.371274501906942, 22.448759007679392, 7.940213906905182, 6.300223769900833, 14.579101876359953, 11.157503150939839, 7.909246416085777, 23.791923644282054, 9.008742684155608, 12.797796210143137, 11.619923431786534, 8.08101371729147, 3.1135504007404826, 20.22174392872423, 5.66709537966548, 16.56211989795233, 8.622893480560263, 9.946608020247337, 6.740811949556967, 14.518373126151873, 0.3433666229622734, 21.659573580603976, 1.3153833260824896, 10.781490732116213, 15.69616518796592, -2.091132302735158, 9.522756478395333, 11.806296782728392, -0.10939977011108226, 11.334344856672692, 5.890469588516619, 9.242792897718537, 21.941641898524544, 13.137986827124509, 9.901927583455077, 7.5051019849561005, 1.8489823794412015, 6.9134206517872885, 8.703639279980433, 12.534281322531868, 3.43574241380659, 17.42144731114135, 8.618291929437353, 5.773490801589861, 6.451749273488968, 14.421971014109273, 12.61520351508946, 20.6559615130406, 13.078446273037873, 17.023161897688862, 22.466273393501222, 7.264467884715879, 13.895037563528092, 8.951310673291012, 16.103586059507016, 6.4001017309067985, 19.45700034591524, 13.626541231535215, 4.557817495115805, 13.552139616162268, 7.37761350609056, 10.6106546378159, 17.850080959864883, 18.325610868451314, -0.4123468839984401, 11.730264521363946, 7.965487400341819, 13.164214796946482, 7.754182697513517, 12.862553784506106, 1.421424026582713, 12.44623914985905, 5.030317643526598, 12.5407436910259, 9.042895809980015, 17.44649252317963, 19.981217864423847, 6.028373710444516, 30.791362890875902, 12.34863171563152, 11.963472117858709, 8.131917636587952, 1.4520664679218331, 6.250766887952606, 9.340027624474864, 15.71775656795155, 4.099824138142375, 3.4326568623058265, 8.551907502688092, 6.42931696505979, 4.103128631306163, 10.52937960655291, 6.383443781057716, 16.75333271789559, 15.56231979280152, -3.614941968117593, 7.910976173600954, 9.015847583943662, 17.299483542189456, 6.238876571630196, 8.350361152662416, 16.88474463108394, 16.95981384445041, 14.21310703215866, 2.2965711363141397, 19.133846607266076, 8.920220094105199, 7.743115794304382, 12.762095263970103, 18.732528764426643, 11.44904132725268, 9.773999976416565, 14.98919817943086, 23.796216812533558, 4.362385341647427, 10.670935471253074, 25.236592198668767, 12.421590492552134, -1.3090063239174778, 17.664712191189366, 7.326470417160545, 2.3780917664471, 13.81300700917272, 8.209385973446036, 7.5862604704169065, 6.780157439126052, 14.938746409998899, 10.151151419647263, 19.105216770125537, 12.217666904042408, 7.116207026986657, 16.253996458128015, 16.593255919401216, -2.797462243446308, 14.555225988411738, 8.288914779263791, 12.882468467629128, 12.808004129216584, 26.25401168419551, 22.114516700379166, 14.484420509439728, 6.461748479513687, 5.119451052539226, 8.938618813932809, 13.042285011857722, 8.399331014576465, 4.863627868012853, 19.355889141334615, 3.4438668122301195, 14.548254988994563, 2.8033601831920354, 11.058222868930255, 4.7456149504073375, 10.705650737599385, 4.250989986511924, -1.2866878936484323, 11.094056364922253, 6.709046318348744, 9.684190181365286, 29.040343143771878, 30.005221105584592, 19.62023197809395, 16.077377385730102, 21.067139237534057, 7.98313822913826, 12.992502932825367, 3.533043537596906, 13.461604359658205, 10.519149091645437, 12.302733090291252, 18.008384546362855, 20.03074713168801, 8.121953610545479, 10.741315775111964, 19.28637461695352, 9.352664939216588, 16.020385343328343, 15.32603068495759, 10.531898743441158, 2.0525314243586186, 11.430307871530038, 17.179968760720065, 7.21094457836872, 3.17996373224568, 11.490967749284088, 12.104156886388097, 9.207539711720544, 6.84612883110716, 6.490664005240312, 4.424516812591451, 12.39049851765809, 1.8645528664162008, -0.2694983187054216, 10.951591578168346, 22.79492037297377, 26.32800165919938, -1.8371842884702758, 13.238877513947834, 13.259039080594844, 15.782467186463858, 17.522356805580706, 8.67921661739205, 8.486379757318115, 10.060222836450386, 12.881730293711632, -1.7418053134583769, 6.613092050153938, 3.020585066916028, 9.87294535419702, 11.98643009568675, 7.801022503317639, 15.162852441429465, 8.5204162027956, 18.943198583604058, 7.60365173793852, 11.951237753900864, 6.074314877152404, 9.885263492205702, 15.957649896024133, 9.222420645917987, 8.975017553875364, 14.742568542833643, 16.550895443292767, 7.569500416476187, 13.218663621208755, -2.7878879599112096, 11.578460136599729, 2.3736520870345927, 15.574600679780149, -1.5884771415742858, 10.14529204362438, 2.717850763928716, 11.128821742335639, 6.566416604755412, 26.47070778865044, 10.74972387610025, 3.6085230710738125, 13.61832218741996, 3.63119417847014, 0.9014170256781853, 11.975695031769158, -1.9017256568250662, 11.002820702224689, 8.926636002887548, 17.069434955201835, 7.339552083660054, 14.433723404559714, 9.070909270993042, 9.483666139764749, 7.985458968861487, 9.180223724305653, 10.556658549804098, 11.138312751877516, -2.2920315356245755, 14.702716469082866, 8.602092630523028, 2.893531435536575, 8.813216258432826, 4.871963264322561, 10.141584975191474, 8.977261189542114, 3.5820024001590243, 11.355032474624505, 4.794043009801667, 12.51049143302648, -3.8315489119022725, 10.972933598572217, 6.526953274316828, 7.6042921927353895, 18.92736659280182, 7.853098885888387, 12.138585363724538, 16.187693180811802, 19.135258556862816, 3.901113326916261, 16.770488511195836, 4.436508403793355, 2.843371701824984, 18.24915650523934, 5.780578293603129, 11.465242424775807, 16.194075464674093, 19.70163941313824, 9.671018576443803, 8.511931910368, 7.619650300821153, 9.798717835968011, 16.19750827549637, -1.9389334396297482, 8.331797697339223, 14.594172556651491, 14.464897408016009, -0.33915994379206005, 16.182354557878472, 10.35828862415762, 4.394704974661343, 3.625353178669428, 6.223324836223968, 8.186293450829806, 16.23783336931531, 4.414182083364275, 2.334225516158506, 4.334079844366134, 8.087155462237597, -2.5056253013293546, 17.621869268155066, 10.185266517883829, 13.919055112859828, 13.350081413704144, 10.818385219560609, 7.975969533179625, 1.9770096946892384, 7.531054285825571, 9.353342836221026, 13.1375041789059, 15.736899871889593, 17.219923555812173, 4.142610869074536, 9.549084577486516, 12.116839497058763, 10.294224769288101, 17.71610480260977, 8.39664819148574, 17.94542813257764, 8.39444846935614, 7.183562663872113, 1.4454623113219327, 14.832952636881647, 18.128614839142536, 14.953355088802155, 8.447862457170913, 14.544997146538904, 5.7732657814058355, 17.26791104430977, -1.0534050442075973, 7.79052661523487, 0.7120446195395118, 7.289966376093879, 3.1747456080655017, 9.184739486336882, 13.806274562734554, 9.918652491817294, 12.255380963967735, 8.580505882841473, 15.874848016277452, 16.56248918785129, 1.698267062595324, 16.060803297194315, 15.23597875739119, 16.22567401089426, 11.815286209813165, 2.2112951122342395, 15.087182308749533, 8.386741603790096, 11.811897952035984, -3.63143299170601, 14.5456299259152, 15.256307112473845, 22.93731996008808, 17.732215337773646, 9.14478882384492, 19.995428216750895, 1.7193142214015253, 33.14763804093784, 28.453443360594544, 14.984917382169177, 4.730390994749617, 10.83917323456609, 14.275233642247812, 12.157742460503677, 14.276488007138582, 16.41271408451125, 7.028956270941027, 10.797773682617825, 9.502608849971969, 11.285314284800986, 14.156176342791028, -1.4491086988196216, 10.69919989635096, 20.5310449940589, 7.626606190845747, 4.4044992594289685, 5.958612671204639, 14.287192287950182, -0.7400235144569418, 11.345817117728664, -9.259732291868275, 19.141508989477174, 9.582306045108714, 18.1935411951559, 6.647827985699461, 11.652360855647068, 24.405509867927684, 3.933789274267176, 15.655041275027349, -3.3290649422031446, -5.514605533996626, 14.133528172947667, 10.247647445216199, 7.013639893258905, 9.940916275171112, 6.894038057683711, 11.813060951249632, 14.640645985265255, 15.929253090918778, 10.105601241538588, 14.918836924118672, 14.126558174768794, 12.358949153494654, 6.934820839072643, -6.512225976067562, 8.847585506564679, 8.595586655805388, 0.3915163508308872, 14.746156898111327, 10.077201305108344, 1.9089286934892815, 15.196355036930832, 14.747769882400931, 17.061715082144488, 3.007409598978578, 13.229476585027346, 4.942836689746148, -7.249813279193173, 6.828966183324003, 8.073466055739086, 23.09365546500701, 11.972214736437012, 18.688008525256294, 7.3762765447370535, 15.468846910781927, 3.239030298057223, 16.68840335578934, 2.6405954100891558, 18.131635369197042, 9.466853997496672, 5.830305257576092, 3.913167755815808, 15.227296082310788, 4.4831246339918795, 11.72578672855818, 6.803245763304343, 10.993850716332393, 10.100034240539618, 6.211406490643448, 3.975905159927077, 2.127408810840132, 12.680957480778872, 10.891191916123391, 21.017848961863677, 10.838005470931801, -0.5911631040959016, 18.685624317366127, 3.149327833550455, 14.47841292221619, 7.185833177514345, 14.72188879146228, 8.907874991053703, 3.979715693619748, 4.378467333566918, 4.3343763973758485, 5.634872494872976, 22.392916823720377, 10.81636776103755, 11.210883182980362, 17.624529426873433, 3.9791527917308347, 5.605973138509643, 6.11204732172873, 5.286871370057838, 20.408387099160862, 7.323076843405617, 2.5604780302844405, 8.24928132161791, 6.039164374943109, 3.449214010385531, 13.389141476332664, -1.6672416937728833, 11.58358734190265, 19.232521957018918, 24.382438403403754, 19.337250225899467, 8.783903063653417, 9.346562430171344, 16.811210004810256, 16.05876125374256, 4.519475830970225, -3.3755535985315923, 7.2236181181469545, 19.769245814723863, 9.54460139770873, 1.6328037080718296, 5.320010183723822, 14.191784621794056, 12.837480787890422, 8.36528914737422, 11.108756533081065, 7.9660988074425365, 9.146126154786987, 1.3057244328516404, 2.0637009978310434, 5.734585464406198, 6.362895339341434, 3.566546365724295, 13.272724178337329, 13.235034671660259, 17.19294363110061, 9.53895796176882, 5.839672893337092, 4.3181436844585885, -3.611719773476608, 11.281540604981199, 2.4096538358872115, 15.782181189392384, 13.110061090935382, 13.54015675789076, 16.787087145521348, 9.34555622459425, 9.651003297084637, 4.944904045157037, 5.482326374244559, 7.104608112630774, 13.147287077407196, 8.412497917813209, 12.118031100768594, 11.342944714543977, 7.766806059391345, 25.884513935698614, 10.799741452164582, 14.860587204394541, -2.3987223427097355, 8.029551523649621, 11.712693967277582, 15.476369552049427, 4.687628816611097, 13.977359290600276, 0.7115355337514622, 6.664753446722319, 8.743607318538652, 21.03922561109855, 9.927785392466722, 19.265497369409992, -3.1109228195478913, 4.568478155324742, 11.278395514577227, 4.205706025316336, 16.05693863121045, 3.926732675524077, 15.430317177597278, 4.522064064304502, 7.297790061909359, 16.244304971693513, 5.466849464292035, 12.54650948966862, 10.398665813986417, 9.472027566990155, 21.72658053341688, 13.407660289899614, 9.390172153708939, 10.415505771007158, 3.0303883196303403, 11.962156939163313, 13.404000523386518, 15.409553550324523, 21.262857223826753, 12.583679650804392, 2.855294470838854, 11.357272786846039, 6.584100578104754, 5.606435741579401, 5.729550486899872, 10.341232967357561, 5.059006770200018, 11.839815115472138, -1.003242411724628, -7.353442432190839, 9.048452079335718, 0.8103890614242992, 6.532322398049243, -1.4354332210788705, -2.0536557005734473, 11.43337589817786, 6.949282689086471, 9.710429777224414, 9.789837698866554, 5.636158565710382, 19.11017241955706, 12.166152498072275, 25.46186607418693, 19.52392745483715, 14.126065696929292, 9.890725917372322, 6.462507592485579, 5.619002318650976, 10.8062968686617, 15.82932137949583, 3.649723343668752, 9.828366842297221, 2.48633491535141, 10.639585733795858, 13.253543999121502, 15.947313104815848, 11.72327791718881, 6.184181088152437, 7.7289831846449975, 10.097937210043893, 8.742472285263108, 11.92866562776622, 11.401116215298948, 16.089713732483204, 1.8079405490619038, 11.65918632454536, 4.268704697063226, 8.43692427521409, 2.035054103612267, 10.2238459351279, 1.2841559565331426, 5.034389575000458, 23.75316187486594, 13.767326070677012, 15.716231461055829, 5.022233568339761, 16.96279822523377, 8.130849367046387, 6.763653863079716, 13.242596532201478, 10.844170338803965, 17.429574478817432, 2.286556837516856, 5.317394922918248, 7.202967241688535, 10.581642059910454, 7.250617610343898, 9.523802103665469, 8.090288118306793, 15.517261874546914, 6.632935943681399, 7.539327944750967, 10.408754249415095, 9.406485277834305, 11.435559165247406, 2.3950240350433862, 10.549427465734887, 8.98388189421689, 4.68581263482503, 0.12635221226640425, 11.018785114797545, 9.172847822013809, 9.571035293528215, 7.682680567064258, 18.069701631665193, 3.512448572708866, 9.621527219769586, 6.97863708395254, -2.3054345782962393, 10.52354788451323, 2.023326293222567, 14.53826132756452, 14.9457352090278, 12.278039332001882, 13.145341911722339, 7.283720229297517, 14.125556720507944, 15.500481709167547, 16.718296610071523, 17.58126901798323, 1.2633664148240094, 11.927721633512412, -4.622160196484021, 15.840242265580386, 6.145113239500774, 11.756995381430675, 7.216112427904499, 12.320401841219526, 14.034978655200057, 3.454144281910554, 6.837979478808026, 8.173582924423782, 14.62491060025837, 8.58549418079032, 8.93330244895695, 23.73181174799946, -5.1736850653081135, 13.406521324577584, 10.441315305366286, 14.489945120342657, 15.4879398586677, 17.513389375763815, 4.691628392567985, 17.053656884478016, 12.878177250743555, 6.460195395603259, 15.173013510988614, 1.1640572425253932, 13.913861190187433, 9.089860208328009, 18.05942129872756, 6.0430956252223895, 7.545605241372353, 7.968517105661878, 7.620287887686109, 1.2505489222799984, 9.934560446992302, 5.400562145952189, 15.053034941934978, 14.751275208506922, 2.0942336479681245, 10.078918219347225, 10.91938016628003, 5.2816298175289464, 18.20863131480713, 10.024052773201403, 12.719165226159838, 7.561727860412078, 14.10471693596087, 27.303815510655028, 6.470867349160392, 12.191352443055795, 11.938657008332727, 13.494425588041583, 9.94925508279988, -0.3419086028441569, 3.846776471397897, 13.209565562492724, 0.09984883105386189, 14.013683854384878, 11.681933821022405, 12.41630507598666, 13.571149088041121, 9.730630467128652, 13.872078658492867, 3.2352451006426453, 11.347086524396616, 10.634265701256323, 3.9919192957385103, 8.882910132742792, 21.9877091066124, 13.435340509583394, 1.7877027935757308, 3.053679723243043, 16.394957378755326, 0.07001920458117894, 18.86281229372584, 4.402834347194581, 10.78252550352295, 9.813827814574445, 9.473897561045593, 13.706556824657675, 27.314510772353657, 20.5589266021654, 16.547985445174398, -3.2807636443471537, 9.85611542860837, 17.423521076124306, 7.262847603154399, 22.748472397078704, 11.444453707529195, 9.648136524158986, 4.756000480315161, 9.263285798413428, 15.47077937387985, 9.355215311543287, 5.63517499237133, 19.57457740768251, 15.926482164042495, 7.071333898501229, 13.778168833781415, 7.279601809413405, 13.654597548579606, 4.886506296049082, 9.672702224109159, 16.54476776404887, -1.0780496873230128, 7.525397070316044, 7.507203822930129, 2.18946046468154, 3.183406152759998, -0.7858254690091933, 6.030658339058853, 25.295714192642208, 0.17394625517708384, 10.037905970903804, 13.250275907645173, 9.207399769658085, 7.727582209259715, 21.643736828007185, 3.748753773453002, 8.286437324029787, 6.40646424524728, 7.705957731723865, 4.084115130550391, 1.8131405679345356, 5.058799455989182, -0.08832089329914616, 4.5026803649773575, 13.261767593619007, 19.149175603289567, 17.184504086775544, 2.66496821562027, -2.142581180124374, 10.322270485996537, 6.78225782546117, 10.642855211637588, 13.690913112356547, 15.430392642406265, 19.915513848392862, 4.943081874400466, 9.619568071876136, 12.934321611340717, 14.227212566831795, 3.5695865944725407, 12.482551890480277, 7.929848355776062, 17.44113890927272, 10.620574106897125, -2.8511096864212853, 5.898099149910948, 2.9152118344562092, 17.086012970903795, 3.603668451027323, 5.541724466110946, 4.684448502923699, 7.025089989143229, 13.164326125772213, 8.189491630678587, 12.133866333559544, 17.96879267886191, 11.42844554171022, 11.031152951021838, 16.70060948085328, 9.91786686875112, 17.697458539686817, 3.2201737250972844, 14.552328664534318, 3.408374586579191, 8.182575709645253, 18.997663370225858, 10.876855252798451, 21.420498497152323, 8.162761633780743, 7.2576079656181225, -4.33168444210466, 4.829204920565162, 6.79363698818165, 2.4243742871426903, 3.860806952683439, 13.230796067449624, 20.299016645410752, 11.074743428198248, 7.264189899730185, 11.960150194598004, 14.091789304079754, 5.572067757509286, 17.958069041976017, 15.562021143981807, 11.278553489502361, 17.96999855282869], \"y\": [0.6579377457809075, 11.348421756649753, 19.458685920371668, 9.82837164432293, 22.28680683298985, 12.74236642654559, 17.45769303395048, 2.4324419275701166, 17.333992860753135, 20.5974556723307, 9.358695198190706, 11.835480120438453, 16.399742383094196, 12.019534463452759, 11.510331294844942, 21.481816822787003, 5.865058372278458, 19.178050834986987, 7.742379975926884, 3.1767571158317534, 24.514071053310296, 21.54787028992259, 10.121492958924744, 3.703145106822733, 21.106543505213264, 14.460602363095065, 21.474141774485958, 20.662963588533568, 9.463692583007141, 12.587655797622055, 13.45858945951867, -3.6156990627598242, 7.807862392584735, 14.934540189652921, 5.805248775014315, 11.841755884922428, 18.557519364279162, 5.103063249213017, 2.882356429920987, 1.8199899488688946, 10.529760366943092, 4.698618135139406, 10.433904991495394, 13.865502652949052, 22.136571420960678, 0.6088269954255605, 7.414050756479325, 18.71734022077049, 5.181878182042307, 26.22748865974107, 4.178070041607265, 8.829217502347166, 2.9182411255909098, 12.70392157323337, 11.787734440941772, 10.984900114487267, 3.9227346712338753, 24.407640429324704, 7.0163906723680665, 4.254801120938969, 7.776668946337708, 7.999550966954876, 19.908941326524168, 12.397394167645844, -0.09147098500340389, 5.141568904164988, 15.07628104825463, 12.86538674088436, 19.308532425406742, 4.550748103719386, 2.182591206338315, 11.566482795199992, 9.508597841352342, 4.248031294488062, 24.526485405382854, 10.65264858784676, 7.431212297595614, -1.5875221496001446, 17.852797699609525, 4.872131688231254, 13.991852217978167, 12.641513778719677, 3.439312760860367, 14.824070392003229, 19.73059478410503, 10.331398298961599, 11.733088713180981, 19.708526026752693, 6.327797931324375, 5.8060847233260064, 2.81608103923169, 15.834700032942845, 16.84950244111768, 9.496647838922712, 20.201494126357062, 12.61961702416765, 11.232631692628814, 12.524596307293415, 6.896051047879826, -3.9468100677071645, 7.688560689904405, 7.086219400104054, -6.583115252795052, 16.416073568086787, 7.363163364807136, 14.57502141246649, 12.1054113478052, 4.749165182175528, 11.005178387941108, 7.430291852510969, 6.559419940682105, 8.253040854648425, 12.316492709412884, 5.778408669238987, 6.182880928163286, 5.231997903204571, 15.791671832546482, 7.078691142455083, 6.923653106618506, 13.942062093432458, 8.633137064093102, 22.49214648455819, 7.494857289651275, 8.803717043158596, 13.010995160006406, 0.7644430670761895, 15.537754092721645, 9.60380729920685, 11.410212486410241, 16.362777970935632, 5.213400101729141, 10.056035457634486, 21.86681935270854, 21.088893941603548, 4.91922116872212, 17.311579430222118, 0.40232609837006317, 9.828347903869497, 12.295824411324215, 22.777173700951963, 5.069514463298292, 7.243602838585872, 21.738955326346236, 16.11139855363039, 22.72574242803191, 19.917836378825463, 10.725336584631041, 24.16908461596016, 11.69656722301398, 8.508766384229416, 29.379497867730073, 5.8241736027076625, 11.73338732705583, 4.674912278980019, 10.266323946534857, 4.892146131715948, 23.921395372536008, 10.158381438681332, 17.74376078407861, 7.0088105773346365, 9.115455987434583, 7.587841170326691, 18.019473809465982, 2.511747897553142, 23.299746219510318, 8.573096504438269, 11.959403107854751, 13.851691109738146, -3.599451121577459, 10.125234322351314, 16.444550643095017, 4.606681447930608, 11.696848900075588, 6.477198676149647, 12.960070044153206, 29.336793371684944, 14.046421402439334, 12.63767294455934, 11.740565136751966, -1.6363106091472739, 7.590845165879485, 12.512572369380642, 12.41220806509697, 4.3099095377912136, 16.84493581566404, 6.09818702645622, 3.126424665820794, 9.129081644763488, 16.18317845565808, 19.038549301479165, 20.008396409549185, 13.644428523670381, 18.738480497193947, 24.8577285971643, 16.347140928054344, 18.759481220926755, 9.94317190244159, 24.77630382452435, 5.066175149245151, 26.117727470901464, 16.299506774452574, 6.169738453430068, 11.118653054326824, 14.030116443585307, 3.7937469575057126, 19.356629451050665, 18.569191991506404, 4.107603583318118, 10.252061695274216, 7.53316307258612, 19.96154603996184, 20.65426592691258, 16.665605726729304, 0.06351312893774663, 14.285457248756014, 10.570677211001254, 20.88500425760169, 19.146012745732175, 25.567696646617723, 29.31215158494087, 11.903991941377846, 33.474446618747756, 17.180609234167086, 19.169913016000216, 11.641621732793183, 0.30046195111808505, 11.96361630812184, 19.473320892728882, 20.042808207906315, 12.342717833269486, 5.727503170368258, 10.462480658108326, 11.1716453399643, 5.22283624731519, 4.253817625129258, 10.917896231972561, 9.3896306522883, 15.882935474615719, 2.454334706387109, 8.354546011415229, 8.06679893763434, 19.27309072823899, 9.344888379804413, 8.009290206509117, 28.009833060693918, 23.573893392672783, 21.402109178636046, 3.4049450400499013, 22.510700459420413, 2.9270917435762147, 11.94927651992866, 11.423294325655942, 17.4900255155102, 13.864350775673964, 10.61983865575727, 13.271207442905801, 27.591371962827214, 4.138112703786991, 17.910744766266042, 24.49100873659485, 9.888601408268872, 0.03366674694903593, 23.906676924833015, 7.207872406958982, 2.694825327475434, 5.4408094578799755, 11.360110284915867, 12.827027039434016, 9.187908028140898, 15.816707882593342, 9.840060551301466, 20.13237231017845, 8.247586209557955, 10.084390368458234, 12.60183354719427, 14.811917471006836, 5.2911491964397666, 24.557914084750692, 7.663398838579024, 12.990815691563315, 21.79302940231725, 34.026362018014645, 20.436719961325718, 20.845032080012324, 12.832001927428092, 5.822850259786028, 14.23346924642271, 22.862506787370048, 7.794808946743567, 10.739175260899646, 23.036846143181734, -1.386992749310953, 16.524558699989836, 1.8413721581597287, 18.466769903174217, 4.1656607820074, 12.085079501799145, 5.976388975306053, -1.0159679038720189, 4.303288658255916, 12.278077857348215, 12.259634165203922, 36.142732436992425, 30.129272485330038, 23.516731289181493, 20.750958261342625, 18.24827571794556, 6.578609876461111, 18.58900104993363, 9.281809672422025, 19.275950966456058, 3.6987352333434576, 5.1775099195149075, 17.56186024268756, 33.26955170598093, 10.82533645714569, 10.218293412501883, 28.70855677843417, 11.993827938754745, 12.32898715547585, 15.855391270867948, 4.986745273410107, 7.071819797070134, 20.555206184179134, 21.79048660065859, 10.16095975453078, 7.5567694384103135, 8.959230423970963, 16.09386837754643, 10.23060163637284, 13.008854902962517, 7.422379870961574, 3.7153820678511993, 11.704067225597443, 14.36701064955482, -2.7367008793089838, 16.69660586835476, 22.530190837980864, 26.30661397326859, -3.3028534296779544, 20.82700197167094, 11.811351183419397, 17.321841813677906, 19.564503595369487, 8.60075117741529, 9.488094726533241, 21.034860639363266, 12.949743898179783, -9.217726013584587, 4.926768759620575, 11.09659832245302, 14.082939029663176, 11.215703640890391, 5.560989466684324, 23.031474643072077, 9.848763511645652, 23.982382210849384, 8.769164810526146, 13.758351211522163, 7.340816509583767, 17.01738659104023, 20.696702517987994, 13.253729350091106, 12.639601457029784, 17.314396352639427, 18.304385177931188, 8.310273434114835, 17.862893355077304, -5.167361918147438, 12.18904308185083, 9.80709686083176, 16.382365079072006, 0.0911912320648145, 14.124017240023257, 10.211156411841245, 9.413758698950641, 4.341294172737946, 29.27972805625203, 10.036720244500167, 5.520473202881605, 8.016843421562255, 1.5354485014414179, 3.7616892137117537, 11.868902221189758, -1.9994655789959341, 15.19103189252446, 11.401563705962063, 9.848145261497224, 12.219516638403906, 11.295705166080065, 16.498824421666153, 13.42241125170018, 8.96099731154046, 16.598728951643132, 20.86046087135182, 15.805833549306238, -4.346910345376345, 17.489096745420287, 11.44558531067597, -1.3160233902134388, 6.370677570304032, 8.67374573539897, 21.262830068148205, 17.747623701481885, 9.118689672978299, 11.201112695994972, 5.2873456409477, 12.780945968285247, 4.491090405744982, 6.234107937937251, 17.070311592962007, 9.556111245322306, 19.76302023204086, 12.102923904420678, 17.06483958271378, 19.02006791462047, 21.722796357934918, 7.939310817393876, 24.932710635115576, 13.181469504095382, 0.1356721367930387, 19.491045376066946, 7.917732714987533, 12.129602701973514, 16.66557400234157, 25.592828407281722, 12.905719622238516, 12.338959112572034, 8.18083595907261, 8.408098190839763, 23.04406294089162, -6.119472609520546, 13.064188430020309, 18.018907496095387, 15.9910202075286, 1.1544375317040274, 16.765073468748966, 18.84882653629395, 8.34596403456771, 1.1373962277317116, 3.1360781643854967, 9.213484190660099, 15.971268258452415, 8.937154002442767, 3.8175323588112695, 9.657490248441118, 6.272204576073889, 1.33520312042647, 26.265210880388437, 9.129105526649756, 16.42990235496794, 12.033351160265067, 10.816487573904665, 12.726473337393022, 10.11522166637448, 5.382088169631182, 6.789474991637679, 17.48176802397441, 14.855371902835106, 20.474713343908874, 8.425877556263506, 15.195033488628514, 12.907640138591557, 3.9265357854853686, 18.20273730444975, 6.485323504909625, 17.93565241192603, 14.849378347126965, 6.502665759079129, 2.0277015962269154, 23.376608138272516, 31.847258412872037, 21.053209267451827, 13.753333847119343, 11.726107027834455, 12.188990175314087, 20.911146720258486, -3.7065885496030315, 6.9460223406424575, -0.39870895881353086, 6.484041787053709, 7.24189101001412, 9.52714151331909, 13.55993538572576, 13.293520622305433, 21.2454693095048, 12.74010539090158, 15.894058518721579, 20.41455678423889, 4.6477722599326174, 15.693350388152268, 19.856660870730757, 18.603722007465652, 18.54893650262713, 3.3248613219072913, 13.980106463804143, 10.612097380754912, 15.261788651237026, 0.089998582468231, 16.792060670978913, 5.981695102444407, 28.24603020951502, 23.180691391492132, 9.048708133692465, 24.21865410563927, 2.520450816047445, 31.71930783936167, 33.12379572953884, 20.751938448968822, 4.142542548447825, 22.0307155505562, 21.380225426205175, 12.277369802032924, 13.399663497993679, 17.780440171198975, 6.835830892393572, 10.01773415324233, 9.470289398445672, 16.66574267894938, 14.699430913594217, 0.967498732405943, 8.16828318361678, 26.51178252654093, 15.641824852194592, 4.973335881910089, 9.715616965981358, 20.191899460672122, 3.454203127573397, 14.46531214754651, -5.417556682312013, 13.879110712695883, 14.538110035069455, 21.52990656338834, 4.101324334872872, 14.999844080394649, 18.684616783550805, 9.695608551994454, 17.341273023674063, -4.083228532834381, -6.4068446841454545, 19.39082662709724, 17.103885513702267, 2.5658385357801237, 13.47155052162815, 12.277691939359501, 15.107111216883933, 17.351009006350147, 18.020156221403592, 16.542696662435695, 19.904086055938105, 19.52383925093163, 11.490160639810059, 11.443603365281659, -7.890660651255805, 11.349533108369677, 10.674430922256208, 3.7166571024499815, 22.317645728677, 10.61399893414516, 13.00936063061289, 15.552759706929976, 13.292989343557538, 21.49813792393761, 10.055238611068171, 20.21157330341389, 4.524766518303514, -4.412708101313513, 9.104436667566834, 13.755957510285095, 28.568256511971036, 14.422161982438755, 22.82147358400061, 10.439237038393655, 19.511624106362664, 2.7368966959254486, 23.451329790292867, 7.321221611417731, 17.984016283877512, 7.9664564558464495, 2.3021663534852275, -4.563954658548221, 19.57195739099025, 3.4331615964578592, 16.284868998233932, 17.427346907918402, 17.335826762671623, 5.781638944943699, 7.8738704041250385, 5.548770444154949, 0.6421982227454186, 17.515062801308787, 12.183013369535244, 16.18686959094807, 14.812277474092019, -7.658702927275208, 24.522756974029637, 9.138898765091009, 16.973328093018377, 6.39099792985359, 17.883173690246647, 7.424998152859865, 11.762189270016302, 8.358428424097372, 2.9537105352234434, 6.583620359679143, 37.182848639613866, 12.812132391689225, 11.69769337207897, 23.668572691935317, 3.4454325901967318, 5.263548480232745, 11.220626228550923, 4.212846912273501, 17.2202762383507, 12.273359513537132, 7.572151748380507, 1.0245495570274556, 4.802072241354729, 4.50147782851764, 16.684770479017555, 4.621033681473074, 13.929388302046558, 21.727320908634567, 22.13352106560679, 17.998434286885413, 14.377431353663043, 6.944610645276499, 21.346693259950545, 14.397679315086588, 1.3295888095331412, -3.1044006107438906, 13.461440185394686, 13.130877612850936, 12.639031410638424, 4.504373529387241, 11.623773856337294, 16.469264957620204, 16.704088773418555, 4.250141168422953, 9.4062029646899, 7.313566882396531, 2.04984593986112, 7.972916546841034, 1.1639686872915087, 10.699147536345615, 4.354841682298536, 2.6398861982911996, 17.657981600067433, 17.3804124477935, 13.676041166560925, 12.095304963986711, 7.581620511282461, 5.9370520750877045, -0.2599054935032825, 19.604684968356796, 1.6282953017949011, 24.130536937688582, 16.711813550453282, 12.972898407655794, 16.01659835551315, 9.094532704306573, 9.77305650479809, 3.172988858642206, 6.04771377042786, 11.430044804633127, 15.596120168278617, 16.807748758695503, 15.335253819149102, 17.05801964611747, 2.206549095335377, 31.84925177153115, 14.990180722687022, 22.41034745006044, 3.0799035160918535, 12.196908824064552, 15.995315025798373, 16.40539882910062, 8.257338238595413, 13.126839135006971, -2.2927945454864664, 15.822338270731677, 9.201897818442468, 21.681716811106792, 10.066278256748113, 17.84790506766872, -0.3973124225352125, 7.517724746208206, 16.24954017900242, 7.202945969216639, 10.330821330818221, 9.098540265860803, 11.279577886999679, 12.080921239907951, 14.032413769731033, 13.292823391611272, 16.009031870672487, 13.879625317616878, 9.530795496714779, 9.696612288738548, 26.25675972130687, 13.925705269188741, 3.685819092993718, 8.457461183511588, 0.6550239898361356, 13.901062471908924, 6.314243011988996, 27.692611593388698, 23.040461516255437, 11.747119272951323, 1.8757377775194208, 8.715470428460645, 9.761788934263882, 3.5667742872591113, 7.393314155890124, 14.8868830534953, 6.5777410565824015, 12.652896078971658, 2.0141257365099623, 1.1853880115278628, 8.161769246452316, 6.89808984588268, 9.304302421642445, -1.3446088182101568, -1.140334907255827, 12.443301691092858, 4.4203176023437045, 8.46634061506317, 11.370893466909232, 7.4924451139444965, 18.49628313051183, 10.904321021203325, 40.473469283391566, 20.234692455955607, 9.742540220801132, 8.102168852680544, 6.597884783621078, 2.8337624330369247, 10.091056028023669, 16.916702193162294, -0.24533872678582203, 8.581798859317576, 4.113640807582994, 13.089602783121332, 15.621860193624078, 12.400454494354303, 17.036441511016896, 8.221902769971571, 11.26564064449026, 15.230425333329734, 10.627760819423631, 16.227949352820858, 12.517710276798718, 24.022429397020776, 5.961826419622241, 5.90972781329924, 3.1717262088123013, 14.382396934840784, 8.58520523194608, 6.909910061055076, 7.009758950274408, 8.695584381514358, 36.01683131557637, 21.01168974496472, 16.89904942129349, 4.911101407051991, 18.73781252948424, 9.381782309036101, 10.425085323694395, 14.521303234249782, 7.893141091679526, 21.067366742758242, 8.170617133276217, 7.5409683633322775, 8.665264754064646, 9.407608942988311, 14.244669862789628, 6.945208945152526, 6.3988897455343885, 11.287765772230255, 4.017392772799111, 11.530961593034863, 3.0556607025256675, 8.31210138451268, 16.15842489178707, 1.5109126541578446, 15.042314161859792, 5.670582401832304, 14.028554481201049, 4.512228870796152, 17.486584026805623, 14.98432018592398, 9.387844882221069, 11.86299445314155, 16.359573618513235, 7.740001383767964, 1.003361487714896, 7.981486589421905, -10.440294181044008, 13.347714510453013, 6.189790759889958, 18.626253209897804, 19.20153256676339, 14.045279912312484, 19.456556260976235, 12.000272483969951, 18.095805728616185, 17.084275126867308, 19.01950611331468, 18.042645086684555, -3.3946753170228288, 15.490058676557393, 2.9479441154784523, 18.513900321416678, 6.574838135982374, 12.54779810533866, 7.062866853161266, 12.698603940184393, 25.268648300258924, 0.808216480963706, 10.29889872456923, 8.62299684553135, 15.340607739249574, 11.175637416293725, 12.214588202775715, 35.54809169428984, 2.752934906971446, 20.971546720533578, 14.867584348127618, 11.181751124754973, 16.259522604035904, 15.738599022249726, 3.5401476286925995, 14.887928826293876, 10.9504151870844, 11.863866157253055, 17.022434184567395, 2.728144346588614, 16.995021708351434, 12.016717243769266, 13.943856742527325, 13.988720901366463, 3.0327341541338804, 13.374584875280966, 15.92210637044467, -3.7569605813824136, 9.264735886733636, 9.891826427991564, 11.546107861481458, 25.77969781780711, 5.553937168664344, 6.971551006492951, 7.001570763386455, 6.607419732625125, 15.995000167192043, 13.792468269677995, 22.39813546022036, 13.453459257742487, 15.58745913241287, 31.832807817552307, 11.070952106991264, 10.02603756858458, 6.340918049045631, 6.489084911467517, 9.912754211325975, -0.25138403134972287, 9.377469438502738, 16.097755358116313, 5.709062961156285, 18.032604640208028, 18.792760857155287, 6.74162301744674, 20.529287868226437, 12.261695617415157, 12.135423687039463, 2.5337995293487756, 8.877699087697128, 8.95691096716995, -0.5883197057574892, 12.88149028817631, 23.395950000063625, 18.639393319840018, 1.1630292279002097, 2.1323068693750926, 22.60540623394795, 2.893547389386385, 18.027037314883138, 5.292799471658256, 14.883808965975057, 11.40327820054228, 5.586687952163902, 15.018550261569468, 29.175100011551592, 18.05516821684159, 19.002130967686117, -8.489698893300833, 12.1678970221826, 12.841268706446316, 4.929757760712121, 25.84415123337956, 12.553987039871217, 8.96294226229557, 5.056451647322225, 10.337021749046906, 16.462618975877636, 11.195274202267527, 7.988975775068026, 24.507381734482546, 10.745592838295384, 5.627997690152524, 14.341031004188952, 16.725633725930955, 15.957316328236022, 8.153376682408238, 11.10917435584872, 15.360971432603472, 0.13884446009539797, 10.791051467467806, 6.145219935887152, 6.969644125877053, 15.480915820989052, 1.0601671858047057, 4.497933965528123, 26.765255577373384, 7.157655563971796, 11.921044568439422, 10.271253788520164, 14.043428428781025, 14.100642827044885, 15.171902075150312, 7.967166628567213, 11.78165532683456, 4.627454656501444, 12.33758311834614, 12.847023760069476, 4.6049728614894345, 8.911327111334156, 2.583899869690894, 7.076174289679323, 6.851477315357563, 15.01110125136511, 21.353308037393447, 4.749517750834132, -1.7079521388550607, 17.02395868052762, 8.13260637201612, 11.324151251337206, 13.01131345815451, 20.613408089139384, 13.653673753391843, 13.534890633239726, 14.786195519600415, 15.038513410241585, 16.706428722631365, 7.170926375307826, 12.351186854930033, 12.135939669088199, 19.267998975041777, 15.96466058622442, -5.258741537629271, 15.255057600368083, 1.5580969557624007, 15.472967852812534, 1.459606152853758, 8.975398186403336, 13.12975976409753, 4.533604353727706, 15.141380941113622, 12.903881659256635, 17.07592288141899, 15.503473351132488, 11.742453878024058, 9.786389012960676, 20.754015963575142, 14.156286853337352, 24.646287850493685, 5.101103762263689, 19.119035298146564, 9.253909197039736, 10.268283109761391, 19.9485020142747, 9.310492188837598, 19.232156959348004, 13.06539080196753, 12.785264415249163, -3.3146475421626374, 4.126010446251769, 13.886821664459445, -2.144589336559429, 6.314510031053748, 12.152732148676755, 18.376687775131256, 17.75907744267285, 5.174433843117177, 16.489670869810276, 15.856592064093011, 3.723553092522457, 23.504465283283587, 22.622172098156366, 21.164638336094193, 11.191963340649904]}, {\"line\": {\"color\": \"#ED719B\", \"dash\": \"dashdot\", \"width\": 9}, \"mode\": \"lines\", \"type\": \"scatter\", \"x\": [-0.49859283832818413, 12.056082419965012, 16.918214815381866, 8.485383780871661, 15.887924721707389, 13.085313048366292, 11.327078015328404, 3.5797400165902404, 8.863025015060948, 11.53000866564029, 7.251838086984254, 12.610980928737353, 6.498429698064012, 14.901082430114673, 14.036324834257966, 9.373533139656233, 6.812317738888542, 16.178396110800076, 7.371186263773495, 3.2900905224673824, 19.713889964051557, 19.24963104708044, 8.488725164720723, 4.945385570492214, 11.107112143383658, 15.622493206653713, 14.386002063008853, 18.169336750871985, 8.042571644786184, 10.334056089128662, 11.334397651331829, 1.340698028647978, 5.461886166433388, 14.898724066115715, 14.50266856920507, 7.264318435191987, 17.137733608174752, -0.14370095830162555, 1.8616057068321243, 2.605392916510443, 6.733365029965214, 5.990969579119434, 10.043887379373418, 6.3223675871310245, 17.798488448531856, -0.3985737419196873, 4.100139405222221, 12.145046519004193, 0.318528983066944, 18.824283199672774, 2.8718944160936832, 6.701522838787062, 4.3597230307313914, 5.032405813804775, 10.653180807002077, 13.04685754295392, 4.826635920937122, 17.496818456361872, 9.522332524495603, 4.661611112409797, 4.709209663101895, 10.111833696928361, 11.427067731541731, 10.081291291771674, 0.18682360371506768, 3.7347407337440988, 13.678233290125277, 14.417231279942943, 16.161528636398742, 1.4068563336464397, -1.0471298011203025, 12.19655935700382, 8.009337189683148, 5.8646921314614815, 22.2076453690296, 6.695713528512443, 14.502719981961047, 2.158045965515085, 13.483440014765646, 3.3728614440262374, 14.140728821348246, 14.121340396830428, 0.5998748225296531, 15.429844728800088, 14.672934395938404, 12.569397223580445, 10.653231939387487, 10.16970180893844, 6.52704505125407, 2.8032928048364134, -0.2357120344290209, 12.214983742642035, 21.259440561772994, 7.738579898986151, 20.991616490953216, 10.018104604187284, 9.543859205652259, 10.023745563925594, 8.889915334617317, -4.922909211336616, -0.22790723456577489, 3.182433959035823, -7.839892844305314, 10.199903668833178, 8.506667997651352, 7.298941389930095, 10.794566806892643, 10.133283568236346, 11.904207855646408, 5.4855149336497755, 2.2216491570990957, 10.570836661392718, 7.4577094003394775, 2.884098610424962, 7.807228043940238, 2.373861754920034, 19.51702563053941, 14.160343951099529, -1.7484874052472001, 9.191192128060031, 0.7563038526843187, 22.280283810892833, 1.6180039302802989, 3.4169680921610635, 8.567722784111922, 1.4255986093102528, 15.69402865903156, 9.883614484225209, 15.367586234560079, 14.558158719101232, 1.0136777135009822, 2.836684139248371, 17.777575518394343, 15.713653756491343, 2.696475216153912, 9.056408995749173, 0.9544890384136835, 10.647304784839681, 14.482333930594885, 12.578058615175657, 1.5097424748848454, 6.15544046193657, 14.677757821982174, 7.371274501906942, 22.448759007679392, 7.940213906905182, 6.300223769900833, 14.579101876359953, 11.157503150939839, 7.909246416085777, 23.791923644282054, 9.008742684155608, 12.797796210143137, 11.619923431786534, 8.08101371729147, 3.1135504007404826, 20.22174392872423, 5.66709537966548, 16.56211989795233, 8.622893480560263, 9.946608020247337, 6.740811949556967, 14.518373126151873, 0.3433666229622734, 21.659573580603976, 1.3153833260824896, 10.781490732116213, 15.69616518796592, -2.091132302735158, 9.522756478395333, 11.806296782728392, -0.10939977011108226, 11.334344856672692, 5.890469588516619, 9.242792897718537, 21.941641898524544, 13.137986827124509, 9.901927583455077, 7.5051019849561005, 1.8489823794412015, 6.9134206517872885, 8.703639279980433, 12.534281322531868, 3.43574241380659, 17.42144731114135, 8.618291929437353, 5.773490801589861, 6.451749273488968, 14.421971014109273, 12.61520351508946, 20.6559615130406, 13.078446273037873, 17.023161897688862, 22.466273393501222, 7.264467884715879, 13.895037563528092, 8.951310673291012, 16.103586059507016, 6.4001017309067985, 19.45700034591524, 13.626541231535215, 4.557817495115805, 13.552139616162268, 7.37761350609056, 10.6106546378159, 17.850080959864883, 18.325610868451314, -0.4123468839984401, 11.730264521363946, 7.965487400341819, 13.164214796946482, 7.754182697513517, 12.862553784506106, 1.421424026582713, 12.44623914985905, 5.030317643526598, 12.5407436910259, 9.042895809980015, 17.44649252317963, 19.981217864423847, 6.028373710444516, 30.791362890875902, 12.34863171563152, 11.963472117858709, 8.131917636587952, 1.4520664679218331, 6.250766887952606, 9.340027624474864, 15.71775656795155, 4.099824138142375, 3.4326568623058265, 8.551907502688092, 6.42931696505979, 4.103128631306163, 10.52937960655291, 6.383443781057716, 16.75333271789559, 15.56231979280152, -3.614941968117593, 7.910976173600954, 9.015847583943662, 17.299483542189456, 6.238876571630196, 8.350361152662416, 16.88474463108394, 16.95981384445041, 14.21310703215866, 2.2965711363141397, 19.133846607266076, 8.920220094105199, 7.743115794304382, 12.762095263970103, 18.732528764426643, 11.44904132725268, 9.773999976416565, 14.98919817943086, 23.796216812533558, 4.362385341647427, 10.670935471253074, 25.236592198668767, 12.421590492552134, -1.3090063239174778, 17.664712191189366, 7.326470417160545, 2.3780917664471, 13.81300700917272, 8.209385973446036, 7.5862604704169065, 6.780157439126052, 14.938746409998899, 10.151151419647263, 19.105216770125537, 12.217666904042408, 7.116207026986657, 16.253996458128015, 16.593255919401216, -2.797462243446308, 14.555225988411738, 8.288914779263791, 12.882468467629128, 12.808004129216584, 26.25401168419551, 22.114516700379166, 14.484420509439728, 6.461748479513687, 5.119451052539226, 8.938618813932809, 13.042285011857722, 8.399331014576465, 4.863627868012853, 19.355889141334615, 3.4438668122301195, 14.548254988994563, 2.8033601831920354, 11.058222868930255, 4.7456149504073375, 10.705650737599385, 4.250989986511924, -1.2866878936484323, 11.094056364922253, 6.709046318348744, 9.684190181365286, 29.040343143771878, 30.005221105584592, 19.62023197809395, 16.077377385730102, 21.067139237534057, 7.98313822913826, 12.992502932825367, 3.533043537596906, 13.461604359658205, 10.519149091645437, 12.302733090291252, 18.008384546362855, 20.03074713168801, 8.121953610545479, 10.741315775111964, 19.28637461695352, 9.352664939216588, 16.020385343328343, 15.32603068495759, 10.531898743441158, 2.0525314243586186, 11.430307871530038, 17.179968760720065, 7.21094457836872, 3.17996373224568, 11.490967749284088, 12.104156886388097, 9.207539711720544, 6.84612883110716, 6.490664005240312, 4.424516812591451, 12.39049851765809, 1.8645528664162008, -0.2694983187054216, 10.951591578168346, 22.79492037297377, 26.32800165919938, -1.8371842884702758, 13.238877513947834, 13.259039080594844, 15.782467186463858, 17.522356805580706, 8.67921661739205, 8.486379757318115, 10.060222836450386, 12.881730293711632, -1.7418053134583769, 6.613092050153938, 3.020585066916028, 9.87294535419702, 11.98643009568675, 7.801022503317639, 15.162852441429465, 8.5204162027956, 18.943198583604058, 7.60365173793852, 11.951237753900864, 6.074314877152404, 9.885263492205702, 15.957649896024133, 9.222420645917987, 8.975017553875364, 14.742568542833643, 16.550895443292767, 7.569500416476187, 13.218663621208755, -2.7878879599112096, 11.578460136599729, 2.3736520870345927, 15.574600679780149, -1.5884771415742858, 10.14529204362438, 2.717850763928716, 11.128821742335639, 6.566416604755412, 26.47070778865044, 10.74972387610025, 3.6085230710738125, 13.61832218741996, 3.63119417847014, 0.9014170256781853, 11.975695031769158, -1.9017256568250662, 11.002820702224689, 8.926636002887548, 17.069434955201835, 7.339552083660054, 14.433723404559714, 9.070909270993042, 9.483666139764749, 7.985458968861487, 9.180223724305653, 10.556658549804098, 11.138312751877516, -2.2920315356245755, 14.702716469082866, 8.602092630523028, 2.893531435536575, 8.813216258432826, 4.871963264322561, 10.141584975191474, 8.977261189542114, 3.5820024001590243, 11.355032474624505, 4.794043009801667, 12.51049143302648, -3.8315489119022725, 10.972933598572217, 6.526953274316828, 7.6042921927353895, 18.92736659280182, 7.853098885888387, 12.138585363724538, 16.187693180811802, 19.135258556862816, 3.901113326916261, 16.770488511195836, 4.436508403793355, 2.843371701824984, 18.24915650523934, 5.780578293603129, 11.465242424775807, 16.194075464674093, 19.70163941313824, 9.671018576443803, 8.511931910368, 7.619650300821153, 9.798717835968011, 16.19750827549637, -1.9389334396297482, 8.331797697339223, 14.594172556651491, 14.464897408016009, -0.33915994379206005, 16.182354557878472, 10.35828862415762, 4.394704974661343, 3.625353178669428, 6.223324836223968, 8.186293450829806, 16.23783336931531, 4.414182083364275, 2.334225516158506, 4.334079844366134, 8.087155462237597, -2.5056253013293546, 17.621869268155066, 10.185266517883829, 13.919055112859828, 13.350081413704144, 10.818385219560609, 7.975969533179625, 1.9770096946892384, 7.531054285825571, 9.353342836221026, 13.1375041789059, 15.736899871889593, 17.219923555812173, 4.142610869074536, 9.549084577486516, 12.116839497058763, 10.294224769288101, 17.71610480260977, 8.39664819148574, 17.94542813257764, 8.39444846935614, 7.183562663872113, 1.4454623113219327, 14.832952636881647, 18.128614839142536, 14.953355088802155, 8.447862457170913, 14.544997146538904, 5.7732657814058355, 17.26791104430977, -1.0534050442075973, 7.79052661523487, 0.7120446195395118, 7.289966376093879, 3.1747456080655017, 9.184739486336882, 13.806274562734554, 9.918652491817294, 12.255380963967735, 8.580505882841473, 15.874848016277452, 16.56248918785129, 1.698267062595324, 16.060803297194315, 15.23597875739119, 16.22567401089426, 11.815286209813165, 2.2112951122342395, 15.087182308749533, 8.386741603790096, 11.811897952035984, -3.63143299170601, 14.5456299259152, 15.256307112473845, 22.93731996008808, 17.732215337773646, 9.14478882384492, 19.995428216750895, 1.7193142214015253, 33.14763804093784, 28.453443360594544, 14.984917382169177, 4.730390994749617, 10.83917323456609, 14.275233642247812, 12.157742460503677, 14.276488007138582, 16.41271408451125, 7.028956270941027, 10.797773682617825, 9.502608849971969, 11.285314284800986, 14.156176342791028, -1.4491086988196216, 10.69919989635096, 20.5310449940589, 7.626606190845747, 4.4044992594289685, 5.958612671204639, 14.287192287950182, -0.7400235144569418, 11.345817117728664, -9.259732291868275, 19.141508989477174, 9.582306045108714, 18.1935411951559, 6.647827985699461, 11.652360855647068, 24.405509867927684, 3.933789274267176, 15.655041275027349, -3.3290649422031446, -5.514605533996626, 14.133528172947667, 10.247647445216199, 7.013639893258905, 9.940916275171112, 6.894038057683711, 11.813060951249632, 14.640645985265255, 15.929253090918778, 10.105601241538588, 14.918836924118672, 14.126558174768794, 12.358949153494654, 6.934820839072643, -6.512225976067562, 8.847585506564679, 8.595586655805388, 0.3915163508308872, 14.746156898111327, 10.077201305108344, 1.9089286934892815, 15.196355036930832, 14.747769882400931, 17.061715082144488, 3.007409598978578, 13.229476585027346, 4.942836689746148, -7.249813279193173, 6.828966183324003, 8.073466055739086, 23.09365546500701, 11.972214736437012, 18.688008525256294, 7.3762765447370535, 15.468846910781927, 3.239030298057223, 16.68840335578934, 2.6405954100891558, 18.131635369197042, 9.466853997496672, 5.830305257576092, 3.913167755815808, 15.227296082310788, 4.4831246339918795, 11.72578672855818, 6.803245763304343, 10.993850716332393, 10.100034240539618, 6.211406490643448, 3.975905159927077, 2.127408810840132, 12.680957480778872, 10.891191916123391, 21.017848961863677, 10.838005470931801, -0.5911631040959016, 18.685624317366127, 3.149327833550455, 14.47841292221619, 7.185833177514345, 14.72188879146228, 8.907874991053703, 3.979715693619748, 4.378467333566918, 4.3343763973758485, 5.634872494872976, 22.392916823720377, 10.81636776103755, 11.210883182980362, 17.624529426873433, 3.9791527917308347, 5.605973138509643, 6.11204732172873, 5.286871370057838, 20.408387099160862, 7.323076843405617, 2.5604780302844405, 8.24928132161791, 6.039164374943109, 3.449214010385531, 13.389141476332664, -1.6672416937728833, 11.58358734190265, 19.232521957018918, 24.382438403403754, 19.337250225899467, 8.783903063653417, 9.346562430171344, 16.811210004810256, 16.05876125374256, 4.519475830970225, -3.3755535985315923, 7.2236181181469545, 19.769245814723863, 9.54460139770873, 1.6328037080718296, 5.320010183723822, 14.191784621794056, 12.837480787890422, 8.36528914737422, 11.108756533081065, 7.9660988074425365, 9.146126154786987, 1.3057244328516404, 2.0637009978310434, 5.734585464406198, 6.362895339341434, 3.566546365724295, 13.272724178337329, 13.235034671660259, 17.19294363110061, 9.53895796176882, 5.839672893337092, 4.3181436844585885, -3.611719773476608, 11.281540604981199, 2.4096538358872115, 15.782181189392384, 13.110061090935382, 13.54015675789076, 16.787087145521348, 9.34555622459425, 9.651003297084637, 4.944904045157037, 5.482326374244559, 7.104608112630774, 13.147287077407196, 8.412497917813209, 12.118031100768594, 11.342944714543977, 7.766806059391345, 25.884513935698614, 10.799741452164582, 14.860587204394541, -2.3987223427097355, 8.029551523649621, 11.712693967277582, 15.476369552049427, 4.687628816611097, 13.977359290600276, 0.7115355337514622, 6.664753446722319, 8.743607318538652, 21.03922561109855, 9.927785392466722, 19.265497369409992, -3.1109228195478913, 4.568478155324742, 11.278395514577227, 4.205706025316336, 16.05693863121045, 3.926732675524077, 15.430317177597278, 4.522064064304502, 7.297790061909359, 16.244304971693513, 5.466849464292035, 12.54650948966862, 10.398665813986417, 9.472027566990155, 21.72658053341688, 13.407660289899614, 9.390172153708939, 10.415505771007158, 3.0303883196303403, 11.962156939163313, 13.404000523386518, 15.409553550324523, 21.262857223826753, 12.583679650804392, 2.855294470838854, 11.357272786846039, 6.584100578104754, 5.606435741579401, 5.729550486899872, 10.341232967357561, 5.059006770200018, 11.839815115472138, -1.003242411724628, -7.353442432190839, 9.048452079335718, 0.8103890614242992, 6.532322398049243, -1.4354332210788705, -2.0536557005734473, 11.43337589817786, 6.949282689086471, 9.710429777224414, 9.789837698866554, 5.636158565710382, 19.11017241955706, 12.166152498072275, 25.46186607418693, 19.52392745483715, 14.126065696929292, 9.890725917372322, 6.462507592485579, 5.619002318650976, 10.8062968686617, 15.82932137949583, 3.649723343668752, 9.828366842297221, 2.48633491535141, 10.639585733795858, 13.253543999121502, 15.947313104815848, 11.72327791718881, 6.184181088152437, 7.7289831846449975, 10.097937210043893, 8.742472285263108, 11.92866562776622, 11.401116215298948, 16.089713732483204, 1.8079405490619038, 11.65918632454536, 4.268704697063226, 8.43692427521409, 2.035054103612267, 10.2238459351279, 1.2841559565331426, 5.034389575000458, 23.75316187486594, 13.767326070677012, 15.716231461055829, 5.022233568339761, 16.96279822523377, 8.130849367046387, 6.763653863079716, 13.242596532201478, 10.844170338803965, 17.429574478817432, 2.286556837516856, 5.317394922918248, 7.202967241688535, 10.581642059910454, 7.250617610343898, 9.523802103665469, 8.090288118306793, 15.517261874546914, 6.632935943681399, 7.539327944750967, 10.408754249415095, 9.406485277834305, 11.435559165247406, 2.3950240350433862, 10.549427465734887, 8.98388189421689, 4.68581263482503, 0.12635221226640425, 11.018785114797545, 9.172847822013809, 9.571035293528215, 7.682680567064258, 18.069701631665193, 3.512448572708866, 9.621527219769586, 6.97863708395254, -2.3054345782962393, 10.52354788451323, 2.023326293222567, 14.53826132756452, 14.9457352090278, 12.278039332001882, 13.145341911722339, 7.283720229297517, 14.125556720507944, 15.500481709167547, 16.718296610071523, 17.58126901798323, 1.2633664148240094, 11.927721633512412, -4.622160196484021, 15.840242265580386, 6.145113239500774, 11.756995381430675, 7.216112427904499, 12.320401841219526, 14.034978655200057, 3.454144281910554, 6.837979478808026, 8.173582924423782, 14.62491060025837, 8.58549418079032, 8.93330244895695, 23.73181174799946, -5.1736850653081135, 13.406521324577584, 10.441315305366286, 14.489945120342657, 15.4879398586677, 17.513389375763815, 4.691628392567985, 17.053656884478016, 12.878177250743555, 6.460195395603259, 15.173013510988614, 1.1640572425253932, 13.913861190187433, 9.089860208328009, 18.05942129872756, 6.0430956252223895, 7.545605241372353, 7.968517105661878, 7.620287887686109, 1.2505489222799984, 9.934560446992302, 5.400562145952189, 15.053034941934978, 14.751275208506922, 2.0942336479681245, 10.078918219347225, 10.91938016628003, 5.2816298175289464, 18.20863131480713, 10.024052773201403, 12.719165226159838, 7.561727860412078, 14.10471693596087, 27.303815510655028, 6.470867349160392, 12.191352443055795, 11.938657008332727, 13.494425588041583, 9.94925508279988, -0.3419086028441569, 3.846776471397897, 13.209565562492724, 0.09984883105386189, 14.013683854384878, 11.681933821022405, 12.41630507598666, 13.571149088041121, 9.730630467128652, 13.872078658492867, 3.2352451006426453, 11.347086524396616, 10.634265701256323, 3.9919192957385103, 8.882910132742792, 21.9877091066124, 13.435340509583394, 1.7877027935757308, 3.053679723243043, 16.394957378755326, 0.07001920458117894, 18.86281229372584, 4.402834347194581, 10.78252550352295, 9.813827814574445, 9.473897561045593, 13.706556824657675, 27.314510772353657, 20.5589266021654, 16.547985445174398, -3.2807636443471537, 9.85611542860837, 17.423521076124306, 7.262847603154399, 22.748472397078704, 11.444453707529195, 9.648136524158986, 4.756000480315161, 9.263285798413428, 15.47077937387985, 9.355215311543287, 5.63517499237133, 19.57457740768251, 15.926482164042495, 7.071333898501229, 13.778168833781415, 7.279601809413405, 13.654597548579606, 4.886506296049082, 9.672702224109159, 16.54476776404887, -1.0780496873230128, 7.525397070316044, 7.507203822930129, 2.18946046468154, 3.183406152759998, -0.7858254690091933, 6.030658339058853, 25.295714192642208, 0.17394625517708384, 10.037905970903804, 13.250275907645173, 9.207399769658085, 7.727582209259715, 21.643736828007185, 3.748753773453002, 8.286437324029787, 6.40646424524728, 7.705957731723865, 4.084115130550391, 1.8131405679345356, 5.058799455989182, -0.08832089329914616, 4.5026803649773575, 13.261767593619007, 19.149175603289567, 17.184504086775544, 2.66496821562027, -2.142581180124374, 10.322270485996537, 6.78225782546117, 10.642855211637588, 13.690913112356547, 15.430392642406265, 19.915513848392862, 4.943081874400466, 9.619568071876136, 12.934321611340717, 14.227212566831795, 3.5695865944725407, 12.482551890480277, 7.929848355776062, 17.44113890927272, 10.620574106897125, -2.8511096864212853, 5.898099149910948, 2.9152118344562092, 17.086012970903795, 3.603668451027323, 5.541724466110946, 4.684448502923699, 7.025089989143229, 13.164326125772213, 8.189491630678587, 12.133866333559544, 17.96879267886191, 11.42844554171022, 11.031152951021838, 16.70060948085328, 9.91786686875112, 17.697458539686817, 3.2201737250972844, 14.552328664534318, 3.408374586579191, 8.182575709645253, 18.997663370225858, 10.876855252798451, 21.420498497152323, 8.162761633780743, 7.2576079656181225, -4.33168444210466, 4.829204920565162, 6.79363698818165, 2.4243742871426903, 3.860806952683439, 13.230796067449624, 20.299016645410752, 11.074743428198248, 7.264189899730185, 11.960150194598004, 14.091789304079754, 5.572067757509286, 17.958069041976017, 15.562021143981807, 11.278553489502361, 17.96999855282869], \"y\": [1.5676679953222483, 14.085002914469712, 18.932674268969052, 10.524924310974882, 17.905448482472956, 15.111172386773124, 13.358166727739805, 5.633870999900558, 10.90144235786781, 13.560493818090976, 9.295047450698371, 14.638251034197117, 8.54387986245029, 16.92154127483051, 16.059355656443852, 11.410432120090762, 8.856834331863608, 18.1950559463778, 9.414040660010873, 5.345082986470862, 21.720034470732912, 21.257156360915666, 10.528255756820485, 6.995454826431139, 13.138855082215889, 17.640806418567017, 16.40799286894227, 20.180075095276912, 10.083429194644923, 12.368098265069833, 13.365464593551238, 3.401488410586394, 7.51041923708479, 16.91918992511983, 16.52431238353427, 9.307490679631798, 19.151540165051898, 1.921504349587477, 3.920846795860382, 4.662421820349498, 8.778116445495783, 8.037929040445256, 12.078792580268146, 8.368341398588825, 19.810329776574044, 1.6673896131497299, 6.152722607386234, 14.17370241489829, 2.382359518417616, 20.83307359066454, 4.928130686417928, 8.746368959930741, 6.41153417464509, 7.08221625258348, 12.686273836513728, 15.072831256411048, 6.877058364202409, 19.509557016676972, 11.55878894314496, 6.712524375404873, 6.75998135763828, 12.146536810673163, 13.457859052755218, 12.116085245282811, 2.2510458595548117, 5.7884107111560335, 15.702329154570563, 16.43912920338218, 18.17823863951977, 3.467449946373775, 1.020762500951513, 14.225062042496079, 10.050293586051202, 7.912027169425089, 24.206372903893474, 8.740576927810388, 16.52436364337751, 4.21640537663707, 15.508115236845885, 5.427607729278071, 16.163449123333017, 16.14411836421332, 2.6628685740650018, 17.448730919253332, 16.694071802607958, 14.596791008037997, 12.686324816820285, 12.204232810312055, 8.572410107346352, 4.859733111296806, 1.8297669344443028, 14.243431629997813, 23.260988264291875, 9.780341586518876, 22.99396076060188, 12.053086488671973, 11.580251599262454, 12.058710670967185, 10.928252699755994, -2.8434894969937483, 1.8375485211325473, 5.237746617111, -5.751797385198308, 12.234344843296252, 10.546145223857287, 9.342010658160204, 12.827239323640901, 12.167922885391208, 13.933580058189953, 7.533977727200153, 4.279819398473904, 12.604174600331373, 9.500306457920388, 4.940298582816688, 9.848785556935464, 4.431579282870723, 21.523755654633824, 16.183005913415435, 0.3214908871239852, 11.228633430384463, 2.8188323502072743, 24.278795303206948, 3.677969544058565, 5.471583194633091, 10.607018420082666, 3.4861364784269213, 17.712129108926106, 11.918996371624175, 17.386657595337667, 16.57963749363659, 3.0754407250951967, 4.893025132606208, 19.78947904604646, 17.731695837070887, 4.753233221392335, 11.094251172470438, 3.016428090021349, 12.680415290921283, 16.504038224569037, 14.605426638767794, 3.5700300818152804, 8.201910751028333, 16.698880882731935, 9.414128635704888, 24.4467694180574, 9.981375890974128, 8.346263441894916, 16.600518361383337, 13.189096215938351, 9.95050050421842, 25.785939190433986, 11.046726630871246, 14.824510686259904, 13.650141158135545, 10.121756932052303, 5.169067933523719, 22.226377967083046, 7.715018113413675, 18.577638455396148, 10.66202502686131, 11.981802551147576, 8.785541216326424, 16.53997023170761, 2.4071232857612315, 23.65993120035933, 3.376248999460925, 12.814202139959365, 17.714259283357997, -0.02013490979661192, 11.559211636113437, 13.835960194131877, 1.955703518572124, 13.365411955914917, 7.937727958707549, 11.280080728113221, 23.941160585656256, 15.163689502238785, 11.937255003707582, 9.547558086666296, 3.908261012995003, 8.957636542674997, 10.742530670684229, 14.561779549328833, 5.4903016773562205, 19.434410041661287, 10.657437161753847, 7.821097092175929, 8.49733827562686, 16.443854840546592, 14.642461061657558, 22.65930409371311, 15.104326034730398, 19.037309215791446, 24.464231712280437, 9.30763968466025, 15.918488604835341, 10.989465435318028, 18.12046839647401, 8.445844344087298, 21.463908898282114, 15.650790839423417, 6.609039462939257, 15.57661051066234, 9.420448786309166, 12.64387414941867, 19.861768840539384, 20.335884419587593, 1.6536574353958793, 13.7601540692757, 10.006574215535672, 15.18983946436497, 9.795897978924486, 14.88907565748984, 3.48197431181781, 14.473999233256771, 7.0801342929786, 14.568222697331194, 11.080778177859488, 19.459380763783088, 21.98656727969442, 8.07522192373561, 32.76456057994108, 14.376682104801569, 13.992668055576226, 10.172509452003819, 3.512525615861196, 8.296953655487357, 11.37702625761043, 17.73578644587605, 6.1524082779793625, 5.48722530295778, 10.591250176751013, 8.474972685769632, 6.155702942860626, 12.562840847803718, 8.429235938609859, 18.768282566758835, 17.580811973555875, -1.5394124332854253, 9.952225117057935, 11.05381039913959, 19.312809019527016, 8.285098703555892, 10.390303269475444, 18.89930363229042, 18.97414957346315, 16.235612065577513, 4.354518543401657, 21.141716289247945, 10.95846732628753, 9.784863991096323, 14.788915922477932, 20.741592053096745, 13.479767294205764, 11.809707881240328, 17.009394948712973, 25.79021958986788, 6.414188567268501, 12.703975694525543, 27.22631098583139, 14.449423886426183, 0.7596648559806753, 19.676951398962892, 9.36945780806671, 4.435796713422036, 15.83670202721827, 10.249747381152279, 9.628475189111668, 8.824769683838454, 16.959093233833784, 12.185737593919674, 21.113171603479827, 14.246106811091678, 9.159819787019263, 18.2704314418039, 18.608681871534536, -0.7243640713962098, 16.576713485527037, 10.329039650976869, 14.908931110007012, 14.83468824475832, 28.24070444417213, 24.113521220190883, 16.50611859747385, 8.50730774183462, 7.169002599815881, 10.976811324314369, 15.068272325018416, 10.4391274843525, 6.91394028916916, 21.363098420450115, 5.498401912049008, 16.5697632193807, 4.859800289254521, 13.090111215114817, 6.796278367688698, 12.738587710107318, 6.3031245261856865, 0.7819169063762235, 13.125838134483717, 8.753870063025282, 11.72016520008382, 31.018748747009475, 31.980756951573426, 21.626655044028126, 18.094337673002244, 23.06925888608241, 10.024172546922191, 15.0186383087337, 5.587313406408175, 15.486344525733442, 12.55264076067621, 14.330919991971683, 20.01960159768604, 22.035949236128218, 10.162575061145374, 12.774146672029014, 21.29379064740767, 11.389625986225182, 18.037515137349807, 17.345225640992215, 12.565352492230089, 4.111204658711435, 13.461089555861363, 19.193649701052976, 9.254275568285758, 5.235283737313448, 13.521569017924744, 14.132934396957047, 11.24493239276999, 8.890544862528515, 8.536137266488735, 6.476135245683132, 14.418424385838591, 3.923785189949842, 1.7960811379373902, 12.983797069040339, 24.79190122404313, 28.31447435687226, 0.23305780775346485, 15.264280118181334, 15.284381719937112, 17.800304600912256, 19.535019409281922, 10.718180646414652, 10.52591732517042, 12.09507945213723, 14.908195131579552, 0.32815310491619254, 8.658201183726895, 5.076379098853753, 11.908358973912867, 14.01555775137701, 9.842598472942498, 17.182532725107315, 10.55985253884451, 20.951635294339326, 9.645814731215134, 13.980470079281943, 8.121026451405822, 11.920640475095713, 17.974966278932257, 11.259769067827445, 11.013101806475184, 16.763498842381132, 18.566447384709896, 9.6117649832224, 15.244126345962682, -0.7148182638660199, 13.608801183821045, 4.431370238583247, 17.593056334501345, 0.48102524541588254, 12.179895644957497, 4.774545193631578, 13.160500112091338, 8.611664561270828, 28.456756047207037, 12.78252976549333, 5.6625684473099565, 15.642596240535807, 5.685172125894182, 2.9635139250130056, 14.00485461587805, 0.16870839948794125, 13.034873826521917, 10.964864152759509, 19.08344464715119, 9.38250056684032, 16.455572276827677, 11.108708320736971, 11.520237560665432, 10.026486384259929, 11.217697649052221, 12.590038657535196, 13.169962893303303, -0.22043662460325386, 16.72376529737912, 10.641286043083372, 4.949703352651559, 10.851781743332307, 6.922250894194449, 12.176199602153662, 11.015338769080705, 5.636126654647768, 13.386038044384323, 6.8445623914847555, 14.538060416137256, -1.7553751408333373, 13.005075613626355, 8.572318603373713, 9.646453281159921, 20.935850391326596, 9.894519969007092, 14.167260476501943, 18.204325364878024, 21.143124039399005, 5.954288475993269, 18.78538733499257, 6.488091171280537, 4.899692804914891, 20.259657448306733, 7.828163504444, 13.49592020613559, 18.210688666437783, 21.707820355626687, 11.707032770384693, 10.551393480550818, 9.661765710886606, 11.834352224492896, 18.214111267332868, 0.1316112807347145, 10.371795025912272, 16.61554421818867, 16.486653562006705, 1.726626701698943, 18.199002620172273, 12.392258727260765, 6.44641207465328, 5.679348498499289, 8.269593222398575, 10.226723540728818, 18.25431642553832, 6.465831254192009, 4.392060930917684, 6.38596725670223, 10.127880410111036, -0.4333951159192697, 19.634235900114653, 12.219751226422403, 15.942434720743348, 15.37515327331496, 12.850986895160956, 10.017025172226976, 4.035907547117847, 9.573433199739497, 11.390301867016255, 15.163208289521119, 17.75487281345798, 19.23348566188067, 6.195067751853012, 11.585461429702574, 14.145579286780782, 12.328385412251386, 19.728191157561497, 10.436452640562077, 19.95683242998993, 10.434259460885281, 9.226975093567777, 3.5059411014616826, 16.853614114444042, 20.139474299383863, 16.973658463243908, 10.487514583864517, 16.566515066458194, 7.820872741250949, 19.281330425133817, 1.0145059218041674, 9.832133801917326, 2.774704753663332, 9.333062337970265, 5.230081132971305, 11.22219998022345, 15.829989604542416, 11.953930168548954, 14.283708701187104, 10.619763499091908, 17.892410670013618, 18.578006646946505, 3.757993956333455, 18.07781287941628, 17.25544154747543, 18.242193231698018, 13.84492288470223, 4.269496148794015, 17.107087651886054, 10.426575517216303, 13.841544704341782, -1.5558544089772632, 16.56714596381078, 17.275709441601713, 24.933877283764836, 19.74425377648425, 11.182368139704645, 22.000735367338045, 3.778978516304425, 35.113827654412546, 30.433594531638356, 17.00512688347488, 6.781099691391511, 12.871713082081321, 16.29755389759452, 14.186360595902054, 16.29880453173085, 18.42867700739101, 9.072828533728936, 12.830436661419085, 11.53912393112599, 13.316527211644845, 16.17885070048192, 0.6199791760615827, 12.732156055066026, 22.534759103670844, 9.668700912578986, 6.456177229084406, 8.005668369023272, 16.30947697567948, 1.3269553866178851, 13.376850095967377, -7.167413920944455, 21.149355881865162, 11.618584089443054, 20.204207550270795, 8.692833807033184, 13.682482106031305, 26.39770047498604, 5.98686723795859, 17.67325768189499, -1.2543856679218877, -3.4334259858942335, 16.156269891229382, 12.28194661928774, 9.057557710290581, 11.976127734561105, 8.938311596628616, 13.84270424454242, 16.6618794247019, 17.946653932111282, 12.140322891963406, 16.939242963101677, 16.14932062334345, 14.386968856356935, 8.978973081141518, -4.428079287447454, 10.886048769833172, 10.634799418551811, 2.4551298058501616, 16.76707652510853, 12.112007423130787, 3.9680290336463173, 17.215935676591407, 16.76868471203148, 19.075747734678025, 5.063242817628111, 15.254907149671366, 6.992913526611663, -5.163472845256546, 8.873433260198599, 10.11423171888957, 25.089747812835803, 14.001384671702374, 20.697204226816034, 9.419115801369971, 17.487617100249672, 5.294174626291127, 18.703546318719795, 4.697519614043749, 20.14248584572399, 11.503475421370842, 7.877742569593519, 5.966307052395315, 17.246784696562166, 6.534568754655508, 13.755689594401188, 8.847789338311047, 13.025930519321697, 12.13477244843813, 8.25771032457412, 6.028857861799956, 4.18585934353416, 14.708019460729076, 12.923577048747852, 23.02011521042933, 12.870548791630467, 1.4753730536905567, 20.694827110079515, 5.20473895645471, 16.50012887812342, 9.229238854207825, 16.742880597095255, 10.946158940261782, 6.032657062135334, 6.430222727840699, 6.386262927698692, 7.682891066500021, 24.391093320918216, 12.848975436999032, 13.242317484135208, 19.6368881469415, 6.032095834439261, 7.654077663117988, 8.15864667147229, 7.3359249728391225, 22.412466020072202, 9.36607432753939, 4.617640520779451, 10.289524071867834, 8.08598049444733, 5.503733206472265, 15.414097162808325, 0.402494956153701, 13.613913139698479, 21.240098157015048, 26.37469763002352, 21.344514941209802, 10.822555732379799, 11.383541627371217, 18.825987714014154, 18.075776909446596, 6.570811835255246, -1.3007360568592623, 9.26691141419587, 21.77522568104652, 11.580991583878069, 3.69272530408694, 7.368965224454259, 16.21435307270624, 14.864077233428027, 10.405186865079042, 13.14049458114012, 10.007183804178482, 11.183701493133166, 3.366618833882651, 4.122341011439157, 7.7823074679402415, 8.408748612435542, 5.6207165898264115, 15.29802611521773, 15.260448705343851, 19.20658598134255, 11.575364932746016, 7.8870823439651065, 6.370078494405805, -1.5361998221532298, 13.312764755570905, 4.4672649103921085, 17.800019454458372, 15.135846823272466, 15.564663292021692, 18.801936601363728, 11.382538414468701, 11.687077020826496, 6.994974733257205, 7.530798651265208, 9.148255370361397, 15.172962091551152, 10.452255226350722, 14.146767346401598, 13.373986235935488, 9.8084837961742, 27.872305662471156, 12.83239857839055, 16.881166490733204, -0.32681010998647153, 10.07044779818494, 13.742635773844784, 17.495117367543298, 6.738464697286147, 16.000565489158134, 2.774197182007316, 8.709708928047894, 10.782379835589085, 23.041428280852664, 11.963035905962327, 21.272975493346266, -1.036892347459788, 6.6196684160223995, 13.309629019350925, 6.257975249355414, 18.073959707790934, 5.979831627077372, 17.44920196288488, 6.573392370619763, 9.340862754439808, 18.26076877996126, 7.515367773014393, 14.573971347232721, 12.432515826531189, 11.508633603541632, 23.726738859897686, 15.432560897389562, 11.42702164609101, 12.449305697851312, 5.086153194558939, 13.99135678850877, 15.428912015819325, 17.42850009116281, 23.264394764448397, 14.611030956212076, 4.911580113016441, 13.388271693429278, 8.629295938631127, 7.654538890305441, 7.777287465553846, 12.375253797699457, 7.108738091939614, 13.869378836052364, 1.0645193596906364, -5.266793782578481, 11.086317921659742, 2.8727566977544665, 8.57767175816253, 0.6336139799524481, 0.01723022878631575, 13.464148457529593, 8.993391918463017, 11.746326753668793, 11.825498498853639, 7.684173312282597, 21.118112513730395, 14.194745620186868, 27.450914847769795, 21.5306369514026, 16.14882961024032, 11.926086653819944, 8.508064597039166, 7.667068091639286, 12.838934497650964, 17.84701943936737, 5.703646181319074, 11.863913048218503, 4.543717923621669, 12.672719198016793, 15.278902982033129, 17.964660231592806, 13.753188244783352, 8.230565896360936, 9.770773414896734, 12.13268165496792, 10.78124817814976, 13.957965087567567, 13.431984721975056, 18.106637328772734, 3.8673412499598614, 13.689287274498223, 6.320786549328813, 10.47660893444362, 4.093779319324265, 12.258215900075397, 3.34511450691123, 7.084194113641221, 25.747292706964032, 15.791156953784844, 17.73426587498047, 7.072074261592414, 18.97712507804794, 10.171444359728586, 8.808315193022441, 15.267988075264535, 12.876695323842617, 19.44251303737027, 4.344534029310524, 7.366357742004033, 9.246321957942653, 12.614947861240054, 9.293830604021414, 11.56025415146624, 10.13100374897866, 17.53588806736564, 8.677986057192186, 9.581682251000904, 12.442574256755224, 11.443286251431553, 13.466325231087268, 4.452678621762969, 12.582829080285235, 11.021939782337514, 6.736653917220351, 2.1907543231974866, 13.050790757454072, 11.21034368430057, 11.60734685953299, 9.724608511387306, 20.080736312619294, 5.566779695432147, 11.65768861178649, 9.022659006964153, -0.23379980370627473, 12.557026470575774, 4.082086389997467, 16.55979928127678, 16.966061246651925, 14.306299678298787, 15.17102271121278, 9.326834768575146, 16.148322147625727, 17.519157809853525, 18.733350663951754, 19.593756403931245, 3.324386797827962, 13.95702390095831, -2.5436349752269, 17.857907844357687, 8.191614244001757, 13.786805425941504, 9.259428047511246, 14.348536192185712, 16.058013481215717, 5.508648814295755, 8.882419748178382, 10.214050818197203, 16.646190840157846, 10.624736960755998, 10.971510771366072, 25.726006080025797, -3.09351948894618, 15.431425319598514, 12.47503846903287, 16.511626776980464, 17.506653261549197, 19.526078650554787, 6.7424523776328655, 19.067713503846825, 14.90465265613526, 8.505759277134066, 17.192663573432093, 3.2253729926414074, 15.937256245928431, 11.127602893856006, 20.070486555631298, 8.089900052331892, 9.587940877574685, 10.009594909852114, 9.662401401429332, 3.311607427298957, 11.96979080999986, 7.44927760759941, 17.07304184677912, 16.77217961253403, 4.152782850823456, 12.113719230892706, 12.951681460907958, 7.330699009829279, 20.21925278861893, 12.059016966535685, 14.746113567952053, 9.60401554443321, 16.127544345137665, 29.287385925361058, 8.516399489976529, 14.219870615044416, 13.967926751591733, 15.519068136633788, 11.984441740759447, 1.7238862177576386, 5.900113230120031, 15.235055346855207, 2.1643297688142034, 16.03678201577705, 13.7119671149654, 14.444154189840956, 15.595563444230775, 11.766467362320709, 15.89559798458509, 5.2904006868782325, 13.378115727143369, 12.667414988412954, 6.044824368082946, 10.921268332877865, 23.987090779831917, 15.460158790070107, 3.8471636859671245, 5.109375324463466, 18.41097311394615, 2.1345888621487763, 20.871488090798664, 6.45451726866169, 12.815233833730522, 11.849417262731375, 11.510498035827387, 15.730568448741225, 29.298049377021528, 22.56255778580107, 18.563546041559846, -1.206228028647741, 11.891579104189171, 19.436477638815433, 9.3060242221691, 24.745591394546665, 13.475193319062711, 11.684218774308029, 6.806633008768179, 11.300512678457244, 17.489543815781367, 11.392168773189004, 7.683192664304919, 21.581136260254546, 17.943891246575156, 9.115080120993174, 15.801967468149773, 9.322728597768931, 15.678763710869092, 6.936750671776542, 11.708711410515123, 18.560337930518934, 0.989934577226, 9.56779281002127, 9.549653673316325, 4.247726442239626, 5.238715919319256, 1.2812896570560321, 8.07749975736676, 27.28525713811554, 2.2382068110565987, 12.07282896181032, 15.275644610572776, 11.244792866925708, 9.769376606317437, 23.644141549714668, 5.802382073032223, 10.326569564234424, 8.452187934924112, 9.747816444688485, 6.136745992398029, 3.8725258028435867, 7.108531394326403, 1.9767197022125702, 6.554066322636989, 15.287102117769159, 21.156999693497973, 19.198171538060784, 4.721819929541809, -0.07143076701677886, 12.356347714888814, 8.826863823167061, 12.675978951719195, 15.714971264248328, 17.44927720324509, 21.92105868172016, 6.9931579820334075, 11.655735290825659, 14.960630031173443, 16.249675647317765, 5.623747776272072, 14.510203971876974, 9.97104116925211, 19.454043072690176, 12.653764115837976, -0.7778519551891478, 7.945334828124256, 4.971319269341919, 19.099973356223074, 5.657728265961022, 7.590020080267022, 6.735293842544459, 9.068973751095442, 15.189950462074522, 10.229912208494031, 14.16255548176066, 19.980127485023786, 13.459232765016122, 13.063121809039206, 18.715716140108796, 11.953146882096918, 19.7096003526864, 5.275374136886914, 16.573824778921985, 5.4630152480088405, 10.223016856916423, 21.005938090821026, 12.909283025782758, 23.42156717828631, 10.20326171242986, 9.300800168456265, -2.254023159018697, 6.87961972306592, 8.838209141778758, 4.48194157981883, 5.9141019816978115, 15.256222707665483, 22.30342085787695, 13.106582638640687, 9.307362526462459, 13.989356012438952, 16.114655162849935, 7.62027312410672, 19.96943574257005, 17.580514212982813, 13.309786524424219, 19.981329772458707]}],\n",
       "                        {\"template\": {\"data\": {\"bar\": [{\"error_x\": {\"color\": \"#2a3f5f\"}, \"error_y\": {\"color\": \"#2a3f5f\"}, \"marker\": {\"line\": {\"color\": \"#E5ECF6\", \"width\": 0.5}}, \"type\": \"bar\"}], \"barpolar\": [{\"marker\": {\"line\": {\"color\": \"#E5ECF6\", \"width\": 0.5}}, \"type\": \"barpolar\"}], \"carpet\": [{\"aaxis\": {\"endlinecolor\": \"#2a3f5f\", \"gridcolor\": \"white\", \"linecolor\": \"white\", \"minorgridcolor\": \"white\", \"startlinecolor\": \"#2a3f5f\"}, \"baxis\": {\"endlinecolor\": \"#2a3f5f\", \"gridcolor\": \"white\", \"linecolor\": \"white\", \"minorgridcolor\": \"white\", \"startlinecolor\": \"#2a3f5f\"}, \"type\": \"carpet\"}], \"choropleth\": [{\"colorbar\": {\"outlinewidth\": 0, \"ticks\": \"\"}, \"type\": \"choropleth\"}], \"contour\": [{\"colorbar\": {\"outlinewidth\": 0, \"ticks\": \"\"}, \"colorscale\": [[0.0, \"#0d0887\"], [0.1111111111111111, \"#46039f\"], [0.2222222222222222, \"#7201a8\"], [0.3333333333333333, \"#9c179e\"], [0.4444444444444444, \"#bd3786\"], [0.5555555555555556, \"#d8576b\"], [0.6666666666666666, \"#ed7953\"], [0.7777777777777778, \"#fb9f3a\"], [0.8888888888888888, \"#fdca26\"], [1.0, \"#f0f921\"]], \"type\": \"contour\"}], \"contourcarpet\": [{\"colorbar\": {\"outlinewidth\": 0, \"ticks\": \"\"}, \"type\": \"contourcarpet\"}], \"heatmap\": [{\"colorbar\": {\"outlinewidth\": 0, \"ticks\": \"\"}, \"colorscale\": [[0.0, \"#0d0887\"], [0.1111111111111111, \"#46039f\"], [0.2222222222222222, \"#7201a8\"], [0.3333333333333333, \"#9c179e\"], [0.4444444444444444, \"#bd3786\"], [0.5555555555555556, \"#d8576b\"], [0.6666666666666666, \"#ed7953\"], [0.7777777777777778, \"#fb9f3a\"], [0.8888888888888888, \"#fdca26\"], [1.0, \"#f0f921\"]], \"type\": \"heatmap\"}], \"heatmapgl\": [{\"colorbar\": {\"outlinewidth\": 0, \"ticks\": \"\"}, \"colorscale\": [[0.0, \"#0d0887\"], [0.1111111111111111, \"#46039f\"], [0.2222222222222222, \"#7201a8\"], [0.3333333333333333, \"#9c179e\"], [0.4444444444444444, \"#bd3786\"], [0.5555555555555556, \"#d8576b\"], [0.6666666666666666, \"#ed7953\"], [0.7777777777777778, \"#fb9f3a\"], [0.8888888888888888, \"#fdca26\"], [1.0, \"#f0f921\"]], \"type\": \"heatmapgl\"}], \"histogram\": [{\"marker\": {\"colorbar\": {\"outlinewidth\": 0, \"ticks\": \"\"}}, \"type\": \"histogram\"}], \"histogram2d\": [{\"colorbar\": {\"outlinewidth\": 0, \"ticks\": \"\"}, \"colorscale\": [[0.0, \"#0d0887\"], [0.1111111111111111, \"#46039f\"], [0.2222222222222222, \"#7201a8\"], [0.3333333333333333, \"#9c179e\"], [0.4444444444444444, \"#bd3786\"], [0.5555555555555556, \"#d8576b\"], [0.6666666666666666, \"#ed7953\"], [0.7777777777777778, \"#fb9f3a\"], [0.8888888888888888, \"#fdca26\"], [1.0, \"#f0f921\"]], \"type\": \"histogram2d\"}], \"histogram2dcontour\": [{\"colorbar\": {\"outlinewidth\": 0, \"ticks\": \"\"}, \"colorscale\": [[0.0, \"#0d0887\"], [0.1111111111111111, \"#46039f\"], [0.2222222222222222, \"#7201a8\"], [0.3333333333333333, \"#9c179e\"], [0.4444444444444444, \"#bd3786\"], [0.5555555555555556, \"#d8576b\"], [0.6666666666666666, \"#ed7953\"], [0.7777777777777778, \"#fb9f3a\"], [0.8888888888888888, \"#fdca26\"], [1.0, \"#f0f921\"]], \"type\": \"histogram2dcontour\"}], \"mesh3d\": [{\"colorbar\": {\"outlinewidth\": 0, \"ticks\": \"\"}, \"type\": \"mesh3d\"}], \"parcoords\": [{\"line\": {\"colorbar\": {\"outlinewidth\": 0, \"ticks\": \"\"}}, \"type\": \"parcoords\"}], \"pie\": [{\"automargin\": true, \"type\": \"pie\"}], \"scatter\": [{\"marker\": {\"colorbar\": {\"outlinewidth\": 0, \"ticks\": \"\"}}, \"type\": \"scatter\"}], \"scatter3d\": [{\"line\": {\"colorbar\": {\"outlinewidth\": 0, \"ticks\": \"\"}}, \"marker\": {\"colorbar\": {\"outlinewidth\": 0, \"ticks\": \"\"}}, \"type\": \"scatter3d\"}], \"scattercarpet\": [{\"marker\": {\"colorbar\": {\"outlinewidth\": 0, \"ticks\": \"\"}}, \"type\": \"scattercarpet\"}], \"scattergeo\": [{\"marker\": {\"colorbar\": {\"outlinewidth\": 0, \"ticks\": \"\"}}, \"type\": \"scattergeo\"}], \"scattergl\": [{\"marker\": {\"colorbar\": {\"outlinewidth\": 0, \"ticks\": \"\"}}, \"type\": \"scattergl\"}], \"scattermapbox\": [{\"marker\": {\"colorbar\": {\"outlinewidth\": 0, \"ticks\": \"\"}}, \"type\": \"scattermapbox\"}], \"scatterpolar\": [{\"marker\": {\"colorbar\": {\"outlinewidth\": 0, \"ticks\": \"\"}}, \"type\": \"scatterpolar\"}], \"scatterpolargl\": [{\"marker\": {\"colorbar\": {\"outlinewidth\": 0, \"ticks\": \"\"}}, \"type\": \"scatterpolargl\"}], \"scatterternary\": [{\"marker\": {\"colorbar\": {\"outlinewidth\": 0, \"ticks\": \"\"}}, \"type\": \"scatterternary\"}], \"surface\": [{\"colorbar\": {\"outlinewidth\": 0, \"ticks\": \"\"}, \"colorscale\": [[0.0, \"#0d0887\"], [0.1111111111111111, \"#46039f\"], [0.2222222222222222, \"#7201a8\"], [0.3333333333333333, \"#9c179e\"], [0.4444444444444444, \"#bd3786\"], [0.5555555555555556, \"#d8576b\"], [0.6666666666666666, \"#ed7953\"], [0.7777777777777778, \"#fb9f3a\"], [0.8888888888888888, \"#fdca26\"], [1.0, \"#f0f921\"]], \"type\": \"surface\"}], \"table\": [{\"cells\": {\"fill\": {\"color\": \"#EBF0F8\"}, \"line\": {\"color\": \"white\"}}, \"header\": {\"fill\": {\"color\": \"#C8D4E3\"}, \"line\": {\"color\": \"white\"}}, \"type\": \"table\"}]}, \"layout\": {\"annotationdefaults\": {\"arrowcolor\": \"#2a3f5f\", \"arrowhead\": 0, \"arrowwidth\": 1}, \"coloraxis\": {\"colorbar\": {\"outlinewidth\": 0, \"ticks\": \"\"}}, \"colorscale\": {\"diverging\": [[0, \"#8e0152\"], [0.1, \"#c51b7d\"], [0.2, \"#de77ae\"], [0.3, \"#f1b6da\"], [0.4, \"#fde0ef\"], [0.5, \"#f7f7f7\"], [0.6, \"#e6f5d0\"], [0.7, \"#b8e186\"], [0.8, \"#7fbc41\"], [0.9, \"#4d9221\"], [1, \"#276419\"]], \"sequential\": [[0.0, \"#0d0887\"], [0.1111111111111111, \"#46039f\"], [0.2222222222222222, \"#7201a8\"], [0.3333333333333333, \"#9c179e\"], [0.4444444444444444, \"#bd3786\"], [0.5555555555555556, \"#d8576b\"], [0.6666666666666666, \"#ed7953\"], [0.7777777777777778, \"#fb9f3a\"], [0.8888888888888888, \"#fdca26\"], [1.0, \"#f0f921\"]], \"sequentialminus\": [[0.0, \"#0d0887\"], [0.1111111111111111, \"#46039f\"], [0.2222222222222222, \"#7201a8\"], [0.3333333333333333, \"#9c179e\"], [0.4444444444444444, \"#bd3786\"], [0.5555555555555556, \"#d8576b\"], [0.6666666666666666, \"#ed7953\"], [0.7777777777777778, \"#fb9f3a\"], [0.8888888888888888, \"#fdca26\"], [1.0, \"#f0f921\"]]}, \"colorway\": [\"#636efa\", \"#EF553B\", \"#00cc96\", \"#ab63fa\", \"#FFA15A\", \"#19d3f3\", \"#FF6692\", \"#B6E880\", \"#FF97FF\", \"#FECB52\"], \"font\": {\"color\": \"#2a3f5f\"}, \"geo\": {\"bgcolor\": \"white\", \"lakecolor\": \"white\", \"landcolor\": \"#E5ECF6\", \"showlakes\": true, \"showland\": true, \"subunitcolor\": \"white\"}, \"hoverlabel\": {\"align\": \"left\"}, \"hovermode\": \"closest\", \"mapbox\": {\"style\": \"light\"}, \"paper_bgcolor\": \"white\", \"plot_bgcolor\": \"#E5ECF6\", \"polar\": {\"angularaxis\": {\"gridcolor\": \"white\", \"linecolor\": \"white\", \"ticks\": \"\"}, \"bgcolor\": \"#E5ECF6\", \"radialaxis\": {\"gridcolor\": \"white\", \"linecolor\": \"white\", \"ticks\": \"\"}}, \"scene\": {\"xaxis\": {\"backgroundcolor\": \"#E5ECF6\", \"gridcolor\": \"white\", \"gridwidth\": 2, \"linecolor\": \"white\", \"showbackground\": true, \"ticks\": \"\", \"zerolinecolor\": \"white\"}, \"yaxis\": {\"backgroundcolor\": \"#E5ECF6\", \"gridcolor\": \"white\", \"gridwidth\": 2, \"linecolor\": \"white\", \"showbackground\": true, \"ticks\": \"\", \"zerolinecolor\": \"white\"}, \"zaxis\": {\"backgroundcolor\": \"#E5ECF6\", \"gridcolor\": \"white\", \"gridwidth\": 2, \"linecolor\": \"white\", \"showbackground\": true, \"ticks\": \"\", \"zerolinecolor\": \"white\"}}, \"shapedefaults\": {\"line\": {\"color\": \"#2a3f5f\"}}, \"ternary\": {\"aaxis\": {\"gridcolor\": \"white\", \"linecolor\": \"white\", \"ticks\": \"\"}, \"baxis\": {\"gridcolor\": \"white\", \"linecolor\": \"white\", \"ticks\": \"\"}, \"bgcolor\": \"#E5ECF6\", \"caxis\": {\"gridcolor\": \"white\", \"linecolor\": \"white\", \"ticks\": \"\"}}, \"title\": {\"x\": 0.05}, \"xaxis\": {\"automargin\": true, \"gridcolor\": \"white\", \"linecolor\": \"white\", \"ticks\": \"\", \"title\": {\"standoff\": 15}, \"zerolinecolor\": \"white\", \"zerolinewidth\": 2}, \"yaxis\": {\"automargin\": true, \"gridcolor\": \"white\", \"linecolor\": \"white\", \"ticks\": \"\", \"title\": {\"standoff\": 15}, \"zerolinecolor\": \"white\", \"zerolinewidth\": 2}}}},\n",
       "                        {\"responsive\": true}\n",
       "                    ).then(function(){\n",
       "                            \n",
       "var gd = document.getElementById('330871fb-5df9-4875-9685-099673e8f022');\n",
       "var x = new MutationObserver(function (mutations, observer) {{\n",
       "        var display = window.getComputedStyle(gd).display;\n",
       "        if (!display || display === 'none') {{\n",
       "            console.log([gd, 'removed!']);\n",
       "            Plotly.purge(gd);\n",
       "            observer.disconnect();\n",
       "        }}\n",
       "}});\n",
       "\n",
       "// Listen for the removal of the full notebook cells\n",
       "var notebookContainer = gd.closest('#notebook-container');\n",
       "if (notebookContainer) {{\n",
       "    x.observe(notebookContainer, {childList: true});\n",
       "}}\n",
       "\n",
       "// Listen for the clearing of the current output cell\n",
       "var outputEl = gd.closest('.output');\n",
       "if (outputEl) {{\n",
       "    x.observe(outputEl, {childList: true});\n",
       "}}\n",
       "\n",
       "                        })\n",
       "                };\n",
       "                });\n",
       "            </script>\n",
       "        </div>"
      ]
     },
     "metadata": {},
     "output_type": "display_data"
    }
   ],
   "source": [
    "np.random.seed(100)\n",
    "x = np.random.normal(10 , 6, (1000,))\n",
    "y = x + np.random.normal(2, 4, (1000, ))\n",
    "x_new  = x.reshape(-1,1)\n",
    "lr = LinearRegression()\n",
    "lr.fit(x_new, y )\n",
    "y_pred = lr.predict(x_new)\n",
    "fig = go.Figure(data = [go.Scatter(x = x, y = y, mode = 'markers', marker = {'color':'lightcoral', 'opacity': 0.5}),\n",
    "                        go.Scatter(x = x, y = y_pred, mode ='lines', line = {'color':'#ED719B' , 'width': 9, \n",
    "                                                                               'dash':'dashdot'}\n",
    "                                  )])\n",
    "fig.show()"
   ]
  },
  {
   "cell_type": "code",
   "execution_count": null,
   "metadata": {},
   "outputs": [],
   "source": []
  },
  {
   "cell_type": "code",
   "execution_count": null,
   "metadata": {},
   "outputs": [],
   "source": []
  },
  {
   "cell_type": "code",
   "execution_count": null,
   "metadata": {},
   "outputs": [],
   "source": []
  },
  {
   "cell_type": "code",
   "execution_count": null,
   "metadata": {},
   "outputs": [],
   "source": []
  },
  {
   "cell_type": "code",
   "execution_count": null,
   "metadata": {},
   "outputs": [],
   "source": []
  },
  {
   "cell_type": "code",
   "execution_count": null,
   "metadata": {},
   "outputs": [],
   "source": []
  },
  {
   "cell_type": "code",
   "execution_count": null,
   "metadata": {},
   "outputs": [],
   "source": []
  },
  {
   "cell_type": "code",
   "execution_count": null,
   "metadata": {},
   "outputs": [],
   "source": []
  },
  {
   "cell_type": "code",
   "execution_count": null,
   "metadata": {},
   "outputs": [],
   "source": []
  },
  {
   "cell_type": "code",
   "execution_count": null,
   "metadata": {},
   "outputs": [],
   "source": []
  },
  {
   "cell_type": "code",
   "execution_count": null,
   "metadata": {},
   "outputs": [],
   "source": []
  },
  {
   "cell_type": "code",
   "execution_count": null,
   "metadata": {},
   "outputs": [],
   "source": []
  },
  {
   "cell_type": "code",
   "execution_count": null,
   "metadata": {},
   "outputs": [],
   "source": []
  },
  {
   "cell_type": "code",
   "execution_count": null,
   "metadata": {},
   "outputs": [],
   "source": []
  },
  {
   "cell_type": "code",
   "execution_count": null,
   "metadata": {},
   "outputs": [],
   "source": []
  },
  {
   "cell_type": "code",
   "execution_count": null,
   "metadata": {},
   "outputs": [],
   "source": []
  },
  {
   "cell_type": "code",
   "execution_count": null,
   "metadata": {},
   "outputs": [],
   "source": []
  },
  {
   "cell_type": "code",
   "execution_count": null,
   "metadata": {},
   "outputs": [],
   "source": []
  },
  {
   "cell_type": "code",
   "execution_count": null,
   "metadata": {},
   "outputs": [],
   "source": []
  },
  {
   "cell_type": "code",
   "execution_count": null,
   "metadata": {},
   "outputs": [],
   "source": []
  },
  {
   "cell_type": "code",
   "execution_count": null,
   "metadata": {},
   "outputs": [],
   "source": []
  },
  {
   "cell_type": "code",
   "execution_count": null,
   "metadata": {},
   "outputs": [],
   "source": []
  },
  {
   "cell_type": "code",
   "execution_count": null,
   "metadata": {},
   "outputs": [],
   "source": []
  },
  {
   "cell_type": "code",
   "execution_count": null,
   "metadata": {},
   "outputs": [],
   "source": []
  },
  {
   "cell_type": "code",
   "execution_count": null,
   "metadata": {},
   "outputs": [],
   "source": []
  },
  {
   "cell_type": "code",
   "execution_count": null,
   "metadata": {},
   "outputs": [],
   "source": []
  },
  {
   "cell_type": "code",
   "execution_count": null,
   "metadata": {},
   "outputs": [],
   "source": []
  },
  {
   "cell_type": "code",
   "execution_count": null,
   "metadata": {},
   "outputs": [],
   "source": []
  },
  {
   "cell_type": "code",
   "execution_count": null,
   "metadata": {},
   "outputs": [],
   "source": []
  },
  {
   "cell_type": "code",
   "execution_count": null,
   "metadata": {},
   "outputs": [],
   "source": []
  },
  {
   "cell_type": "code",
   "execution_count": null,
   "metadata": {},
   "outputs": [],
   "source": []
  },
  {
   "cell_type": "code",
   "execution_count": null,
   "metadata": {},
   "outputs": [],
   "source": []
  },
  {
   "cell_type": "code",
   "execution_count": null,
   "metadata": {},
   "outputs": [],
   "source": []
  },
  {
   "cell_type": "code",
   "execution_count": null,
   "metadata": {},
   "outputs": [],
   "source": []
  },
  {
   "cell_type": "code",
   "execution_count": null,
   "metadata": {},
   "outputs": [],
   "source": []
  },
  {
   "cell_type": "code",
   "execution_count": null,
   "metadata": {},
   "outputs": [],
   "source": []
  },
  {
   "cell_type": "code",
   "execution_count": null,
   "metadata": {},
   "outputs": [],
   "source": []
  },
  {
   "cell_type": "code",
   "execution_count": null,
   "metadata": {},
   "outputs": [],
   "source": []
  },
  {
   "cell_type": "code",
   "execution_count": null,
   "metadata": {},
   "outputs": [],
   "source": []
  },
  {
   "cell_type": "code",
   "execution_count": null,
   "metadata": {},
   "outputs": [],
   "source": []
  },
  {
   "cell_type": "code",
   "execution_count": null,
   "metadata": {},
   "outputs": [],
   "source": []
  },
  {
   "cell_type": "code",
   "execution_count": null,
   "metadata": {},
   "outputs": [],
   "source": []
  }
 ],
 "metadata": {
  "kernelspec": {
   "display_name": "Python 3",
   "language": "python",
   "name": "python3"
  },
  "language_info": {
   "codemirror_mode": {
    "name": "ipython",
    "version": 3
   },
   "file_extension": ".py",
   "mimetype": "text/x-python",
   "name": "python",
   "nbconvert_exporter": "python",
   "pygments_lexer": "ipython3",
   "version": "3.7.1"
  }
 },
 "nbformat": 4,
 "nbformat_minor": 4
}
