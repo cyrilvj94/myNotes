{
 "cells": [
  {
   "cell_type": "markdown",
   "metadata": {},
   "source": [
    "- In plotly figures can either be represented as python dictionary or instances of plotly.graph_objects.Figure data structure`\n",
    "- The figures are represented as tree with attributes or parent nodes  - data , layout and frames\n",
    "- __Data__ : This contains info about the plot to be plotted. It consists of a list of dictionaries(trace).Each of this dictionary is a trace instance. The traces mean the type of plot like scatter,  bar chart and so on. For eg: if we want to create a bar chart and line plot in same figure, we need to pass two trace instances , ie, a line trace instance( which is a dictionary ) and bar plot trace instance (which is  a dictionary). \n",
    "- Data contains list of dictionary. Each dictionary is an instance of trace. The dictionary contains a type key which refrences the type of plot , it ccan be scatter , line, etc"
   ]
  },
  {
   "cell_type": "markdown",
   "metadata": {},
   "source": [
    "- In plotly each figure is represented as a tree data structure . The parent nodes are data, layout and frames\n",
    "\n",
    "<b>\n",
    "   Data: This contains info about the plot to be plotted. It consists of a list of dictionaries(trace).Each of this dictionary\n",
    "      is a trace instance. The traces mean the type of plot like scatter,  bar chart and so on. \n",
    "      For eg: if we want to create a bar chart and line plot in same figure, we need to pass two trace instances , ie, \n",
    "     a line trace instance( which is a dictionary ) and bar plot trace instance (which is  a dictionary)\n",
    " <br>\n",
    "    \n",
    "  Layout: This defines the properties of the chart like color , title etc. <br>\n",
    "\n",
    "  Frames : This is used for creating Animated plots</b>\n",
    "\n",
    "- Figure can be created using simple python dictionary also. In low level it is recommeded to use go.Figure \n",
    "           object and pass the data.\t\t\t\n",
    "\n",
    "- layout, markers,line in go.scatter can be constructed either using \n",
    "    Class: go.scatter.Marker(), go.scatter.line(), go.layout()\n",
    "    Dictionaries: Where a dictionary is passed to each of the attribute in layout, marker, line\n",
    "    Magic Contructors: seperated by underscore\n",
    "\n",
    "- Updating of figure and layout can also be done by using update_traces() and update_layout() respectively\n"
   ]
  },
  {
   "cell_type": "code",
   "execution_count": 1,
   "metadata": {},
   "outputs": [],
   "source": [
    "import pandas as pd\n",
    "import numpy as np\n",
    "import tensorflow as tf\n",
    "import tensorflow.keras as keras \n",
    "import seaborn as sns\n",
    "import plotly.express as px\n",
    "import plotly.graph_objects as go"
   ]
  }
 ],
 "metadata": {
  "kernelspec": {
   "display_name": "Python 3",
   "language": "python",
   "name": "python3"
  },
  "language_info": {
   "codemirror_mode": {
    "name": "ipython",
    "version": 3
   },
   "file_extension": ".py",
   "mimetype": "text/x-python",
   "name": "python",
   "nbconvert_exporter": "python",
   "pygments_lexer": "ipython3",
   "version": "3.7.1"
  }
 },
 "nbformat": 4,
 "nbformat_minor": 4
}
