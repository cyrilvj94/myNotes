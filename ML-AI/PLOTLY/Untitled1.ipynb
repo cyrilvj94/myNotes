{
 "cells": [
  {
   "cell_type": "code",
   "execution_count": 1,
   "metadata": {},
   "outputs": [
    {
     "data": {
      "text/html": [
       "        <script type=\"text/javascript\">\n",
       "        window.PlotlyConfig = {MathJaxConfig: 'local'};\n",
       "        if (window.MathJax) {MathJax.Hub.Config({SVG: {font: \"STIX-Web\"}});}\n",
       "        if (typeof require !== 'undefined') {\n",
       "        require.undef(\"plotly\");\n",
       "        requirejs.config({\n",
       "            paths: {\n",
       "                'plotly': ['https://cdn.plot.ly/plotly-latest.min']\n",
       "            }\n",
       "        });\n",
       "        require(['plotly'], function(Plotly) {\n",
       "            window._Plotly = Plotly;\n",
       "        });\n",
       "        }\n",
       "        </script>\n",
       "        "
      ]
     },
     "metadata": {},
     "output_type": "display_data"
    },
    {
     "data": {
      "text/html": [
       "        <script type=\"text/javascript\">\n",
       "        window.PlotlyConfig = {MathJaxConfig: 'local'};\n",
       "        if (window.MathJax) {MathJax.Hub.Config({SVG: {font: \"STIX-Web\"}});}\n",
       "        if (typeof require !== 'undefined') {\n",
       "        require.undef(\"plotly\");\n",
       "        requirejs.config({\n",
       "            paths: {\n",
       "                'plotly': ['https://cdn.plot.ly/plotly-latest.min']\n",
       "            }\n",
       "        });\n",
       "        require(['plotly'], function(Plotly) {\n",
       "            window._Plotly = Plotly;\n",
       "        });\n",
       "        }\n",
       "        </script>\n",
       "        "
      ]
     },
     "metadata": {},
     "output_type": "display_data"
    }
   ],
   "source": [
    "import plotly.express as px\n",
    "import plotly.graph_objects as go\n",
    "import pandas as pd\n",
    "from numpy.random import normal, uniform \n",
    "import numpy as np\n",
    "from numpy import arange\n",
    "from plotly.subplots import make_subplots\n",
    "import plotly\n",
    "plotly.offline.init_notebook_mode(connected = True)\n",
    "import seaborn as sns\n",
    "plotly.offline.init_notebook_mode(connected = True)"
   ]
  },
  {
   "cell_type": "code",
   "execution_count": 3,
   "metadata": {},
   "outputs": [
    {
     "data": {
      "application/vnd.plotly.v1+json": {
       "config": {
        "plotlyServerURL": "https://plot.ly"
       },
       "data": [
        {
         "customdata": [
          [
           1.4
          ],
          [
           1.4
          ],
          [
           1.3
          ],
          [
           1.5
          ],
          [
           1.4
          ],
          [
           1.7
          ],
          [
           1.4
          ],
          [
           1.5
          ],
          [
           1.4
          ],
          [
           1.5
          ],
          [
           1.5
          ],
          [
           1.6
          ],
          [
           1.4
          ],
          [
           1.1
          ],
          [
           1.2
          ],
          [
           1.5
          ],
          [
           1.3
          ],
          [
           1.4
          ],
          [
           1.7
          ],
          [
           1.5
          ],
          [
           1.7
          ],
          [
           1.5
          ],
          [
           1
          ],
          [
           1.7
          ],
          [
           1.9
          ],
          [
           1.6
          ],
          [
           1.6
          ],
          [
           1.5
          ],
          [
           1.4
          ],
          [
           1.6
          ],
          [
           1.6
          ],
          [
           1.5
          ],
          [
           1.5
          ],
          [
           1.4
          ],
          [
           1.5
          ],
          [
           1.2
          ],
          [
           1.3
          ],
          [
           1.5
          ],
          [
           1.3
          ],
          [
           1.5
          ],
          [
           1.3
          ],
          [
           1.3
          ],
          [
           1.3
          ],
          [
           1.6
          ],
          [
           1.9
          ],
          [
           1.4
          ],
          [
           1.6
          ],
          [
           1.4
          ],
          [
           1.5
          ],
          [
           1.4
          ]
         ],
         "hovertemplate": "species=setosa<br>sepal_length=%{x}<br>sepal_width=%{y}<br>petal_width=%{marker.size}<br>petal_length=%{customdata[0]}<extra></extra>",
         "legendgroup": "setosa",
         "marker": {
          "color": "#636efa",
          "size": [
           0.2,
           0.2,
           0.2,
           0.2,
           0.2,
           0.4,
           0.3,
           0.2,
           0.2,
           0.1,
           0.2,
           0.2,
           0.1,
           0.1,
           0.2,
           0.4,
           0.4,
           0.3,
           0.3,
           0.3,
           0.2,
           0.4,
           0.2,
           0.5,
           0.2,
           0.2,
           0.4,
           0.2,
           0.2,
           0.2,
           0.2,
           0.4,
           0.1,
           0.2,
           0.1,
           0.2,
           0.2,
           0.1,
           0.2,
           0.2,
           0.3,
           0.3,
           0.2,
           0.6,
           0.4,
           0.3,
           0.2,
           0.2,
           0.2,
           0.2
          ],
          "sizemode": "area",
          "sizeref": 0.00625,
          "symbol": "circle"
         },
         "mode": "markers",
         "name": "setosa",
         "orientation": "v",
         "showlegend": true,
         "type": "scatter",
         "x": [
          5.1,
          4.9,
          4.7,
          4.6,
          5,
          5.4,
          4.6,
          5,
          4.4,
          4.9,
          5.4,
          4.8,
          4.8,
          4.3,
          5.8,
          5.7,
          5.4,
          5.1,
          5.7,
          5.1,
          5.4,
          5.1,
          4.6,
          5.1,
          4.8,
          5,
          5,
          5.2,
          5.2,
          4.7,
          4.8,
          5.4,
          5.2,
          5.5,
          4.9,
          5,
          5.5,
          4.9,
          4.4,
          5.1,
          5,
          4.5,
          4.4,
          5,
          5.1,
          4.8,
          5.1,
          4.6,
          5.3,
          5
         ],
         "xaxis": "x",
         "y": [
          3.5,
          3,
          3.2,
          3.1,
          3.6,
          3.9,
          3.4,
          3.4,
          2.9,
          3.1,
          3.7,
          3.4,
          3,
          3,
          4,
          4.4,
          3.9,
          3.5,
          3.8,
          3.8,
          3.4,
          3.7,
          3.6,
          3.3,
          3.4,
          3,
          3.4,
          3.5,
          3.4,
          3.2,
          3.1,
          3.4,
          4.1,
          4.2,
          3.1,
          3.2,
          3.5,
          3.1,
          3,
          3.4,
          3.5,
          2.3,
          3.2,
          3.5,
          3.8,
          3,
          3.8,
          3.2,
          3.7,
          3.3
         ],
         "yaxis": "y"
        },
        {
         "customdata": [
          [
           4.7
          ],
          [
           4.5
          ],
          [
           4.9
          ],
          [
           4
          ],
          [
           4.6
          ],
          [
           4.5
          ],
          [
           4.7
          ],
          [
           3.3
          ],
          [
           4.6
          ],
          [
           3.9
          ],
          [
           3.5
          ],
          [
           4.2
          ],
          [
           4
          ],
          [
           4.7
          ],
          [
           3.6
          ],
          [
           4.4
          ],
          [
           4.5
          ],
          [
           4.1
          ],
          [
           4.5
          ],
          [
           3.9
          ],
          [
           4.8
          ],
          [
           4
          ],
          [
           4.9
          ],
          [
           4.7
          ],
          [
           4.3
          ],
          [
           4.4
          ],
          [
           4.8
          ],
          [
           5
          ],
          [
           4.5
          ],
          [
           3.5
          ],
          [
           3.8
          ],
          [
           3.7
          ],
          [
           3.9
          ],
          [
           5.1
          ],
          [
           4.5
          ],
          [
           4.5
          ],
          [
           4.7
          ],
          [
           4.4
          ],
          [
           4.1
          ],
          [
           4
          ],
          [
           4.4
          ],
          [
           4.6
          ],
          [
           4
          ],
          [
           3.3
          ],
          [
           4.2
          ],
          [
           4.2
          ],
          [
           4.2
          ],
          [
           4.3
          ],
          [
           3
          ],
          [
           4.1
          ]
         ],
         "hovertemplate": "species=versicolor<br>sepal_length=%{x}<br>sepal_width=%{y}<br>petal_width=%{marker.size}<br>petal_length=%{customdata[0]}<extra></extra>",
         "legendgroup": "versicolor",
         "marker": {
          "color": "#EF553B",
          "size": [
           1.4,
           1.5,
           1.5,
           1.3,
           1.5,
           1.3,
           1.6,
           1,
           1.3,
           1.4,
           1,
           1.5,
           1,
           1.4,
           1.3,
           1.4,
           1.5,
           1,
           1.5,
           1.1,
           1.8,
           1.3,
           1.5,
           1.2,
           1.3,
           1.4,
           1.4,
           1.7,
           1.5,
           1,
           1.1,
           1,
           1.2,
           1.6,
           1.5,
           1.6,
           1.5,
           1.3,
           1.3,
           1.3,
           1.2,
           1.4,
           1.2,
           1,
           1.3,
           1.2,
           1.3,
           1.3,
           1.1,
           1.3
          ],
          "sizemode": "area",
          "sizeref": 0.00625,
          "symbol": "circle"
         },
         "mode": "markers",
         "name": "versicolor",
         "orientation": "v",
         "showlegend": true,
         "type": "scatter",
         "x": [
          7,
          6.4,
          6.9,
          5.5,
          6.5,
          5.7,
          6.3,
          4.9,
          6.6,
          5.2,
          5,
          5.9,
          6,
          6.1,
          5.6,
          6.7,
          5.6,
          5.8,
          6.2,
          5.6,
          5.9,
          6.1,
          6.3,
          6.1,
          6.4,
          6.6,
          6.8,
          6.7,
          6,
          5.7,
          5.5,
          5.5,
          5.8,
          6,
          5.4,
          6,
          6.7,
          6.3,
          5.6,
          5.5,
          5.5,
          6.1,
          5.8,
          5,
          5.6,
          5.7,
          5.7,
          6.2,
          5.1,
          5.7
         ],
         "xaxis": "x",
         "y": [
          3.2,
          3.2,
          3.1,
          2.3,
          2.8,
          2.8,
          3.3,
          2.4,
          2.9,
          2.7,
          2,
          3,
          2.2,
          2.9,
          2.9,
          3.1,
          3,
          2.7,
          2.2,
          2.5,
          3.2,
          2.8,
          2.5,
          2.8,
          2.9,
          3,
          2.8,
          3,
          2.9,
          2.6,
          2.4,
          2.4,
          2.7,
          2.7,
          3,
          3.4,
          3.1,
          2.3,
          3,
          2.5,
          2.6,
          3,
          2.6,
          2.3,
          2.7,
          3,
          2.9,
          2.9,
          2.5,
          2.8
         ],
         "yaxis": "y"
        },
        {
         "customdata": [
          [
           6
          ],
          [
           5.1
          ],
          [
           5.9
          ],
          [
           5.6
          ],
          [
           5.8
          ],
          [
           6.6
          ],
          [
           4.5
          ],
          [
           6.3
          ],
          [
           5.8
          ],
          [
           6.1
          ],
          [
           5.1
          ],
          [
           5.3
          ],
          [
           5.5
          ],
          [
           5
          ],
          [
           5.1
          ],
          [
           5.3
          ],
          [
           5.5
          ],
          [
           6.7
          ],
          [
           6.9
          ],
          [
           5
          ],
          [
           5.7
          ],
          [
           4.9
          ],
          [
           6.7
          ],
          [
           4.9
          ],
          [
           5.7
          ],
          [
           6
          ],
          [
           4.8
          ],
          [
           4.9
          ],
          [
           5.6
          ],
          [
           5.8
          ],
          [
           6.1
          ],
          [
           6.4
          ],
          [
           5.6
          ],
          [
           5.1
          ],
          [
           5.6
          ],
          [
           6.1
          ],
          [
           5.6
          ],
          [
           5.5
          ],
          [
           4.8
          ],
          [
           5.4
          ],
          [
           5.6
          ],
          [
           5.1
          ],
          [
           5.1
          ],
          [
           5.9
          ],
          [
           5.7
          ],
          [
           5.2
          ],
          [
           5
          ],
          [
           5.2
          ],
          [
           5.4
          ],
          [
           5.1
          ]
         ],
         "hovertemplate": "species=virginica<br>sepal_length=%{x}<br>sepal_width=%{y}<br>petal_width=%{marker.size}<br>petal_length=%{customdata[0]}<extra></extra>",
         "legendgroup": "virginica",
         "marker": {
          "color": "#00cc96",
          "size": [
           2.5,
           1.9,
           2.1,
           1.8,
           2.2,
           2.1,
           1.7,
           1.8,
           1.8,
           2.5,
           2,
           1.9,
           2.1,
           2,
           2.4,
           2.3,
           1.8,
           2.2,
           2.3,
           1.5,
           2.3,
           2,
           2,
           1.8,
           2.1,
           1.8,
           1.8,
           1.8,
           2.1,
           1.6,
           1.9,
           2,
           2.2,
           1.5,
           1.4,
           2.3,
           2.4,
           1.8,
           1.8,
           2.1,
           2.4,
           2.3,
           1.9,
           2.3,
           2.5,
           2.3,
           1.9,
           2,
           2.3,
           1.8
          ],
          "sizemode": "area",
          "sizeref": 0.00625,
          "symbol": "circle"
         },
         "mode": "markers",
         "name": "virginica",
         "orientation": "v",
         "showlegend": true,
         "type": "scatter",
         "x": [
          6.3,
          5.8,
          7.1,
          6.3,
          6.5,
          7.6,
          4.9,
          7.3,
          6.7,
          7.2,
          6.5,
          6.4,
          6.8,
          5.7,
          5.8,
          6.4,
          6.5,
          7.7,
          7.7,
          6,
          6.9,
          5.6,
          7.7,
          6.3,
          6.7,
          7.2,
          6.2,
          6.1,
          6.4,
          7.2,
          7.4,
          7.9,
          6.4,
          6.3,
          6.1,
          7.7,
          6.3,
          6.4,
          6,
          6.9,
          6.7,
          6.9,
          5.8,
          6.8,
          6.7,
          6.7,
          6.3,
          6.5,
          6.2,
          5.9
         ],
         "xaxis": "x",
         "y": [
          3.3,
          2.7,
          3,
          2.9,
          3,
          3,
          2.5,
          2.9,
          2.5,
          3.6,
          3.2,
          2.7,
          3,
          2.5,
          2.8,
          3.2,
          3,
          3.8,
          2.6,
          2.2,
          3.2,
          2.8,
          2.8,
          2.7,
          3.3,
          3.2,
          2.8,
          3,
          2.8,
          3,
          2.8,
          3.8,
          2.8,
          2.8,
          2.6,
          3,
          3.4,
          3.1,
          3,
          3.1,
          3.1,
          3.1,
          2.7,
          3.2,
          3.3,
          3,
          2.5,
          3,
          3.4,
          3
         ],
         "yaxis": "y"
        }
       ],
       "layout": {
        "legend": {
         "itemsizing": "constant",
         "title": {
          "text": "species"
         },
         "tracegroupgap": 0
        },
        "margin": {
         "t": 60
        },
        "template": {
         "data": {
          "bar": [
           {
            "error_x": {
             "color": "#2a3f5f"
            },
            "error_y": {
             "color": "#2a3f5f"
            },
            "marker": {
             "line": {
              "color": "#E5ECF6",
              "width": 0.5
             }
            },
            "type": "bar"
           }
          ],
          "barpolar": [
           {
            "marker": {
             "line": {
              "color": "#E5ECF6",
              "width": 0.5
             }
            },
            "type": "barpolar"
           }
          ],
          "carpet": [
           {
            "aaxis": {
             "endlinecolor": "#2a3f5f",
             "gridcolor": "white",
             "linecolor": "white",
             "minorgridcolor": "white",
             "startlinecolor": "#2a3f5f"
            },
            "baxis": {
             "endlinecolor": "#2a3f5f",
             "gridcolor": "white",
             "linecolor": "white",
             "minorgridcolor": "white",
             "startlinecolor": "#2a3f5f"
            },
            "type": "carpet"
           }
          ],
          "choropleth": [
           {
            "colorbar": {
             "outlinewidth": 0,
             "ticks": ""
            },
            "type": "choropleth"
           }
          ],
          "contour": [
           {
            "colorbar": {
             "outlinewidth": 0,
             "ticks": ""
            },
            "colorscale": [
             [
              0,
              "#0d0887"
             ],
             [
              0.1111111111111111,
              "#46039f"
             ],
             [
              0.2222222222222222,
              "#7201a8"
             ],
             [
              0.3333333333333333,
              "#9c179e"
             ],
             [
              0.4444444444444444,
              "#bd3786"
             ],
             [
              0.5555555555555556,
              "#d8576b"
             ],
             [
              0.6666666666666666,
              "#ed7953"
             ],
             [
              0.7777777777777778,
              "#fb9f3a"
             ],
             [
              0.8888888888888888,
              "#fdca26"
             ],
             [
              1,
              "#f0f921"
             ]
            ],
            "type": "contour"
           }
          ],
          "contourcarpet": [
           {
            "colorbar": {
             "outlinewidth": 0,
             "ticks": ""
            },
            "type": "contourcarpet"
           }
          ],
          "heatmap": [
           {
            "colorbar": {
             "outlinewidth": 0,
             "ticks": ""
            },
            "colorscale": [
             [
              0,
              "#0d0887"
             ],
             [
              0.1111111111111111,
              "#46039f"
             ],
             [
              0.2222222222222222,
              "#7201a8"
             ],
             [
              0.3333333333333333,
              "#9c179e"
             ],
             [
              0.4444444444444444,
              "#bd3786"
             ],
             [
              0.5555555555555556,
              "#d8576b"
             ],
             [
              0.6666666666666666,
              "#ed7953"
             ],
             [
              0.7777777777777778,
              "#fb9f3a"
             ],
             [
              0.8888888888888888,
              "#fdca26"
             ],
             [
              1,
              "#f0f921"
             ]
            ],
            "type": "heatmap"
           }
          ],
          "heatmapgl": [
           {
            "colorbar": {
             "outlinewidth": 0,
             "ticks": ""
            },
            "colorscale": [
             [
              0,
              "#0d0887"
             ],
             [
              0.1111111111111111,
              "#46039f"
             ],
             [
              0.2222222222222222,
              "#7201a8"
             ],
             [
              0.3333333333333333,
              "#9c179e"
             ],
             [
              0.4444444444444444,
              "#bd3786"
             ],
             [
              0.5555555555555556,
              "#d8576b"
             ],
             [
              0.6666666666666666,
              "#ed7953"
             ],
             [
              0.7777777777777778,
              "#fb9f3a"
             ],
             [
              0.8888888888888888,
              "#fdca26"
             ],
             [
              1,
              "#f0f921"
             ]
            ],
            "type": "heatmapgl"
           }
          ],
          "histogram": [
           {
            "marker": {
             "colorbar": {
              "outlinewidth": 0,
              "ticks": ""
             }
            },
            "type": "histogram"
           }
          ],
          "histogram2d": [
           {
            "colorbar": {
             "outlinewidth": 0,
             "ticks": ""
            },
            "colorscale": [
             [
              0,
              "#0d0887"
             ],
             [
              0.1111111111111111,
              "#46039f"
             ],
             [
              0.2222222222222222,
              "#7201a8"
             ],
             [
              0.3333333333333333,
              "#9c179e"
             ],
             [
              0.4444444444444444,
              "#bd3786"
             ],
             [
              0.5555555555555556,
              "#d8576b"
             ],
             [
              0.6666666666666666,
              "#ed7953"
             ],
             [
              0.7777777777777778,
              "#fb9f3a"
             ],
             [
              0.8888888888888888,
              "#fdca26"
             ],
             [
              1,
              "#f0f921"
             ]
            ],
            "type": "histogram2d"
           }
          ],
          "histogram2dcontour": [
           {
            "colorbar": {
             "outlinewidth": 0,
             "ticks": ""
            },
            "colorscale": [
             [
              0,
              "#0d0887"
             ],
             [
              0.1111111111111111,
              "#46039f"
             ],
             [
              0.2222222222222222,
              "#7201a8"
             ],
             [
              0.3333333333333333,
              "#9c179e"
             ],
             [
              0.4444444444444444,
              "#bd3786"
             ],
             [
              0.5555555555555556,
              "#d8576b"
             ],
             [
              0.6666666666666666,
              "#ed7953"
             ],
             [
              0.7777777777777778,
              "#fb9f3a"
             ],
             [
              0.8888888888888888,
              "#fdca26"
             ],
             [
              1,
              "#f0f921"
             ]
            ],
            "type": "histogram2dcontour"
           }
          ],
          "mesh3d": [
           {
            "colorbar": {
             "outlinewidth": 0,
             "ticks": ""
            },
            "type": "mesh3d"
           }
          ],
          "parcoords": [
           {
            "line": {
             "colorbar": {
              "outlinewidth": 0,
              "ticks": ""
             }
            },
            "type": "parcoords"
           }
          ],
          "pie": [
           {
            "automargin": true,
            "type": "pie"
           }
          ],
          "scatter": [
           {
            "marker": {
             "colorbar": {
              "outlinewidth": 0,
              "ticks": ""
             }
            },
            "type": "scatter"
           }
          ],
          "scatter3d": [
           {
            "line": {
             "colorbar": {
              "outlinewidth": 0,
              "ticks": ""
             }
            },
            "marker": {
             "colorbar": {
              "outlinewidth": 0,
              "ticks": ""
             }
            },
            "type": "scatter3d"
           }
          ],
          "scattercarpet": [
           {
            "marker": {
             "colorbar": {
              "outlinewidth": 0,
              "ticks": ""
             }
            },
            "type": "scattercarpet"
           }
          ],
          "scattergeo": [
           {
            "marker": {
             "colorbar": {
              "outlinewidth": 0,
              "ticks": ""
             }
            },
            "type": "scattergeo"
           }
          ],
          "scattergl": [
           {
            "marker": {
             "colorbar": {
              "outlinewidth": 0,
              "ticks": ""
             }
            },
            "type": "scattergl"
           }
          ],
          "scattermapbox": [
           {
            "marker": {
             "colorbar": {
              "outlinewidth": 0,
              "ticks": ""
             }
            },
            "type": "scattermapbox"
           }
          ],
          "scatterpolar": [
           {
            "marker": {
             "colorbar": {
              "outlinewidth": 0,
              "ticks": ""
             }
            },
            "type": "scatterpolar"
           }
          ],
          "scatterpolargl": [
           {
            "marker": {
             "colorbar": {
              "outlinewidth": 0,
              "ticks": ""
             }
            },
            "type": "scatterpolargl"
           }
          ],
          "scatterternary": [
           {
            "marker": {
             "colorbar": {
              "outlinewidth": 0,
              "ticks": ""
             }
            },
            "type": "scatterternary"
           }
          ],
          "surface": [
           {
            "colorbar": {
             "outlinewidth": 0,
             "ticks": ""
            },
            "colorscale": [
             [
              0,
              "#0d0887"
             ],
             [
              0.1111111111111111,
              "#46039f"
             ],
             [
              0.2222222222222222,
              "#7201a8"
             ],
             [
              0.3333333333333333,
              "#9c179e"
             ],
             [
              0.4444444444444444,
              "#bd3786"
             ],
             [
              0.5555555555555556,
              "#d8576b"
             ],
             [
              0.6666666666666666,
              "#ed7953"
             ],
             [
              0.7777777777777778,
              "#fb9f3a"
             ],
             [
              0.8888888888888888,
              "#fdca26"
             ],
             [
              1,
              "#f0f921"
             ]
            ],
            "type": "surface"
           }
          ],
          "table": [
           {
            "cells": {
             "fill": {
              "color": "#EBF0F8"
             },
             "line": {
              "color": "white"
             }
            },
            "header": {
             "fill": {
              "color": "#C8D4E3"
             },
             "line": {
              "color": "white"
             }
            },
            "type": "table"
           }
          ]
         },
         "layout": {
          "annotationdefaults": {
           "arrowcolor": "#2a3f5f",
           "arrowhead": 0,
           "arrowwidth": 1
          },
          "coloraxis": {
           "colorbar": {
            "outlinewidth": 0,
            "ticks": ""
           }
          },
          "colorscale": {
           "diverging": [
            [
             0,
             "#8e0152"
            ],
            [
             0.1,
             "#c51b7d"
            ],
            [
             0.2,
             "#de77ae"
            ],
            [
             0.3,
             "#f1b6da"
            ],
            [
             0.4,
             "#fde0ef"
            ],
            [
             0.5,
             "#f7f7f7"
            ],
            [
             0.6,
             "#e6f5d0"
            ],
            [
             0.7,
             "#b8e186"
            ],
            [
             0.8,
             "#7fbc41"
            ],
            [
             0.9,
             "#4d9221"
            ],
            [
             1,
             "#276419"
            ]
           ],
           "sequential": [
            [
             0,
             "#0d0887"
            ],
            [
             0.1111111111111111,
             "#46039f"
            ],
            [
             0.2222222222222222,
             "#7201a8"
            ],
            [
             0.3333333333333333,
             "#9c179e"
            ],
            [
             0.4444444444444444,
             "#bd3786"
            ],
            [
             0.5555555555555556,
             "#d8576b"
            ],
            [
             0.6666666666666666,
             "#ed7953"
            ],
            [
             0.7777777777777778,
             "#fb9f3a"
            ],
            [
             0.8888888888888888,
             "#fdca26"
            ],
            [
             1,
             "#f0f921"
            ]
           ],
           "sequentialminus": [
            [
             0,
             "#0d0887"
            ],
            [
             0.1111111111111111,
             "#46039f"
            ],
            [
             0.2222222222222222,
             "#7201a8"
            ],
            [
             0.3333333333333333,
             "#9c179e"
            ],
            [
             0.4444444444444444,
             "#bd3786"
            ],
            [
             0.5555555555555556,
             "#d8576b"
            ],
            [
             0.6666666666666666,
             "#ed7953"
            ],
            [
             0.7777777777777778,
             "#fb9f3a"
            ],
            [
             0.8888888888888888,
             "#fdca26"
            ],
            [
             1,
             "#f0f921"
            ]
           ]
          },
          "colorway": [
           "#636efa",
           "#EF553B",
           "#00cc96",
           "#ab63fa",
           "#FFA15A",
           "#19d3f3",
           "#FF6692",
           "#B6E880",
           "#FF97FF",
           "#FECB52"
          ],
          "font": {
           "color": "#2a3f5f"
          },
          "geo": {
           "bgcolor": "white",
           "lakecolor": "white",
           "landcolor": "#E5ECF6",
           "showlakes": true,
           "showland": true,
           "subunitcolor": "white"
          },
          "hoverlabel": {
           "align": "left"
          },
          "hovermode": "closest",
          "mapbox": {
           "style": "light"
          },
          "paper_bgcolor": "white",
          "plot_bgcolor": "#E5ECF6",
          "polar": {
           "angularaxis": {
            "gridcolor": "white",
            "linecolor": "white",
            "ticks": ""
           },
           "bgcolor": "#E5ECF6",
           "radialaxis": {
            "gridcolor": "white",
            "linecolor": "white",
            "ticks": ""
           }
          },
          "scene": {
           "xaxis": {
            "backgroundcolor": "#E5ECF6",
            "gridcolor": "white",
            "gridwidth": 2,
            "linecolor": "white",
            "showbackground": true,
            "ticks": "",
            "zerolinecolor": "white"
           },
           "yaxis": {
            "backgroundcolor": "#E5ECF6",
            "gridcolor": "white",
            "gridwidth": 2,
            "linecolor": "white",
            "showbackground": true,
            "ticks": "",
            "zerolinecolor": "white"
           },
           "zaxis": {
            "backgroundcolor": "#E5ECF6",
            "gridcolor": "white",
            "gridwidth": 2,
            "linecolor": "white",
            "showbackground": true,
            "ticks": "",
            "zerolinecolor": "white"
           }
          },
          "shapedefaults": {
           "line": {
            "color": "#2a3f5f"
           }
          },
          "ternary": {
           "aaxis": {
            "gridcolor": "white",
            "linecolor": "white",
            "ticks": ""
           },
           "baxis": {
            "gridcolor": "white",
            "linecolor": "white",
            "ticks": ""
           },
           "bgcolor": "#E5ECF6",
           "caxis": {
            "gridcolor": "white",
            "linecolor": "white",
            "ticks": ""
           }
          },
          "title": {
           "x": 0.05
          },
          "xaxis": {
           "automargin": true,
           "gridcolor": "white",
           "linecolor": "white",
           "ticks": "",
           "title": {
            "standoff": 15
           },
           "zerolinecolor": "white",
           "zerolinewidth": 2
          },
          "yaxis": {
           "automargin": true,
           "gridcolor": "white",
           "linecolor": "white",
           "ticks": "",
           "title": {
            "standoff": 15
           },
           "zerolinecolor": "white",
           "zerolinewidth": 2
          }
         }
        },
        "xaxis": {
         "anchor": "y",
         "domain": [
          0,
          1
         ],
         "title": {
          "text": "sepal_length"
         }
        },
        "yaxis": {
         "anchor": "x",
         "domain": [
          0,
          1
         ],
         "title": {
          "text": "sepal_width"
         }
        }
       }
      },
      "text/html": [
       "<div>                            <div id=\"4a048c29-b0c0-49fb-8df0-792843564099\" class=\"plotly-graph-div\" style=\"height:525px; width:100%;\"></div>            <script type=\"text/javascript\">                require([\"plotly\"], function(Plotly) {                    window.PLOTLYENV=window.PLOTLYENV || {};                                    if (document.getElementById(\"4a048c29-b0c0-49fb-8df0-792843564099\")) {                    Plotly.newPlot(                        \"4a048c29-b0c0-49fb-8df0-792843564099\",                        [{\"customdata\": [[1.4], [1.4], [1.3], [1.5], [1.4], [1.7], [1.4], [1.5], [1.4], [1.5], [1.5], [1.6], [1.4], [1.1], [1.2], [1.5], [1.3], [1.4], [1.7], [1.5], [1.7], [1.5], [1.0], [1.7], [1.9], [1.6], [1.6], [1.5], [1.4], [1.6], [1.6], [1.5], [1.5], [1.4], [1.5], [1.2], [1.3], [1.5], [1.3], [1.5], [1.3], [1.3], [1.3], [1.6], [1.9], [1.4], [1.6], [1.4], [1.5], [1.4]], \"hovertemplate\": \"species=setosa<br>sepal_length=%{x}<br>sepal_width=%{y}<br>petal_width=%{marker.size}<br>petal_length=%{customdata[0]}<extra></extra>\", \"legendgroup\": \"setosa\", \"marker\": {\"color\": \"#636efa\", \"size\": [0.2, 0.2, 0.2, 0.2, 0.2, 0.4, 0.3, 0.2, 0.2, 0.1, 0.2, 0.2, 0.1, 0.1, 0.2, 0.4, 0.4, 0.3, 0.3, 0.3, 0.2, 0.4, 0.2, 0.5, 0.2, 0.2, 0.4, 0.2, 0.2, 0.2, 0.2, 0.4, 0.1, 0.2, 0.1, 0.2, 0.2, 0.1, 0.2, 0.2, 0.3, 0.3, 0.2, 0.6, 0.4, 0.3, 0.2, 0.2, 0.2, 0.2], \"sizemode\": \"area\", \"sizeref\": 0.00625, \"symbol\": \"circle\"}, \"mode\": \"markers\", \"name\": \"setosa\", \"orientation\": \"v\", \"showlegend\": true, \"type\": \"scatter\", \"x\": [5.1, 4.9, 4.7, 4.6, 5.0, 5.4, 4.6, 5.0, 4.4, 4.9, 5.4, 4.8, 4.8, 4.3, 5.8, 5.7, 5.4, 5.1, 5.7, 5.1, 5.4, 5.1, 4.6, 5.1, 4.8, 5.0, 5.0, 5.2, 5.2, 4.7, 4.8, 5.4, 5.2, 5.5, 4.9, 5.0, 5.5, 4.9, 4.4, 5.1, 5.0, 4.5, 4.4, 5.0, 5.1, 4.8, 5.1, 4.6, 5.3, 5.0], \"xaxis\": \"x\", \"y\": [3.5, 3.0, 3.2, 3.1, 3.6, 3.9, 3.4, 3.4, 2.9, 3.1, 3.7, 3.4, 3.0, 3.0, 4.0, 4.4, 3.9, 3.5, 3.8, 3.8, 3.4, 3.7, 3.6, 3.3, 3.4, 3.0, 3.4, 3.5, 3.4, 3.2, 3.1, 3.4, 4.1, 4.2, 3.1, 3.2, 3.5, 3.1, 3.0, 3.4, 3.5, 2.3, 3.2, 3.5, 3.8, 3.0, 3.8, 3.2, 3.7, 3.3], \"yaxis\": \"y\"}, {\"customdata\": [[4.7], [4.5], [4.9], [4.0], [4.6], [4.5], [4.7], [3.3], [4.6], [3.9], [3.5], [4.2], [4.0], [4.7], [3.6], [4.4], [4.5], [4.1], [4.5], [3.9], [4.8], [4.0], [4.9], [4.7], [4.3], [4.4], [4.8], [5.0], [4.5], [3.5], [3.8], [3.7], [3.9], [5.1], [4.5], [4.5], [4.7], [4.4], [4.1], [4.0], [4.4], [4.6], [4.0], [3.3], [4.2], [4.2], [4.2], [4.3], [3.0], [4.1]], \"hovertemplate\": \"species=versicolor<br>sepal_length=%{x}<br>sepal_width=%{y}<br>petal_width=%{marker.size}<br>petal_length=%{customdata[0]}<extra></extra>\", \"legendgroup\": \"versicolor\", \"marker\": {\"color\": \"#EF553B\", \"size\": [1.4, 1.5, 1.5, 1.3, 1.5, 1.3, 1.6, 1.0, 1.3, 1.4, 1.0, 1.5, 1.0, 1.4, 1.3, 1.4, 1.5, 1.0, 1.5, 1.1, 1.8, 1.3, 1.5, 1.2, 1.3, 1.4, 1.4, 1.7, 1.5, 1.0, 1.1, 1.0, 1.2, 1.6, 1.5, 1.6, 1.5, 1.3, 1.3, 1.3, 1.2, 1.4, 1.2, 1.0, 1.3, 1.2, 1.3, 1.3, 1.1, 1.3], \"sizemode\": \"area\", \"sizeref\": 0.00625, \"symbol\": \"circle\"}, \"mode\": \"markers\", \"name\": \"versicolor\", \"orientation\": \"v\", \"showlegend\": true, \"type\": \"scatter\", \"x\": [7.0, 6.4, 6.9, 5.5, 6.5, 5.7, 6.3, 4.9, 6.6, 5.2, 5.0, 5.9, 6.0, 6.1, 5.6, 6.7, 5.6, 5.8, 6.2, 5.6, 5.9, 6.1, 6.3, 6.1, 6.4, 6.6, 6.8, 6.7, 6.0, 5.7, 5.5, 5.5, 5.8, 6.0, 5.4, 6.0, 6.7, 6.3, 5.6, 5.5, 5.5, 6.1, 5.8, 5.0, 5.6, 5.7, 5.7, 6.2, 5.1, 5.7], \"xaxis\": \"x\", \"y\": [3.2, 3.2, 3.1, 2.3, 2.8, 2.8, 3.3, 2.4, 2.9, 2.7, 2.0, 3.0, 2.2, 2.9, 2.9, 3.1, 3.0, 2.7, 2.2, 2.5, 3.2, 2.8, 2.5, 2.8, 2.9, 3.0, 2.8, 3.0, 2.9, 2.6, 2.4, 2.4, 2.7, 2.7, 3.0, 3.4, 3.1, 2.3, 3.0, 2.5, 2.6, 3.0, 2.6, 2.3, 2.7, 3.0, 2.9, 2.9, 2.5, 2.8], \"yaxis\": \"y\"}, {\"customdata\": [[6.0], [5.1], [5.9], [5.6], [5.8], [6.6], [4.5], [6.3], [5.8], [6.1], [5.1], [5.3], [5.5], [5.0], [5.1], [5.3], [5.5], [6.7], [6.9], [5.0], [5.7], [4.9], [6.7], [4.9], [5.7], [6.0], [4.8], [4.9], [5.6], [5.8], [6.1], [6.4], [5.6], [5.1], [5.6], [6.1], [5.6], [5.5], [4.8], [5.4], [5.6], [5.1], [5.1], [5.9], [5.7], [5.2], [5.0], [5.2], [5.4], [5.1]], \"hovertemplate\": \"species=virginica<br>sepal_length=%{x}<br>sepal_width=%{y}<br>petal_width=%{marker.size}<br>petal_length=%{customdata[0]}<extra></extra>\", \"legendgroup\": \"virginica\", \"marker\": {\"color\": \"#00cc96\", \"size\": [2.5, 1.9, 2.1, 1.8, 2.2, 2.1, 1.7, 1.8, 1.8, 2.5, 2.0, 1.9, 2.1, 2.0, 2.4, 2.3, 1.8, 2.2, 2.3, 1.5, 2.3, 2.0, 2.0, 1.8, 2.1, 1.8, 1.8, 1.8, 2.1, 1.6, 1.9, 2.0, 2.2, 1.5, 1.4, 2.3, 2.4, 1.8, 1.8, 2.1, 2.4, 2.3, 1.9, 2.3, 2.5, 2.3, 1.9, 2.0, 2.3, 1.8], \"sizemode\": \"area\", \"sizeref\": 0.00625, \"symbol\": \"circle\"}, \"mode\": \"markers\", \"name\": \"virginica\", \"orientation\": \"v\", \"showlegend\": true, \"type\": \"scatter\", \"x\": [6.3, 5.8, 7.1, 6.3, 6.5, 7.6, 4.9, 7.3, 6.7, 7.2, 6.5, 6.4, 6.8, 5.7, 5.8, 6.4, 6.5, 7.7, 7.7, 6.0, 6.9, 5.6, 7.7, 6.3, 6.7, 7.2, 6.2, 6.1, 6.4, 7.2, 7.4, 7.9, 6.4, 6.3, 6.1, 7.7, 6.3, 6.4, 6.0, 6.9, 6.7, 6.9, 5.8, 6.8, 6.7, 6.7, 6.3, 6.5, 6.2, 5.9], \"xaxis\": \"x\", \"y\": [3.3, 2.7, 3.0, 2.9, 3.0, 3.0, 2.5, 2.9, 2.5, 3.6, 3.2, 2.7, 3.0, 2.5, 2.8, 3.2, 3.0, 3.8, 2.6, 2.2, 3.2, 2.8, 2.8, 2.7, 3.3, 3.2, 2.8, 3.0, 2.8, 3.0, 2.8, 3.8, 2.8, 2.8, 2.6, 3.0, 3.4, 3.1, 3.0, 3.1, 3.1, 3.1, 2.7, 3.2, 3.3, 3.0, 2.5, 3.0, 3.4, 3.0], \"yaxis\": \"y\"}],                        {\"legend\": {\"itemsizing\": \"constant\", \"title\": {\"text\": \"species\"}, \"tracegroupgap\": 0}, \"margin\": {\"t\": 60}, \"template\": {\"data\": {\"bar\": [{\"error_x\": {\"color\": \"#2a3f5f\"}, \"error_y\": {\"color\": \"#2a3f5f\"}, \"marker\": {\"line\": {\"color\": \"#E5ECF6\", \"width\": 0.5}}, \"type\": \"bar\"}], \"barpolar\": [{\"marker\": {\"line\": {\"color\": \"#E5ECF6\", \"width\": 0.5}}, \"type\": \"barpolar\"}], \"carpet\": [{\"aaxis\": {\"endlinecolor\": \"#2a3f5f\", \"gridcolor\": \"white\", \"linecolor\": \"white\", \"minorgridcolor\": \"white\", \"startlinecolor\": \"#2a3f5f\"}, \"baxis\": {\"endlinecolor\": \"#2a3f5f\", \"gridcolor\": \"white\", \"linecolor\": \"white\", \"minorgridcolor\": \"white\", \"startlinecolor\": \"#2a3f5f\"}, \"type\": \"carpet\"}], \"choropleth\": [{\"colorbar\": {\"outlinewidth\": 0, \"ticks\": \"\"}, \"type\": \"choropleth\"}], \"contour\": [{\"colorbar\": {\"outlinewidth\": 0, \"ticks\": \"\"}, \"colorscale\": [[0.0, \"#0d0887\"], [0.1111111111111111, \"#46039f\"], [0.2222222222222222, \"#7201a8\"], [0.3333333333333333, \"#9c179e\"], [0.4444444444444444, \"#bd3786\"], [0.5555555555555556, \"#d8576b\"], [0.6666666666666666, \"#ed7953\"], [0.7777777777777778, \"#fb9f3a\"], [0.8888888888888888, \"#fdca26\"], [1.0, \"#f0f921\"]], \"type\": \"contour\"}], \"contourcarpet\": [{\"colorbar\": {\"outlinewidth\": 0, \"ticks\": \"\"}, \"type\": \"contourcarpet\"}], \"heatmap\": [{\"colorbar\": {\"outlinewidth\": 0, \"ticks\": \"\"}, \"colorscale\": [[0.0, \"#0d0887\"], [0.1111111111111111, \"#46039f\"], [0.2222222222222222, \"#7201a8\"], [0.3333333333333333, \"#9c179e\"], [0.4444444444444444, \"#bd3786\"], [0.5555555555555556, \"#d8576b\"], [0.6666666666666666, \"#ed7953\"], [0.7777777777777778, \"#fb9f3a\"], [0.8888888888888888, \"#fdca26\"], [1.0, \"#f0f921\"]], \"type\": \"heatmap\"}], \"heatmapgl\": [{\"colorbar\": {\"outlinewidth\": 0, \"ticks\": \"\"}, \"colorscale\": [[0.0, \"#0d0887\"], [0.1111111111111111, \"#46039f\"], [0.2222222222222222, \"#7201a8\"], [0.3333333333333333, \"#9c179e\"], [0.4444444444444444, \"#bd3786\"], [0.5555555555555556, \"#d8576b\"], [0.6666666666666666, \"#ed7953\"], [0.7777777777777778, \"#fb9f3a\"], [0.8888888888888888, \"#fdca26\"], [1.0, \"#f0f921\"]], \"type\": \"heatmapgl\"}], \"histogram\": [{\"marker\": {\"colorbar\": {\"outlinewidth\": 0, \"ticks\": \"\"}}, \"type\": \"histogram\"}], \"histogram2d\": [{\"colorbar\": {\"outlinewidth\": 0, \"ticks\": \"\"}, \"colorscale\": [[0.0, \"#0d0887\"], [0.1111111111111111, \"#46039f\"], [0.2222222222222222, \"#7201a8\"], [0.3333333333333333, \"#9c179e\"], [0.4444444444444444, \"#bd3786\"], [0.5555555555555556, \"#d8576b\"], [0.6666666666666666, \"#ed7953\"], [0.7777777777777778, \"#fb9f3a\"], [0.8888888888888888, \"#fdca26\"], [1.0, \"#f0f921\"]], \"type\": \"histogram2d\"}], \"histogram2dcontour\": [{\"colorbar\": {\"outlinewidth\": 0, \"ticks\": \"\"}, \"colorscale\": [[0.0, \"#0d0887\"], [0.1111111111111111, \"#46039f\"], [0.2222222222222222, \"#7201a8\"], [0.3333333333333333, \"#9c179e\"], [0.4444444444444444, \"#bd3786\"], [0.5555555555555556, \"#d8576b\"], [0.6666666666666666, \"#ed7953\"], [0.7777777777777778, \"#fb9f3a\"], [0.8888888888888888, \"#fdca26\"], [1.0, \"#f0f921\"]], \"type\": \"histogram2dcontour\"}], \"mesh3d\": [{\"colorbar\": {\"outlinewidth\": 0, \"ticks\": \"\"}, \"type\": \"mesh3d\"}], \"parcoords\": [{\"line\": {\"colorbar\": {\"outlinewidth\": 0, \"ticks\": \"\"}}, \"type\": \"parcoords\"}], \"pie\": [{\"automargin\": true, \"type\": \"pie\"}], \"scatter\": [{\"marker\": {\"colorbar\": {\"outlinewidth\": 0, \"ticks\": \"\"}}, \"type\": \"scatter\"}], \"scatter3d\": [{\"line\": {\"colorbar\": {\"outlinewidth\": 0, \"ticks\": \"\"}}, \"marker\": {\"colorbar\": {\"outlinewidth\": 0, \"ticks\": \"\"}}, \"type\": \"scatter3d\"}], \"scattercarpet\": [{\"marker\": {\"colorbar\": {\"outlinewidth\": 0, \"ticks\": \"\"}}, \"type\": \"scattercarpet\"}], \"scattergeo\": [{\"marker\": {\"colorbar\": {\"outlinewidth\": 0, \"ticks\": \"\"}}, \"type\": \"scattergeo\"}], \"scattergl\": [{\"marker\": {\"colorbar\": {\"outlinewidth\": 0, \"ticks\": \"\"}}, \"type\": \"scattergl\"}], \"scattermapbox\": [{\"marker\": {\"colorbar\": {\"outlinewidth\": 0, \"ticks\": \"\"}}, \"type\": \"scattermapbox\"}], \"scatterpolar\": [{\"marker\": {\"colorbar\": {\"outlinewidth\": 0, \"ticks\": \"\"}}, \"type\": \"scatterpolar\"}], \"scatterpolargl\": [{\"marker\": {\"colorbar\": {\"outlinewidth\": 0, \"ticks\": \"\"}}, \"type\": \"scatterpolargl\"}], \"scatterternary\": [{\"marker\": {\"colorbar\": {\"outlinewidth\": 0, \"ticks\": \"\"}}, \"type\": \"scatterternary\"}], \"surface\": [{\"colorbar\": {\"outlinewidth\": 0, \"ticks\": \"\"}, \"colorscale\": [[0.0, \"#0d0887\"], [0.1111111111111111, \"#46039f\"], [0.2222222222222222, \"#7201a8\"], [0.3333333333333333, \"#9c179e\"], [0.4444444444444444, \"#bd3786\"], [0.5555555555555556, \"#d8576b\"], [0.6666666666666666, \"#ed7953\"], [0.7777777777777778, \"#fb9f3a\"], [0.8888888888888888, \"#fdca26\"], [1.0, \"#f0f921\"]], \"type\": \"surface\"}], \"table\": [{\"cells\": {\"fill\": {\"color\": \"#EBF0F8\"}, \"line\": {\"color\": \"white\"}}, \"header\": {\"fill\": {\"color\": \"#C8D4E3\"}, \"line\": {\"color\": \"white\"}}, \"type\": \"table\"}]}, \"layout\": {\"annotationdefaults\": {\"arrowcolor\": \"#2a3f5f\", \"arrowhead\": 0, \"arrowwidth\": 1}, \"coloraxis\": {\"colorbar\": {\"outlinewidth\": 0, \"ticks\": \"\"}}, \"colorscale\": {\"diverging\": [[0, \"#8e0152\"], [0.1, \"#c51b7d\"], [0.2, \"#de77ae\"], [0.3, \"#f1b6da\"], [0.4, \"#fde0ef\"], [0.5, \"#f7f7f7\"], [0.6, \"#e6f5d0\"], [0.7, \"#b8e186\"], [0.8, \"#7fbc41\"], [0.9, \"#4d9221\"], [1, \"#276419\"]], \"sequential\": [[0.0, \"#0d0887\"], [0.1111111111111111, \"#46039f\"], [0.2222222222222222, \"#7201a8\"], [0.3333333333333333, \"#9c179e\"], [0.4444444444444444, \"#bd3786\"], [0.5555555555555556, \"#d8576b\"], [0.6666666666666666, \"#ed7953\"], [0.7777777777777778, \"#fb9f3a\"], [0.8888888888888888, \"#fdca26\"], [1.0, \"#f0f921\"]], \"sequentialminus\": [[0.0, \"#0d0887\"], [0.1111111111111111, \"#46039f\"], [0.2222222222222222, \"#7201a8\"], [0.3333333333333333, \"#9c179e\"], [0.4444444444444444, \"#bd3786\"], [0.5555555555555556, \"#d8576b\"], [0.6666666666666666, \"#ed7953\"], [0.7777777777777778, \"#fb9f3a\"], [0.8888888888888888, \"#fdca26\"], [1.0, \"#f0f921\"]]}, \"colorway\": [\"#636efa\", \"#EF553B\", \"#00cc96\", \"#ab63fa\", \"#FFA15A\", \"#19d3f3\", \"#FF6692\", \"#B6E880\", \"#FF97FF\", \"#FECB52\"], \"font\": {\"color\": \"#2a3f5f\"}, \"geo\": {\"bgcolor\": \"white\", \"lakecolor\": \"white\", \"landcolor\": \"#E5ECF6\", \"showlakes\": true, \"showland\": true, \"subunitcolor\": \"white\"}, \"hoverlabel\": {\"align\": \"left\"}, \"hovermode\": \"closest\", \"mapbox\": {\"style\": \"light\"}, \"paper_bgcolor\": \"white\", \"plot_bgcolor\": \"#E5ECF6\", \"polar\": {\"angularaxis\": {\"gridcolor\": \"white\", \"linecolor\": \"white\", \"ticks\": \"\"}, \"bgcolor\": \"#E5ECF6\", \"radialaxis\": {\"gridcolor\": \"white\", \"linecolor\": \"white\", \"ticks\": \"\"}}, \"scene\": {\"xaxis\": {\"backgroundcolor\": \"#E5ECF6\", \"gridcolor\": \"white\", \"gridwidth\": 2, \"linecolor\": \"white\", \"showbackground\": true, \"ticks\": \"\", \"zerolinecolor\": \"white\"}, \"yaxis\": {\"backgroundcolor\": \"#E5ECF6\", \"gridcolor\": \"white\", \"gridwidth\": 2, \"linecolor\": \"white\", \"showbackground\": true, \"ticks\": \"\", \"zerolinecolor\": \"white\"}, \"zaxis\": {\"backgroundcolor\": \"#E5ECF6\", \"gridcolor\": \"white\", \"gridwidth\": 2, \"linecolor\": \"white\", \"showbackground\": true, \"ticks\": \"\", \"zerolinecolor\": \"white\"}}, \"shapedefaults\": {\"line\": {\"color\": \"#2a3f5f\"}}, \"ternary\": {\"aaxis\": {\"gridcolor\": \"white\", \"linecolor\": \"white\", \"ticks\": \"\"}, \"baxis\": {\"gridcolor\": \"white\", \"linecolor\": \"white\", \"ticks\": \"\"}, \"bgcolor\": \"#E5ECF6\", \"caxis\": {\"gridcolor\": \"white\", \"linecolor\": \"white\", \"ticks\": \"\"}}, \"title\": {\"x\": 0.05}, \"xaxis\": {\"automargin\": true, \"gridcolor\": \"white\", \"linecolor\": \"white\", \"ticks\": \"\", \"title\": {\"standoff\": 15}, \"zerolinecolor\": \"white\", \"zerolinewidth\": 2}, \"yaxis\": {\"automargin\": true, \"gridcolor\": \"white\", \"linecolor\": \"white\", \"ticks\": \"\", \"title\": {\"standoff\": 15}, \"zerolinecolor\": \"white\", \"zerolinewidth\": 2}}}, \"xaxis\": {\"anchor\": \"y\", \"domain\": [0.0, 1.0], \"title\": {\"text\": \"sepal_length\"}}, \"yaxis\": {\"anchor\": \"x\", \"domain\": [0.0, 1.0], \"title\": {\"text\": \"sepal_width\"}}},                        {\"responsive\": true}                    ).then(function(){\n",
       "                            \n",
       "var gd = document.getElementById('4a048c29-b0c0-49fb-8df0-792843564099');\n",
       "var x = new MutationObserver(function (mutations, observer) {{\n",
       "        var display = window.getComputedStyle(gd).display;\n",
       "        if (!display || display === 'none') {{\n",
       "            console.log([gd, 'removed!']);\n",
       "            Plotly.purge(gd);\n",
       "            observer.disconnect();\n",
       "        }}\n",
       "}});\n",
       "\n",
       "// Listen for the removal of the full notebook cells\n",
       "var notebookContainer = gd.closest('#notebook-container');\n",
       "if (notebookContainer) {{\n",
       "    x.observe(notebookContainer, {childList: true});\n",
       "}}\n",
       "\n",
       "// Listen for the clearing of the current output cell\n",
       "var outputEl = gd.closest('.output');\n",
       "if (outputEl) {{\n",
       "    x.observe(outputEl, {childList: true});\n",
       "}}\n",
       "\n",
       "                        })                };                });            </script>        </div>"
      ]
     },
     "metadata": {},
     "output_type": "display_data"
    }
   ],
   "source": [
    "iris = px.data.iris()\n",
    "fig = px.scatter(iris, x = 'sepal_length', y = 'sepal_width', color = 'species',hover_data = ['petal_length'], \n",
    "           size = 'petal_width')\n",
    "fig.show()"
   ]
  },
  {
   "cell_type": "code",
   "execution_count": 4,
   "metadata": {},
   "outputs": [
    {
     "data": {
      "text/plain": [
       "{'data': [{'customdata': array([[1.4],\n",
       "          [1.4],\n",
       "          [1.3],\n",
       "          [1.5],\n",
       "          [1.4],\n",
       "          [1.7],\n",
       "          [1.4],\n",
       "          [1.5],\n",
       "          [1.4],\n",
       "          [1.5],\n",
       "          [1.5],\n",
       "          [1.6],\n",
       "          [1.4],\n",
       "          [1.1],\n",
       "          [1.2],\n",
       "          [1.5],\n",
       "          [1.3],\n",
       "          [1.4],\n",
       "          [1.7],\n",
       "          [1.5],\n",
       "          [1.7],\n",
       "          [1.5],\n",
       "          [1. ],\n",
       "          [1.7],\n",
       "          [1.9],\n",
       "          [1.6],\n",
       "          [1.6],\n",
       "          [1.5],\n",
       "          [1.4],\n",
       "          [1.6],\n",
       "          [1.6],\n",
       "          [1.5],\n",
       "          [1.5],\n",
       "          [1.4],\n",
       "          [1.5],\n",
       "          [1.2],\n",
       "          [1.3],\n",
       "          [1.5],\n",
       "          [1.3],\n",
       "          [1.5],\n",
       "          [1.3],\n",
       "          [1.3],\n",
       "          [1.3],\n",
       "          [1.6],\n",
       "          [1.9],\n",
       "          [1.4],\n",
       "          [1.6],\n",
       "          [1.4],\n",
       "          [1.5],\n",
       "          [1.4]]),\n",
       "   'hovertemplate': 'species=setosa<br>sepal_length=%{x}<br>sepal_width=%{y}<br>petal_width=%{marker.size}<br>petal_length=%{customdata[0]}<extra></extra>',\n",
       "   'legendgroup': 'setosa',\n",
       "   'marker': {'color': '#636efa',\n",
       "    'size': array([0.2, 0.2, 0.2, 0.2, 0.2, 0.4, 0.3, 0.2, 0.2, 0.1, 0.2, 0.2, 0.1,\n",
       "           0.1, 0.2, 0.4, 0.4, 0.3, 0.3, 0.3, 0.2, 0.4, 0.2, 0.5, 0.2, 0.2,\n",
       "           0.4, 0.2, 0.2, 0.2, 0.2, 0.4, 0.1, 0.2, 0.1, 0.2, 0.2, 0.1, 0.2,\n",
       "           0.2, 0.3, 0.3, 0.2, 0.6, 0.4, 0.3, 0.2, 0.2, 0.2, 0.2]),\n",
       "    'sizemode': 'area',\n",
       "    'sizeref': 0.00625,\n",
       "    'symbol': 'circle'},\n",
       "   'mode': 'markers',\n",
       "   'name': 'setosa',\n",
       "   'orientation': 'v',\n",
       "   'showlegend': True,\n",
       "   'x': array([5.1, 4.9, 4.7, 4.6, 5. , 5.4, 4.6, 5. , 4.4, 4.9, 5.4, 4.8, 4.8,\n",
       "          4.3, 5.8, 5.7, 5.4, 5.1, 5.7, 5.1, 5.4, 5.1, 4.6, 5.1, 4.8, 5. ,\n",
       "          5. , 5.2, 5.2, 4.7, 4.8, 5.4, 5.2, 5.5, 4.9, 5. , 5.5, 4.9, 4.4,\n",
       "          5.1, 5. , 4.5, 4.4, 5. , 5.1, 4.8, 5.1, 4.6, 5.3, 5. ]),\n",
       "   'xaxis': 'x',\n",
       "   'y': array([3.5, 3. , 3.2, 3.1, 3.6, 3.9, 3.4, 3.4, 2.9, 3.1, 3.7, 3.4, 3. ,\n",
       "          3. , 4. , 4.4, 3.9, 3.5, 3.8, 3.8, 3.4, 3.7, 3.6, 3.3, 3.4, 3. ,\n",
       "          3.4, 3.5, 3.4, 3.2, 3.1, 3.4, 4.1, 4.2, 3.1, 3.2, 3.5, 3.1, 3. ,\n",
       "          3.4, 3.5, 2.3, 3.2, 3.5, 3.8, 3. , 3.8, 3.2, 3.7, 3.3]),\n",
       "   'yaxis': 'y',\n",
       "   'type': 'scatter'},\n",
       "  {'customdata': array([[4.7],\n",
       "          [4.5],\n",
       "          [4.9],\n",
       "          [4. ],\n",
       "          [4.6],\n",
       "          [4.5],\n",
       "          [4.7],\n",
       "          [3.3],\n",
       "          [4.6],\n",
       "          [3.9],\n",
       "          [3.5],\n",
       "          [4.2],\n",
       "          [4. ],\n",
       "          [4.7],\n",
       "          [3.6],\n",
       "          [4.4],\n",
       "          [4.5],\n",
       "          [4.1],\n",
       "          [4.5],\n",
       "          [3.9],\n",
       "          [4.8],\n",
       "          [4. ],\n",
       "          [4.9],\n",
       "          [4.7],\n",
       "          [4.3],\n",
       "          [4.4],\n",
       "          [4.8],\n",
       "          [5. ],\n",
       "          [4.5],\n",
       "          [3.5],\n",
       "          [3.8],\n",
       "          [3.7],\n",
       "          [3.9],\n",
       "          [5.1],\n",
       "          [4.5],\n",
       "          [4.5],\n",
       "          [4.7],\n",
       "          [4.4],\n",
       "          [4.1],\n",
       "          [4. ],\n",
       "          [4.4],\n",
       "          [4.6],\n",
       "          [4. ],\n",
       "          [3.3],\n",
       "          [4.2],\n",
       "          [4.2],\n",
       "          [4.2],\n",
       "          [4.3],\n",
       "          [3. ],\n",
       "          [4.1]]),\n",
       "   'hovertemplate': 'species=versicolor<br>sepal_length=%{x}<br>sepal_width=%{y}<br>petal_width=%{marker.size}<br>petal_length=%{customdata[0]}<extra></extra>',\n",
       "   'legendgroup': 'versicolor',\n",
       "   'marker': {'color': '#EF553B',\n",
       "    'size': array([1.4, 1.5, 1.5, 1.3, 1.5, 1.3, 1.6, 1. , 1.3, 1.4, 1. , 1.5, 1. ,\n",
       "           1.4, 1.3, 1.4, 1.5, 1. , 1.5, 1.1, 1.8, 1.3, 1.5, 1.2, 1.3, 1.4,\n",
       "           1.4, 1.7, 1.5, 1. , 1.1, 1. , 1.2, 1.6, 1.5, 1.6, 1.5, 1.3, 1.3,\n",
       "           1.3, 1.2, 1.4, 1.2, 1. , 1.3, 1.2, 1.3, 1.3, 1.1, 1.3]),\n",
       "    'sizemode': 'area',\n",
       "    'sizeref': 0.00625,\n",
       "    'symbol': 'circle'},\n",
       "   'mode': 'markers',\n",
       "   'name': 'versicolor',\n",
       "   'orientation': 'v',\n",
       "   'showlegend': True,\n",
       "   'x': array([7. , 6.4, 6.9, 5.5, 6.5, 5.7, 6.3, 4.9, 6.6, 5.2, 5. , 5.9, 6. ,\n",
       "          6.1, 5.6, 6.7, 5.6, 5.8, 6.2, 5.6, 5.9, 6.1, 6.3, 6.1, 6.4, 6.6,\n",
       "          6.8, 6.7, 6. , 5.7, 5.5, 5.5, 5.8, 6. , 5.4, 6. , 6.7, 6.3, 5.6,\n",
       "          5.5, 5.5, 6.1, 5.8, 5. , 5.6, 5.7, 5.7, 6.2, 5.1, 5.7]),\n",
       "   'xaxis': 'x',\n",
       "   'y': array([3.2, 3.2, 3.1, 2.3, 2.8, 2.8, 3.3, 2.4, 2.9, 2.7, 2. , 3. , 2.2,\n",
       "          2.9, 2.9, 3.1, 3. , 2.7, 2.2, 2.5, 3.2, 2.8, 2.5, 2.8, 2.9, 3. ,\n",
       "          2.8, 3. , 2.9, 2.6, 2.4, 2.4, 2.7, 2.7, 3. , 3.4, 3.1, 2.3, 3. ,\n",
       "          2.5, 2.6, 3. , 2.6, 2.3, 2.7, 3. , 2.9, 2.9, 2.5, 2.8]),\n",
       "   'yaxis': 'y',\n",
       "   'type': 'scatter'},\n",
       "  {'customdata': array([[6. ],\n",
       "          [5.1],\n",
       "          [5.9],\n",
       "          [5.6],\n",
       "          [5.8],\n",
       "          [6.6],\n",
       "          [4.5],\n",
       "          [6.3],\n",
       "          [5.8],\n",
       "          [6.1],\n",
       "          [5.1],\n",
       "          [5.3],\n",
       "          [5.5],\n",
       "          [5. ],\n",
       "          [5.1],\n",
       "          [5.3],\n",
       "          [5.5],\n",
       "          [6.7],\n",
       "          [6.9],\n",
       "          [5. ],\n",
       "          [5.7],\n",
       "          [4.9],\n",
       "          [6.7],\n",
       "          [4.9],\n",
       "          [5.7],\n",
       "          [6. ],\n",
       "          [4.8],\n",
       "          [4.9],\n",
       "          [5.6],\n",
       "          [5.8],\n",
       "          [6.1],\n",
       "          [6.4],\n",
       "          [5.6],\n",
       "          [5.1],\n",
       "          [5.6],\n",
       "          [6.1],\n",
       "          [5.6],\n",
       "          [5.5],\n",
       "          [4.8],\n",
       "          [5.4],\n",
       "          [5.6],\n",
       "          [5.1],\n",
       "          [5.1],\n",
       "          [5.9],\n",
       "          [5.7],\n",
       "          [5.2],\n",
       "          [5. ],\n",
       "          [5.2],\n",
       "          [5.4],\n",
       "          [5.1]]),\n",
       "   'hovertemplate': 'species=virginica<br>sepal_length=%{x}<br>sepal_width=%{y}<br>petal_width=%{marker.size}<br>petal_length=%{customdata[0]}<extra></extra>',\n",
       "   'legendgroup': 'virginica',\n",
       "   'marker': {'color': '#00cc96',\n",
       "    'size': array([2.5, 1.9, 2.1, 1.8, 2.2, 2.1, 1.7, 1.8, 1.8, 2.5, 2. , 1.9, 2.1,\n",
       "           2. , 2.4, 2.3, 1.8, 2.2, 2.3, 1.5, 2.3, 2. , 2. , 1.8, 2.1, 1.8,\n",
       "           1.8, 1.8, 2.1, 1.6, 1.9, 2. , 2.2, 1.5, 1.4, 2.3, 2.4, 1.8, 1.8,\n",
       "           2.1, 2.4, 2.3, 1.9, 2.3, 2.5, 2.3, 1.9, 2. , 2.3, 1.8]),\n",
       "    'sizemode': 'area',\n",
       "    'sizeref': 0.00625,\n",
       "    'symbol': 'circle'},\n",
       "   'mode': 'markers',\n",
       "   'name': 'virginica',\n",
       "   'orientation': 'v',\n",
       "   'showlegend': True,\n",
       "   'x': array([6.3, 5.8, 7.1, 6.3, 6.5, 7.6, 4.9, 7.3, 6.7, 7.2, 6.5, 6.4, 6.8,\n",
       "          5.7, 5.8, 6.4, 6.5, 7.7, 7.7, 6. , 6.9, 5.6, 7.7, 6.3, 6.7, 7.2,\n",
       "          6.2, 6.1, 6.4, 7.2, 7.4, 7.9, 6.4, 6.3, 6.1, 7.7, 6.3, 6.4, 6. ,\n",
       "          6.9, 6.7, 6.9, 5.8, 6.8, 6.7, 6.7, 6.3, 6.5, 6.2, 5.9]),\n",
       "   'xaxis': 'x',\n",
       "   'y': array([3.3, 2.7, 3. , 2.9, 3. , 3. , 2.5, 2.9, 2.5, 3.6, 3.2, 2.7, 3. ,\n",
       "          2.5, 2.8, 3.2, 3. , 3.8, 2.6, 2.2, 3.2, 2.8, 2.8, 2.7, 3.3, 3.2,\n",
       "          2.8, 3. , 2.8, 3. , 2.8, 3.8, 2.8, 2.8, 2.6, 3. , 3.4, 3.1, 3. ,\n",
       "          3.1, 3.1, 3.1, 2.7, 3.2, 3.3, 3. , 2.5, 3. , 3.4, 3. ]),\n",
       "   'yaxis': 'y',\n",
       "   'type': 'scatter'}],\n",
       " 'layout': {'xaxis': {'anchor': 'y',\n",
       "   'domain': [0.0, 1.0],\n",
       "   'title': {'text': 'sepal_length'}},\n",
       "  'yaxis': {'anchor': 'x',\n",
       "   'domain': [0.0, 1.0],\n",
       "   'title': {'text': 'sepal_width'}},\n",
       "  'template': {'data': {'histogram2dcontour': [{'type': 'histogram2dcontour',\n",
       "      'colorbar': {'outlinewidth': 0, 'ticks': ''},\n",
       "      'colorscale': [[0.0, '#0d0887'],\n",
       "       [0.1111111111111111, '#46039f'],\n",
       "       [0.2222222222222222, '#7201a8'],\n",
       "       [0.3333333333333333, '#9c179e'],\n",
       "       [0.4444444444444444, '#bd3786'],\n",
       "       [0.5555555555555556, '#d8576b'],\n",
       "       [0.6666666666666666, '#ed7953'],\n",
       "       [0.7777777777777778, '#fb9f3a'],\n",
       "       [0.8888888888888888, '#fdca26'],\n",
       "       [1.0, '#f0f921']]}],\n",
       "    'choropleth': [{'type': 'choropleth',\n",
       "      'colorbar': {'outlinewidth': 0, 'ticks': ''}}],\n",
       "    'histogram2d': [{'type': 'histogram2d',\n",
       "      'colorbar': {'outlinewidth': 0, 'ticks': ''},\n",
       "      'colorscale': [[0.0, '#0d0887'],\n",
       "       [0.1111111111111111, '#46039f'],\n",
       "       [0.2222222222222222, '#7201a8'],\n",
       "       [0.3333333333333333, '#9c179e'],\n",
       "       [0.4444444444444444, '#bd3786'],\n",
       "       [0.5555555555555556, '#d8576b'],\n",
       "       [0.6666666666666666, '#ed7953'],\n",
       "       [0.7777777777777778, '#fb9f3a'],\n",
       "       [0.8888888888888888, '#fdca26'],\n",
       "       [1.0, '#f0f921']]}],\n",
       "    'heatmap': [{'type': 'heatmap',\n",
       "      'colorbar': {'outlinewidth': 0, 'ticks': ''},\n",
       "      'colorscale': [[0.0, '#0d0887'],\n",
       "       [0.1111111111111111, '#46039f'],\n",
       "       [0.2222222222222222, '#7201a8'],\n",
       "       [0.3333333333333333, '#9c179e'],\n",
       "       [0.4444444444444444, '#bd3786'],\n",
       "       [0.5555555555555556, '#d8576b'],\n",
       "       [0.6666666666666666, '#ed7953'],\n",
       "       [0.7777777777777778, '#fb9f3a'],\n",
       "       [0.8888888888888888, '#fdca26'],\n",
       "       [1.0, '#f0f921']]}],\n",
       "    'heatmapgl': [{'type': 'heatmapgl',\n",
       "      'colorbar': {'outlinewidth': 0, 'ticks': ''},\n",
       "      'colorscale': [[0.0, '#0d0887'],\n",
       "       [0.1111111111111111, '#46039f'],\n",
       "       [0.2222222222222222, '#7201a8'],\n",
       "       [0.3333333333333333, '#9c179e'],\n",
       "       [0.4444444444444444, '#bd3786'],\n",
       "       [0.5555555555555556, '#d8576b'],\n",
       "       [0.6666666666666666, '#ed7953'],\n",
       "       [0.7777777777777778, '#fb9f3a'],\n",
       "       [0.8888888888888888, '#fdca26'],\n",
       "       [1.0, '#f0f921']]}],\n",
       "    'contourcarpet': [{'type': 'contourcarpet',\n",
       "      'colorbar': {'outlinewidth': 0, 'ticks': ''}}],\n",
       "    'contour': [{'type': 'contour',\n",
       "      'colorbar': {'outlinewidth': 0, 'ticks': ''},\n",
       "      'colorscale': [[0.0, '#0d0887'],\n",
       "       [0.1111111111111111, '#46039f'],\n",
       "       [0.2222222222222222, '#7201a8'],\n",
       "       [0.3333333333333333, '#9c179e'],\n",
       "       [0.4444444444444444, '#bd3786'],\n",
       "       [0.5555555555555556, '#d8576b'],\n",
       "       [0.6666666666666666, '#ed7953'],\n",
       "       [0.7777777777777778, '#fb9f3a'],\n",
       "       [0.8888888888888888, '#fdca26'],\n",
       "       [1.0, '#f0f921']]}],\n",
       "    'surface': [{'type': 'surface',\n",
       "      'colorbar': {'outlinewidth': 0, 'ticks': ''},\n",
       "      'colorscale': [[0.0, '#0d0887'],\n",
       "       [0.1111111111111111, '#46039f'],\n",
       "       [0.2222222222222222, '#7201a8'],\n",
       "       [0.3333333333333333, '#9c179e'],\n",
       "       [0.4444444444444444, '#bd3786'],\n",
       "       [0.5555555555555556, '#d8576b'],\n",
       "       [0.6666666666666666, '#ed7953'],\n",
       "       [0.7777777777777778, '#fb9f3a'],\n",
       "       [0.8888888888888888, '#fdca26'],\n",
       "       [1.0, '#f0f921']]}],\n",
       "    'mesh3d': [{'type': 'mesh3d',\n",
       "      'colorbar': {'outlinewidth': 0, 'ticks': ''}}],\n",
       "    'scatter': [{'type': 'scatter',\n",
       "      'marker': {'colorbar': {'outlinewidth': 0, 'ticks': ''}}}],\n",
       "    'parcoords': [{'type': 'parcoords',\n",
       "      'line': {'colorbar': {'outlinewidth': 0, 'ticks': ''}}}],\n",
       "    'scatterpolargl': [{'type': 'scatterpolargl',\n",
       "      'marker': {'colorbar': {'outlinewidth': 0, 'ticks': ''}}}],\n",
       "    'bar': [{'error_x': {'color': '#2a3f5f'},\n",
       "      'error_y': {'color': '#2a3f5f'},\n",
       "      'marker': {'line': {'color': '#E5ECF6', 'width': 0.5}},\n",
       "      'type': 'bar'}],\n",
       "    'scattergeo': [{'type': 'scattergeo',\n",
       "      'marker': {'colorbar': {'outlinewidth': 0, 'ticks': ''}}}],\n",
       "    'scatterpolar': [{'type': 'scatterpolar',\n",
       "      'marker': {'colorbar': {'outlinewidth': 0, 'ticks': ''}}}],\n",
       "    'histogram': [{'type': 'histogram',\n",
       "      'marker': {'colorbar': {'outlinewidth': 0, 'ticks': ''}}}],\n",
       "    'scattergl': [{'type': 'scattergl',\n",
       "      'marker': {'colorbar': {'outlinewidth': 0, 'ticks': ''}}}],\n",
       "    'scatter3d': [{'type': 'scatter3d',\n",
       "      'line': {'colorbar': {'outlinewidth': 0, 'ticks': ''}},\n",
       "      'marker': {'colorbar': {'outlinewidth': 0, 'ticks': ''}}}],\n",
       "    'scattermapbox': [{'type': 'scattermapbox',\n",
       "      'marker': {'colorbar': {'outlinewidth': 0, 'ticks': ''}}}],\n",
       "    'scatterternary': [{'type': 'scatterternary',\n",
       "      'marker': {'colorbar': {'outlinewidth': 0, 'ticks': ''}}}],\n",
       "    'scattercarpet': [{'type': 'scattercarpet',\n",
       "      'marker': {'colorbar': {'outlinewidth': 0, 'ticks': ''}}}],\n",
       "    'carpet': [{'aaxis': {'endlinecolor': '#2a3f5f',\n",
       "       'gridcolor': 'white',\n",
       "       'linecolor': 'white',\n",
       "       'minorgridcolor': 'white',\n",
       "       'startlinecolor': '#2a3f5f'},\n",
       "      'baxis': {'endlinecolor': '#2a3f5f',\n",
       "       'gridcolor': 'white',\n",
       "       'linecolor': 'white',\n",
       "       'minorgridcolor': 'white',\n",
       "       'startlinecolor': '#2a3f5f'},\n",
       "      'type': 'carpet'}],\n",
       "    'table': [{'cells': {'fill': {'color': '#EBF0F8'},\n",
       "       'line': {'color': 'white'}},\n",
       "      'header': {'fill': {'color': '#C8D4E3'}, 'line': {'color': 'white'}},\n",
       "      'type': 'table'}],\n",
       "    'barpolar': [{'marker': {'line': {'color': '#E5ECF6', 'width': 0.5}},\n",
       "      'type': 'barpolar'}],\n",
       "    'pie': [{'automargin': True, 'type': 'pie'}]},\n",
       "   'layout': {'colorway': ['#636efa',\n",
       "     '#EF553B',\n",
       "     '#00cc96',\n",
       "     '#ab63fa',\n",
       "     '#FFA15A',\n",
       "     '#19d3f3',\n",
       "     '#FF6692',\n",
       "     '#B6E880',\n",
       "     '#FF97FF',\n",
       "     '#FECB52'],\n",
       "    'font': {'color': '#2a3f5f'},\n",
       "    'hovermode': 'closest',\n",
       "    'hoverlabel': {'align': 'left'},\n",
       "    'paper_bgcolor': 'white',\n",
       "    'plot_bgcolor': '#E5ECF6',\n",
       "    'polar': {'bgcolor': '#E5ECF6',\n",
       "     'angularaxis': {'gridcolor': 'white', 'linecolor': 'white', 'ticks': ''},\n",
       "     'radialaxis': {'gridcolor': 'white', 'linecolor': 'white', 'ticks': ''}},\n",
       "    'ternary': {'bgcolor': '#E5ECF6',\n",
       "     'aaxis': {'gridcolor': 'white', 'linecolor': 'white', 'ticks': ''},\n",
       "     'baxis': {'gridcolor': 'white', 'linecolor': 'white', 'ticks': ''},\n",
       "     'caxis': {'gridcolor': 'white', 'linecolor': 'white', 'ticks': ''}},\n",
       "    'coloraxis': {'colorbar': {'outlinewidth': 0, 'ticks': ''}},\n",
       "    'colorscale': {'sequential': [[0.0, '#0d0887'],\n",
       "      [0.1111111111111111, '#46039f'],\n",
       "      [0.2222222222222222, '#7201a8'],\n",
       "      [0.3333333333333333, '#9c179e'],\n",
       "      [0.4444444444444444, '#bd3786'],\n",
       "      [0.5555555555555556, '#d8576b'],\n",
       "      [0.6666666666666666, '#ed7953'],\n",
       "      [0.7777777777777778, '#fb9f3a'],\n",
       "      [0.8888888888888888, '#fdca26'],\n",
       "      [1.0, '#f0f921']],\n",
       "     'sequentialminus': [[0.0, '#0d0887'],\n",
       "      [0.1111111111111111, '#46039f'],\n",
       "      [0.2222222222222222, '#7201a8'],\n",
       "      [0.3333333333333333, '#9c179e'],\n",
       "      [0.4444444444444444, '#bd3786'],\n",
       "      [0.5555555555555556, '#d8576b'],\n",
       "      [0.6666666666666666, '#ed7953'],\n",
       "      [0.7777777777777778, '#fb9f3a'],\n",
       "      [0.8888888888888888, '#fdca26'],\n",
       "      [1.0, '#f0f921']],\n",
       "     'diverging': [[0, '#8e0152'],\n",
       "      [0.1, '#c51b7d'],\n",
       "      [0.2, '#de77ae'],\n",
       "      [0.3, '#f1b6da'],\n",
       "      [0.4, '#fde0ef'],\n",
       "      [0.5, '#f7f7f7'],\n",
       "      [0.6, '#e6f5d0'],\n",
       "      [0.7, '#b8e186'],\n",
       "      [0.8, '#7fbc41'],\n",
       "      [0.9, '#4d9221'],\n",
       "      [1, '#276419']]},\n",
       "    'xaxis': {'gridcolor': 'white',\n",
       "     'linecolor': 'white',\n",
       "     'ticks': '',\n",
       "     'title': {'standoff': 15},\n",
       "     'zerolinecolor': 'white',\n",
       "     'automargin': True,\n",
       "     'zerolinewidth': 2},\n",
       "    'yaxis': {'gridcolor': 'white',\n",
       "     'linecolor': 'white',\n",
       "     'ticks': '',\n",
       "     'title': {'standoff': 15},\n",
       "     'zerolinecolor': 'white',\n",
       "     'automargin': True,\n",
       "     'zerolinewidth': 2},\n",
       "    'scene': {'xaxis': {'backgroundcolor': '#E5ECF6',\n",
       "      'gridcolor': 'white',\n",
       "      'linecolor': 'white',\n",
       "      'showbackground': True,\n",
       "      'ticks': '',\n",
       "      'zerolinecolor': 'white',\n",
       "      'gridwidth': 2},\n",
       "     'yaxis': {'backgroundcolor': '#E5ECF6',\n",
       "      'gridcolor': 'white',\n",
       "      'linecolor': 'white',\n",
       "      'showbackground': True,\n",
       "      'ticks': '',\n",
       "      'zerolinecolor': 'white',\n",
       "      'gridwidth': 2},\n",
       "     'zaxis': {'backgroundcolor': '#E5ECF6',\n",
       "      'gridcolor': 'white',\n",
       "      'linecolor': 'white',\n",
       "      'showbackground': True,\n",
       "      'ticks': '',\n",
       "      'zerolinecolor': 'white',\n",
       "      'gridwidth': 2}},\n",
       "    'shapedefaults': {'line': {'color': '#2a3f5f'}},\n",
       "    'annotationdefaults': {'arrowcolor': '#2a3f5f',\n",
       "     'arrowhead': 0,\n",
       "     'arrowwidth': 1},\n",
       "    'geo': {'bgcolor': 'white',\n",
       "     'landcolor': '#E5ECF6',\n",
       "     'subunitcolor': 'white',\n",
       "     'showland': True,\n",
       "     'showlakes': True,\n",
       "     'lakecolor': 'white'},\n",
       "    'title': {'x': 0.05},\n",
       "    'mapbox': {'style': 'light'}}},\n",
       "  'legend': {'title': {'text': 'species'},\n",
       "   'tracegroupgap': 0,\n",
       "   'itemsizing': 'constant'},\n",
       "  'margin': {'t': 60}}}"
      ]
     },
     "execution_count": 4,
     "metadata": {},
     "output_type": "execute_result"
    }
   ],
   "source": [
    "fig.to_dict()"
   ]
  },
  {
   "cell_type": "code",
   "execution_count": null,
   "metadata": {},
   "outputs": [],
   "source": []
  },
  {
   "cell_type": "code",
   "execution_count": null,
   "metadata": {},
   "outputs": [],
   "source": []
  },
  {
   "cell_type": "code",
   "execution_count": null,
   "metadata": {},
   "outputs": [],
   "source": []
  },
  {
   "cell_type": "code",
   "execution_count": null,
   "metadata": {},
   "outputs": [],
   "source": []
  },
  {
   "cell_type": "code",
   "execution_count": null,
   "metadata": {},
   "outputs": [],
   "source": []
  },
  {
   "cell_type": "code",
   "execution_count": null,
   "metadata": {},
   "outputs": [],
   "source": []
  },
  {
   "cell_type": "code",
   "execution_count": null,
   "metadata": {},
   "outputs": [],
   "source": []
  },
  {
   "cell_type": "code",
   "execution_count": null,
   "metadata": {},
   "outputs": [],
   "source": []
  },
  {
   "cell_type": "code",
   "execution_count": null,
   "metadata": {},
   "outputs": [],
   "source": []
  }
 ],
 "metadata": {
  "kernelspec": {
   "display_name": "Python 3",
   "language": "python",
   "name": "python3"
  },
  "language_info": {
   "codemirror_mode": {
    "name": "ipython",
    "version": 3
   },
   "file_extension": ".py",
   "mimetype": "text/x-python",
   "name": "python",
   "nbconvert_exporter": "python",
   "pygments_lexer": "ipython3",
   "version": "3.7.1"
  }
 },
 "nbformat": 4,
 "nbformat_minor": 4
}
