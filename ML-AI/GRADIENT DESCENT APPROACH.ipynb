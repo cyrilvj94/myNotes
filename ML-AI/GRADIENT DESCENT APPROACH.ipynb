{
 "cells": [
  {
   "cell_type": "code",
   "execution_count": 1,
   "metadata": {},
   "outputs": [],
   "source": [
    "import pandas as pd\n",
    "import numpy as np\n",
    "import matplotlib.pyplot as plt\n",
    "import seaborn as sns"
   ]
  },
  {
   "cell_type": "code",
   "execution_count": 2,
   "metadata": {},
   "outputs": [],
   "source": [
    "data = pd.DataFrame(data = {'X1':[2,4,6,7,9,10] , 'X2':[12,14,16,18,23,24] , 'y':[10,11,13,16,19,20]})"
   ]
  },
  {
   "cell_type": "code",
   "execution_count": 35,
   "metadata": {},
   "outputs": [],
   "source": [
    "X = data[['X1', 'X2']].values\n",
    "y = data['y'].values.reshape(-1,1)"
   ]
  },
  {
   "cell_type": "markdown",
   "metadata": {},
   "source": [
    "LINEAR REGRESSION"
   ]
  },
  {
   "cell_type": "code",
   "execution_count": 11,
   "metadata": {},
   "outputs": [
    {
     "data": {
      "text/plain": [
       "LinearRegression()"
      ]
     },
     "execution_count": 11,
     "metadata": {},
     "output_type": "execute_result"
    }
   ],
   "source": [
    "from sklearn.linear_model import LinearRegression\n",
    "lm = LinearRegression()\n",
    "lm.fit(X, y)"
   ]
  },
  {
   "cell_type": "code",
   "execution_count": 12,
   "metadata": {},
   "outputs": [
    {
     "data": {
      "text/plain": [
       "(array([0.21314103, 0.72435897]), 0.5657051282051206)"
      ]
     },
     "execution_count": 12,
     "metadata": {},
     "output_type": "execute_result"
    }
   ],
   "source": [
    "lm.coef_ , lm.intercept_"
   ]
  },
  {
   "cell_type": "code",
   "execution_count": 13,
   "metadata": {},
   "outputs": [
    {
     "data": {
      "text/plain": [
       "array([ 9.68429487, 11.55929487, 13.43429487, 15.09615385, 19.14423077,\n",
       "       20.08173077])"
      ]
     },
     "execution_count": 13,
     "metadata": {},
     "output_type": "execute_result"
    }
   ],
   "source": [
    "lm.predict(X)"
   ]
  },
  {
   "cell_type": "code",
   "execution_count": null,
   "metadata": {},
   "outputs": [],
   "source": []
  },
  {
   "cell_type": "markdown",
   "metadata": {},
   "source": [
    "NEURAL NETWORK"
   ]
  },
  {
   "cell_type": "code",
   "execution_count": 69,
   "metadata": {},
   "outputs": [],
   "source": [
    "X = data[['X1', 'X2']].values\n",
    "y = data['y'].values\n",
    "X = np.c_[X,np.ones(6)]\n",
    "weights = np.random.randn(3)*1e-2"
   ]
  },
  {
   "cell_type": "code",
   "execution_count": null,
   "metadata": {},
   "outputs": [],
   "source": [
    "def find_gradient(err,)"
   ]
  },
  {
   "cell_type": "code",
   "execution_count": 106,
   "metadata": {},
   "outputs": [],
   "source": [
    "lst_x1 , lst_x2, lst_b = [], [], []"
   ]
  },
  {
   "cell_type": "code",
   "execution_count": 155,
   "metadata": {},
   "outputs": [],
   "source": [
    "#def grad_desent(X, y, weights, eta, n_epochs):\n",
    "X = data[['X1', 'X2']].values\n",
    "y = data['y'].values\n",
    "X = np.c_[X,np.ones(6)]\n",
    "weights = np.random.randn(3)*1e-2\n",
    "n_epochs = 10\n",
    "eta = 0.01"
   ]
  },
  {
   "cell_type": "code",
   "execution_count": null,
   "metadata": {},
   "outputs": [],
   "source": [
    "from sns.datasets "
   ]
  },
  {
   "cell_type": "code",
   "execution_count": 187,
   "metadata": {},
   "outputs": [],
   "source": [
    "from sklearn.metrics import mean_squared_error"
   ]
  },
  {
   "cell_type": "code",
   "execution_count": 188,
   "metadata": {},
   "outputs": [
    {
     "name": "stdout",
     "output_type": "stream",
     "text": [
      "ini [ 3.35426929e-05 -1.96326320e-05 -1.29996210e-04]\n"
     ]
    }
   ],
   "source": [
    "X = data[['X1', 'X2']].values\n",
    "y = data['y'].values\n",
    "X = np.c_[X,np.ones(6)]\n",
    "weights = np.random.randn(3)*1e-4\n",
    "n_epochs = 100\n",
    "eta = 0.001\n",
    "lst_x1 , lst_x2, lst_b = [], [], []\n",
    "out = []\n",
    "print('ini', weights)\n",
    "\n",
    "for i in range(n_epochs):\n",
    "    y_pred = np.dot(X, weights)  # prediction \n",
    "    \n",
    "    out.append(mean_squared_error(y , y_pred))\n",
    "    error = y_pred - y\n",
    "    \n",
    "    dE_by_dX1 = (1/3)*np.dot(error , X[:,0]) #slope a\n",
    "    lst_x1.append(dE_by_dX1)\n",
    "    \n",
    "    dE_by_dX2 = (1/3)*np.dot(error , X[:,1])\n",
    "    lst_x2.append(dE_by_dX2)\n",
    "    \n",
    "    dE_by_db = (1/3)*np.dot(error , X[:,2])\n",
    "    lst_b.append(dE_by_db)\n",
    "    \n",
    "    w_new_X1 = weights[0] - eta*dE_by_dX1 #new weight of X1 \n",
    "    w_new_X2 = weights[1] - eta*dE_by_dX2 #new weight of X1 \n",
    "    new_bias = weights[2] - eta*dE_by_db #new value for bias\n",
    "    \n",
    "    weights = np.array([w_new_X1, w_new_X2 , new_bias])\n"
   ]
  },
  {
   "cell_type": "code",
   "execution_count": 190,
   "metadata": {},
   "outputs": [
    {
     "data": {
      "text/plain": [
       "[<matplotlib.lines.Line2D at 0x762e43a58>]"
      ]
     },
     "execution_count": 190,
     "metadata": {},
     "output_type": "execute_result"
    },
    {
     "data": {
      "image/png": "[encoded data removed]",
      "text/plain": [
       "<Figure size 432x288 with 1 Axes>"
      ]
     },
     "metadata": {
      "needs_background": "light"
     },
     "output_type": "display_data"
    }
   ],
   "source": [
    "plt.plot(range(100) , out)"
   ]
  },
  {
   "cell_type": "code",
   "execution_count": 185,
   "metadata": {},
   "outputs": [
    {
     "data": {
      "text/plain": [
       "array([ 9.436148  , 11.39481677, 13.35348554, 15.07585084, 19.26361233,\n",
       "       20.24294671])"
      ]
     },
     "execution_count": 185,
     "metadata": {},
     "output_type": "execute_result"
    }
   ],
   "source": [
    "np.dot(X, weights)"
   ]
  },
  {
   "cell_type": "code",
   "execution_count": 186,
   "metadata": {},
   "outputs": [
    {
     "data": {
      "text/plain": [
       "[-208.28941393795813,\n",
       " -47.69067394929809,\n",
       " -10.685158425383406,\n",
       " -2.158909499905435,\n",
       " -0.19506245095242214,\n",
       " 0.25662949445316663,\n",
       " 0.3598817073773848,\n",
       " 0.38284612206952257,\n",
       " 0.3873122929671725,\n",
       " 0.3875182219999562,\n",
       " 0.38674472914774916,\n",
       " 0.3857477991467123,\n",
       " 0.3847016254573946,\n",
       " 0.3836463408893665,\n",
       " 0.38259118701825,\n",
       " 0.3815382872486245,\n",
       " 0.3804881247800556,\n",
       " 0.37944080488050363,\n",
       " 0.3783963457488184,\n",
       " 0.3773547455372797,\n",
       " 0.37631599779552083,\n",
       " 0.37528009502889326,\n",
       " 0.3742470295188678,\n",
       " 0.3732167935114781,\n",
       " 0.37218937926111373,\n",
       " 0.37116477904032763,\n",
       " 0.3701429851421641,\n",
       " 0.3691239898806587,\n",
       " 0.3681077855907505,\n",
       " 0.3670943646285683,\n",
       " 0.3660837193709542,\n",
       " 0.36507584221565814,\n",
       " 0.36407072558141174,\n",
       " 0.3630683619075897,\n",
       " 0.36206874365428376,\n",
       " 0.3610718633022583,\n",
       " 0.36007771335280003,\n",
       " 0.35908628632783623,\n",
       " 0.3580975747697715,\n",
       " 0.3571115712413076,\n",
       " 0.35612826832568817,\n",
       " 0.35514765862631015,\n",
       " 0.35416973476700164,\n",
       " 0.3531944893915929,\n",
       " 0.3522219151642153,\n",
       " 0.3512520047690467,\n",
       " 0.3502847509102557,\n",
       " 0.34932014631206165,\n",
       " 0.3483581837186295,\n",
       " 0.3473988558938495,\n",
       " 0.3464421556216,\n",
       " 0.3454880757054178,\n",
       " 0.34453660896865596,\n",
       " 0.3435877482541194,\n",
       " 0.3426414864244993,\n",
       " 0.3416978163617532,\n",
       " 0.34075673096754555,\n",
       " 0.3398182231628664,\n",
       " 0.3388822858881871,\n",
       " 0.33794891210316946,\n",
       " 0.3370180947869118,\n",
       " 0.3360898269375963,\n",
       " 0.3351641015727562,\n",
       " 0.33424091172886367,\n",
       " 0.33332025046164127,\n",
       " 0.33240211084564325,\n",
       " 0.3314864859745583,\n",
       " 0.3305733689608896,\n",
       " 0.3296627529360183,\n",
       " 0.328754631050207,\n",
       " 0.32784899647236776,\n",
       " 0.3269458423902005,\n",
       " 0.3260451620100616,\n",
       " 0.325146948556867,\n",
       " 0.32425119527410473,\n",
       " 0.323357895423826,\n",
       " 0.3224670422864957,\n",
       " 0.3215786291609029,\n",
       " 0.3206926493642932,\n",
       " 0.3198090962322203,\n",
       " 0.31892796311844585,\n",
       " 0.3180492433948867,\n",
       " 0.3171729304517701,\n",
       " 0.3162990176972045,\n",
       " 0.3154274985575576,\n",
       " 0.31455836647712054,\n",
       " 0.31369161491807,\n",
       " 0.3128272373606684,\n",
       " 0.31196522730277937,\n",
       " 0.3111055782602996,\n",
       " 0.3102482837668135,\n",
       " 0.309393337373578,\n",
       " 0.30854073264956067,\n",
       " 0.307690463181272,\n",
       " 0.3068425225728847,\n",
       " 0.30599690444602834,\n",
       " 0.30515360243980005,\n",
       " 0.3043126102107377,\n",
       " 0.30347392143272717,\n",
       " 0.302637529797094]"
      ]
     },
     "execution_count": 186,
     "metadata": {},
     "output_type": "execute_result"
    }
   ],
   "source": [
    "lst_x1"
   ]
  },
  {
   "cell_type": "code",
   "execution_count": null,
   "metadata": {},
   "outputs": [],
   "source": []
  },
  {
   "cell_type": "code",
   "execution_count": null,
   "metadata": {},
   "outputs": [],
   "source": []
  }
 ],
 "metadata": {
  "kernelspec": {
   "display_name": "Python 3",
   "language": "python",
   "name": "python3"
  },
  "language_info": {
   "codemirror_mode": {
    "name": "ipython",
    "version": 3
   },
   "file_extension": ".py",
   "mimetype": "text/x-python",
   "name": "python",
   "nbconvert_exporter": "python",
   "pygments_lexer": "ipython3",
   "version": "3.7.1"
  }
 },
 "nbformat": 4,
 "nbformat_minor": 4
}
