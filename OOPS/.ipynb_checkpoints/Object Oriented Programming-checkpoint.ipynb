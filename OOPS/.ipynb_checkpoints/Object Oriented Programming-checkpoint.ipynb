{
 "cells": [
  {
   "cell_type": "markdown",
   "metadata": {},
   "source": [
    "Attributes: Holds data <br>\n",
    "Methods: Functions in class<br>\n",
    "Objects: Instance of class, Each object Can have their own data ,ie, attributes"
   ]
  },
  {
   "cell_type": "code",
   "execution_count": 16,
   "metadata": {},
   "outputs": [
    {
     "name": "stdout",
     "output_type": "stream",
     "text": [
      "['__class__', '__delattr__', '__dict__', '__dir__', '__doc__', '__eq__', '__format__', '__ge__', '__getattribute__', '__gt__', '__hash__', '__init__', '__init_subclass__', '__le__', '__lt__', '__module__', '__ne__', '__new__', '__reduce__', '__reduce_ex__', '__repr__', '__setattr__', '__sizeof__', '__str__', '__subclasshook__', '__weakref__', 'color', 'speed']\n",
      "********************\n",
      "['__class__', '__delattr__', '__dict__', '__dir__', '__doc__', '__eq__', '__format__', '__ge__', '__getattribute__', '__gt__', '__hash__', '__init__', '__init_subclass__', '__le__', '__lt__', '__module__', '__ne__', '__new__', '__reduce__', '__reduce_ex__', '__repr__', '__setattr__', '__sizeof__', '__str__', '__subclasshook__', '__weakref__', 'color', 'speed']\n",
      "********************\n",
      "['__class__', '__delattr__', '__dict__', '__dir__', '__doc__', '__eq__', '__format__', '__ge__', '__getattribute__', '__gt__', '__hash__', '__init__', '__init_subclass__', '__le__', '__lt__', '__module__', '__ne__', '__new__', '__reduce__', '__reduce_ex__', '__repr__', '__setattr__', '__sizeof__', '__str__', '__subclasshook__', '__weakref__', 'color', 'speed']\n"
     ]
    }
   ],
   "source": [
    "#Empty class\n",
    "class Car:\n",
    "    pass\n",
    "ford, honda, audi = Car(), Car(), Car()\n",
    "ford.speed, honda.speed, audi.speed =20, 30, 40\n",
    "ford.color, honda.color , audi.color = 'black', 'red', 'green'\n",
    "print(dir(honda), dir(ford), dir(audi), sep = '\\n'+'*'*20+'\\n')"
   ]
  },
  {
   "cell_type": "markdown",
   "metadata": {},
   "source": [
    "__Attributes for a given object can be created on the fly in OOPs__"
   ]
  },
  {
   "cell_type": "markdown",
   "metadata": {},
   "source": [
    "__What is the need of init in class??__<br>\n",
    "Ans : Init is the first function called when an instance of a class is created. Self represents the instance of the class."
   ]
  },
  {
   "cell_type": "code",
   "execution_count": 107,
   "metadata": {},
   "outputs": [
    {
     "name": "stdout",
     "output_type": "stream",
     "text": [
      "Class created\n"
     ]
    }
   ],
   "source": [
    "class Parent:\n",
    "    def __init__(self):\n",
    "        print(\"Class created\")\n",
    "        \n",
    "p = Parent()\n",
    "        "
   ]
  },
  {
   "cell_type": "code",
   "execution_count": 11,
   "metadata": {},
   "outputs": [
    {
     "name": "stdout",
     "output_type": "stream",
     "text": [
      "['__class__', '__delattr__', '__dict__', '__dir__', '__doc__', '__eq__', '__format__', '__ge__', '__getattribute__', '__gt__', '__hash__', '__init__', '__init_subclass__', '__le__', '__lt__', '__module__', '__ne__', '__new__', '__reduce__', '__reduce_ex__', '__repr__', '__setattr__', '__sizeof__', '__str__', '__subclasshook__', '__weakref__', 'find_mileage', 'jourTime', 'name', 'speed']\n",
      "['__class__', '__delattr__', '__dict__', '__dir__', '__doc__', '__eq__', '__format__', '__ge__', '__getattribute__', '__gt__', '__hash__', '__init__', '__init_subclass__', '__le__', '__lt__', '__module__', '__ne__', '__new__', '__reduce__', '__reduce_ex__', '__repr__', '__setattr__', '__sizeof__', '__str__', '__subclasshook__', '__weakref__', 'find_mileage', 'jourTime', 'mileage', 'name', 'speed']\n"
     ]
    }
   ],
   "source": [
    "class Carr:\n",
    "    def __init__(self, name, speed, dist):\n",
    "        self.name=name\n",
    "        self.speed=speed\n",
    "        self.jourTime=dist/speed\n",
    "    def find_mileage(self,inst_speed):\n",
    "        return self.jourTime*inst_speed\n",
    "    \n",
    "c=Carr('Audi', 45, 4500)\n",
    "mileage=c.find_mileage(45)\n",
    "\n",
    "print(dir(c))\n",
    "c.mileage=c.find_mileage(45)\n",
    "print(dir(c))"
   ]
  },
  {
   "cell_type": "markdown",
   "metadata": {},
   "source": [
    "<h3>What is the need of 'self' while defining a methods in a class???<h3>"
   ]
  },
  {
   "cell_type": "code",
   "execution_count": 20,
   "metadata": {},
   "outputs": [
    {
     "name": "stdout",
     "output_type": "stream",
     "text": [
      "__init__() takes 0 positional arguments but 1 was given\n"
     ]
    }
   ],
   "source": [
    "class Car1:\n",
    "    def __init__():\n",
    "        pass\n",
    "class Car2:\n",
    "    def __init__(self):\n",
    "        pass\n",
    "try:\n",
    "    c1=Car1() # When an object of Car1 is created __init__() method is called , which takes positional argument as the instance \n",
    "    # of the class.\n",
    "except Exception as e:\n",
    "    print(e)\n",
    "    \n",
    "        "
   ]
  },
  {
   "cell_type": "markdown",
   "metadata": {},
   "source": [
    "__SELF points to each and every object or instance of the class__"
   ]
  },
  {
   "cell_type": "markdown",
   "metadata": {},
   "source": [
    "__Ans: self represents the instance of the class , since self is used we can access attributes and methods \n",
    "    specific to the particular object.While calling a method using an object an instance is passed to the class__"
   ]
  },
  {
   "cell_type": "markdown",
   "metadata": {},
   "source": [
    "<h3>Can we define multiple init method???</h3>"
   ]
  },
  {
   "cell_type": "code",
   "execution_count": 25,
   "metadata": {},
   "outputs": [
    {
     "name": "stdout",
     "output_type": "stream",
     "text": [
      "__init__() missing 1 required positional argument: 'name'\n",
      "Class Created in except block\n",
      "*************Second class*************\n",
      "Created object in try block\n"
     ]
    }
   ],
   "source": [
    "class Car:\n",
    "    def __init__(self):\n",
    "        pass\n",
    "    def __init__(self, name):\n",
    "        pass\n",
    "class Car2:\n",
    "    def __init__(self, name):\n",
    "        pass\n",
    "    def __init__(self):\n",
    "        pass\n",
    "try:\n",
    "    c=Car()\n",
    "except Exception as e:\n",
    "    print(e)\n",
    "    c=Car('Audi')\n",
    "    print('Class Created in except block')\n",
    "    \n",
    "print('*************Second class*************')\n",
    "try:\n",
    "    c=Car2()\n",
    "    print('Created object in try block')\n",
    "except Exception as e:\n",
    "    print(e)\n",
    "    c=Car2('Audi')\n",
    "    print('Class Created in except block')"
   ]
  },
  {
   "cell_type": "markdown",
   "metadata": {},
   "source": [
    "__Multiple __init__ methods can be created , but only the last defined __init__ method will be holded.  All other init methods\n",
    "will be overwritten__"
   ]
  },
  {
   "cell_type": "markdown",
   "metadata": {},
   "source": [
    "__ONly last init method  is valid,  all other init methods are invalid__m"
   ]
  },
  {
   "cell_type": "code",
   "execution_count": null,
   "metadata": {},
   "outputs": [],
   "source": []
  },
  {
   "cell_type": "markdown",
   "metadata": {},
   "source": [
    "<h1>Encapsulation</h1>"
   ]
  },
  {
   "cell_type": "markdown",
   "metadata": {},
   "source": [
    "- Idea of wrapping similar kind of data and methods into one unit.Classes employs the concept of encapsulation<br>\n",
    "- Imposes restriction on accessing variables and methods directly and can prevent accidental modification of data. <br>\n",
    "- Encapsulation helps in hiding data/attributes."
   ]
  },
  {
   "cell_type": "markdown",
   "metadata": {},
   "source": [
    "<h3>Why should you need encapsulation in python??</h3>"
   ]
  },
  {
   "cell_type": "code",
   "execution_count": 86,
   "metadata": {},
   "outputs": [
    {
     "name": "stdout",
     "output_type": "stream",
     "text": [
      "1485\n",
      "400\n"
     ]
    }
   ],
   "source": [
    "class Rectangle:\n",
    "    def __init__(self, length, bredth):\n",
    "        self.length = length\n",
    "        self.bredth = bredth\n",
    "        self.area = self.length*self.bredth\n",
    "c = Rectangle(45, 33)\n",
    "print(c.area)\n",
    "c.length , c.bredth = 777,999 # Values of variables can be changed accidentally\n",
    "c.area = 400\n",
    "print(c.area)"
   ]
  },
  {
   "cell_type": "markdown",
   "metadata": {},
   "source": [
    "__Since the public methods and attributes can be acceed anywhere , there is a chance of accidental manipulation of data. To prevent this\n",
    "encapsulation can be used. Protected scope is fruitful only in accidental data manipulation. for compulsory data protection \n",
    "private could be used__"
   ]
  },
  {
   "cell_type": "markdown",
   "metadata": {},
   "source": [
    "__Public Methods and attributes : Can be accessed anywhere in the program__<br>\n",
    "__Protected Methods and attributes : can be accessed within class and in subclasses . Prefix underscore__<br>\n",
    "__Private methods and attributess : can be accessed only within the class . Prefix double underscore__<breakpoint>"
   ]
  },
  {
   "cell_type": "code",
   "execution_count": 44,
   "metadata": {},
   "outputs": [
    {
     "name": "stdout",
     "output_type": "stream",
     "text": [
      "'Car' object has no attribute 'distance'\n",
      "cannot be accessed like this \n",
      "135\n",
      "13500\n"
     ]
    }
   ],
   "source": [
    "#Protected : Can be accessed within the class and sub classes. JUST A CONVENTION\n",
    "class Car:\n",
    "    def __init__(self, brand, speed, time):\n",
    "        self.brand=brand\n",
    "        self._distance=speed*time\n",
    "    def calc_rate(self):\n",
    "        return self._distance*100\n",
    "\n",
    "c = Car('Audi', 45, 3)\n",
    "try:\n",
    "    print(c.distance)\n",
    "except Exception as e:\n",
    "    print(e)\n",
    "    print(\"cannot be accessed like this \")\n",
    "print(c._distance)\n",
    "print(c.calc_rate())"
   ]
  },
  {
   "cell_type": "code",
   "execution_count": 59,
   "metadata": {},
   "outputs": [
    {
     "name": "stdout",
     "output_type": "stream",
     "text": [
      "'Car' object has no attribute '__distance'\n",
      "13500\n",
      "135\n",
      "135\n",
      "145\n",
      "\n",
      "\n",
      "\n",
      "Private method\n",
      "'Car' object has no attribute '__get_info'\n",
      "Cannot acces the Private method\n",
      "{'brand': 'Mercedez', 'speed': 4434, 'time': 343423, 'distance': 234345}\n"
     ]
    }
   ],
   "source": [
    "#Private methods\n",
    "class Car:\n",
    "    def __init__(self, brand, speed, time):\n",
    "        self.speed, self.time = speed, time\n",
    "        self.brand=brand\n",
    "        self.__distance = speed*time # private attribute\n",
    "    def calc_rate(self):\n",
    "        return self.__distance*100\n",
    "    def get_distance(self):\n",
    "        return self.__distance\n",
    "    def update_distance(self,b = True):\n",
    "        if b:\n",
    "            self.__distance+=10\n",
    "        else:\n",
    "            return self.__distance\n",
    "    def __get_info(self):#Private method\n",
    "        return {'brand':self.brand, 'speed':self.speed, 'time':self.time, 'distance':self.__distance}\n",
    "    def update_info(self, name, speed, time , dist):\n",
    "        dic = self.__get_info()\n",
    "        dic['brand'], dic['speed'], dic['time'], dic['distance'] = name, speed, time, dist\n",
    "        return dic\n",
    "        \n",
    "    \n",
    "    \n",
    "c = Car('Audi', 45, 3)\n",
    "try:\n",
    "    print(c.__distance) \n",
    "    print(\"Cannot access the attribute outside the class\")\n",
    "except Exception as e:\n",
    "    print(e)\n",
    "print(c.calc_rate())\n",
    "print(c.get_distance())\n",
    "print(c.update_distance(False))\n",
    "c.update_distance()\n",
    "print(c.get_distance())\n",
    "\n",
    "print(\"\\n\\n\")\n",
    "print(\"Private method\")\n",
    "try:\n",
    "    print(c.__get_info())\n",
    "except Exception as e:\n",
    "    print(e)\n",
    "    print('Cannot acces the Private method')\n",
    "    \n",
    "print(c.update_info(\"Mercedez\", 4434, 343423 , 234345))"
   ]
  },
  {
   "cell_type": "code",
   "execution_count": null,
   "metadata": {},
   "outputs": [],
   "source": []
  },
  {
   "cell_type": "markdown",
   "metadata": {},
   "source": [
    "<h1>INHERITENCE</h1>"
   ]
  },
  {
   "cell_type": "markdown",
   "metadata": {},
   "source": [
    "- One class(child class) can borrow behaviour(attributes and methods) of another class(parent class) \n",
    "- child classes may have a IS A relation with parent class"
   ]
  },
  {
   "cell_type": "code",
   "execution_count": 64,
   "metadata": {},
   "outputs": [
    {
     "name": "stdout",
     "output_type": "stream",
     "text": [
      "2000 300.0\n"
     ]
    }
   ],
   "source": [
    "class Polygon:\n",
    "    def set_values(self, height, width):\n",
    "        self.__width = width\n",
    "        self.__height = height\n",
    "    def get_info(self):\n",
    "        return {'height':self.__height, 'width':self.__width}\n",
    "\n",
    "class Rectangle(Polygon):\n",
    "    def find_area(self):\n",
    "        vals = self.get_info()\n",
    "        return vals['height']*vals['width']\n",
    "class Triangle(Polygon):\n",
    "    def find_area(self):\n",
    "        vals = self.get_info()\n",
    "        return vals['height']*vals['width']/2\n",
    "    \n",
    "rect, tri = Rectangle(), Triangle()\n",
    "rect.set_values(40, 50);tri.set_values(30,20);\n",
    "print(rect.find_area(), tri.find_area())"
   ]
  },
  {
   "cell_type": "markdown",
   "metadata": {},
   "source": [
    "<h3>Multiple Inheritence</h3>"
   ]
  },
  {
   "cell_type": "markdown",
   "metadata": {},
   "source": [
    "- Multiple inheritence is the ability of a sub class to inherit from more than one super class\n",
    "- The sub class will have attributes and methods of all the parent classes"
   ]
  },
  {
   "cell_type": "code",
   "execution_count": 70,
   "metadata": {},
   "outputs": [
    {
     "name": "stdout",
     "output_type": "stream",
     "text": [
      "2000 300.0\n",
      "blackTokyo redTokyo\n",
      "black red\n"
     ]
    }
   ],
   "source": [
    "# Parent class 1\n",
    "class Polygon:\n",
    "    def set_values(self, height, width):\n",
    "        self.__width = width\n",
    "        self.__height = height\n",
    "    def get_info(self):\n",
    "        return {'height':self.__height, 'width':self.__width}\n",
    "    \n",
    "# Parent class 2\n",
    "class Shape:\n",
    "    def set_color(self, color):\n",
    "        self.__color = color\n",
    "    def updateData(self, s = 'Tokyo'):\n",
    "        return self.__color + s\n",
    "    def get_color(self):\n",
    "        return self.__color\n",
    "    \n",
    "class Rectangle(Polygon, Shape):\n",
    "    def find_area(self):\n",
    "        vals = self.get_info()\n",
    "        return vals['height']*vals['width']\n",
    "class Triangle(Polygon, Shape):\n",
    "    def find_area(self):\n",
    "        vals = self.get_info()\n",
    "        return vals['height']*vals['width']/2\n",
    "    \n",
    "rect, tri = Rectangle(), Triangle()\n",
    "rect.set_values(40, 50);tri.set_values(30,20);\n",
    "print(rect.find_area(), tri.find_area())\n",
    "rect.set_color('black');tri.set_color('red');\n",
    "print(rect.updateData(), tri.updateData())\n",
    "print(rect.get_color(), tri.get_color())\n",
    "\n"
   ]
  },
  {
   "cell_type": "code",
   "execution_count": 69,
   "metadata": {},
   "outputs": [
    {
     "name": "stdout",
     "output_type": "stream",
     "text": [
      "['_Polygon__height', '_Polygon__width', '__class__', '__delattr__', '__dict__', '__dir__', '__doc__', '__eq__', '__format__', '__ge__', '__getattribute__', '__gt__', '__hash__', '__init__', '__init_subclass__', '__le__', '__lt__', '__module__', '__ne__', '__new__', '__reduce__', '__reduce_ex__', '__repr__', '__setattr__', '__sizeof__', '__str__', '__subclasshook__', '__weakref__', 'find_area', 'get_color', 'get_info', 'set_color', 'set_values', 'updateData'] ['_Polygon__height', '_Polygon__width', '__class__', '__delattr__', '__dict__', '__dir__', '__doc__', '__eq__', '__format__', '__ge__', '__getattribute__', '__gt__', '__hash__', '__init__', '__init_subclass__', '__le__', '__lt__', '__module__', '__ne__', '__new__', '__reduce__', '__reduce_ex__', '__repr__', '__setattr__', '__sizeof__', '__str__', '__subclasshook__', '__weakref__', 'find_area', 'get_color', 'get_info', 'set_color', 'set_values', 'updateData']\n"
     ]
    }
   ],
   "source": [
    "print(dir(rect), dir(tri)) # Has  methods and attributes of both the classes"
   ]
  },
  {
   "cell_type": "markdown",
   "metadata": {},
   "source": [
    "<h3>What happens when parent classes have two same methods??</h3>"
   ]
  },
  {
   "cell_type": "code",
   "execution_count": 83,
   "metadata": {},
   "outputs": [
    {
     "name": "stdout",
     "output_type": "stream",
     "text": [
      "black red\n"
     ]
    }
   ],
   "source": [
    "# Parent class 1\n",
    "class Polygon:\n",
    "    def set_values(self, height, width):\n",
    "        self.__width = width\n",
    "        self.__height = height\n",
    "    def get_info(self):\n",
    "        return {'height':self.__height, 'width':self.__width}\n",
    "    \n",
    "# Parent class 2\n",
    "class Shape:\n",
    "    def set_color(self, color):\n",
    "        self.__color = color\n",
    "    def updateData(self, s = 'Tokyo'):\n",
    "        return self.__color + s\n",
    "    def get_info(self):\n",
    "        return self.__color\n",
    "    \n",
    "class Rectangle(Shape, Polygon):\n",
    "    def find_area(self):\n",
    "        vals = self.get_info()\n",
    "        return vals['height']*vals['width']\n",
    "class Triangle(Shape, Polygon):\n",
    "    def find_area(self):\n",
    "        vals = self.get_info()\n",
    "        return vals['height']*vals['width']/2\n",
    "\n",
    "rect, tri = Rectangle(), Triangle()\n",
    "rect.set_values(40, 50);tri.set_values(30,20);\n",
    "rect.set_color('black');tri.set_color('red')\n",
    "\n",
    "print(rect.get_info(), tri.get_info() )"
   ]
  },
  {
   "cell_type": "markdown",
   "metadata": {},
   "source": [
    "__Generally, the  class method of \"first class in inheritance\" will be used__ "
   ]
  },
  {
   "cell_type": "markdown",
   "metadata": {},
   "source": [
    "__The core concept of inheritence is that the subclass has access to methods and attributes of parent class__"
   ]
  },
  {
   "cell_type": "code",
   "execution_count": 105,
   "metadata": {},
   "outputs": [
    {
     "name": "stdout",
     "output_type": "stream",
     "text": [
      "3 45 33\n",
      "4 32 90\n",
      "742.5 2880\n"
     ]
    }
   ],
   "source": [
    "class Polygon2:\n",
    "    def set_attributes(self, n_sides, length, bredth):\n",
    "        self.n_sides, self.length, self.bredth = n_sides, length, bredth # Attributes of Polygon class\n",
    "    def get_attributes(self):# Method of ppolygon class\n",
    "        return {'n_sides':self.n_sides, 'length':self.length, 'bredth':self.bredth}\n",
    "class Triangle2(Polygon2):\n",
    "    def find_area(self):\n",
    "        d = self.get_attributes()\n",
    "        return d['length']*d['bredth']/2\n",
    "class Rectangle2(Polygon2):\n",
    "    def find_area(self):\n",
    "        d = self.get_attributes()\n",
    "        return d['length']*d['bredth']\n",
    "    \n",
    "triangle, rectangle = Triangle2(), Rectangle2()\n",
    "triangle.set_attributes(3,45,33) # instances of Triangle and Rectangle class  can access methods of Polygon2\n",
    "rectangle.set_attributes(4, 32,90)\n",
    "print(triangle.n_sides, triangle.length, triangle.bredth) # Instances of Triangle and Rectangle\n",
    "                                                        #can access attributes of Polygon2\n",
    "print(rectangle.n_sides, rectangle.length, rectangle.bredth)\n",
    "\n",
    "print(triangle.find_area(), rectangle.find_area())"
   ]
  },
  {
   "cell_type": "code",
   "execution_count": null,
   "metadata": {},
   "outputs": [],
   "source": []
  },
  {
   "cell_type": "markdown",
   "metadata": {},
   "source": [
    "<h3>How and why to Use built in Fn super??</h3>"
   ]
  },
  {
   "cell_type": "markdown",
   "metadata": {},
   "source": [
    "__When the child class is called Parent init is not called. When we add init method to the child class the parents init methods is overwritten. So we need to make a seperate call to\n",
    "the parents init function__"
   ]
  },
  {
   "cell_type": "code",
   "execution_count": 291,
   "metadata": {},
   "outputs": [
    {
     "name": "stdout",
     "output_type": "stream",
     "text": [
      "Child __init__\n"
     ]
    }
   ],
   "source": [
    "class Parent:\n",
    "    def __init__(self):\n",
    "        print(\"Parent __init__\")\n",
    "class Child(Parent):\n",
    "    def __init__(self):\n",
    "        print(\"Child __init__\")\n",
    "\n",
    "c = Child()"
   ]
  },
  {
   "cell_type": "markdown",
   "metadata": {},
   "source": [
    "__Here only the Child class is called.__"
   ]
  },
  {
   "cell_type": "markdown",
   "metadata": {},
   "source": [
    "super() function returns a proxy object to refer to the parent class. Or you can call directly using The parent class"
   ]
  },
  {
   "cell_type": "code",
   "execution_count": 292,
   "metadata": {},
   "outputs": [
    {
     "name": "stdout",
     "output_type": "stream",
     "text": [
      "Child __init__\n",
      "Parent __init__ max\n",
      "\n",
      " Case 2 \n",
      "\n",
      "parent __init max\n"
     ]
    }
   ],
   "source": [
    "class Parent:\n",
    "    def __init__(self, name):\n",
    "        print(\"Parent __init__\", name)\n",
    "class Child(Parent):\n",
    "    def __init__(self):\n",
    "        print(\"Child __init__\")\n",
    "        super().__init__(\"max\") # Useful for single class inheritance\n",
    "        \n",
    "\n",
    "c = Child()\n",
    "\n",
    "# Another way of calling init function of Parent class.\n",
    "print(\"\\n Case 2 \\n\")\n",
    "class Parent_:\n",
    "    def __init__(self, name):\n",
    "        print(\"parent __init\", name)\n",
    "class Child_(Parent_):\n",
    "    def __init__(self): \n",
    "        Parent_.__init__(self, 'max')# Useful for multiple inheritance\n",
    "\n",
    "c= Child_()"
   ]
  },
  {
   "cell_type": "code",
   "execution_count": null,
   "metadata": {},
   "outputs": [],
   "source": []
  },
  {
   "cell_type": "markdown",
   "metadata": {},
   "source": [
    "<h1>OPERATOR OVERLOADING</h1>"
   ]
  },
  {
   "cell_type": "markdown",
   "metadata": {},
   "source": [
    "- Same built in operator behaves differently for different kinds of object<br>\n",
    "- For eg: + can be used for adding integers and concatenating strings\n",
    "- This is because + operator is overloaded by int and string class.\n",
    "- We can define custom ways in which the objects of class behaves for a given operator.\n",
    "- When we use + operator for two objects of the class , it throws an error.\n",
    "- When + operator is used for two diff objects add Magic method is called . Which could change the way object behaves with the + operator"
   ]
  },
  {
   "cell_type": "markdown",
   "metadata": {},
   "source": [
    "[GfG Op overloadig](https://www.geeksforgeeks.org/operator-overloading-in-python/)"
   ]
  },
  {
   "cell_type": "code",
   "execution_count": 403,
   "metadata": {},
   "outputs": [
    {
     "name": "stdout",
     "output_type": "stream",
     "text": [
      "Radius :100 Area: 31415.926535897932\n",
      "Radius :200 Area: 125663.70614359173\n",
      "unsupported operand type(s) for +: 'Circle' and 'Circle'\n"
     ]
    }
   ],
   "source": [
    "from math import pi\n",
    "class Circle:\n",
    "    def __init__(self, rad):\n",
    "        self.rad = rad\n",
    "    def findArea(self):\n",
    "        self.area = pi*self.rad**2\n",
    "        return self.area\n",
    "c1 = Circle(100)\n",
    "print('Radius :{} Area: {}'.format(c1.rad, c1.findArea()))\n",
    "c2 = Circle(200)\n",
    "print('Radius :{} Area: {}'.format(c2.rad, c2.findArea()))\n",
    "try:\n",
    "    c1+c2 # Not valid since operation on + on instances of Circle is not defined\n",
    "except Exception as e:\n",
    "    print(e) "
   ]
  },
  {
   "cell_type": "code",
   "execution_count": 1,
   "metadata": {},
   "outputs": [
    {
     "name": "stdout",
     "output_type": "stream",
     "text": [
      "Radius :100 Area: 31415.926535897932\n",
      "Radius :200 Area: 125663.70614359173\n",
      "Add operation\n",
      "Sum is 300\n",
      "Less than  equal to operation\n",
      "True\n",
      "Greater than operator\n"
     ]
    }
   ],
   "source": [
    "from math import pi\n",
    "class Circle:\n",
    "    def __init__(self, rad):\n",
    "        self.rad = rad\n",
    "        self.s = rad**3\n",
    "    def findArea(self):\n",
    "        self.area = pi*self.rad**2\n",
    "        return self.area\n",
    "    def __add__(self, circle_obj):\n",
    "        print('Add operation')\n",
    "        return f\"Sum is {self.rad + circle_obj.rad }\"\n",
    "    def __le__(self, circle_obj):\n",
    "        print('Less than  equal to operation')\n",
    "        return self.rad < circle_obj.rad\n",
    "    def __gt__(self, circle_obj):\n",
    "        print(\"Greater than operator\")\n",
    "    def __str__(self):\n",
    "        return \"Circle object\"\n",
    "\n",
    "c1 = Circle(100)\n",
    "print('Radius :{} Area: {}'.format(c1.rad, c1.findArea()))\n",
    "c2 = Circle(200)\n",
    "print('Radius :{} Area: {}'.format(c2.rad, c2.findArea()))\n",
    "print(c1 + c2)\n",
    "print(c1 <= c2)\n",
    "c1 > c2"
   ]
  },
  {
   "cell_type": "code",
   "execution_count": 447,
   "metadata": {},
   "outputs": [
    {
     "name": "stdout",
     "output_type": "stream",
     "text": [
      "Add operation\n",
      "Sum is 300\n"
     ]
    }
   ],
   "source": [
    "print(c1.__add__(c2))"
   ]
  },
  {
   "cell_type": "code",
   "execution_count": 448,
   "metadata": {},
   "outputs": [
    {
     "name": "stdout",
     "output_type": "stream",
     "text": [
      "['__add__', '__class__', '__delattr__', '__dict__', '__dir__', '__doc__', '__eq__', '__format__', '__ge__', '__getattribute__', '__gt__', '__hash__', '__init__', '__init_subclass__', '__le__', '__lt__', '__module__', '__ne__', '__new__', '__reduce__', '__reduce_ex__', '__repr__', '__setattr__', '__sizeof__', '__str__', '__subclasshook__', '__weakref__', 'area', 'findArea', 'rad', 's']\n"
     ]
    }
   ],
   "source": [
    "print(dir(c1))"
   ]
  },
  {
   "cell_type": "markdown",
   "metadata": {},
   "source": [
    "__Practical example of operator overloading__"
   ]
  },
  {
   "cell_type": "code",
   "execution_count": 8,
   "metadata": {},
   "outputs": [
    {
     "name": "stdout",
     "output_type": "stream",
     "text": [
      "can't multiply sequence by non-int of type 'list'\n",
      "[[11, 44, 99, 136], [176, 275, 396, 198], [539, 704, 891, 810]]\n"
     ]
    }
   ],
   "source": [
    "#a, b are objects of type mat which inherits from list\n",
    "#when a+b is done we should be able to do element wise multiplication\n",
    "from functools import reduce\n",
    "class Mat(list):\n",
    "    def __init__(self, mat):\n",
    "        self.mat = mat\n",
    "    def __mul__(self, mat2):\n",
    "        a,b = self.mat, mat2.mat\n",
    "        n_rows, n_cols = len(a), len(a[0])\n",
    "        out = []\n",
    "        for index, i in enumerate(range(n_rows)):\n",
    "            out.append([])\n",
    "            for i in range(n_cols):\n",
    "                out[index].append(0)\n",
    "        for row_index, rows in enumerate(zip(a,b)):\n",
    "            for col_index, cols in enumerate(zip(rows[0], rows[1])): #\n",
    "                out[row_index][col_index] = reduce(lambda x,y : x*y , cols)\n",
    "        return out\n",
    "                \n",
    "                \n",
    "        \n",
    "        \n",
    "lst1, lst2 =  [[1,2,3,4],[4,5,6,22],[7,8,9,90]] , [[11,22,33,34], [44,55,66,9], [77,88,99,9]]\n",
    "a = Mat(lst1)\n",
    "b = Mat(lst2)\n",
    "try:\n",
    "    out = lst1*lst2\n",
    "    print(out)\n",
    "except Exception as e:\n",
    "    print(e)\n",
    "    out = a*b\n",
    "    print(out)\n",
    "    "
   ]
  },
  {
   "cell_type": "markdown",
   "metadata": {},
   "source": [
    "<h1>PYTHON COMPOSITION</h1>"
   ]
  },
  {
   "cell_type": "markdown",
   "metadata": {},
   "source": [
    "- Inheritance is used when there is \"IS A \" relation . Composition is used when there is a \"PART OF\" relation between classes.\n",
    "- Composite class and component class .\n",
    "- Composite class contains and object of component class"
   ]
  },
  {
   "cell_type": "code",
   "execution_count": 473,
   "metadata": {},
   "outputs": [
    {
     "name": "stdout",
     "output_type": "stream",
     "text": [
      "12 45 MRF 34\n"
     ]
    },
    {
     "data": {
      "text/plain": [
       "(540, 34000)"
      ]
     },
     "execution_count": 473,
     "metadata": {},
     "output_type": "execute_result"
    }
   ],
   "source": [
    "# Car has engine and Wheels\n",
    "class Engine: # component class\n",
    "    def __init__(self, ang_velocity, torque):\n",
    "        self.torque = torque\n",
    "        self.ang_velocity = ang_velocity\n",
    "    def calc_power(self):\n",
    "        return self.ang_velocity*self.torque\n",
    "class Wheels:# component class\n",
    "    def __init__(self, brand, psi, ):\n",
    "        self.brand, self.psi = brand, psi\n",
    "    def calc_cost(self):\n",
    "        return self.psi*1000\n",
    "class Car:# composite class\n",
    "    def __init__(self, ang_velocity,*, torque, brand, psi):\n",
    "        self.engine=Engine(ang_velocity, torque) # An instance of class defines inside another class.\n",
    "        self.wheel = Wheels(brand, psi)\n",
    "\n",
    "c = Car(45, torque = 12, brand = 'MRF', psi = 34)\n",
    "print(c.engine.torque, c.engine.ang_velocity, c.wheel.brand, c.wheel.psi)\n",
    "c.engine.calc_power(), c.wheel.calc_cost()"
   ]
  },
  {
   "cell_type": "markdown",
   "metadata": {},
   "source": [
    "__str maigic method__"
   ]
  },
  {
   "cell_type": "markdown",
   "metadata": {},
   "source": [
    "<h1>PYTHON AGGREGATION</h1>"
   ]
  },
  {
   "cell_type": "markdown",
   "metadata": {},
   "source": [
    "- \"HAS A \" relationship\n",
    "- An instance of one class is passed as an attribute of another class."
   ]
  },
  {
   "cell_type": "markdown",
   "metadata": {},
   "source": [
    "<table>\n",
    "    <tr><th>Composition</th>\n",
    "        <th>Aggregation</th><tr>\n",
    "    <tr><td>asdfoiasdf</td>\n",
    "        <td>asdfsdonf</td><tr>\n",
    "    \n",
    "</table>"
   ]
  },
  {
   "cell_type": "code",
   "execution_count": null,
   "metadata": {},
   "outputs": [],
   "source": []
  },
  {
   "cell_type": "markdown",
   "metadata": {},
   "source": [
    "<h1>Class Excercises</h1>"
   ]
  },
  {
   "cell_type": "code",
   "execution_count": 378,
   "metadata": {},
   "outputs": [
    {
     "name": "stdout",
     "output_type": "stream",
     "text": [
      "25 Years 8 Months 10\n",
      "******************************\n",
      "cyril joseph\n",
      "******************************\n",
      "1995-07-12 00:00:00\n",
      "******************************\n",
      "Ettumanur\n",
      "Kottayam\n",
      "Kochi\n",
      "Kerala\n",
      "India\n"
     ]
    },
    {
     "data": {
      "text/html": [
       "<div>\n",
       "<style scoped>\n",
       "    .dataframe tbody tr th:only-of-type {\n",
       "        vertical-align: middle;\n",
       "    }\n",
       "\n",
       "    .dataframe tbody tr th {\n",
       "        vertical-align: top;\n",
       "    }\n",
       "\n",
       "    .dataframe thead th {\n",
       "        text-align: right;\n",
       "    }\n",
       "</style>\n",
       "<table border=\"1\" class=\"dataframe\">\n",
       "  <thead>\n",
       "    <tr style=\"text-align: right;\">\n",
       "      <th></th>\n",
       "      <th>Subject</th>\n",
       "      <th>Marks</th>\n",
       "      <th>Grade</th>\n",
       "    </tr>\n",
       "  </thead>\n",
       "  <tbody>\n",
       "    <tr>\n",
       "      <th>0</th>\n",
       "      <td>Maths</td>\n",
       "      <td>45</td>\n",
       "      <td>E</td>\n",
       "    </tr>\n",
       "    <tr>\n",
       "      <th>1</th>\n",
       "      <td>Physics</td>\n",
       "      <td>34</td>\n",
       "      <td>F</td>\n",
       "    </tr>\n",
       "    <tr>\n",
       "      <th>2</th>\n",
       "      <td>Chemistry</td>\n",
       "      <td>25</td>\n",
       "      <td>G</td>\n",
       "    </tr>\n",
       "    <tr>\n",
       "      <th>3</th>\n",
       "      <td>Biology</td>\n",
       "      <td>33</td>\n",
       "      <td>F</td>\n",
       "    </tr>\n",
       "    <tr>\n",
       "      <th>4</th>\n",
       "      <td>English</td>\n",
       "      <td>56</td>\n",
       "      <td>D</td>\n",
       "    </tr>\n",
       "  </tbody>\n",
       "</table>\n",
       "</div>"
      ],
      "text/plain": [
       "     Subject Marks Grade\n",
       "0      Maths    45     E\n",
       "1    Physics    34     F\n",
       "2  Chemistry    25     G\n",
       "3    Biology    33     F\n",
       "4    English    56     D"
      ]
     },
     "execution_count": 378,
     "metadata": {},
     "output_type": "execute_result"
    }
   ],
   "source": [
    "from datetime import datetime\n",
    "import requests\n",
    "from json import loads\n",
    "from pandas import DataFrame, cut\n",
    "class Person:\n",
    "    \"\"\"\n",
    "    dob: dd/mm/yy format seperate by '/'\n",
    "    \"\"\"\n",
    "    def __init__(self, fname, lname,*, dob:str, pincode:str):\n",
    "        self.pincode = pincode\n",
    "        self.name = fname + ' ' + lname\n",
    "        self.dob = datetime.strptime(dob, \"%d/%m/%Y\")# Created datetime object from string\n",
    "    def findAge(self, ):\n",
    "        td = datetime.now() - self.dob\n",
    "        self.age = {'Years':td.days//365, \"Months\":td.days%365//30, \"Days\":str(td.days%365%30)}\n",
    "        return str(self.age['Years']) + ' Years ' + str(self.age['Months']) + ' Months ' + str(self.age['Days'])\n",
    "    def getFulladdress(self):\n",
    "        url = f\"https://api.postalpincode.in/pincode/{self.pincode.strip()}\"\n",
    "        r = requests.get(url)\n",
    "        add = loads(r.text)[0]['PostOffice'][0]\n",
    "        full_add = add['Name'] +'\\n' +add['District'] + '\\n'+ add['Region'] + '\\n' + add['State'] +'\\n'+ add['Country']\n",
    "        return full_add\n",
    "\n",
    "class Academics:\n",
    "    \"\"\"\n",
    "    Class for storing academic related stuffs.\n",
    "    \n",
    "    \"\"\"\n",
    "    def __init__(self, sub_list, marks):\n",
    "        self.sub_list= sub_list\n",
    "        self.marks = marks\n",
    "    \n",
    "    def findGrade(self):\n",
    "        df = DataFrame(data = [s.sub_list, s.marks]).transpose().rename(columns={0:'Subject', 1:'Marks'})\n",
    "        df['Grade']=cut(df.Marks, bins = list(range(0,100,10)),labels = list('ABCDEFGHI'[::-1]) )\n",
    "        return df\n",
    "        \n",
    "    def findTotal(self):\n",
    "        return {'Total':sum(self.marks), 'Avg':sum(self.marks)/len(self.marks)}\n",
    "\n",
    "class Student(Person, Academics):\n",
    "    def __init__(self,*, fname, lname, dob, pincode, grade:int, div:str, sub_list:list, marks:list):\n",
    "        Person.__init__(self,fname, lname, dob = dob, pincode = pincode) # Calling parents init method\n",
    "        Academics.__init__(self, sub_list, marks)\n",
    "        #super().__init__(fname, lname, dob = dob, pincode = pincode)\n",
    "        self.grade = grade\n",
    "        self.div = div.lower()\n",
    "        \n",
    "        \n",
    "p = Person('cyril', 'joseph', dob = '12/07/1995', pincode = \"686631\")\n",
    "s = Student(fname='cyril', lname='joseph', dob='12/07/1995',\n",
    "            pincode=\"686631\",grade=10, div='b', sub_list=['Maths', 'Physics', 'Chemistry', 'Biology', 'English'],\n",
    "            marks=[45,34,25,33,56])\n",
    "print(s.findAge(), s.name, s.dob, s.getFulladdress(), sep = f'\\n{\"*\"*30}\\n')\n",
    "s.findGrade()"
   ]
  },
  {
   "cell_type": "markdown",
   "metadata": {},
   "source": [
    "<h3>Inheritance can be used for extending built in classes like list or dict</h3>"
   ]
  },
  {
   "cell_type": "markdown",
   "metadata": {},
   "source": [
    "<h3>Polymorphism and Operator overloading in action</h3>"
   ]
  },
  {
   "cell_type": "markdown",
   "metadata": {},
   "source": [
    "- when two list objects are multiplied it raises an error. \n",
    "- Create a new object similar to list which returns the element wise multiplication of elements \n",
    "- add should add the square of matrices."
   ]
  },
  {
   "cell_type": "markdown",
   "metadata": {},
   "source": [
    "__Polymorphism allows a subclass to override or change a specific behavior exhibited by the parent class__"
   ]
  },
  {
   "cell_type": "code",
   "execution_count": 16,
   "metadata": {},
   "outputs": [
    {
     "name": "stdout",
     "output_type": "stream",
     "text": [
      "can't multiply sequence by non-int of type 'list'\n",
      "Overridden function called\n",
      "[[11, 44, 99, 136], [176, 275, 396, 198], [539, 704, 891, 810]]\n",
      "Inbuilt list call [[1, 2, 3, 4], [4, 5, 6, 22], [7, 8, 9, 90], [11, 22, 33, 34], [44, 55, 66, 9], [77, 88, 99, 9]]\n",
      "Overridden call [[12, 24, 36, 38], [48, 60, 72, 31], [84, 96, 108, 99]]\n"
     ]
    }
   ],
   "source": [
    "from functools import reduce\n",
    "class Mat(list):\n",
    "    def __init__(self, mat):\n",
    "        self.mat = mat\n",
    "    def __add__(self, mat2):\n",
    "        a,b = self.mat, mat2.mat\n",
    "        n_rows, n_cols = len(a), len(a[0])\n",
    "        out = []\n",
    "        for index, i in enumerate(range(n_rows)):\n",
    "            out.append([])\n",
    "            for i in range(n_cols):\n",
    "                out[index].append(0)\n",
    "        for row_index, rows in enumerate(zip(a,b)):\n",
    "            for col_index, cols in enumerate(zip(rows[0], rows[1])): #\n",
    "                out[row_index][col_index] = reduce(lambda x,y : x+y , cols)\n",
    "        return out\n",
    "        \n",
    "    def __mul__(self, mat2):\n",
    "        a,b = self.mat, mat2.mat\n",
    "        n_rows, n_cols = len(a), len(a[0])\n",
    "        out = []\n",
    "        for index, i in enumerate(range(n_rows)):\n",
    "            out.append([])\n",
    "            for i in range(n_cols):\n",
    "                out[index].append(0)\n",
    "        for row_index, rows in enumerate(zip(a,b)):\n",
    "            for col_index, cols in enumerate(zip(rows[0], rows[1])): #\n",
    "                out[row_index][col_index] = reduce(lambda x,y : x*y , cols)\n",
    "        return out\n",
    "                \n",
    "                \n",
    "        \n",
    "        \n",
    "lst1, lst2 =  [[1,2,3,4],[4,5,6,22],[7,8,9,90]] , [[11,22,33,34], [44,55,66,9], [77,88,99,9]]\n",
    "a = Mat(lst1)\n",
    "b = Mat(lst2)\n",
    "try:\n",
    "    out = lst1*lst2\n",
    "    print(out)\n",
    "except Exception as e:\n",
    "    print(e)\n",
    "    out = a*b\n",
    "    print('Overridden function called')\n",
    "    print(out)\n",
    "    \n",
    "out = lst1+lst2\n",
    "print('Inbuilt list call', out)\n",
    "out = a+b\n",
    "print('Overridden call', out)\n"
   ]
  },
  {
   "cell_type": "markdown",
   "metadata": {},
   "source": []
  },
  {
   "cell_type": "markdown",
   "metadata": {},
   "source": [
    "<h3>Method Order resolution during inheritance</h3>"
   ]
  },
  {
   "cell_type": "code",
   "execution_count": 477,
   "metadata": {},
   "outputs": [
    {
     "name": "stdout",
     "output_type": "stream",
     "text": [
      "(<class '__main__.child'>, <class '__main__.mother'>, <class '__main__.father'>, <class '__main__.grandpa'>, <class 'object'>)\n"
     ]
    }
   ],
   "source": [
    "class grandpa(object):\n",
    "    pass\n",
    "class father(grandpa):\n",
    "    pass\n",
    "class mother(object):\n",
    "    pass\n",
    "class child(mother, father):\n",
    "    pass\n",
    "print(child.__mro__)"
   ]
  },
  {
   "cell_type": "code",
   "execution_count": null,
   "metadata": {},
   "outputs": [],
   "source": []
  },
  {
   "cell_type": "markdown",
   "metadata": {},
   "source": [
    "<h1>Class methods, Static Methods and Instance Methods</h1>"
   ]
  },
  {
   "cell_type": "markdown",
   "metadata": {},
   "source": [
    "__Class variables (Static variables) vs instance variables (Non Static variables)__"
   ]
  },
  {
   "cell_type": "markdown",
   "metadata": {},
   "source": [
    "- Classification is based on the scope of variables defined in a class.\n",
    "- Instance variables are those defined inside any method. They are different for different instances of class.\n",
    "- Class variables are defined inside a class outside methods. They are same for all instances , unless we change for any particualr instance\n",
    "- Class variables can be accesssed using class or any instances of class(Recommended to access only through class,Unless we want to change the same for the particular instance).\n",
    "- Variables that are same for all the instances are a good candidate for class variable."
   ]
  },
  {
   "cell_type": "code",
   "execution_count": 26,
   "metadata": {},
   "outputs": [
    {
     "name": "stdout",
     "output_type": "stream",
     "text": [
      "4 4\n",
      "6 6 6\n",
      "6 4 6\n"
     ]
    }
   ],
   "source": [
    "class Car:\n",
    "    wheels = 4 # class variable\n",
    "    def __init__(self, name, power, torque):\n",
    "        self.name, self.power, self.torque = name, power, torque\n",
    "    def findMetric(self):\n",
    "        return power*torque\n",
    "c , b= Car('Audi', 34, 22), Car('Honda', 11, 34)\n",
    "print(c.wheels, Car.wheels) # accessing class variables\n",
    "Car.wheels = 6  # changing clss variables\n",
    "print(c.wheels, b.wheels, Car.wheels)\n",
    "b.wheels = 4 # only affects the b object not c object\n",
    "print(c.wheels, b.wheels, Car.wheels)"
   ]
  },
  {
   "cell_type": "markdown",
   "metadata": {},
   "source": [
    "<h3>Class methods, Static methods and Instance methods</h3>"
   ]
  },
  {
   "cell_type": "markdown",
   "metadata": {},
   "source": [
    "__Class Methods__ <br>\n",
    "- class Method takes the class as first argument.\n",
    "- It is bound to class and not the object of the class.\n",
    "- They have access to class variables , not to instance variables.\n",
    "- They can be called either using class or using object - Both gives same result\n",
    "- Class methods can be used for modifying the class variables . They can be used as an alternate constructor.\n",
    "\n",
    "__Static Methods__<br>\n",
    "- It doent take class or instance as argument.\n",
    "- They are in class just for a logic.\n",
    "- They doesnt have access to class variables or instance variables.\n",
    "- Static methods can be accessed using class or object\n",
    "\n",
    "__Instance Methods__<br>\n",
    "- Instance method takes instance as first argument\n",
    "- Can be used for modifying the object state\n",
    "- Bound to each object."
   ]
  },
  {
   "cell_type": "markdown",
   "metadata": {},
   "source": [
    "- Classification is based on the scope of the methods defined in a class.\n"
   ]
  },
  {
   "cell_type": "markdown",
   "metadata": {},
   "source": [
    "- class methods can be used as alternative constructors."
   ]
  },
  {
   "cell_type": "markdown",
   "metadata": {},
   "source": [
    "__IMPORTANT POINTS__<br>\n",
    "- Class variables can be accessed either using class or instance of class\n",
    "- Creating an instance variable  with same name as class variables overwrites class variable.\n",
    "- Replacing the class variable value via instance replaces the value for the particular instance only.\n",
    "- self and cls are just conventions. To make a method classmethod we need to use decorator(cls word is not enough)\n",
    "- Class methods can be called using Class or instance or class : Both gives same result\n",
    "- Instance methods cannot be called by class.\n",
    "- When should we call a class method by object??When we need to access class method inside a method definition"
   ]
  },
  {
   "cell_type": "code",
   "execution_count": 258,
   "metadata": {},
   "outputs": [
    {
     "name": "stdout",
     "output_type": "stream",
     "text": [
      "Accessing class methods using  Class\n",
      "100000\n",
      "100000 30 90 70\n"
     ]
    }
   ],
   "source": [
    "#class variables can be accessed using class or object . Both gives diff. result .\n",
    "# Changing class variable value via object is reflected only on the object not on the class variable\n",
    "class Product:\n",
    "    products = 100000\n",
    "    prodQuant = {'Electronics':{'Television':10, 'Mobile':10, 'Laptop':10, 'Headset':10, 'Workstation':10},\n",
    "                'Grocery'    :{'Banana':20, 'Orange':20, 'Apple':20, 'Onion':20, 'Brocolli':20}}\n",
    "    prodPrice = {'Electronics':{'Television':300, 'Mobile':100, 'Laptop':200, 'Headset':50, 'Workstation':500},\n",
    "                'Grocery'    :{'Banana':50, 'Orange':100, 'Apple':150, 'Onion':80, 'Brocolli':200}}\n",
    "    def __init__(self, prodCat, prodName, quantity):\n",
    "        self.prodCat = prodCat\n",
    "        self.prodName = prodName\n",
    "        self.quantity = quantity\n",
    "        #self.products.append(self)\n",
    "    \n",
    "    #@classmethod \n",
    "    def updateProd(cls,value):\n",
    "        cls.products= value\n",
    "    \n",
    "    def test(self):\n",
    "        print('Called function test')\n",
    "        \n",
    "    def getOriginalPrice(self):\n",
    "        return self.prodPrice[self.prodCat][self.prodName]*30\n",
    "    \n",
    "\n",
    "p1 = Product('Electronics', 'Mobile', 5)\n",
    "p2 = Product('Grocery', 'Orange', 7)\n",
    "p3 = Product('Electronics', 'Headset', 9)\n",
    "\n",
    "#Accessing class methods using  Class\n",
    "print('Accessing class methods using  Class')\n",
    "print(Product.products)\n",
    "p1.updateProd(30), p2.updateProd(90), p3.updateProd(70)\n",
    "print(Product.products, p1.products, p2.products, p3.products)"
   ]
  },
  {
   "cell_type": "code",
   "execution_count": 269,
   "metadata": {},
   "outputs": [
    {
     "name": "stdout",
     "output_type": "stream",
     "text": [
      "test() missing 1 required positional argument: 'self'\n",
      "test\n",
      "test\n"
     ]
    }
   ],
   "source": [
    "#class methods can be called by class or object -->>both gives same result\n",
    "\n",
    "class Test:\n",
    "    def __init__(self):\n",
    "        pass\n",
    "    \n",
    "    def test(self):\n",
    "        print('test')\n",
    "        \n",
    "try:\n",
    "    Test.test() # Accessing instance method through class\n",
    "except Exception as e:\n",
    "    print(e)\n",
    "    Test().test() # Accessing instance method through object\n",
    "\n",
    "class Test:\n",
    "    def __init__(self):\n",
    "        pass\n",
    "    @classmethod\n",
    "    def test(self):\n",
    "        print('test')\n",
    "\n",
    "Test.test() # Successful        \n",
    "\n",
    "\n"
   ]
  },
  {
   "cell_type": "code",
   "execution_count": 263,
   "metadata": {},
   "outputs": [
    {
     "ename": "TypeError",
     "evalue": "test() missing 1 required positional argument: 'self'",
     "output_type": "error",
     "traceback": [
      "\u001b[1;31m---------------------------------------------------------------------------\u001b[0m",
      "\u001b[1;31mTypeError\u001b[0m                                 Traceback (most recent call last)",
      "\u001b[1;32m<ipython-input-263-7fd5e49963f7>\u001b[0m in \u001b[0;36m<module>\u001b[1;34m\u001b[0m\n\u001b[0;32m     24\u001b[0m \u001b[1;33m\u001b[0m\u001b[0m\n\u001b[0;32m     25\u001b[0m \u001b[0mp1\u001b[0m \u001b[1;33m=\u001b[0m \u001b[0mProduct\u001b[0m\u001b[1;33m(\u001b[0m\u001b[1;34m'Electronics'\u001b[0m\u001b[1;33m,\u001b[0m \u001b[1;34m'Mobile'\u001b[0m\u001b[1;33m,\u001b[0m \u001b[1;36m5\u001b[0m\u001b[1;33m)\u001b[0m\u001b[1;33m\u001b[0m\u001b[1;33m\u001b[0m\u001b[0m\n\u001b[1;32m---> 26\u001b[1;33m \u001b[0mProduct\u001b[0m\u001b[1;33m.\u001b[0m\u001b[0mtest\u001b[0m\u001b[1;33m(\u001b[0m\u001b[1;33m)\u001b[0m\u001b[1;33m\u001b[0m\u001b[1;33m\u001b[0m\u001b[0m\n\u001b[0m",
      "\u001b[1;31mTypeError\u001b[0m: test() missing 1 required positional argument: 'self'"
     ]
    }
   ],
   "source": [
    "#Instance methods cannot be called by class.\n",
    "class Product:\n",
    "    products = 100000\n",
    "    prodQuant = {'Electronics':{'Television':10, 'Mobile':10, 'Laptop':10, 'Headset':10, 'Workstation':10},\n",
    "                'Grocery'    :{'Banana':20, 'Orange':20, 'Apple':20, 'Onion':20, 'Brocolli':20}}\n",
    "    prodPrice = {'Electronics':{'Television':300, 'Mobile':100, 'Laptop':200, 'Headset':50, 'Workstation':500},\n",
    "                'Grocery'    :{'Banana':50, 'Orange':100, 'Apple':150, 'Onion':80, 'Brocolli':200}}\n",
    "    def __init__(self, prodCat, prodName, quantity):\n",
    "        self.prodCat = prodCat\n",
    "        self.prodName = prodName\n",
    "        self.quantity = quantity\n",
    "        #self.products.append(self)\n",
    "    \n",
    "    @classmethod \n",
    "    def updateProd(cls,value):\n",
    "        cls.products= value\n",
    "    \n",
    "    def test(self):\n",
    "        print('Called function test')\n",
    "        \n",
    "    def getOriginalPrice(self):\n",
    "        return self.prodPrice[self.prodCat][self.prodName]*30\n",
    "\n",
    "    \n",
    "p1 = Product('Electronics', 'Mobile', 5)\n",
    "Product.test()"
   ]
  },
  {
   "cell_type": "code",
   "execution_count": 207,
   "metadata": {},
   "outputs": [
    {
     "name": "stdout",
     "output_type": "stream",
     "text": [
      "['__class__', '__delattr__', '__dict__', '__dir__', '__doc__', '__eq__', '__format__', '__ge__', '__getattribute__', '__gt__', '__hash__', '__init__', '__init_subclass__', '__le__', '__lt__', '__module__', '__ne__', '__new__', '__reduce__', '__reduce_ex__', '__repr__', '__setattr__', '__sizeof__', '__str__', '__subclasshook__', '__weakref__', 'getOriginalPrice', 'prodPrice', 'prodQuant', 'products', 'test', 'updateProd']\n",
      "******************\n",
      "['__class__', '__delattr__', '__dict__', '__dir__', '__doc__', '__eq__', '__format__', '__ge__', '__getattribute__', '__gt__', '__hash__', '__init__', '__init_subclass__', '__le__', '__lt__', '__module__', '__ne__', '__new__', '__reduce__', '__reduce_ex__', '__repr__', '__setattr__', '__sizeof__', '__str__', '__subclasshook__', '__weakref__', 'getOriginalPrice', 'prodCat', 'prodName', 'prodPrice', 'prodQuant', 'products', 'quantity', 'test', 'updateProd']\n"
     ]
    }
   ],
   "source": [
    "print(dir(Product))\n",
    "print('******************')\n",
    "print(dir(p1))"
   ]
  },
  {
   "cell_type": "markdown",
   "metadata": {},
   "source": [
    "- Class has access to class variables and class methods only. Instance methods cannot be called by class though it is in its dir()\n",
    "- Instances has access to instance variables, instance methods, class variables(locally alters value not class value) and class methods (give same result)\n"
   ]
  },
  {
   "cell_type": "code",
   "execution_count": 277,
   "metadata": {},
   "outputs": [
    {
     "name": "stdout",
     "output_type": "stream",
     "text": [
      "4 4 4 4 4\n"
     ]
    }
   ],
   "source": [
    "class Product:\n",
    "    n_products = 0\n",
    "    prodQuant = {'Electronics':{'Television':10, 'Mobile':10, 'Laptop':10, 'Headset':10, 'Workstation':10},\n",
    "                'Grocery'    :{'Banana':20, 'Orange':20, 'Apple':20, 'Onion':20, 'Brocolli':20}}\n",
    "    prodPrice = {'Electronics':{'Television':300, 'Mobile':100, 'Laptop':200, 'Headset':50, 'Workstation':500},\n",
    "                'Grocery'    :{'Banana':50, 'Orange':100, 'Apple':150, 'Onion':80, 'Brocolli':200}}\n",
    "    def __init__(self, prodCat, prodName, quantity):\n",
    "        self.prodCat = prodCat\n",
    "        self.prodName = prodName\n",
    "        self.quantity = quantity\n",
    "        self.updateProd() #calling class methods using object. Product.n_products+=1 is also true\n",
    "        \n",
    "    @classmethod \n",
    "    def updateProd(cls):\n",
    "        cls.n_products+=1\n",
    "    \n",
    "    def test(self):\n",
    "        print('Called function test')\n",
    "        \n",
    "    def getOriginalPrice(self):\n",
    "        return self.prodPrice[self.prodCat][self.prodName]*30\n",
    "\n",
    "    \n",
    "p1 = Product('Electronics', 'Mobile', 5)\n",
    "p2 = Product('Electronics', 'Mobile', 5)\n",
    "p3 = Product('Grocery', 'Orange', 7)\n",
    "p4 = Product('Grocery', 'Apple', 9)\n",
    "print(Product.n_products, p1.n_products, p2.n_products, p3.n_products, p4.n_products)"
   ]
  },
  {
   "cell_type": "code",
   "execution_count": 286,
   "metadata": {},
   "outputs": [
    {
     "name": "stdout",
     "output_type": "stream",
     "text": [
      "instance method\n"
     ]
    }
   ],
   "source": [
    "# Instance method created with same name as class method overwrites class method\n",
    "class A:\n",
    "    @classmethod\n",
    "    def m1(self):\n",
    "        print('class method')\n",
    "        \n",
    "        \n",
    "    def m1(self):\n",
    "        print('instance method')\n",
    "        \n",
    "a = A()\n",
    "a.m1()"
   ]
  },
  {
   "cell_type": "code",
   "execution_count": null,
   "metadata": {},
   "outputs": [],
   "source": []
  },
  {
   "cell_type": "code",
   "execution_count": null,
   "metadata": {},
   "outputs": [],
   "source": []
  },
  {
   "cell_type": "code",
   "execution_count": 291,
   "metadata": {},
   "outputs": [
    {
     "name": "stdout",
     "output_type": "stream",
     "text": [
      "['self', 'x', 'y']\n",
      "Outside class\n",
      "21\n"
     ]
    }
   ],
   "source": []
  },
  {
   "cell_type": "code",
   "execution_count": 13,
   "metadata": {},
   "outputs": [
    {
     "name": "stdout",
     "output_type": "stream",
     "text": [
      "Total number of emplytedds 3\n",
      "rakesh khanna/rakesh.khanna@email.com/26\n",
      "4\n",
      "kumar ragav/kumar.ragav@email.com/27\n",
      "5\n"
     ]
    },
    {
     "data": {
      "text/plain": [
       "(True, False)"
      ]
     },
     "execution_count": 13,
     "metadata": {},
     "output_type": "execute_result"
    }
   ],
   "source": [
    "class Employee:\n",
    "    noEmp = 0 # Class variable\n",
    "    salincr = 1.4\n",
    "    def __init__(self, first, second, dob):\n",
    "        self.name = first + \" \"+ second\n",
    "        self.email = first+'.'+second+'@email.com'\n",
    "        self.age = 2021 - dob\n",
    "        #self.incrementCount() # Accessing class methods with instance of the class\n",
    "        Employee.noEmp+=1  #Accessing class variables using class\n",
    "    @classmethod\n",
    "    def incrementCount(cls):\n",
    "        cls.noEmp+=1 # Acceesing classvariables\n",
    "    \n",
    "    @classmethod\n",
    "    def create_object(cls, empString): # Using class method as an alternate constructor\n",
    "        first, second, dob = empString.split('-')\n",
    "        dob = int(dob)\n",
    "        return cls(first, second, dob)\n",
    "    \n",
    "    @staticmethod\n",
    "    def isOdd(num):\n",
    "        if num%2 ==0 :\n",
    "            return False\n",
    "        return True\n",
    "    \n",
    "    \n",
    "        \n",
    "e1, e2 , e3  = Employee('cyril', 'joseph', 1995), Employee('leo', 'messi', 1990), Employee('thorgan', 'hazard', 1993)\n",
    "print('Total number of emplytedds',Employee.noEmp)\n",
    "obj = Employee.create_object('rakesh-khanna-1995')\n",
    "print(obj.name, obj.email, obj.age , sep = '/')\n",
    "print(Employee.noEmp)\n",
    "\n",
    "obj2 = e1.create_object('kumar-ragav-1994') # Accessing class methods using instance . not recommended.\n",
    "print(obj2.name, obj2.email, obj2.age , sep = '/')\n",
    "print(Employee.noEmp)\n",
    "\n",
    "Employee.isOdd(33), e1.isOdd(34) # Accessing static methods."
   ]
  },
  {
   "cell_type": "code",
   "execution_count": null,
   "metadata": {},
   "outputs": [],
   "source": [
    "obj = Employee.create_object('rakesh-khanna-1995')\n",
    "print(obj.name, obj.email, obj.age , sep = '/')\n",
    "print(Employee.noEmp)"
   ]
  },
  {
   "cell_type": "markdown",
   "metadata": {},
   "source": [
    "__Static methods__"
   ]
  },
  {
   "cell_type": "code",
   "execution_count": 284,
   "metadata": {},
   "outputs": [
    {
     "data": {
      "text/plain": [
       "5"
      ]
     },
     "execution_count": 284,
     "metadata": {},
     "output_type": "execute_result"
    }
   ],
   "source": [
    "class Circle:\n",
    "    count = 0\n",
    "    def __init__(self, radius):\n",
    "        self.radius = radius\n",
    "        Circle.count +=1\n",
    "    \n",
    "    def getCount(self):\n",
    "        return (sself.count\n",
    "    @staticmethod\n",
    "    def add(x,y):\n",
    "        return x+y\n",
    "\n",
    "c1, c2, c3, c4 = Circle(10), Circle(10), Circle(10), Circle(10)\n",
    "Circle(30).getCount()\n",
    "Circle.count"
   ]
  },
  {
   "cell_type": "code",
   "execution_count": 296,
   "metadata": {},
   "outputs": [
    {
     "ename": "TypeError",
     "evalue": "'classmethod' object is not callable",
     "output_type": "error",
     "traceback": [
      "\u001b[1;31m---------------------------------------------------------------------------\u001b[0m",
      "\u001b[1;31mTypeError\u001b[0m                                 Traceback (most recent call last)",
      "\u001b[1;32m<ipython-input-296-f4719d083f17>\u001b[0m in \u001b[0;36m<module>\u001b[1;34m\u001b[0m\n\u001b[0;32m      5\u001b[0m     \u001b[1;32mdef\u001b[0m \u001b[0mm1\u001b[0m\u001b[1;33m(\u001b[0m\u001b[0mself\u001b[0m\u001b[1;33m)\u001b[0m\u001b[1;33m:\u001b[0m\u001b[1;33m\u001b[0m\u001b[1;33m\u001b[0m\u001b[0m\n\u001b[0;32m      6\u001b[0m         \u001b[0mprint\u001b[0m\u001b[1;33m(\u001b[0m\u001b[1;34m'hello'\u001b[0m\u001b[1;33m)\u001b[0m\u001b[1;33m\u001b[0m\u001b[1;33m\u001b[0m\u001b[0m\n\u001b[1;32m----> 7\u001b[1;33m \u001b[0mA\u001b[0m\u001b[1;33m.\u001b[0m\u001b[0mm1\u001b[0m\u001b[1;33m(\u001b[0m\u001b[1;36m5\u001b[0m\u001b[1;33m)\u001b[0m\u001b[1;33m\u001b[0m\u001b[1;33m\u001b[0m\u001b[0m\n\u001b[0m",
      "\u001b[1;31mTypeError\u001b[0m: 'classmethod' object is not callable"
     ]
    }
   ],
   "source": [
    "class A:\n",
    "    \n",
    "    @staticmethod\n",
    "    @classmethod\n",
    "    def m1(self):\n",
    "        print('hello')\n",
    "A.m1(5)"
   ]
  },
  {
   "cell_type": "markdown",
   "metadata": {},
   "source": [
    "<h1>Abstract Classes</h1>"
   ]
  },
  {
   "cell_type": "markdown",
   "metadata": {},
   "source": [
    "Abstrace means : Existing in thoughts or idea but does not have physical or concreate existence."
   ]
  },
  {
   "cell_type": "markdown",
   "metadata": {},
   "source": [
    "- Abstract classes are particularly useful in a design perspective.\n",
    "- It is a blueprint of the original class.\n",
    "- It allows to create a set of methods that must be created within any child classes built from the abstract classes.\n",
    "- ValueError is thrown if all abstract methods in abstract classes are not defined.\n",
    "- Instance of abstract class cannot be created.\n",
    "- Instance methods can be defined in abstract class and can also be accessed by child class instances"
   ]
  },
  {
   "cell_type": "code",
   "execution_count": 235,
   "metadata": {},
   "outputs": [
    {
     "name": "stdout",
     "output_type": "stream",
     "text": [
      "Can't instantiate abstract class Shape with abstract methods area, perimeter\n",
      "Can't instantiate abstract class Square with abstract methods perimeter\n",
      "test method\n"
     ]
    },
    {
     "data": {
      "text/plain": [
       "(1849, 172, None)"
      ]
     },
     "execution_count": 235,
     "metadata": {},
     "output_type": "execute_result"
    }
   ],
   "source": [
    "from abc import ABC , abstractmethod\n",
    "\n",
    "#Blueprint of shape class\n",
    "class Shape(ABC):\n",
    "    @abstractmethod\n",
    "    def area(self):\n",
    "        print('area')\n",
    "    @abstractmethod\n",
    "    def perimeter(self):\n",
    "        print('perimeter')\n",
    "    def test(self):\n",
    "        print('test method')\n",
    "\n",
    "try:\n",
    "    s = Shape() # Throws a type error\n",
    "except Exception as e: \n",
    "    print(e)\n",
    "    \n",
    "class Square(Shape):\n",
    "    def __init__(self, side):\n",
    "        self.side = side\n",
    "    def area(self):\n",
    "        return self.side*self.side\n",
    "    \"\"\"def perimeter(self):\n",
    "        return 4*self.side\"\"\"\n",
    "\n",
    "try:\n",
    "    s = Square() # Throws a type error\n",
    "except Exception as e: \n",
    "    print(e)\n",
    "    \n",
    "class Square(Shape):\n",
    "    def __init__(self, side):\n",
    "        self.side = side\n",
    "    def area(self):\n",
    "        return self.side*self.side\n",
    "    def perimeter(self):\n",
    "        return 4*self.side\n",
    "    \n",
    "s = Square(43)\n",
    "s.area(), s.perimeter(), s.test() #Square instance able to access test method though in abstract class, \n",
    "                                  #since it is not abs.method"
   ]
  },
  {
   "cell_type": "code",
   "execution_count": 233,
   "metadata": {},
   "outputs": [
    {
     "name": "stdout",
     "output_type": "stream",
     "text": [
      "In class B Method m1\n"
     ]
    }
   ],
   "source": [
    "from abc import ABC , abstractmethod\n",
    "\n",
    "class A(ABC):\n",
    "    @classmethod\n",
    "    def m1(self):\n",
    "        print('In class A , Method m1')\n",
    "\n",
    "class B(A):\n",
    "    \n",
    "    @classmethod\n",
    "    def m11(self):\n",
    "        print('In class B Method m1')\n",
    "        \n"
   ]
  },
  {
   "cell_type": "markdown",
   "metadata": {},
   "source": [
    "<h1>Coroutines</h1>"
   ]
  },
  {
   "cell_type": "markdown",
   "metadata": {},
   "source": [
    "- A function which can pause and resume its execution"
   ]
  },
  {
   "cell_type": "code",
   "execution_count": 329,
   "metadata": {},
   "outputs": [
    {
     "name": "stdout",
     "output_type": "stream",
     "text": [
      "george\n",
      "Williams\n",
      "john\n"
     ]
    }
   ],
   "source": [
    "def fn():\n",
    "    while True:\n",
    "        fname = yield\n",
    "        print(fname)\n",
    "        lname = yield\n",
    "        print(lname)\n",
    "        \n",
    "n = fn()\n",
    "next(n)\n",
    "n.send('george')\n",
    "n.send('Williams')\n",
    "n.send('john')"
   ]
  },
  {
   "cell_type": "code",
   "execution_count": 309,
   "metadata": {},
   "outputs": [],
   "source": []
  },
  {
   "cell_type": "code",
   "execution_count": 301,
   "metadata": {},
   "outputs": [
    {
     "name": "stdout",
     "output_type": "stream",
     "text": [
      "Searching prefix:Dear\n",
      "Dear Atul\n"
     ]
    }
   ],
   "source": [
    "\n",
    "# Python3 program for demonstrating \n",
    "# coroutine execution\n",
    "  \n",
    "def print_name(prefix):\n",
    "    print(\"Searching prefix:{}\".format(prefix))\n",
    "    while True:\n",
    "        name = (yield)\n",
    "        if prefix in name:\n",
    "            print(name)\n",
    "  \n",
    "# calling coroutine, nothing will happen\n",
    "corou = print_name(\"Dear\")\n",
    "  \n",
    "# This will start execution of coroutine and \n",
    "# Prints first line \"Searchig prefix...\"\n",
    "# and advance execution to the first yield expression\n",
    "corou.__next__()\n",
    "  \n",
    "# sending inputs\n",
    "corou.send(\"Atul\")\n",
    "corou.send(\"Dear Atul\")"
   ]
  },
  {
   "cell_type": "code",
   "execution_count": null,
   "metadata": {},
   "outputs": [],
   "source": []
  },
  {
   "cell_type": "code",
   "execution_count": null,
   "metadata": {},
   "outputs": [],
   "source": []
  },
  {
   "cell_type": "code",
   "execution_count": null,
   "metadata": {},
   "outputs": [],
   "source": []
  },
  {
   "cell_type": "code",
   "execution_count": null,
   "metadata": {},
   "outputs": [],
   "source": []
  },
  {
   "cell_type": "code",
   "execution_count": null,
   "metadata": {},
   "outputs": [],
   "source": []
  },
  {
   "cell_type": "code",
   "execution_count": null,
   "metadata": {},
   "outputs": [],
   "source": []
  }
 ],
 "metadata": {
  "kernelspec": {
   "display_name": "Python 3",
   "language": "python",
   "name": "python3"
  },
  "language_info": {
   "codemirror_mode": {
    "name": "ipython",
    "version": 3
   },
   "file_extension": ".py",
   "mimetype": "text/x-python",
   "name": "python",
   "nbconvert_exporter": "python",
   "pygments_lexer": "ipython3",
   "version": "3.7.1"
  }
 },
 "nbformat": 4,
 "nbformat_minor": 4
}
