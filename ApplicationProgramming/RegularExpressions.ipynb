{
 "cells": [
  {
   "cell_type": "markdown",
   "metadata": {},
   "source": [
    "MetaCharacters (Need to be escaped): <br>\n",
    ". [ { ( ) \\ ^ $ | ? * + "
   ]
  },
  {
   "cell_type": "code",
   "execution_count": null,
   "metadata": {},
   "outputs": [],
   "source": [
    ".       - Any Character Except New Line\n",
    "\\d      - Digit (0-9)\n",
    "\\D      - Not a Digit (0-9)\n",
    "\\w      - Word Character (a-z, A-Z, 0-9, _)\n",
    "\\W      - Not a Word Character\n",
    "\\s      - Whitespace (space, tab, newline)\n",
    "\\S      - Not Whitespace (space, tab, newline)\n",
    "\n",
    "\\b      - Word Boundary (. and whitespace is considered word boundary)\n",
    "\\B      - Not a Word Boundary\n",
    "^       - Beginning of a String\n",
    "$       - End of a String\n",
    "\n",
    "[]      - Matches Characters in brackets\n",
    "[^ ]    - Matches Characters NOT in brackets\n",
    "|       - Either Or\n",
    "( )     - Group\n",
    "\n",
    "Quantifiers:\n",
    "*       - 0 or More of the prefix\n",
    "+       - 1 or More of the prefix\n",
    "?       - 0 or One of the prefix\n",
    "{3}     - Exact Number of the prefix\n",
    "{3,4}   - Range of Numbers (Minimum, Maximum) of the prefix\n",
    "\n",
    "\n",
    "#### Sample Regexs ####\n",
    "\n",
    "[a-zA-Z0-9_.+-]+@[a-zA-Z0-9-]+\\.[a-zA-Z0-9-.]+"
   ]
  },
  {
   "cell_type": "code",
   "execution_count": 179,
   "metadata": {},
   "outputs": [
    {
     "name": "stdout",
     "output_type": "stream",
     "text": [
      "\n",
      "\n"
     ]
    }
   ],
   "source": [
    "with open('simple.txt', 'r') as f :\n",
    "    data = f.read()\n",
    "    \n",
    "print(data[])"
   ]
  },
  {
   "cell_type": "markdown",
   "metadata": {},
   "source": [
    "<h3>Finding pattern</h3>"
   ]
  },
  {
   "cell_type": "markdown",
   "metadata": {},
   "source": [
    "- re.findall(pattern , string, flag ) : Returns the list of all matches in the string as string. If it is matching groups it will only return groups\n",
    "- re.finditer(pattern , string, flag) : Returns an iterator containing match objects \n",
    "- re.search(pattern string, flag) : Returns the first match as match object\n",
    "- re.match(pattern, string, flag) : Applies the match pattern at start of string and returns a match object \n",
    "- re.split(pattern, string, maxsplit): Splits the string with the match\n",
    "- re.sub(pattern , replace ,string, count) : Replaces matches count times with replace string"
   ]
  },
  {
   "cell_type": "code",
   "execution_count": 188,
   "metadata": {},
   "outputs": [
    {
     "name": "stdout",
     "output_type": "stream",
     "text": [
      "['321-555-4321', '123.555.1234']\n",
      "<re.Match object; span=(140, 152), match='321-555-4321'>\n",
      "None\n",
      "<re.Match object; span=(0, 4), match='some'>\n",
      "['something ', 'just ', 'like ', 'this 343. by coldplay 342. and chainsmookers']\n",
      "something HIjust HIlike 343.this 343. by coldplay 342. and chainsmookers\n"
     ]
    }
   ],
   "source": [
    "phNo = r'\\d+[-.]\\d+[-.]\\d+'\n",
    "string = \"something 345.just 322.like 343.this 343. by coldplay 342. and chainsmookers\"\n",
    "print(re.findall(phNo, data))\n",
    "print(re.search(phNo, data))\n",
    "print(re.match(phNo, data))\n",
    "print(re.match(r'some+', string))\n",
    "print(re.split(r'\\d+\\.', string, maxsplit = 3))\n",
    "print(re.sub(r'\\d+\\.', 'HI', string, count = 2))"
   ]
  },
  {
   "cell_type": "markdown",
   "metadata": {},
   "source": [
    "- If groups are there in the regular expression, then findall will only return the groups.\n"
   ]
  },
  {
   "cell_type": "code",
   "execution_count": 265,
   "metadata": {},
   "outputs": [
    {
     "name": "stdout",
     "output_type": "stream",
     "text": [
      "[<re.Match object; span=(10, 19), match='345. just'>, <re.Match object; span=(55, 64), match='342. just'>]\n",
      "['345.', '342.']\n"
     ]
    }
   ],
   "source": [
    "string = \"something 345. just 322.like 343.this 343. by coldplay 342. just and chainsmookers\"\n",
    "reg = '(\\d+\\.) just'\n",
    "print(list(re.finditer(reg,string)))\n",
    "print(re.findall(reg, string)) # just returns the group"
   ]
  },
  {
   "cell_type": "code",
   "execution_count": 197,
   "metadata": {},
   "outputs": [
    {
     "name": "stdout",
     "output_type": "stream",
     "text": [
      "<re.Match object; span=(10, 14), match='345.'> 10 14 (10, 14) 345.\n",
      "<re.Match object; span=(19, 23), match='322.'> 19 23 (19, 23) 322.\n",
      "<re.Match object; span=(28, 32), match='343.'> 28 32 (28, 32) 343.\n",
      "<re.Match object; span=(37, 41), match='343.'> 37 41 (37, 41) 343.\n",
      "<re.Match object; span=(54, 58), match='342.'> 54 58 (54, 58) 342.\n"
     ]
    }
   ],
   "source": [
    "match = re.finditer(r'(\\d)+\\.', string )\n",
    "for i in match:\n",
    "    print(i, i.start(), i.end(), i.span(), i.group())"
   ]
  },
  {
   "cell_type": "markdown",
   "metadata": {},
   "source": [
    "<h3>Using groups</h3>"
   ]
  },
  {
   "cell_type": "code",
   "execution_count": 274,
   "metadata": {},
   "outputs": [
    {
     "name": "stdout",
     "output_type": "stream",
     "text": [
      "[('www.', 'google', '.com'), ('', 'coreyms', '.com'), ('', 'youtube', '.com'), ('www.', 'nasa', '.gov')]\n"
     ]
    }
   ],
   "source": [
    "urls = \"\"\"\n",
    "https://www.google.com\n",
    "http://coreyms.com\n",
    "https://youtube.com\n",
    "https://www.nasa.gov\n",
    "\"\"\"\n",
    "urlRegex = r'https?://(www\\.)?(\\w+)(\\.\\w+)'\n",
    "print(re.findall(urlRegex, urls)) # Returns groups of the matching strings"
   ]
  },
  {
   "cell_type": "code",
   "execution_count": 276,
   "metadata": {},
   "outputs": [
    {
     "data": {
      "text/plain": [
       "[<re.Match object; span=(1, 23), match='https://www.google.com'>,\n",
       " <re.Match object; span=(24, 42), match='http://coreyms.com'>,\n",
       " <re.Match object; span=(43, 62), match='https://youtube.com'>,\n",
       " <re.Match object; span=(63, 83), match='https://www.nasa.gov'>]"
      ]
     },
     "execution_count": 276,
     "metadata": {},
     "output_type": "execute_result"
    }
   ],
   "source": [
    "list(re.finditer(urlRegex, urls))"
   ]
  },
  {
   "cell_type": "code",
   "execution_count": 278,
   "metadata": {},
   "outputs": [
    {
     "data": {
      "text/plain": [
       "['google.com', 'coreyms.com', 'youtube.com', 'nasa.gov']"
      ]
     },
     "execution_count": 278,
     "metadata": {},
     "output_type": "execute_result"
    }
   ],
   "source": [
    "[''.join(i.group(2,3)) for i in re.finditer(urlRegex, urls)]"
   ]
  },
  {
   "cell_type": "code",
   "execution_count": 281,
   "metadata": {},
   "outputs": [
    {
     "name": "stdout",
     "output_type": "stream",
     "text": [
      "\n",
      "google.com\n",
      "coreyms.com\n",
      "youtube.com\n",
      "nasa.gov\n",
      "\n"
     ]
    }
   ],
   "source": [
    "print(re.sub(urlRegex, r'\\2\\3', urls )) #Replace the pattern with elements in the group 2 and group 3"
   ]
  },
  {
   "cell_type": "code",
   "execution_count": 256,
   "metadata": {},
   "outputs": [
    {
     "name": "stdout",
     "output_type": "stream",
     "text": [
      "\n",
      "google.com\n",
      "coreyms.com\n",
      "youtube.com\n",
      "nasa.gov\n",
      "\n"
     ]
    }
   ],
   "source": [
    "urls = \"\"\"\n",
    "https://www.google.com\n",
    "http://coreyms.com\n",
    "https://youtube.com\n",
    "https://www.nasa.gov\n",
    "\"\"\"\n",
    "urlRegex = r'https?://(www\\.)?(\\w+)(\\.\\w+)'\n",
    "pattern = re.compile(urlRegex)\n",
    "match = pattern.sub(r'\\2\\3', urls)\n",
    "print(match)"
   ]
  },
  {
   "cell_type": "markdown",
   "metadata": {},
   "source": [
    "<h3>Using re.compile()</h3>"
   ]
  },
  {
   "cell_type": "markdown",
   "metadata": {},
   "source": [
    "- re.compile(pattern, flag) returns a pattern or regular expression object\n",
    "- The pattern object can be used for matching a string with a given pattern.\n",
    "- Search, findall , match, etc can be used for matching which returns a match object which can be used for extracting groups"
   ]
  },
  {
   "cell_type": "code",
   "execution_count": 172,
   "metadata": {},
   "outputs": [
    {
     "name": "stdout",
     "output_type": "stream",
     "text": [
      "['321-555-4321', '123.555.1234']\n"
     ]
    }
   ],
   "source": [
    "#Find all phone numbers from the given data\n",
    "phNo = r'\\d+[-.]\\d+[-.]\\d+'\n",
    "pattern = re.compile(pattern = phNo) \n",
    "match = pattern.findall(data)\n",
    "print(match)\n"
   ]
  },
  {
   "cell_type": "code",
   "execution_count": 171,
   "metadata": {},
   "outputs": [
    {
     "name": "stdout",
     "output_type": "stream",
     "text": [
      "Pattern object methods\n",
      "['__class__', '__copy__', '__deepcopy__', '__delattr__', '__dir__', '__doc__', '__eq__', '__format__', '__ge__', '__getattribute__', '__gt__', '__hash__', '__init__', '__init_subclass__', '__le__', '__lt__', '__ne__', '__new__', '__reduce__', '__reduce_ex__', '__repr__', '__setattr__', '__sizeof__', '__str__', '__subclasshook__', 'findall', 'finditer', 'flags', 'fullmatch', 'groupindex', 'groups', 'match', 'pattern', 'scanner', 'search', 'split', 'sub', 'subn']\n",
      "Match object methods\n",
      "['__class__', '__copy__', '__deepcopy__', '__delattr__', '__dir__', '__doc__', '__eq__', '__format__', '__ge__', '__getattribute__', '__getitem__', '__gt__', '__hash__', '__init__', '__init_subclass__', '__le__', '__lt__', '__ne__', '__new__', '__reduce__', '__reduce_ex__', '__repr__', '__setattr__', '__sizeof__', '__str__', '__subclasshook__', 'end', 'endpos', 'expand', 'group', 'groupdict', 'groups', 'lastgroup', 'lastindex', 'pos', 're', 'regs', 'span', 'start', 'string']\n"
     ]
    }
   ],
   "source": [
    "print('Pattern object methods')\n",
    "print(dir(pattern))\n",
    "print('Match object methods')\n",
    "print(dir(match))"
   ]
  },
  {
   "cell_type": "code",
   "execution_count": 286,
   "metadata": {},
   "outputs": [
    {
     "name": "stdout",
     "output_type": "stream",
     "text": [
      "<re.Match object; span=(0, 22), match='https://www.google.com'>\n",
      "<re.Match object; span=(23, 41), match='http://youtube.com'>\n",
      "<re.Match object; span=(42, 63), match='https://www.paytm.com'>\n",
      "[('www.', 'google', '.com'), ('', 'youtube', '.com'), ('www.', 'paytm', '.com')]\n"
     ]
    }
   ],
   "source": [
    "urls = \"\"\"https://www.google.com\n",
    "http://youtube.com\n",
    "https://www.paytm.com\n",
    "\"\"\"\n",
    "reg = r'https?://(www.)?(\\w+)(\\.\\w+)'\n",
    "for i in re.finditer(reg, urls):\n",
    "    print(i)\n",
    "print(re.findall(reg, urls))"
   ]
  },
  {
   "cell_type": "code",
   "execution_count": null,
   "metadata": {},
   "outputs": [],
   "source": [
    "impo"
   ]
  },
  {
   "cell_type": "code",
   "execution_count": null,
   "metadata": {},
   "outputs": [],
   "source": []
  }
 ],
 "metadata": {
  "kernelspec": {
   "display_name": "Python 3",
   "language": "python",
   "name": "python3"
  },
  "language_info": {
   "codemirror_mode": {
    "name": "ipython",
    "version": 3
   },
   "file_extension": ".py",
   "mimetype": "text/x-python",
   "name": "python",
   "nbconvert_exporter": "python",
   "pygments_lexer": "ipython3",
   "version": "3.7.1"
  }
 },
 "nbformat": 4,
 "nbformat_minor": 4
}
