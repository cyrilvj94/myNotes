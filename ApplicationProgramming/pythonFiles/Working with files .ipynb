{
 "cells": [
  {
   "cell_type": "code",
   "execution_count": 1,
   "metadata": {},
   "outputs": [],
   "source": [
    "import os "
   ]
  },
  {
   "cell_type": "code",
   "execution_count": 2,
   "metadata": {},
   "outputs": [
    {
     "data": {
      "text/plain": [
       "['.ipynb_checkpoints', 'test.txt', 'test2.txt', 'Working with files .ipynb']"
      ]
     },
     "execution_count": 2,
     "metadata": {},
     "output_type": "execute_result"
    }
   ],
   "source": [
    "os.listdir()"
   ]
  },
  {
   "cell_type": "code",
   "execution_count": 3,
   "metadata": {},
   "outputs": [],
   "source": [
    "dString = \"\"\"\n",
    "This is a sample test file\n",
    "first line \n",
    "second line\n",
    "third line\n",
    "\n",
    "\"\"\""
   ]
  },
  {
   "cell_type": "markdown",
   "metadata": {},
   "source": [
    "__Why using context managers is considered a better practise for working with files__<br>\n",
    "Ans: If we use open statement directly we need to explicitely close the file . Context managers automatically closes the files even \n",
    "    if an exception is raised"
   ]
  },
  {
   "cell_type": "markdown",
   "metadata": {},
   "source": [
    "__Different Ways of Reading a file are__\n",
    "- f.read()\n",
    "- f.readlines()\n",
    "- f.readline()\n",
    "- file object is an iterator as it has next and iter magic methods"
   ]
  },
  {
   "cell_type": "markdown",
   "metadata": {},
   "source": [
    "<h3>The file object is an iterator with next and iter dunder methods</h3>"
   ]
  },
  {
   "cell_type": "code",
   "execution_count": 73,
   "metadata": {},
   "outputs": [
    {
     "name": "stdout",
     "output_type": "stream",
     "text": [
      "['The very first line\\n', '1) This is a test file\\n', '2) With multiple lines of data...\\n', '3) Third line\\n', '4) Fourth line\\n', '5) Fifth line\\n', '6) Sixth line\\n', '7) Seventh line\\n', '8) Eighth line\\n', '9) Ninth line\\n', '10) Tenth line']\n"
     ]
    }
   ],
   "source": [
    "def genFn():\n",
    "    with open('test.txt','r') as f:\n",
    "        for i in f:\n",
    "            yield i\n",
    "\n",
    "lst = genFn()\n",
    "print(list(lst))"
   ]
  },
  {
   "cell_type": "code",
   "execution_count": 81,
   "metadata": {},
   "outputs": [
    {
     "name": "stdout",
     "output_type": "stream",
     "text": [
      "The very first line\n",
      "1) This is a test file\n",
      "2) With multiple lines of data...\n",
      "3) Third line\n",
      "4) Fourth line\n",
      "5) Fifth line\n",
      "6) Sixth line\n",
      "7) Seventh line\n",
      "8) Eighth line\n",
      "9) Ninth line\n",
      "10) Tenth line"
     ]
    }
   ],
   "source": [
    "with open('test.txt', 'r') as f:\n",
    "    while True:\n",
    "        try:\n",
    "            #print('Current stream position', f.tell())\n",
    "            print(next(f), end = '')\n",
    "        except StopIteration:\n",
    "            break"
   ]
  },
  {
   "cell_type": "markdown",
   "metadata": {},
   "source": [
    "<h3>Using f.read(size)</h3>"
   ]
  },
  {
   "cell_type": "markdown",
   "metadata": {},
   "source": [
    "- Reads from f.seek() position / (0 by default) till size or end of FILE . \n",
    "- Jargon, Reads n characters from stream or until EOF\n",
    "- Returns a string object"
   ]
  },
  {
   "cell_type": "code",
   "execution_count": 91,
   "metadata": {},
   "outputs": [
    {
     "name": "stdout",
     "output_type": "stream",
     "text": [
      "The very first line\n",
      "\n"
     ]
    }
   ],
   "source": [
    "f = open('test.txt', 'r')\n",
    "print(next(f))\n",
    "f.close()"
   ]
  },
  {
   "cell_type": "code",
   "execution_count": 95,
   "metadata": {},
   "outputs": [
    {
     "name": "stdout",
     "output_type": "stream",
     "text": [
      "Position of the stream 0\n",
      "\n",
      "The very first line\n",
      "1) This is a test file\n",
      "2) With multiple lines of data...\n",
      "3) Third line\n",
      "4) Fourth line\n",
      "5) Fifth line\n",
      "6) Sixth line\n",
      "7) Seventh line\n",
      "8) Eighth line\n",
      "9) Ninth line\n",
      "10) Tenth line <class 'str'>\n"
     ]
    }
   ],
   "source": [
    "# Reads from 0 th position till end of file\n",
    "with open('test.txt', 'r') as f:\n",
    "    print('Position of the stream',f.tell())\n",
    "    print()\n",
    "    data = f.read()\n",
    "    print(data, type(data))"
   ]
  },
  {
   "cell_type": "code",
   "execution_count": 5,
   "metadata": {},
   "outputs": [
    {
     "name": "stdout",
     "output_type": "stream",
     "text": [
      "Position of the stream 55\n",
      ".\n",
      "3) Third line\n",
      "4) Fourth line\n",
      "5) Fifth line\n",
      "6) Sixth line\n",
      "7) Seventh line\n",
      "8) Eighth line\n",
      "9) Ninth line\n",
      "10) Tenth line\n",
      "\n"
     ]
    }
   ],
   "source": [
    "# Read from 45 th charachter to the end of file\n",
    "with open('test.txt', 'r') as f:\n",
    "    f.seek(55) # Seeks sets the position of the file stream\n",
    "    print('Position of the stream',f.tell())\n",
    "    data = f.read()\n",
    "    print(data)"
   ]
  },
  {
   "cell_type": "code",
   "execution_count": 117,
   "metadata": {},
   "outputs": [
    {
     "name": "stdout",
     "output_type": "stream",
     "text": [
      "Position of stream :  55\n",
      "Position of stream: 155\n",
      "\n",
      "iple lines of data...\n",
      "3) Third line\n",
      "4) Fourth line\n",
      "5) Fifth line\n",
      "6) Sixth line\n",
      "7) Seventh line\n",
      "8) Ei\n",
      "<class 'str'>\n",
      "100\n"
     ]
    }
   ],
   "source": [
    "# Read from 55 th character till limit(100 here) is reached\n",
    "with open('test.txt' , 'r') as f:\n",
    "    f.seek(55)\n",
    "    print('Position of stream : ', f.tell())\n",
    "    data = f.read(100)\n",
    "    print('Position of stream:', f.tell())\n",
    "    print()\n",
    "    print(data, type(data), len(data), sep = '\\n' )"
   ]
  },
  {
   "cell_type": "code",
   "execution_count": 274,
   "metadata": {},
   "outputs": [
    {
     "name": "stdout",
     "output_type": "stream",
     "text": [
      "3) Third line\n",
      "4) Fourth line\n",
      "5) Fifth line\n",
      "6) Sixth line\n",
      "7) Seventh line <class 'str'>\n",
      "['3) Third line', '4) Fourth line', '5) Fifth line', '6) Sixth line', '7) Seventh line']\n"
     ]
    }
   ],
   "source": [
    "# get a generator object of all data from third line to seventh line \n",
    "def genFn1(start, length=)\n",
    "    with open('test.txt', 'r') as f:\n",
    "        f.seek(57)\n",
    "        data = f.read(72)\n",
    "        print(data, type(data))\n",
    "        for i in data.split('\\n'):\n",
    "            yield i\n",
    "            \n"
   ]
  },
  {
   "cell_type": "markdown",
   "metadata": {},
   "source": [
    "<h3>Using f.readline()</h3>"
   ]
  },
  {
   "cell_type": "markdown",
   "metadata": {},
   "source": [
    "- Reads from f.seek() position (0 by default) till size :para or end of LINE\n",
    "- f.seek() position is called current stream position\n",
    "- return a string object\n",
    "- f.readline() returns empty string at end of file"
   ]
  },
  {
   "cell_type": "code",
   "execution_count": 128,
   "metadata": {},
   "outputs": [
    {
     "name": "stdout",
     "output_type": "stream",
     "text": [
      "Current stream position 0\n",
      "\n",
      "The very first\n"
     ]
    }
   ],
   "source": [
    "with open('test.txt', 'r') as f:\n",
    "    print('Current stream position', f.tell())\n",
    "    print()\n",
    "    data = f.readline(14) # Only first 14 characters are printed since there is no end of line char encountered\n",
    "    print(data) "
   ]
  },
  {
   "cell_type": "code",
   "execution_count": 130,
   "metadata": {},
   "outputs": [
    {
     "name": "stdout",
     "output_type": "stream",
     "text": [
      "Current stream position 0\n",
      "\n",
      "The very first line\n",
      "\n"
     ]
    }
   ],
   "source": [
    "with open('test.txt', 'r') as f:\n",
    "    print('Current stream position', f.tell())\n",
    "    print()\n",
    "    data = f.readline(100) # Prints first line since , end of line character is encountered\n",
    "    print(data) "
   ]
  },
  {
   "cell_type": "code",
   "execution_count": 1,
   "metadata": {},
   "outputs": [
    {
     "name": "stdout",
     "output_type": "stream",
     "text": [
      "Current stream position 0\n",
      "\n",
      "The very first line\n",
      "1) This is a test file\n",
      "2) With multiple lines of data...\n",
      "3) Third line\n",
      "4) Fourth line\n",
      "5) Fifth line\n",
      "6) Sixth line\n",
      "7) Seventh line\n",
      "8) Eighth line\n",
      "9) Ninth line\n",
      "10) Tenth line\n",
      "    "
     ]
    }
   ],
   "source": [
    "with open('test.txt', 'r') as f:\n",
    "    print('Current stream position', f.tell())\n",
    "    print()\n",
    "    data = f.readline(5)\n",
    "    while len(data) > 0:\n",
    "        print(data, end = '')\n",
    "        #print('Current stream position', f.tell())\n",
    "        #print()\n",
    "        data = f.readline(5)\n",
    "    "
   ]
  },
  {
   "cell_type": "code",
   "execution_count": 156,
   "metadata": {},
   "outputs": [
    {
     "name": "stdout",
     "output_type": "stream",
     "text": [
      "The very first line\n",
      "1) This is a test file\n",
      "2) With multiple lines of data...\n",
      "3) Third line\n",
      "4) Fourth line\n",
      "5) Fifth line\n",
      "6) Sixth line\n",
      "7) Seventh line\n",
      "8) Eighth line\n",
      "9) Ninth line\n",
      "10) Tenth line\n",
      "    ['The very f', 'irst line\\n', '1) This is', ' a test fi', 'le\\n', '2) With mu', 'ltiple lin', 'es of data', '...\\n', '3) Third l', 'ine\\n', '4) Fourth ', 'line\\n', '5) Fifth l', 'ine\\n', '6) Sixth l', 'ine\\n', '7) Seventh', ' line\\n', '8) Eighth ', 'line\\n', '9) Ninth l', 'ine\\n', '10) Tenth ', 'line\\n', '    ']\n"
     ]
    }
   ],
   "source": [
    "# Obtain all lines of the file as an iterator object using readline()\n",
    "def genFn():\n",
    "    with open('test.txt', 'r') as f:\n",
    "        data = f.readline(10)\n",
    "        while(len(data)> 0):\n",
    "            yield  data\n",
    "            data = f.readline(10) # \n",
    "\n",
    "for i in genFn():\n",
    "    print(i,end='')\n",
    "\n",
    "print(list(genFn()))"
   ]
  },
  {
   "cell_type": "markdown",
   "metadata": {},
   "source": [
    "<h3>Using f.readlines()</h3>"
   ]
  },
  {
   "cell_type": "code",
   "execution_count": 9,
   "metadata": {},
   "outputs": [
    {
     "name": "stdout",
     "output_type": "stream",
     "text": [
      "['The very first line\\n', '1) This is a test file\\n', '2) With multiple lines of data...\\n', '3) Third line\\n', '4) Fourth line\\n', '5) Fifth line\\n', '6) Sixth line\\n', '7) Seventh line\\n', '8) Eighth line\\n', '9) Ninth line\\n', '10) Tenth line\\n', '    ']\n"
     ]
    }
   ],
   "source": [
    "with open('test.txt', 'r') as f:\n",
    "    data = f.readlines()\n",
    "    print(data)"
   ]
  },
  {
   "cell_type": "markdown",
   "metadata": {},
   "source": [
    "<h1>Writing to a file </h1>"
   ]
  },
  {
   "cell_type": "markdown",
   "metadata": {},
   "source": [
    "- f.write() : Expects a string as argument\n",
    "- f.writeline() : Excepts an iterable as arguments, eg: list of strings\n",
    "- f.writelines() does not add a new line on its own"
   ]
  },
  {
   "cell_type": "code",
   "execution_count": 25,
   "metadata": {},
   "outputs": [
    {
     "name": "stdout",
     "output_type": "stream",
     "text": [
      "['\\n', 'I have been reading books of old \\n', 'the legends and the myths \\n', 'archellis and his gold \\n', 'herculles and his gifts \\n', 'spiderman is under control , bataman with his fist\\n', 'clearly i dont see myself upon that list ,\\n', 'she said where she wanna go ,\\n', 'how ,much you wanna risk i am not looking for some body wit some \\n', 'super human gift . \\n', 'super hero , some failrly tale gift , \\n', 'something i coould turn to somebody i could miss\\n', 'i will something like this ....\\n', 'i will something lke this\\n']\n"
     ]
    }
   ],
   "source": [
    "string = \"\"\"\n",
    "I have been reading books of old \n",
    "the legends and the myths \n",
    "archellis and his gold \n",
    "herculles and his gifts \n",
    "spiderman is under control , bataman with his fist\n",
    "clearly i dont see myself upon that list ,\n",
    "she said where she wanna go ,\n",
    "how ,much you wanna risk i am not looking for some body wit some \n",
    "super human gift . \n",
    "super hero , some failrly tale gift , \n",
    "something i coould turn to somebody i could miss\n",
    "i will something like this ....\n",
    "i will something lke this\n",
    "\"\"\"\n",
    "\n",
    "with open('test2.txt', 'w') as f:\n",
    "    a = f.write(string)\n",
    "\n",
    "with open('test2.txt', 'r') as f:\n",
    "    data = f.readlines()\n",
    "    print(data)"
   ]
  },
  {
   "cell_type": "code",
   "execution_count": 26,
   "metadata": {},
   "outputs": [
    {
     "name": "stdout",
     "output_type": "stream",
     "text": [
      "['I have been reading books of old', 'the legends and the myths', 'archellis and his gold', 'herculles and his gifts', 'spiderman is under control , bataman with his fist', 'clearly i dont see myself upon that list ,', 'she said where she wanna go ,', 'how ,much you wanna risk i am not looking for some body wit some', 'super human gift .', 'super hero , some failrly tale gift ,', 'something i coould turn to somebody i could miss', 'i will something like this ....', 'i will something lke this']\n"
     ]
    }
   ],
   "source": [
    "string = [i.strip() for i in string.split('\\n') if len(i)>0]\n",
    "print(string)"
   ]
  },
  {
   "cell_type": "code",
   "execution_count": 29,
   "metadata": {},
   "outputs": [
    {
     "name": "stdout",
     "output_type": "stream",
     "text": [
      "['I have been reading books of old', 'the legends and the myths', 'archellis and his gold', 'herculles and his gifts', 'spiderman is under control , bataman with his fist', 'clearly i dont see myself upon that list ,', 'she said where she wanna go ,', 'how ,much you wanna risk i am not looking for some body wit some', 'super human gift .', 'super hero , some failrly tale gift ,', 'something i coould turn to somebody i could miss', 'i will something like this ....', 'i will something lke this']\n"
     ]
    }
   ],
   "source": [
    "with open('text3.txt', 'w') as f:\n",
    "    print(string)\n",
    "    f.writelines(string)"
   ]
  },
  {
   "cell_type": "code",
   "execution_count": 32,
   "metadata": {},
   "outputs": [
    {
     "name": "stdout",
     "output_type": "stream",
     "text": [
      "['I have been reading books of old', 'the legends and the myths', 'archellis and his gold', 'herculles and his gifts', 'spiderman is under control , bataman with his fist', 'clearly i dont see myself upon that list ,', 'she said where she wanna go ,', 'how ,much you wanna risk i am not looking for some body wit some', 'super human gift .', 'super hero , some failrly tale gift ,', 'something i coould turn to somebody i could miss', 'i will something like this ....', 'i will something lke this']\n"
     ]
    }
   ],
   "source": [
    "with open('text3.txt', 'w') as f:\n",
    "    print(string)\n",
    "    f.writelines('\\n'.join(string))"
   ]
  },
  {
   "cell_type": "code",
   "execution_count": 30,
   "metadata": {},
   "outputs": [
    {
     "name": "stdout",
     "output_type": "stream",
     "text": [
      "I have been reading books of old\n",
      "the legends and the myths\n",
      "archellis and his gold\n",
      "herculles and his gifts\n",
      "spiderman is under control , bataman with his fist\n",
      "clearly i dont see myself upon that list ,\n",
      "she said where she wanna go ,\n",
      "how ,much you wanna risk i am not looking for some body wit some\n",
      "super human gift .\n",
      "super hero , some failrly tale gift ,\n",
      "something i coould turn to somebody i could miss\n",
      "i will something like this ....\n",
      "i will something lke this\n"
     ]
    }
   ],
   "source": [
    "print('\\n'.join(string))"
   ]
  },
  {
   "cell_type": "markdown",
   "metadata": {},
   "source": [
    "__Read and write mode__"
   ]
  },
  {
   "cell_type": "markdown",
   "metadata": {},
   "source": [
    "__Important points to note while reading and wirteing files__"
   ]
  },
  {
   "cell_type": "markdown",
   "metadata": {},
   "source": [
    "- If an already existing file is  opened in write mode the file is overwritten\n",
    "- If an already existing file is  opened in read+write mode  then the file WILL NOT be overwritten , but characters will be overwritten\n",
    "- Opening a non existent file in write mode and append mode are same\n",
    "- Opening a non existnet file in read mode results in FileNotfound error\n",
    "- Append mode adds info to the end of the file\n",
    "- f.write() takes a string of argument while f.writelines() takes an iterable as argument. eg: list of strings \n",
    "- f.writelines() does not generate end of line by default.\n",
    "- There are two ways for opening a file. text and binary way, file is opened in text mode by default.\n",
    "- Binary modes is used for working with images and video files.\n"
   ]
  }
 ],
 "metadata": {
  "kernelspec": {
   "display_name": "Python 3",
   "language": "python",
   "name": "python3"
  },
  "language_info": {
   "codemirror_mode": {
    "name": "ipython",
    "version": 3
   },
   "file_extension": ".py",
   "mimetype": "text/x-python",
   "name": "python",
   "nbconvert_exporter": "python",
   "pygments_lexer": "ipython3",
   "version": "3.7.1"
  }
 },
 "nbformat": 4,
 "nbformat_minor": 4
}
