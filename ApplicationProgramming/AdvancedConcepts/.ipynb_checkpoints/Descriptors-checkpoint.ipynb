{
 "cells": [
  {
   "cell_type": "markdown",
   "metadata": {},
   "source": [
    "- Descriptors.\n",
    "- Properties.\n",
    "- Property decorators."
   ]
  },
  {
   "cell_type": "markdown",
   "metadata": {},
   "source": [
    "<h1>Descriptors</h1>"
   ]
  },
  {
   "cell_type": "markdown",
   "metadata": {},
   "source": [
    "- A class that implements get, set, delete magic methods for any of the instances of the class is known as Descriptors.\n",
    "- get : non data descriptors : Readable descriptors.\n",
    "- set and delete : data descriptors : Non Readable descriptors."
   ]
  },
  {
   "cell_type": "markdown",
   "metadata": {},
   "source": [
    "__Why do we need descriptors??__"
   ]
  },
  {
   "cell_type": "markdown",
   "metadata": {},
   "source": [
    "- Descriptors is useful when we need to have managed attributes.\n",
    "- eg: If a validity check is to be done . \n",
    "- This can be done using an if condition in init , but why descriptors."
   ]
  },
  {
   "cell_type": "code",
   "execution_count": 43,
   "metadata": {},
   "outputs": [
    {
     "name": "stdout",
     "output_type": "stream",
     "text": [
      "Invalid Phone number\n",
      "Invalid Email\n",
      "Instance created\n",
      "{'name': 'cyril joseph', 'phno': 'sdkfhs;lkdfj', 'email': 'sdfnlasdkjf'}\n"
     ]
    }
   ],
   "source": [
    "import regex\n",
    "email_regex = r\"^[a-zA-Z0-9+_.-]+@[a-zA-Z0-9.-]+$\"\n",
    "class Person:\n",
    "    def __init__(self, first, last, phno, email):\n",
    "        self.name = first + ' ' +last\n",
    "        if len(phno) == 10 and regex.match(r\"[0-9]+\", phno):\n",
    "            self.phno = \"+91\"+phno\n",
    "        else:\n",
    "            raise ValueError('Invalid Phone number')\n",
    "        if regex.match(r\"^[a-zA-Z0-9+_.-]+@[a-zA-Z0-9.-]+$\", email):\n",
    "            self.email = email\n",
    "        else:\n",
    "            raise ValueError('Invalid Email')\n",
    "try:\n",
    "    Person('cyril', 'joseph', '9495723d675', 'cyroiejs@gmail.com') # Here data validation is done\n",
    "except Exception as e:\n",
    "    print(e)\n",
    "try:\n",
    "    Person('cyril', 'joseph', '9495723675', 'cyroiejsgmail.com')\n",
    "except Exception as e:\n",
    "    print(e)\n",
    "    p = Person('cyril', 'joseph', '9495723675', 'cyroiejs@gmail.com')\n",
    "    print('Instance created')\n",
    "# Later, however the phone number and email could be changed to invalid fields\n",
    "\n",
    "p.email, p.phno = 'sdfnlasdkjf', 'sdkfhs;lkdfj' # Descriptors helps to avoid this. even if the method is private this problem\n",
    "                                                    # will exist\n",
    "print(p.__dict__)"
   ]
  },
  {
   "cell_type": "code",
   "execution_count": 28,
   "metadata": {},
   "outputs": [
    {
     "data": {
      "text/plain": [
       "<function re.match(pattern, string, flags=0)>"
      ]
     },
     "execution_count": 28,
     "metadata": {},
     "output_type": "execute_result"
    }
   ],
   "source": [
    "import re\n",
    "re.match()"
   ]
  },
  {
   "cell_type": "markdown",
   "metadata": {},
   "source": [
    "- Descriptors allows programmer to create managed attributes. Managed attributes helps to:-\n",
    "    - Avoid changes to an attribute.\n",
    "    - Prevents automatic updation of  a dependent attribute.\n",
    "- Similar to getter and setter methods to manage attributes.\n",
    "- Different ways for creating a descriptor are:-\n",
    "    - Descriptors can be created using property()\n",
    "    - Using class methods by defining a class.\n",
    "    - Using property decorator."
   ]
  },
  {
   "cell_type": "markdown",
   "metadata": {},
   "source": [
    "- __Generally getters and setter methods can be used for accessing and modifying the methods in a class.__\n",
    "- __Accessing directly the attributes of an object is not suggested as it may result in accidental loss of data.__\n",
    "- __this could be avoided by making the attributes Private and changing the data using getter and setter methods__"
   ]
  },
  {
   "cell_type": "code",
   "execution_count": 14,
   "metadata": {},
   "outputs": [
    {
     "name": "stdout",
     "output_type": "stream",
     "text": [
      "{'name': 'cyril joseph', 'age': 26}\n",
      "{'name': 'Leroy Sane', 'age': 22}\n"
     ]
    }
   ],
   "source": [
    "class Employee:\n",
    "    def __init__(self, fname, lname, yob):\n",
    "        self.__name = fname + ' ' + lname \n",
    "        self.__age = 2021 - yob\n",
    "    def getter(self):\n",
    "        return {'name':self.__name, 'age':self.__age}\n",
    "    def setter(self, name, yob):\n",
    "        self.__name = name\n",
    "        self.__age = 2021 - yob\n",
    "        \n",
    "    \n",
    "    \n",
    "e1 = Employee('cyril', 'joseph', 1995)\n",
    "print(e1.getter())\n",
    "e1.setter('Leroy Sane', 1999)\n",
    "print(e1.getter())"
   ]
  },
  {
   "cell_type": "code",
   "execution_count": 23,
   "metadata": {},
   "outputs": [
    {
     "data": {
      "text/plain": [
       "{'_Employee__name': 'Leroy Sane', '_Employee__age': 22}"
      ]
     },
     "execution_count": 23,
     "metadata": {},
     "output_type": "execute_result"
    }
   ],
   "source": [
    "e1.__dict__"
   ]
  },
  {
   "cell_type": "markdown",
   "metadata": {},
   "source": [
    "<h3>1.Creating Descriptors using Classes.</h3>"
   ]
  },
  {
   "cell_type": "code",
   "execution_count": null,
   "metadata": {},
   "outputs": [],
   "source": [
    "- Descriptors needs to be defined for each of the attribute we need to manage."
   ]
  },
  {
   "cell_type": "markdown",
   "metadata": {},
   "source": [
    "<h3>2.Creating Descriptors using property() function</h3>"
   ]
  },
  {
   "cell_type": "markdown",
   "metadata": {},
   "source": [
    "- While getting and setting always use private or protected in getter and setter functions.\n",
    "- Generaly for  getting value program looks dunder dict method for attribute key"
   ]
  },
  {
   "cell_type": "code",
   "execution_count": 2,
   "metadata": {},
   "outputs": [
    {
     "name": "stdout",
     "output_type": "stream",
     "text": [
      "Setting value...\n"
     ]
    }
   ],
   "source": [
    "# using property class\n",
    "class Celsius:\n",
    "    def __init__(self, temperature=0):\n",
    "        self.temperature = temperature\n",
    "\n",
    "    def to_fahrenheit(self):\n",
    "        return (self._temperature * 1.8) + 32\n",
    "\n",
    "    # getter\n",
    "    def get_temperature(self):\n",
    "        print(\"Getting value...\")\n",
    "        return self._temperature\n",
    "\n",
    "    # setter\n",
    "    def set_temperature(self, value):\n",
    "        print(\"Setting value...\")\n",
    "        if value < -273.15:\n",
    "            raise ValueError(\"Temperature below -273.15 is not possible\")\n",
    "        self._temperature = value\n",
    "        \n",
    "    \n",
    "    #Deleter\n",
    "    def del_temperature(self):\n",
    "        print('Deleter')\n",
    "\n",
    "    # creating a property object\n",
    "    temperature = property(get_temperature, set_temperature, del_temperature)\n",
    "\n",
    "\n",
    "human = Celsius(37)\n"
   ]
  },
  {
   "cell_type": "code",
   "execution_count": 3,
   "metadata": {},
   "outputs": [
    {
     "name": "stdout",
     "output_type": "stream",
     "text": [
      "Setting value...\n"
     ]
    }
   ],
   "source": [
    "# Using @property decorator\n",
    "class Celsius:\n",
    "    def __init__(self, t):\n",
    "        self.temperature = temperature\n",
    "\n",
    "    def to_fahrenheit(self):\n",
    "        return (self.temperature * 1.8) + 32\n",
    "\n",
    "    @property\n",
    "    def temperature(self):\n",
    "        print(\"Getting value...\")\n",
    "        return self._temperature\n",
    "\n",
    "    @temperature.setter\n",
    "    def temperature(self, value):\n",
    "        print(\"Setting value...\")\n",
    "        if value < -273.15:\n",
    "            raise ValueError(\"Temperature below -273 is not possible\")\n",
    "        self._temperature = value\n",
    "\n",
    "\n",
    "# create an object\n",
    "human = Celsius(37)"
   ]
  },
  {
   "cell_type": "code",
   "execution_count": 26,
   "metadata": {},
   "outputs": [
    {
     "name": "stdout",
     "output_type": "stream",
     "text": [
      "Setter name\n",
      "setter price\n",
      "Getter name\n",
      "Getter Price\n"
     ]
    },
    {
     "data": {
      "text/plain": [
       "('honda', 1200)"
      ]
     },
     "execution_count": 26,
     "metadata": {},
     "output_type": "execute_result"
    }
   ],
   "source": [
    "class Car:\n",
    "    def __init__(self,Name, name, price, temp, mileage):\n",
    "        self.name = name\n",
    "        self.price = price\n",
    "        self.temp = temp\n",
    "        self.mileage = mileage\n",
    "        self.Name = owner_name\n",
    "    def find_Metric(self):\n",
    "        return self.price*self.mileage\n",
    "    \n",
    "    def get_price(self):\n",
    "        print('Getter Price')\n",
    "        return self._price\n",
    "    \n",
    "    def set_price(self, value):\n",
    "        print('setter price')\n",
    "        if value<0:\n",
    "            raise ValueError('Price cannot be negative')\n",
    "        self._price = value\n",
    "    price = property(get_price, set_price) # price property\n",
    "    \n",
    "    def get_name(self):\n",
    "        print('Getter name')\n",
    "        return self._name\n",
    "    def set_name(self, value):\n",
    "        print('Setter name')\n",
    "        lst = ['bmw', 'toyota', 'honda', 'suzuki']\n",
    "        if not isinstance(value, str) :\n",
    "            raise TypeError('String expected')\n",
    "        if value not in lst:t\n",
    "            raise ValueError('Value not in the list')\n",
    "        self._name = value\n",
    "    name = property(get_name, set_name) # name property\n",
    "    \n",
    "    \n",
    "        \n",
    "c = Car('cyril joseph','honda', 1200, 33, 23.22)\n",
    "c.name, c.price\n"
   ]
  },
  {
   "cell_type": "code",
   "execution_count": 70,
   "metadata": {},
   "outputs": [
    {
     "name": "stdout",
     "output_type": "stream",
     "text": [
      "9 81\n",
      "10 100\n",
      "16 256\n",
      "25 625\n",
      "92 8594\n"
     ]
    }
   ],
   "source": [
    "class Num:\n",
    "    def __init__(self, no):\n",
    "        self.no = no\n",
    "        self.square = no**2\n",
    "        \n",
    "    def findSquare(self):\n",
    "        return self.no**2\n",
    "    \n",
    "    def find_root(self):\n",
    "        return int(self.square**(1/2))\n",
    "        \n",
    "    def get_no(self):\n",
    "        #print('get no')\n",
    "        return self._no\n",
    "    def set_no(self, value):\n",
    "        #print('set no')\n",
    "        self._no = value\n",
    "        self._square = self.findSquare()\n",
    "    no = property(get_no, set_no)\n",
    "    \n",
    "    def get_square(self):\n",
    "        #print('get square')\n",
    "        return self._square\n",
    "    def set_square(self, value):\n",
    "        #print('set square')\n",
    "        self._square = value\n",
    "        self._no = self.find_root()\n",
    "    square = property(get_square, set_square)\n",
    "\n",
    "a = Num(9)\n",
    "print(a.no, a.square)\n",
    "a.no = 10\n",
    "print(a.no, a.square)\n",
    "a.no=16\n",
    "print(a.no, a.square)\n",
    "a.square = 625\n",
    "print(a.no, a.square)\n",
    "a.square = 8594\n",
    "print(a.no, a.square)"
   ]
  },
  {
   "cell_type": "code",
   "execution_count": null,
   "metadata": {},
   "outputs": [],
   "source": []
  },
  {
   "cell_type": "code",
   "execution_count": null,
   "metadata": {},
   "outputs": [],
   "source": []
  },
  {
   "cell_type": "code",
   "execution_count": null,
   "metadata": {},
   "outputs": [],
   "source": []
  },
  {
   "cell_type": "code",
   "execution_count": null,
   "metadata": {},
   "outputs": [],
   "source": []
  },
  {
   "cell_type": "code",
   "execution_count": null,
   "metadata": {},
   "outputs": [],
   "source": []
  }
 ],
 "metadata": {
  "kernelspec": {
   "display_name": "Python 3",
   "language": "python",
   "name": "python3"
  },
  "language_info": {
   "codemirror_mode": {
    "name": "ipython",
    "version": 3
   },
   "file_extension": ".py",
   "mimetype": "text/x-python",
   "name": "python",
   "nbconvert_exporter": "python",
   "pygments_lexer": "ipython3",
   "version": "3.7.1"
  }
 },
 "nbformat": 4,
 "nbformat_minor": 4
}
