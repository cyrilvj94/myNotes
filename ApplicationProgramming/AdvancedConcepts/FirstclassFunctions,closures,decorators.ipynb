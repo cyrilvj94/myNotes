{
 "cells": [
  {
   "cell_type": "markdown",
   "metadata": {},
   "source": [
    "- First class functions.\n",
    "- Closures.\n",
    "- Decorators."
   ]
  },
  {
   "cell_type": "markdown",
   "metadata": {},
   "source": [
    "an entity is said to be first class objects in python when:-\n",
    "- A entity is also treated as an object in python. It is an instnce of object type\n",
    "- A entity can be assigned to another variable.\n",
    "- A entity can be passed as argument to another function.\n",
    "- A entity can be returned from an another function.\n",
    "- A entity can be stored in data structures such as dictionary , list , etc."
   ]
  },
  {
   "cell_type": "code",
   "execution_count": 3,
   "metadata": {},
   "outputs": [
    {
     "data": {
      "text/plain": [
       "True"
      ]
     },
     "execution_count": 3,
     "metadata": {},
     "output_type": "execute_result"
    }
   ],
   "source": [
    "a = []\n",
    "isinstance(a, object)"
   ]
  },
  {
   "cell_type": "markdown",
   "metadata": {},
   "source": [
    "<h1>First class functions</h1>"
   ]
  },
  {
   "cell_type": "markdown",
   "metadata": {},
   "source": [
    "key takeaway : Functions are also objects in python"
   ]
  },
  {
   "cell_type": "markdown",
   "metadata": {},
   "source": [
    "- A programming language is said to be having first functions if it treats functions as first class citizens (first class objects)\n",
    "- First class citizents is an entity which support all the operations generally available to other entities such as being passed as an argument, returned from a function and assigned as a variable\n",
    "- we should be able to treat functions just like any other entiry\n",
    "- () is used for making function call."
   ]
  },
  {
   "cell_type": "markdown",
   "metadata": {},
   "source": [
    "__Is python functions first class objects??__"
   ]
  },
  {
   "cell_type": "markdown",
   "metadata": {},
   "source": [
    "Yes. Python functions are first class fucntions. because following operations can be done on a function just like other first class objects.\n",
    "- A fucntion is also treated as an object in python. It is an instnce of object type\n",
    "- A function can be assigned to another variable.\n",
    "- A function can be passed as argument to another function.\n",
    "- A function can be returned from an another function.\n",
    "- A function can be stored in data structures such as dictionary , list , etc."
   ]
  },
  {
   "cell_type": "markdown",
   "metadata": {},
   "source": [
    "__A function is also treated as an object in python, it is an instance of object type__"
   ]
  },
  {
   "cell_type": "code",
   "execution_count": 1,
   "metadata": {},
   "outputs": [
    {
     "name": "stdout",
     "output_type": "stream",
     "text": [
      "True\n"
     ]
    }
   ],
   "source": [
    "def square(x):\n",
    "    return x**2\n",
    "print(isinstance(square, object))"
   ]
  },
  {
   "cell_type": "markdown",
   "metadata": {},
   "source": [
    "__A Function can be assigned to another variable and we can use the new variable just like the original function__"
   ]
  },
  {
   "cell_type": "code",
   "execution_count": 4,
   "metadata": {},
   "outputs": [
    {
     "name": "stdout",
     "output_type": "stream",
     "text": [
      "9\n",
      "<function square at 0x00000274F169C8C8> 81\n",
      "<function square at 0x00000274F169C8C8>\n"
     ]
    }
   ],
   "source": [
    "def square (x):\n",
    "    return x**2\n",
    "f, g = square(3) , square # passing square to variable g\n",
    "print(f)\n",
    "print(g, g(9))\n",
    "print(square)"
   ]
  },
  {
   "cell_type": "code",
   "execution_count": 3,
   "metadata": {},
   "outputs": [
    {
     "name": "stdout",
     "output_type": "stream",
     "text": [
      "['__annotations__', '__call__', '__class__', '__closure__', '__code__', '__defaults__', '__delattr__', '__dict__', '__dir__', '__doc__', '__eq__', '__format__', '__ge__', '__get__', '__getattribute__', '__globals__', '__gt__', '__hash__', '__init__', '__init_subclass__', '__kwdefaults__', '__le__', '__lt__', '__module__', '__name__', '__ne__', '__new__', '__qualname__', '__reduce__', '__reduce_ex__', '__repr__', '__setattr__', '__sizeof__', '__str__', '__subclasshook__']\n",
      "['__annotations__', '__call__', '__class__', '__closure__', '__code__', '__defaults__', '__delattr__', '__dict__', '__dir__', '__doc__', '__eq__', '__format__', '__ge__', '__get__', '__getattribute__', '__globals__', '__gt__', '__hash__', '__init__', '__init_subclass__', '__kwdefaults__', '__le__', '__lt__', '__module__', '__name__', '__ne__', '__new__', '__qualname__', '__reduce__', '__reduce_ex__', '__repr__', '__setattr__', '__sizeof__', '__str__', '__subclasshook__']\n"
     ]
    }
   ],
   "source": [
    "print(dir(g), dir(square), sep = '\\n')"
   ]
  },
  {
   "cell_type": "code",
   "execution_count": 4,
   "metadata": {},
   "outputs": [
    {
     "name": "stdout",
     "output_type": "stream",
     "text": [
      "Same elements in the list\n"
     ]
    }
   ],
   "source": [
    "if (set(dir(g)) - set(dir(square))):\n",
    "    print('Different elements in the list')\n",
    "else:\n",
    "    print('Same elements in the list')"
   ]
  },
  {
   "cell_type": "markdown",
   "metadata": {},
   "source": [
    "__A function can be passed as argument to another function__"
   ]
  },
  {
   "cell_type": "markdown",
   "metadata": {},
   "source": [
    "egs : map, filter, "
   ]
  },
  {
   "cell_type": "code",
   "execution_count": 5,
   "metadata": {},
   "outputs": [
    {
     "name": "stdout",
     "output_type": "stream",
     "text": [
      "square [1, 4, 9, 16, 25, 36, 49]\n",
      "cube [1, 8, 27, 64, 125, 216, 343]\n"
     ]
    }
   ],
   "source": [
    "def my_map(*,fn, lst):\n",
    "    out = []\n",
    "    for i in lst:\n",
    "        yield fn(i)\n",
    "square = lambda x: x**2\n",
    "cube = lambda x: x**3\n",
    "lst = [1,2,3,4,5,6,7]\n",
    "print('square',list(my_map(fn = square, lst = lst))) # Passing functions as arguments\n",
    "print('cube', list(my_map(fn = cube, lst = lst)))"
   ]
  },
  {
   "cell_type": "markdown",
   "metadata": {},
   "source": [
    "__A function can be returned from another function__"
   ]
  },
  {
   "cell_type": "markdown",
   "metadata": {},
   "source": [
    "- Higher order functions are useful when OOP concept needs to be done explicitely using fns. This is useful when methods are less."
   ]
  },
  {
   "cell_type": "code",
   "execution_count": 6,
   "metadata": {},
   "outputs": [
    {
     "name": "stdout",
     "output_type": "stream",
     "text": [
      "log: Hi!\n"
     ]
    }
   ],
   "source": [
    "#Example 1\n",
    "def logger(msg):\n",
    "    def log_message():\n",
    "        print('log:', msg)\n",
    "    return log_message # returning a function\n",
    "fn = logger('Hi!')\n",
    "fn()"
   ]
  },
  {
   "cell_type": "code",
   "execution_count": 7,
   "metadata": {},
   "outputs": [],
   "source": [
    "#Example 2\n",
    "def html_tag_fn(tag):\n",
    "    def wrap_text(msg):\n",
    "        out = f\"<{tag}>{msg}<\\{tag}>\"\n",
    "        return out\n",
    "    return wrap_text"
   ]
  },
  {
   "cell_type": "code",
   "execution_count": 8,
   "metadata": {},
   "outputs": [
    {
     "name": "stdout",
     "output_type": "stream",
     "text": [
      "<h1>The h1 tag<\\h1>\n",
      "<h3>The h3 tag<\\h3>\n"
     ]
    }
   ],
   "source": [
    "#similar to ceating an object of html tag with h1 as attribute\n",
    "fn = html_tag_fn('h1')\n",
    "print(fn('The h1 tag'))\n",
    "#similar to creating on object of html tag with h3 as attribute\n",
    "fn = html_tag_fn('h3')\n",
    "print(fn('The h3 tag'))"
   ]
  },
  {
   "cell_type": "code",
   "execution_count": 9,
   "metadata": {},
   "outputs": [
    {
     "name": "stdout",
     "output_type": "stream",
     "text": [
      "<function html_tag_fn.<locals>.wrap_text at 0x000002B2E668DEA0>\n"
     ]
    }
   ],
   "source": [
    "a = html_tag_fn('The h1 tag')\n",
    "print(a)"
   ]
  },
  {
   "cell_type": "code",
   "execution_count": 13,
   "metadata": {},
   "outputs": [
    {
     "name": "stdout",
     "output_type": "stream",
     "text": [
      "<h1>The h1 tag<\\h1>\n",
      "<h2>The h2 tag<\\h2>\n"
     ]
    }
   ],
   "source": [
    "# The first class functions implemented using class\n",
    "class html_tag:\n",
    "    def __init__(self, tag):\n",
    "        self.tag = tag\n",
    "    def wrap_texts(self, msg):\n",
    "        self.out = f\"<{self.tag}>{msg}<\\{self.tag}>\"\n",
    "        return self.out\n",
    "h1 , h2= html_tag('h1'), html_tag('h2')\n",
    "print(h1.wrap_texts('The h1 tag'))\n",
    "print(h2.wrap_texts('The h2 tag'))"
   ]
  },
  {
   "cell_type": "code",
   "execution_count": 14,
   "metadata": {},
   "outputs": [
    {
     "data": {
      "text/plain": [
       "True"
      ]
     },
     "execution_count": 14,
     "metadata": {},
     "output_type": "execute_result"
    }
   ],
   "source": [
    "isinstance(html_tag, object)"
   ]
  },
  {
   "cell_type": "markdown",
   "metadata": {},
   "source": [
    "__A function can be stored in datastructres__"
   ]
  },
  {
   "cell_type": "code",
   "execution_count": 15,
   "metadata": {},
   "outputs": [
    {
     "name": "stdout",
     "output_type": "stream",
     "text": [
      "36 216 1296 7776\n"
     ]
    }
   ],
   "source": [
    "def second(x):\n",
    "    return x**2\n",
    "def third(x):\n",
    "    return x**3\n",
    "def fourth(x):\n",
    "    return x**4\n",
    "def fifth(x):\n",
    "    return x**5\n",
    "lst = [second, third , fourth, fifth]\n",
    "dic = {2:second, 3:third, 4:fourth, 5:fifth, }\n",
    "print(dic[2](6),dic[3](6),dic[4](6),dic[5](6))"
   ]
  },
  {
   "cell_type": "markdown",
   "metadata": {},
   "source": [
    "<h1>Closures</h1>"
   ]
  },
  {
   "cell_type": "markdown",
   "metadata": {},
   "source": [
    "- A closure is an inner function that remembers and has access to variables in local scope in which it was created even after the outer function has finished executing.\n",
    "- Closure is a function returned by a higher order function.\n",
    "- Function object which remembers value in the enclosing scope\n",
    "- Fuctions with enclosing scope of variables."
   ]
  },
  {
   "cell_type": "code",
   "execution_count": 16,
   "metadata": {},
   "outputs": [
    {
     "name": "stdout",
     "output_type": "stream",
     "text": [
      "inner_func\n",
      "hi\n"
     ]
    }
   ],
   "source": [
    "def outer_func():\n",
    "    msg = 'hi'\n",
    "    def inner_func():\n",
    "        print(msg)\n",
    "    return inner_func\n",
    "a = outer_func() # Outer function has finished executing a is a closure\n",
    "print(a.__name__)\n",
    "a() # a has access to msg variable"
   ]
  },
  {
   "cell_type": "code",
   "execution_count": 1,
   "metadata": {},
   "outputs": [
    {
     "name": "stdout",
     "output_type": "stream",
     "text": [
      "inner_func\n"
     ]
    },
    {
     "ename": "UnboundLocalError",
     "evalue": "local variable 'msg' referenced before assignment",
     "output_type": "error",
     "traceback": [
      "\u001b[1;31m---------------------------------------------------------------------------\u001b[0m",
      "\u001b[1;31mUnboundLocalError\u001b[0m                         Traceback (most recent call last)",
      "\u001b[1;32m<ipython-input-1-b6dc09ab145c>\u001b[0m in \u001b[0;36m<module>\u001b[1;34m\u001b[0m\n\u001b[0;32m      8\u001b[0m \u001b[0ma\u001b[0m \u001b[1;33m=\u001b[0m \u001b[0mouter_func\u001b[0m\u001b[1;33m(\u001b[0m\u001b[1;33m)\u001b[0m \u001b[1;31m# Outer function has finished executing a is a closure\u001b[0m\u001b[1;33m\u001b[0m\u001b[1;33m\u001b[0m\u001b[0m\n\u001b[0;32m      9\u001b[0m \u001b[0mprint\u001b[0m\u001b[1;33m(\u001b[0m\u001b[0ma\u001b[0m\u001b[1;33m.\u001b[0m\u001b[0m__name__\u001b[0m\u001b[1;33m)\u001b[0m\u001b[1;33m\u001b[0m\u001b[1;33m\u001b[0m\u001b[0m\n\u001b[1;32m---> 10\u001b[1;33m \u001b[0mprint\u001b[0m\u001b[1;33m(\u001b[0m\u001b[0ma\u001b[0m\u001b[1;33m(\u001b[0m\u001b[1;33m)\u001b[0m\u001b[1;33m)\u001b[0m\u001b[1;33m\u001b[0m\u001b[1;33m\u001b[0m\u001b[0m\n\u001b[0m",
      "\u001b[1;32m<ipython-input-1-b6dc09ab145c>\u001b[0m in \u001b[0;36minner_func\u001b[1;34m()\u001b[0m\n\u001b[0;32m      2\u001b[0m     \u001b[0mmsg\u001b[0m \u001b[1;33m=\u001b[0m \u001b[1;34m'hi'\u001b[0m\u001b[1;33m\u001b[0m\u001b[1;33m\u001b[0m\u001b[0m\n\u001b[0;32m      3\u001b[0m     \u001b[1;32mdef\u001b[0m \u001b[0minner_func\u001b[0m\u001b[1;33m(\u001b[0m\u001b[1;33m)\u001b[0m\u001b[1;33m:\u001b[0m\u001b[1;33m\u001b[0m\u001b[1;33m\u001b[0m\u001b[0m\n\u001b[1;32m----> 4\u001b[1;33m         \u001b[0mprint\u001b[0m\u001b[1;33m(\u001b[0m\u001b[1;34m'Print'\u001b[0m\u001b[1;33m,\u001b[0m \u001b[0mmsg\u001b[0m\u001b[1;33m)\u001b[0m\u001b[1;33m\u001b[0m\u001b[1;33m\u001b[0m\u001b[0m\n\u001b[0m\u001b[0;32m      5\u001b[0m         \u001b[0mmsg\u001b[0m \u001b[1;33m=\u001b[0m \u001b[0mmsg\u001b[0m \u001b[1;33m+\u001b[0m \u001b[1;34m' all'\u001b[0m\u001b[1;33m\u001b[0m\u001b[1;33m\u001b[0m\u001b[0m\n\u001b[0;32m      6\u001b[0m         \u001b[1;32mreturn\u001b[0m \u001b[0mmsg\u001b[0m\u001b[1;33m\u001b[0m\u001b[1;33m\u001b[0m\u001b[0m\n",
      "\u001b[1;31mUnboundLocalError\u001b[0m: local variable 'msg' referenced before assignment"
     ]
    }
   ],
   "source": [
    "def outer_func():\n",
    "    msg = 'hi'\n",
    "    def inner_func():\n",
    "        print('Print', msg)\n",
    "        msg = msg + ' all'\n",
    "        return msg\n",
    "    return inner_func\n",
    "a = outer_func() # Outer function has finished executing a is a closure\n",
    "print(a.__name__)\n",
    "print(a())"
   ]
  },
  {
   "cell_type": "markdown",
   "metadata": {},
   "source": [
    "__Here a is returned by higher order function outer_func , hence a is a closure__"
   ]
  },
  {
   "cell_type": "code",
   "execution_count": 17,
   "metadata": {},
   "outputs": [
    {
     "name": "stdout",
     "output_type": "stream",
     "text": [
      "hello\n",
      "hi\n"
     ]
    }
   ],
   "source": [
    "def outer_fn(msg):\n",
    "    def inner_fn():\n",
    "        print(msg)\n",
    "    return inner_fn\n",
    "hello = outer_fn('hello') # Outer function finished executing\n",
    "hello() # Still it has access to msg variable\n",
    "hi = outer_fn('hi')\n",
    "hi()"
   ]
  },
  {
   "cell_type": "markdown",
   "metadata": {},
   "source": [
    "<h1>Decorators</h1>"
   ]
  },
  {
   "cell_type": "markdown",
   "metadata": {},
   "source": [
    "- Decorators are functions which takes a function as argument , adds a functionality to an existing function and returns a function\n",
    "- Decorators returns a wrapper function which is waiting to be executed.\n",
    "- Wrapper function takes the same arguments as original function.\n",
    "- Wrapper function adds additional functionality to the original function.\n",
    "- Decorators can be used either as functions called decorator functions or as classes.\n"
   ]
  },
  {
   "cell_type": "markdown",
   "metadata": {},
   "source": [
    "__Why do we need decorators??__"
   ]
  },
  {
   "cell_type": "markdown",
   "metadata": {},
   "source": [
    "- New features could be added to an existing function without changing the content of the original function.\n",
    "- Since, a function represents a single logic . it is better to attach additional logic using decorators"
   ]
  },
  {
   "cell_type": "markdown",
   "metadata": {},
   "source": [
    "__Decorators without using@__"
   ]
  },
  {
   "cell_type": "code",
   "execution_count": 18,
   "metadata": {},
   "outputs": [
    {
     "name": "stdout",
     "output_type": "stream",
     "text": [
      "Time taken to execute find_square is 0.0 seconds\n",
      "Time taken to execute find_cube is 0.0 seconds\n"
     ]
    },
    {
     "data": {
      "text/plain": [
       "([1, 4, 9, 16, 25, 36, 49, 64, 81], [1, 8, 27, 64, 125, 216, 343, 512, 729])"
      ]
     },
     "execution_count": 18,
     "metadata": {},
     "output_type": "execute_result"
    }
   ],
   "source": [
    "import time\n",
    "#Decorators without using @\n",
    "\n",
    "def find_square(nums):\n",
    "    out = list()\n",
    "    for i in nums:\n",
    "        out.append(i**2)\n",
    "    return out\n",
    "\n",
    "def find_cube(nums):\n",
    "    out = list()\n",
    "    for i in nums:\n",
    "        out.append(i**3)\n",
    "    return out\n",
    "\n",
    "# We need to add additional functionality to the existing function without modifying the original function.\n",
    "def time_it(func):\n",
    "    def wrapper_fn(nums):\n",
    "        start = time.time()\n",
    "        out = func(nums)\n",
    "        end = time.time()\n",
    "        print(f'Time taken to execute {func.__name__} is {end - start} seconds')\n",
    "        return out\n",
    "    return wrapper_fn\n",
    "find_square = time_it(find_square) # Functionality of original function is changed. It is equivalent to wrapper function\n",
    "find_cube = time_it(find_cube)\n",
    "find_square(range(1,10)), find_cube(range(1,10)) # Here when find square is called wrapper_fn returned by time_it is called"
   ]
  },
  {
   "cell_type": "markdown",
   "metadata": {},
   "source": [
    "- time_it function returns the wrapper_fn which is waiting to be executed."
   ]
  },
  {
   "cell_type": "markdown",
   "metadata": {},
   "source": [
    "__Decorator functions__"
   ]
  },
  {
   "cell_type": "code",
   "execution_count": 19,
   "metadata": {},
   "outputs": [
    {
     "name": "stdout",
     "output_type": "stream",
     "text": [
      "Time taken to execute find_square is 0.0 seconds\n",
      "Time taken to execute find_cube is 0.0 seconds\n"
     ]
    },
    {
     "data": {
      "text/plain": [
       "([1, 4, 9, 16, 25, 36, 49, 64, 81], [1, 8, 27, 64, 125, 216, 343, 512, 729])"
      ]
     },
     "execution_count": 19,
     "metadata": {},
     "output_type": "execute_result"
    }
   ],
   "source": [
    "#Defining decorator\n",
    "def calcExeTime(func):\n",
    "    def wrapper_fn(nums): # wrapper function takes same arguments as original function\n",
    "        start = time.time()\n",
    "        out = func(nums)\n",
    "        end = time.time()\n",
    "        print(f'Time taken to execute {func.__name__} is {end - start} seconds')\n",
    "        return out\n",
    "    return wrapper_fn\n",
    "\n",
    "@calcExeTime # find_square = calcExeTime(find_square), \n",
    "def find_square(nums):\n",
    "    out = list()\n",
    "    for i in nums:\n",
    "        out.append(i**2)\n",
    "    return out\n",
    "@calcExeTime# find_cube = calcExeTime(find_cube)\n",
    "def find_cube(nums):\n",
    "    out = list()\n",
    "    for i in nums:\n",
    "        out.append(i**3)\n",
    "    return out\n",
    "\n",
    "\n",
    "find_square(range(1,10)), find_cube(range(1,10)) # when find_square is called wrapper function is executed"
   ]
  },
  {
   "cell_type": "markdown",
   "metadata": {},
   "source": [
    "__Decorator Classes__"
   ]
  },
  {
   "cell_type": "code",
   "execution_count": 20,
   "metadata": {},
   "outputs": [
    {
     "name": "stdout",
     "output_type": "stream",
     "text": [
      "Total time find_square is 0.0\n",
      "Total time find_cube is 0.0\n"
     ]
    },
    {
     "data": {
      "text/plain": [
       "([1, 4, 9, 16, 25, 36, 49, 64, 81], [1, 8, 27, 64, 125, 216, 343, 512, 729])"
      ]
     },
     "execution_count": 20,
     "metadata": {},
     "output_type": "execute_result"
    }
   ],
   "source": [
    "import time\n",
    "class CalcExecutionTime(object):\n",
    "    def __init__(self, function):\n",
    "        self.func = function\n",
    "        \n",
    "    def __call__(self,nums):#Similar to wrapper function\n",
    "        start = time.time()\n",
    "        out = self.func(nums)\n",
    "        end = time.time()\n",
    "        print(f'Total time {self.func.__name__} is { end - start}')\n",
    "        return out\n",
    "        \n",
    "\n",
    "@CalcExecutionTime # find_square = CalcExeTime(find_square), \n",
    "def find_square(nums):\n",
    "    out = list()\n",
    "    for i in nums:\n",
    "        out.append(i**2)\n",
    "    return out\n",
    "@CalcExecutionTime# find_cube = calcExeTime(find_cube)\n",
    "def find_cube(nums):\n",
    "    out = list()\n",
    "    for i in nums:\n",
    "        out.append(i**3)\n",
    "    return out\n",
    "\n",
    "find_square(range(1,10)), find_cube(range(1,10))"
   ]
  },
  {
   "cell_type": "markdown",
   "metadata": {},
   "source": [
    "__Decorators in Action__"
   ]
  },
  {
   "cell_type": "code",
   "execution_count": 14,
   "metadata": {},
   "outputs": [
    {
     "name": "stdout",
     "output_type": "stream",
     "text": [
      "[[50, 29, 34, 55], [30, 44, 98, 44], [12, 43, 22, 55]]\n"
     ]
    },
    {
     "ename": "IndexNotSameCustom",
     "evalue": "Matrix is not a square matrix",
     "output_type": "error",
     "traceback": [
      "\u001b[1;31m---------------------------------------------------------------------------\u001b[0m",
      "\u001b[1;31mIndexNotSameCustom\u001b[0m                        Traceback (most recent call last)",
      "\u001b[1;32m<ipython-input-14-3d2d8fa05a28>\u001b[0m in \u001b[0;36m<module>\u001b[1;34m\u001b[0m\n\u001b[0;32m     42\u001b[0m \u001b[0mb\u001b[0m \u001b[1;33m=\u001b[0m \u001b[1;33m[\u001b[0m\u001b[1;33m[\u001b[0m\u001b[1;36m50\u001b[0m\u001b[1;33m,\u001b[0m \u001b[1;36m29\u001b[0m\u001b[1;33m,\u001b[0m\u001b[1;36m34\u001b[0m\u001b[1;33m,\u001b[0m\u001b[1;36m55\u001b[0m\u001b[1;33m]\u001b[0m\u001b[1;33m,\u001b[0m \u001b[1;33m[\u001b[0m\u001b[1;36m30\u001b[0m\u001b[1;33m,\u001b[0m \u001b[1;36m44\u001b[0m\u001b[1;33m,\u001b[0m\u001b[1;36m98\u001b[0m\u001b[1;33m,\u001b[0m\u001b[1;36m44\u001b[0m\u001b[1;33m]\u001b[0m\u001b[1;33m,\u001b[0m \u001b[1;33m[\u001b[0m\u001b[1;36m12\u001b[0m\u001b[1;33m,\u001b[0m\u001b[1;36m43\u001b[0m\u001b[1;33m,\u001b[0m\u001b[1;36m22\u001b[0m\u001b[1;33m,\u001b[0m\u001b[1;36m55\u001b[0m\u001b[1;33m]\u001b[0m\u001b[1;33m]\u001b[0m\u001b[1;33m\u001b[0m\u001b[1;33m\u001b[0m\u001b[0m\n\u001b[0;32m     43\u001b[0m \u001b[0mprint\u001b[0m\u001b[1;33m(\u001b[0m\u001b[0mb\u001b[0m\u001b[1;33m)\u001b[0m\u001b[1;33m\u001b[0m\u001b[1;33m\u001b[0m\u001b[0m\n\u001b[1;32m---> 44\u001b[1;33m \u001b[0mfindTranspose\u001b[0m\u001b[1;33m(\u001b[0m\u001b[0mb\u001b[0m\u001b[1;33m)\u001b[0m\u001b[1;33m\u001b[0m\u001b[1;33m\u001b[0m\u001b[0m\n\u001b[0m",
      "\u001b[1;32m<ipython-input-14-3d2d8fa05a28>\u001b[0m in \u001b[0;36mwrapper_fn\u001b[1;34m(mat)\u001b[0m\n\u001b[0;32m     12\u001b[0m \u001b[1;32mdef\u001b[0m \u001b[0mfindDeterminant\u001b[0m\u001b[1;33m(\u001b[0m\u001b[0mfunc\u001b[0m\u001b[1;33m)\u001b[0m\u001b[1;33m:\u001b[0m\u001b[1;33m\u001b[0m\u001b[1;33m\u001b[0m\u001b[0m\n\u001b[0;32m     13\u001b[0m     \u001b[1;32mdef\u001b[0m \u001b[0mwrapper_fn\u001b[0m\u001b[1;33m(\u001b[0m\u001b[0mmat\u001b[0m\u001b[1;33m)\u001b[0m\u001b[1;33m:\u001b[0m\u001b[1;33m\u001b[0m\u001b[1;33m\u001b[0m\u001b[0m\n\u001b[1;32m---> 14\u001b[1;33m         \u001b[0mtrans\u001b[0m \u001b[1;33m=\u001b[0m \u001b[0mfunc\u001b[0m\u001b[1;33m(\u001b[0m\u001b[0mmat\u001b[0m\u001b[1;33m)\u001b[0m\u001b[1;33m\u001b[0m\u001b[1;33m\u001b[0m\u001b[0m\n\u001b[0m\u001b[0;32m     15\u001b[0m         \u001b[1;32mreturn\u001b[0m \u001b[0mint\u001b[0m\u001b[1;33m(\u001b[0m\u001b[0mnp\u001b[0m\u001b[1;33m.\u001b[0m\u001b[0mlinalg\u001b[0m\u001b[1;33m.\u001b[0m\u001b[0mdet\u001b[0m\u001b[1;33m(\u001b[0m\u001b[0mtrans\u001b[0m\u001b[1;33m)\u001b[0m\u001b[1;33m)\u001b[0m\u001b[1;33m\u001b[0m\u001b[1;33m\u001b[0m\u001b[0m\n\u001b[0;32m     16\u001b[0m     \u001b[1;32mreturn\u001b[0m \u001b[0mwrapper_fn\u001b[0m\u001b[1;33m\u001b[0m\u001b[1;33m\u001b[0m\u001b[0m\n",
      "\u001b[1;32m<ipython-input-14-3d2d8fa05a28>\u001b[0m in \u001b[0;36mwrapper_fn\u001b[1;34m(mat)\u001b[0m\n\u001b[0;32m     20\u001b[0m         \u001b[0mtrans\u001b[0m \u001b[1;33m=\u001b[0m \u001b[0mfunc\u001b[0m\u001b[1;33m(\u001b[0m\u001b[0mmat\u001b[0m\u001b[1;33m)\u001b[0m\u001b[1;33m\u001b[0m\u001b[1;33m\u001b[0m\u001b[0m\n\u001b[0;32m     21\u001b[0m         \u001b[1;32mif\u001b[0m \u001b[0mlen\u001b[0m\u001b[1;33m(\u001b[0m\u001b[0mtrans\u001b[0m\u001b[1;33m)\u001b[0m\u001b[1;33m!=\u001b[0m\u001b[0mlen\u001b[0m\u001b[1;33m(\u001b[0m\u001b[0mtrans\u001b[0m\u001b[1;33m[\u001b[0m\u001b[1;36m0\u001b[0m\u001b[1;33m]\u001b[0m\u001b[1;33m)\u001b[0m\u001b[1;33m:\u001b[0m\u001b[1;33m\u001b[0m\u001b[1;33m\u001b[0m\u001b[0m\n\u001b[1;32m---> 22\u001b[1;33m             \u001b[1;32mraise\u001b[0m \u001b[0mIndexNotSameCustom\u001b[0m\u001b[1;33m\u001b[0m\u001b[1;33m\u001b[0m\u001b[0m\n\u001b[0m\u001b[0;32m     23\u001b[0m         \u001b[1;32mreturn\u001b[0m \u001b[0mtrans\u001b[0m\u001b[1;33m\u001b[0m\u001b[1;33m\u001b[0m\u001b[0m\n\u001b[0;32m     24\u001b[0m     \u001b[1;32mreturn\u001b[0m \u001b[0mwrapper_fn\u001b[0m\u001b[1;33m\u001b[0m\u001b[1;33m\u001b[0m\u001b[0m\n",
      "\u001b[1;31mIndexNotSameCustom\u001b[0m: Matrix is not a square matrix"
     ]
    }
   ],
   "source": [
    "#Write a function to find the transpose of a matrix\n",
    "#Without edithing the source code of the function, alter the function such that the result is determinant of the transpose\n",
    "# So now when there is non symmetric matrix it should raise an error\n",
    "import numpy as np\n",
    "\n",
    "class IndexNotSameCustom(Exception):\n",
    "    def __init__(self):\n",
    "        pass\n",
    "    def __str__(self):\n",
    "        return str('Matrix is not a square matrix')\n",
    "    \n",
    "def findDeterminant(func):\n",
    "    def wrapper_fn(mat):\n",
    "        trans = func(mat)\n",
    "        return int(np.linalg.det(trans))\n",
    "    return wrapper_fn\n",
    "\n",
    "def isSquareMatrix(func):\n",
    "    def wrapper_fn(mat):\n",
    "        trans = func(mat)\n",
    "        if len(trans)!=len(trans[0]):\n",
    "            raise IndexNotSameCustom\n",
    "        return trans\n",
    "    return wrapper_fn\n",
    "        \n",
    "\n",
    "@findDeterminant  # findTranspose = findDeterminat(findTranspose) -->>Executes second\n",
    "@isSquareMatrix # findTranspose = isSquareMatrix(findTranspose)-->>Executes first \n",
    "def findTranspose(mat):\n",
    "    \"\"\"\n",
    "    Function to find the transpose of a mtarix\n",
    "    \"\"\"\n",
    "    n_rows, n_cols = len(mat), len(mat[0])\n",
    "    trans = [[0]*n_rows for i in range(n_cols)]\n",
    "    for row in range(n_cols):#0,1,2\n",
    "        for col in range(n_rows): #0,1,2,3\n",
    "            trans[row][col] = mat[col][row]\n",
    "    \n",
    "    return trans\n",
    "\n",
    "a = [[50, 29,34], [30, 44,98], [12,43,22]]\n",
    "b = [[50, 29,34,55], [30, 44,98,44], [12,43,22,55]]\n",
    "print(b)\n",
    "findTranspose(b)\n"
   ]
  },
  {
   "cell_type": "markdown",
   "metadata": {},
   "source": [
    "__Example 2__"
   ]
  },
  {
   "cell_type": "markdown",
   "metadata": {},
   "source": [
    "__Polymorphism , operator overwriting and custom error handling in action__"
   ]
  },
  {
   "cell_type": "code",
   "execution_count": 337,
   "metadata": {},
   "outputs": [
    {
     "data": {
      "text/plain": [
       "[[11, 44, 99, 136], [176, 275, 396, 198], [539, 704, 891, 810]]"
      ]
     },
     "execution_count": 337,
     "metadata": {},
     "output_type": "execute_result"
    }
   ],
   "source": [
    "from functools import reduce\n",
    "\n",
    "class IndexErrorCustom(Exception):\n",
    "    \"\"\"\n",
    "    Handling custom exception \n",
    "    \"\"\"\n",
    "    def __init__(self):\n",
    "        pass\n",
    "    def __str__(self):\n",
    "        return str('Different row and column lengths')\n",
    "    \n",
    "class Mat(list):\n",
    "    def __init__(self, mat):\n",
    "        self.mat = mat\n",
    "    def __mul__(self, mat2):\n",
    "        a,b = self.mat, mat2.mat\n",
    "        #Check in row and col no. are same for both matrices\n",
    "        if (len(a)!=len(b)) or (len(a[0]) != len(b[0])):\n",
    "            raise IndexErrorCustom\n",
    "        n_rows, n_cols = len(a), len(a[0])\n",
    "        out = []\n",
    "        for index, i in enumerate(range(n_rows)):\n",
    "            out.append([])\n",
    "            for i in range(n_cols):\n",
    "                out[index].append(0)\n",
    "        for row_index, rows in enumerate(zip(a,b)):\n",
    "            for col_index, cols in enumerate(zip(rows[0], rows[1])): #\n",
    "                out[row_index][col_index] = reduce(lambda x,y : x*y , cols)\n",
    "        return out\n",
    "                \n",
    "                \n",
    "a = Mat([[1,2,3,4],[4,5,6,22],[7,8,9,90]])\n",
    "b = Mat([[11,22,33,34], [44,55,66,9], [77,88,99,9]])\n",
    "a*b"
   ]
  },
  {
   "cell_type": "code",
   "execution_count": 38,
   "metadata": {},
   "outputs": [
    {
     "name": "stdout",
     "output_type": "stream",
     "text": [
      "***\n",
      "%%%\n",
      "hello\n",
      "%%%\n",
      "***\n"
     ]
    }
   ],
   "source": [
    "def star(func):\n",
    "    def inner(*args, **kwargs):\n",
    "        print('*'*3)\n",
    "        func(*args, **kwargs)\n",
    "        print('*'*3)\n",
    "    return inner\n",
    "def percent(func):\n",
    "    def inner(*args, **kwargs):\n",
    "        print('%'*3)\n",
    "        func(*args, **kwargs)\n",
    "        print('%'*3)\n",
    "    return inner\n",
    "\n",
    "@star\n",
    "@percent\n",
    "def printer(msg):\n",
    "    print(msg)\n",
    "\n",
    "#printer = percent(printer)\n",
    "#printer = star(printer)\n",
    "printer('hello')"
   ]
  },
  {
   "cell_type": "code",
   "execution_count": 39,
   "metadata": {},
   "outputs": [
    {
     "name": "stdout",
     "output_type": "stream",
     "text": [
      "***\n",
      "%%%\n",
      "hello\n",
      "%%%\n",
      "***\n"
     ]
    }
   ],
   "source": [
    "def star(func):\n",
    "    def inner(*args, **kwargs):\n",
    "        print('*'*3)\n",
    "        func(*args, **kwargs)\n",
    "        print('*'*3)\n",
    "    return inner\n",
    "def percent(func):\n",
    "    def inner(*args, **kwargs):\n",
    "        print('%'*3)\n",
    "        func(*args, **kwargs)\n",
    "        print('%'*3)\n",
    "    return inner\n",
    "\n",
    "\n",
    "def printer(msg):\n",
    "    print(msg)\n",
    "\n",
    "printer = percent(printer)\n",
    "printer = star(printer)\n",
    "printer('hello')"
   ]
  }
 ],
 "metadata": {
  "kernelspec": {
   "display_name": "Python 3",
   "language": "python",
   "name": "python3"
  },
  "language_info": {
   "codemirror_mode": {
    "name": "ipython",
    "version": 3
   },
   "file_extension": ".py",
   "mimetype": "text/x-python",
   "name": "python",
   "nbconvert_exporter": "python",
   "pygments_lexer": "ipython3",
   "version": "3.7.1"
  }
 },
 "nbformat": 4,
 "nbformat_minor": 4
}
